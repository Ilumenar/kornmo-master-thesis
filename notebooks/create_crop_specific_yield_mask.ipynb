{
 "cells": [
  {
   "cell_type": "code",
   "execution_count": 82,
   "metadata": {
    "collapsed": true,
    "pycharm": {
     "name": "#%%\n"
    }
   },
   "outputs": [],
   "source": [
    "\n",
    "import h5py\n",
    "from tqdm import tqdm\n",
    "import os\n",
    "from src.grain_classification import create_mask_dataset as mask_code\n",
    "import pandas as pd\n",
    "import geopandas as gpd\n",
    "\n",
    "\n",
    "runtime_name = \"testing\"\n",
    "data_path = \"../../kornmo-data-files/raw-data/crop-classification-data\"\n",
    "crop_types = ['hvete', 'bygg', 'havre', 'rug_og_rughvete']\n",
    "\n",
    "\n",
    "masks_path = f\"{data_path}/{runtime_name}/{runtime_name}_masks.h5\"\n",
    "mask_code.create_mask_file(masks_path)\n",
    "\n",
    "all_fields = gpd.read_file(f\"{data_path}/all_data.gpkg\")\n",
    "\n",
    "all_predicted_labels = pd.read_csv(f\"{data_path}/{runtime_name}/predicted_labels.csv\")\n",
    "\n",
    "all_bounding_boxes = gpd.read_file('../../kornmo-data-files/raw-data/farm-information/farm-properties/bounding-boxes-previous-students/disponerte_eiendommer_bboxes.shp')\n",
    "\n",
    "\n"
   ]
  },
  {
   "cell_type": "code",
   "execution_count": 83,
   "outputs": [],
   "source": [
    "\n",
    "def create_crop_specific_mask(orgnum, year, crop_type):\n",
    "\n",
    "    if crop_type == \"rug_og_rughvete\":\n",
    "        fields = all_predicted_labels[(all_predicted_labels['orgnr'] == int(orgnum)) & (all_predicted_labels['year'] == int(year)) & ((all_predicted_labels['crop_type'] == \"rug\") | (all_predicted_labels['crop_type'] == \"rughvete\"))]\n",
    "\n",
    "    else:\n",
    "        fields = all_predicted_labels[(all_predicted_labels['orgnr'] == int(orgnum)) & (all_predicted_labels['year'] == int(year)) & (all_predicted_labels['crop_type'] == crop_type)]\n",
    "\n",
    "    field_ids = fields[\"field_id\"].tolist()\n",
    "\n",
    "    if len(field_ids) > 0:\n",
    "\n",
    "        bounding_box = all_bounding_boxes[all_bounding_boxes['orgnr'] == int(orgnum)]\n",
    "\n",
    "        if len(bounding_box) >= 1:\n",
    "            one_bounding_box = bounding_box[bounding_box['year'] == int(year)]\n",
    "\n",
    "            if len(one_bounding_box) != 1:\n",
    "                one_bounding_box = bounding_box.head(1)\n",
    "\n",
    "            bounding_box_polygon = mask_code.convert_crs(one_bounding_box['geometry'])[0]\n",
    "            bbox = mask_code.boundingBox(bounding_box_polygon.centroid.y, bounding_box_polygon.centroid.x, 1)\n",
    "            bbox = mask_code.box(bbox[0], bbox[1], bbox[2], bbox[3])\n",
    "\n",
    "\n",
    "            field_geometry = []\n",
    "            total_area = 0\n",
    "            for i in range(len(field_ids)):\n",
    "                row = all_fields.loc[field_ids[i]]\n",
    "                total_area = total_area + row['area']\n",
    "                field_geometry.append(row['geometry'])\n",
    "\n",
    "            field_polygon = mask_code.convert_crs(field_geometry)[0]\n",
    "            mask = mask_code.generate_mask_image(bbox, field_polygon)\n",
    "\n",
    "\n",
    "            return mask, total_area\n",
    "\n",
    "        else:\n",
    "            print(f\"Found satellite images for {orgnum}, but no bounding boxes\")\n",
    "\n",
    "\n",
    "    return 0, 0\n",
    "\n"
   ],
   "metadata": {
    "collapsed": false,
    "pycharm": {
     "name": "#%%\n"
    }
   }
  },
  {
   "cell_type": "code",
   "execution_count": 84,
   "outputs": [
    {
     "name": "stderr",
     "output_type": "stream",
     "text": [
      "100%|██████████| 4135/4135 [00:31<00:00, 130.50it/s]\n",
      "100%|██████████| 3477/3477 [00:22<00:00, 156.27it/s]"
     ]
    },
    {
     "name": "stdout",
     "output_type": "stream",
     "text": [
      "Done\n",
      "Skipped 67979 sets of [farm, year, type]\n"
     ]
    },
    {
     "name": "stderr",
     "output_type": "stream",
     "text": [
      "\n"
     ]
    }
   ],
   "source": [
    "\n",
    "satellite_image_location = \"E:/MasterThesisData/Satellite_Images/\"\n",
    "field_areas = pd.DataFrame(columns=['orgnr', 'year', 'crop_type', 'area'])\n",
    "counter = 0\n",
    "\n",
    "for filename in ['sentinel_100x100_0.h5', 'sentinel_100x100_1.h5']:\n",
    "    with h5py.File(os.path.join(satellite_image_location, filename), \"r\") as file:\n",
    "\n",
    "        images = file['images']\n",
    "        for _, orgnum in enumerate(tqdm(images.keys(), total=len(images))):\n",
    "            for year in images[orgnum]:\n",
    "\n",
    "\n",
    "                for crop_type in crop_types:\n",
    "\n",
    "                    new_crop_mask, area = create_crop_specific_mask(orgnum, year, crop_type)\n",
    "\n",
    "                    if new_crop_mask != 0:\n",
    "                        mask_code.insert_mask(masks_path, f\"{int(orgnum)}/{int(year)}/{crop_type}\", new_crop_mask)\n",
    "\n",
    "                        data = {'orgnr': int(orgnum), 'year': int(year), 'crop_type': crop_type, 'area':area}\n",
    "                        row = pd.Series(data=data, index=['orgnr', 'year', 'crop_type', 'area'])\n",
    "                        field_areas = pd.concat([field_areas, row.to_frame().T])\n",
    "\n",
    "                    else:\n",
    "                        counter = counter + 1\n",
    "\n",
    "    file.close()\n",
    "\n",
    "field_areas.to_csv(f\"{data_path}/{runtime_name}/field_areas.csv\")\n",
    "\n",
    "print(\"Done\")\n",
    "print(f\"Skipped {counter} sets of [farm, year, type]\")\n",
    "\n"
   ],
   "metadata": {
    "collapsed": false,
    "pycharm": {
     "name": "#%%\n"
    }
   }
  },
  {
   "cell_type": "code",
   "execution_count": null,
   "outputs": [],
   "source": [],
   "metadata": {
    "collapsed": false,
    "pycharm": {
     "name": "#%%\n"
    }
   }
  }
 ],
 "metadata": {
  "kernelspec": {
   "display_name": "Python 3",
   "language": "python",
   "name": "python3"
  },
  "language_info": {
   "codemirror_mode": {
    "name": "ipython",
    "version": 2
   },
   "file_extension": ".py",
   "mimetype": "text/x-python",
   "name": "python",
   "nbconvert_exporter": "python",
   "pygments_lexer": "ipython2",
   "version": "2.7.6"
  }
 },
 "nbformat": 4,
 "nbformat_minor": 0
}