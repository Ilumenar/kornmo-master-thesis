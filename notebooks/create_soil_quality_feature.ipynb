{
 "cells": [
  {
   "cell_type": "code",
   "execution_count": 6,
   "metadata": {
    "collapsed": true
   },
   "outputs": [],
   "source": [
    "import pandas as pd\n",
    "import statistics\n",
    "from tqdm import tqdm\n",
    "import ast"
   ]
  },
  {
   "cell_type": "code",
   "execution_count": null,
   "outputs": [],
   "source": [
    "all_farmers = pd.read_csv(\"../../kornmo-data-files/raw-data/farm-information/farmers-with-coordinates-and-soil_quality.csv\", usecols=['orgnr', 'longitude', 'latitude', 'elevation'])\n",
    "print(all_farmers.columns)\n",
    "\n",
    "soil_qualities = pd.read_csv(\"../../kornmo-data-files/raw-data/soil-data/jordsmonn.csv\", usecols=['id', 'JORDKVALIT', 'JORDKVALITET'])\n",
    "print(soil_qualities.columns)\n",
    "\n",
    "farmers_fields = pd.read_csv(\"../../kornmo-data-files/raw-data/farm-information/orgnrs_per_field.csv\", usecols=['field_id', 'municipal_nr', 'orgnrs'])\n",
    "print(farmers_fields.columns)\n",
    "print(farmers_fields.head())"
   ],
   "metadata": {
    "collapsed": false,
    "pycharm": {
     "name": "#%%\n",
     "is_executing": true
    }
   }
  },
  {
   "cell_type": "code",
   "execution_count": null,
   "outputs": [],
   "source": [
    "farmers_missing_fields = []\n",
    "farmers_soil_quality = {}\n",
    "\n",
    "\n",
    "p_bar = tqdm(total=len(farmers_fields), iterable=farmers_fields.iterrows())\n",
    "for field_index, field in p_bar:\n",
    "\n",
    "    soil_quality = soil_qualities.loc[field['field_id'], 'JORDKVALITET']\n",
    "    all_orgs = ast.literal_eval(field['orgnrs'])\n",
    "\n",
    "    for farmer in all_orgs:\n",
    "        farmer = int(farmer)\n",
    "        if farmer not in farmers_soil_quality:\n",
    "            farmers_soil_quality[farmer] = []\n",
    "        farmers_soil_quality[int(farmer)].append(int(soil_quality))\n",
    "\n",
    "p_bar = tqdm(total=len(all_farmers), iterable=all_farmers.iterrows())\n",
    "for farm_index, farmer in p_bar:\n",
    "    orgnr = farmer['orgnr']\n",
    "    if orgnr in farmers_soil_quality:\n",
    "        qualities = farmers_soil_quality[orgnr]\n",
    "\n",
    "        all_farmers.loc[farm_index, 'mean_soil_quality'] = statistics.mean(qualities)\n",
    "        all_farmers.loc[farm_index, 'soil_quality_1'] = int(qualities.count(1))\n",
    "        all_farmers.loc[farm_index, 'soil_quality_2'] = int(qualities.count(2))\n",
    "        all_farmers.loc[farm_index, 'soil_quality_3'] = int(qualities.count(3))\n",
    "\n",
    "    else:\n",
    "        farmers_missing_fields.append(orgnr)\n",
    "\n",
    "print(f\"There are {len(farmers_missing_fields)} farmers without a field in orgnrs_per_field.csv\")\n",
    "\n",
    "if all_farmers.isna().sum().sum() != 0:\n",
    "    print(f\"There are {all_farmers.isna().sum().sum()} NaN values in the dataset\")\n",
    "    print(all_farmers.isna().sum())\n",
    "\n",
    "all_farmers.to_csv(\"../../kornmo-data-files/raw-data/farm-information/farmers-with-coordinates-and-soil_quality.csv\")\n",
    "\n"
   ],
   "metadata": {
    "collapsed": false,
    "pycharm": {
     "name": "#%%\n",
     "is_executing": true
    }
   }
  }
 ],
 "metadata": {
  "kernelspec": {
   "display_name": "Python 3",
   "language": "python",
   "name": "python3"
  },
  "language_info": {
   "codemirror_mode": {
    "name": "ipython",
    "version": 2
   },
   "file_extension": ".py",
   "mimetype": "text/x-python",
   "name": "python",
   "nbconvert_exporter": "python",
   "pygments_lexer": "ipython2",
   "version": "2.7.6"
  }
 },
 "nbformat": 4,
 "nbformat_minor": 0
}