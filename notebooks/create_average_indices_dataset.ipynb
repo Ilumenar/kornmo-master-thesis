{
 "cells": [
  {
   "cell_type": "code",
   "execution_count": 1,
   "outputs": [],
   "source": [
    "import h5py\n",
    "import numpy as np\n",
    "from tqdm import tqdm\n",
    "from src.satellite_images.storage import SentinelDataset\n",
    "import pandas as pd\n",
    "import geopandas as gpd\n",
    "import matplotlib.pyplot as plt\n",
    "\n",
    "\n",
    "\n",
    "# explicit function to normalize array\n",
    "def normalize(arr, t_min=0, t_max=1):\n",
    "    pixel_min, pixel_max = min(arr), max(arr)\n",
    "\n",
    "    if pixel_min != pixel_max:\n",
    "        norm_arr = []\n",
    "        diff = t_max - t_min\n",
    "        diff_arr = pixel_max - pixel_min\n",
    "\n",
    "        for i in arr:\n",
    "            temp = (((i - pixel_min)*diff)/diff_arr) + t_min\n",
    "            norm_arr.append(temp)\n",
    "        return norm_arr\n",
    "    else:\n",
    "        return arr\n",
    "\n",
    "\n",
    "def get_average_index_normalized_in_mask(all_vegetations, vegetation_number, mask):\n",
    "    vegetation_index = np.zeros((100, 100))\n",
    "\n",
    "    for i in range(100):\n",
    "        for j in range(100):\n",
    "            vegetation_index[i][j] = all_vegetations[i][j][vegetation_number]\n",
    "\n",
    "    vegetation_index = vegetation_index * mask\n",
    "\n",
    "    index_values = []\n",
    "    for i in range(100):\n",
    "        for j in range(100):\n",
    "            if vegetation_index[i][j] != 0:\n",
    "                index_values.append(vegetation_index[i][j])\n",
    "\n",
    "    if len(index_values) == 0:\n",
    "        index_values.append(0)\n",
    "\n",
    "    normalized_index_values = normalize(index_values)\n",
    "    average_index = sum(normalized_index_values) / len(normalized_index_values)\n",
    "\n",
    "    return average_index\n",
    "\n",
    "\n",
    "def merge_masks(masks):\n",
    "    complete_mask = np.zeros((100, 100))\n",
    "    for one_mask in masks:\n",
    "        complete_mask = complete_mask + one_mask\n",
    "\n",
    "    for i in range(100):\n",
    "        for j in range(100):\n",
    "            if complete_mask[i][j] > 1:\n",
    "                complete_mask[i][j] = 1\n",
    "\n",
    "    return complete_mask\n",
    "\n"
   ],
   "metadata": {
    "collapsed": false,
    "pycharm": {
     "name": "#%%\n"
    }
   }
  },
  {
   "cell_type": "code",
   "execution_count": null,
   "outputs": [],
   "source": [
    "\n",
    "\n",
    "indices_dataset = SentinelDataset('E:/MasterThesisData/Satellite_Images/classification_indices.h5')\n",
    "\n",
    "vegetation_indices = [\"NDVI\", \"NDRE\", \"EVI\", \"SIPI3\", \"PVR\", \"GARI\", \"GRNDVI\", \"SIWSI\", \"LSWI\", \"NDSVI\"]\n",
    "\n",
    "columns = [\"orgnr\", \"year\"]\n",
    "for indices_number in vegetation_indices:\n",
    "    for day in range(1, 31):\n",
    "        columns.append(f\"{indices_number}_{day}\")\n",
    "\n",
    "average_vegetation_indices = pd.DataFrame(columns=columns)\n",
    "\n",
    "skipped_years = 0\n",
    "\n",
    "\n",
    "with h5py.File(\"../../kornmo-data-files/raw-data/crop-classification-data/classification_field_masks.h5\", \"r\") as f:\n",
    "\n",
    "    all_masks = f['masks']\n",
    "\n",
    "    # For each organization numbers:\n",
    "    p_bar = tqdm(all_masks.keys(), total=len(all_masks))\n",
    "    for _, orgnum in enumerate(p_bar):\n",
    "\n",
    "        # For each year:\n",
    "        for year in all_masks[orgnum]:\n",
    "            if indices_dataset.contains(orgnum, year):\n",
    "                yearly_complete_mask = merge_masks(all_masks[orgnum][year])\n",
    "                farmers_indices = indices_dataset.get_images(orgnum, year)\n",
    "\n",
    "                default_data = {'orgnr': int(orgnum), 'year': int(year)}\n",
    "                row = pd.Series(data=default_data, index=['orgnr', 'year'])\n",
    "\n",
    "                # For each vegetation index:\n",
    "                for indices_number in range(len(vegetation_indices)):\n",
    "\n",
    "                    # For each day:\n",
    "                    day_number = 1\n",
    "                    for daily_image in farmers_indices:\n",
    "                        average_vegetation_index = get_average_index_normalized_in_mask(daily_image, indices_number, yearly_complete_mask)\n",
    "                        row[f\"{vegetation_indices[indices_number]}_{day_number}\"] = average_vegetation_index\n",
    "                        day_number = day_number + 1\n",
    "\n",
    "                average_vegetation_indices = pd.concat([average_vegetation_indices, row.to_frame().T])\n",
    "\n",
    "            else:\n",
    "                skipped_years = skipped_years + 1\n",
    "                p_bar.set_description_str(f\"Skippet {skipped_years} sets of years\")\n",
    "\n",
    "    average_vegetation_indices.reset_index(drop=True, inplace=True)\n",
    "    average_vegetation_indices.to_csv(\"../../kornmo-data-files/raw-data/crop-classification-data/average_vegetation_indices.csv\")\n",
    "\n",
    "\n"
   ],
   "metadata": {
    "collapsed": false,
    "pycharm": {
     "name": "#%%\n"
    }
   }
  },
  {
   "cell_type": "code",
   "execution_count": null,
   "outputs": [],
   "source": [
    "\n",
    "\n",
    "def equal_values_in_column(s):\n",
    "    a = s.to_numpy()\n",
    "    return (a[0] == a).all()\n",
    "\n",
    "\n",
    "average_indices = pd.read_csv(\"../../kornmo-data-files/raw-data/crop-classification-data/average_vegetation_indices.csv\")\n",
    "average_indices.drop(\"Unnamed: 0\", inplace=True, axis=1)\n",
    "average_indices['planted'] = np.nan\n",
    "\n",
    "fields = gpd.read_file('../../kornmo-data-files/raw-data/crop-classification-data/training_data.gpkg')\n",
    "fields.drop(fields[fields['area'] < 1500].index, inplace = True)\n",
    "\n",
    "for index, row in tqdm(average_indices.iterrows(), total=len(average_indices)):\n",
    "    farmers_fields = fields[(fields['orgnr'] == row['orgnr']) & (fields['year'] == row['year'])]\n",
    "\n",
    "    if equal_values_in_column(farmers_fields['planted']):\n",
    "        row['planted'] = farmers_fields['planted'].head(1).values[0]\n",
    "        average_indices.loc[index] = row\n",
    "\n",
    "    else:\n",
    "        average_indices.drop(index, inplace=True)\n",
    "\n",
    "average_indices.to_csv(\"../../kornmo-data-files/raw-data/crop-classification-data/average_vegetation_indices_planted.csv\")\n",
    "\n",
    "\n"
   ],
   "metadata": {
    "collapsed": false,
    "pycharm": {
     "name": "#%%\n"
    }
   }
  },
  {
   "cell_type": "code",
   "execution_count": null,
   "outputs": [],
   "source": [
    "average_indices = pd.read_csv(\"../../kornmo-data-files/raw-data/crop-classification-data/average_vegetation_indices_planted.csv\")\n",
    "average_indices.drop(\"Unnamed: 0\", inplace=True, axis=1)\n",
    "\n",
    "all_field_masks = SentinelDataset('../../kornmo-data-files/raw-data/crop-classification-data/classification_field_masks.h5')\n",
    "indices_dataset = SentinelDataset('E:/MasterThesisData/Satellite_Images/classification_indices_fixed3.h5')\n",
    "\n",
    "vegetation_indices = [\"NDVI\", \"NDRE\", \"EVI\", \"SIPI3\", \"PVR\", \"GARI\", \"GRNDVI\", \"SIWSI\", \"LSWI\", \"NDSVI\"]\n"
   ],
   "metadata": {
    "collapsed": false,
    "pycharm": {
     "name": "#%%\n",
     "is_executing": true
    }
   }
  },
  {
   "cell_type": "code",
   "execution_count": 14,
   "outputs": [
    {
     "name": "stderr",
     "output_type": "stream",
     "text": [
      "  0%|          | 0/9685 [00:00<?, ?it/s]"
     ]
    },
    {
     "name": "stdout",
     "output_type": "stream",
     "text": [
      "1.0\n"
     ]
    },
    {
     "name": "stderr",
     "output_type": "stream",
     "text": [
      "  0%|          | 0/9685 [00:00<?, ?it/s]"
     ]
    },
    {
     "name": "stdout",
     "output_type": "stream",
     "text": [
      "1.0\n",
      "Done. Skipped 0 years\n"
     ]
    },
    {
     "name": "stderr",
     "output_type": "stream",
     "text": [
      "\n"
     ]
    }
   ],
   "source": [
    "# Add missing indices:\n",
    "\n",
    "skipped_years = 0\n",
    "\n",
    "with h5py.File(\"../../kornmo-data-files/raw-data/crop-classification-data/classification_field_masks.h5\", \"r\") as f:\n",
    "    all_masks = f['masks']\n",
    "    all_mask_keys = all_masks.keys()\n",
    "\n",
    "\n",
    "    for index, row in tqdm(average_indices.iterrows(), total=len(average_indices)):\n",
    "\n",
    "        orgnum = str(int(row['orgnr']))\n",
    "        year = str(int(row['year']))\n",
    "        print(average_indices.at[index,'GARI_4'])\n",
    "        print(average_indices.at[index,'GARI_19'])\n",
    "        print(average_indices.at[index,'GARI_27'])\n",
    "\n",
    "        if indices_dataset.contains(orgnum, year):\n",
    "\n",
    "            if orgnum in all_mask_keys and year in all_masks[orgnum]:\n",
    "                yearly_complete_mask = merge_masks(all_masks[orgnum][year])\n",
    "                farmers_indices = indices_dataset.get_images(orgnum, year)\n",
    "\n",
    "                # For each day:\n",
    "                day_number = 1\n",
    "                for daily_image in farmers_indices:\n",
    "                    average_vegetation_index = get_average_index_normalized_in_mask(daily_image, 5, yearly_complete_mask)\n",
    "                    average_indices.loc[index, f\"{vegetation_indices[5]}_{day_number}\"] = average_vegetation_index\n",
    "                    day_number = day_number + 1\n",
    "\n",
    "                print(average_indices.at[index,'GARI_4'])\n",
    "                print(average_indices.at[index,'GARI_19'])\n",
    "                print(average_indices.at[index,'GARI_27'])\n",
    "\n",
    "            else:\n",
    "                print(f\"No mask for {orgnum}, {year}\")\n",
    "\n",
    "\n",
    "            #average_vegetation_indices = pd.concat([average_vegetation_indices, row.to_frame().T])\n",
    "\n",
    "        else:\n",
    "            print(f\"No indices images for {orgnum}, {year}\")\n",
    "            skipped_years = skipped_years + 1\n",
    "\n",
    "        break\n",
    "\n",
    "    # average_indices.to_csv(\"../../kornmo-data-files/raw-data/crop-classification-data/average_vegetation_indices_planted_fixed.csv\")\n",
    "    print(f\"Done. Skipped {skipped_years} years\")\n"
   ],
   "metadata": {
    "collapsed": false,
    "pycharm": {
     "name": "#%%\n"
    }
   }
  },
  {
   "cell_type": "code",
   "execution_count": null,
   "outputs": [],
   "source": [],
   "metadata": {
    "collapsed": false,
    "pycharm": {
     "name": "#%%\n"
    }
   }
  }
 ],
 "metadata": {
  "kernelspec": {
   "display_name": "Python 3",
   "language": "python",
   "name": "python3"
  },
  "language_info": {
   "codemirror_mode": {
    "name": "ipython",
    "version": 2
   },
   "file_extension": ".py",
   "mimetype": "text/x-python",
   "name": "python",
   "nbconvert_exporter": "python",
   "pygments_lexer": "ipython2",
   "version": "2.7.6"
  }
 },
 "nbformat": 4,
 "nbformat_minor": 0
}