{
 "cells": [
  {
   "cell_type": "code",
   "execution_count": 2,
   "metadata": {},
   "outputs": [
    {
     "name": "stdout",
     "output_type": "stream",
     "text": [
      "The autoreload extension is already loaded. To reload it, use:\n",
      "  %reload_ext autoreload\n"
     ]
    }
   ],
   "source": [
    "import pandas as pd\n",
    "import geopandas as gpd\n",
    "import numpy as np\n",
    "from tqdm import tqdm\n",
    "from shapely.geometry import box, Polygon\n",
    "from shapely.ops import transform\n",
    "from shapely import wkt\n",
    "import matplotlib.pyplot as plt\n",
    "import os, sys\n",
    "import pyproj\n",
    "\n",
    "#Enables imports from src directory in notebooks\n",
    "sys.path.insert(0, os.path.abspath('../src'))\n",
    "sys.path.insert(0, os.path.abspath('../src/data_handling'))\n",
    "#Auto update imports when python files in src is updated\n",
    "%load_ext autoreload\n",
    "%autoreload 2\n",
    "\n",
    "from satellite_images import read_sat_images_file\n",
    "from utils import boundingBox, write_polygons_to_shp, plot_polygons, png_to_geotiff\n",
    "\n",
    "\n",
    "data_location = \"../../kornmo-data-files/raw-data\"\n"
   ]
  },
  {
   "cell_type": "code",
   "execution_count": 71,
   "metadata": {},
   "outputs": [],
   "source": [
    "def get_farmer_centroid(nrows=None):\n",
    "    farmer_centroid = pd.read_csv(os.path.join(data_location, 'farm-information/centroid_coordinates_new.csv'), delimiter=',', nrows=nrows)\n",
    "    columns_to_keep = ['orgnr', 'latitude', 'longitude', 'kommunenr']\n",
    "    farmer_centroid = farmer_centroid.filter(columns_to_keep)\n",
    "    farmer_centroid = farmer_centroid.dropna()\n",
    "    farmer_centroid['orgnr'] = farmer_centroid['orgnr'].astype(str)\n",
    "    farmer_centroid['latitude'] = farmer_centroid['latitude'].astype(float)\n",
    "    farmer_centroid['longitude'] = farmer_centroid['longitude'].astype(float)\n",
    "    farmer_centroid['kommunenr'] = farmer_centroid['kommunenr'].astype(int)\n",
    "    return farmer_centroid\n",
    "\n",
    "def get_polygon_data(nrows=None):\n",
    "    \n",
    "    soilquality = pd.read_csv(os.path.join(data_location, 'soil-data/jordsmonn_geometry.csv'), dtype=str, nrows=nrows)\n",
    "    soilquality = soilquality.dropna()\n",
    "    soilquality['geometry'] = soilquality['geometry'].apply(wkt.loads)\n",
    "    geo_soilquality = gpd.GeoDataFrame(soilquality, crs='epsg:4326')\n",
    "    geo_soilquality['municipal_nr'] = geo_soilquality['municipal_nr'].astype(int)\n",
    "    \n",
    "    return geo_soilquality\n",
    "\n",
    "def get_disp_eiendommer():\n",
    "    disp_eien = gpd.read_file(os.path.join(data_location, 'farm-information/farm-properties/disposed-properties-previous-students/disponerte_eiendommer.gpkg'), layer='disponerte_eiendommer')\n",
    "    disp_eien = disp_eien.dropna()\n",
    "    disp_eien.drop_duplicates(['orgnr', 'geometry'], keep='first', inplace=True)\n",
    "    disp_eien['orgnr'] = disp_eien['orgnr'].astype(str)\n",
    "\n",
    "    return disp_eien\n",
    "\n",
    "def get_combined_satellite_data():\n",
    "    sat_images0 = read_sat_images_file('sentinel_100x100_0.h5')\n",
    "    sat_images1 = read_sat_images_file('sentinel_100x100_1.h5')\n",
    "    in_first = set(sat_images0)\n",
    "    in_second = set(sat_images1)\n",
    "\n",
    "    in_second_but_not_in_first = in_second - in_first\n",
    "\n",
    "    result = list(sat_images0) + list(in_second_but_not_in_first)\n",
    "\n",
    "    return result\n",
    "\n",
    "\n",
    "def filter_by_municipal(dataframe, municipal_nr):\n",
    "    return dataframe.loc[dataframe['municipal_nr'] == municipal_nr]\n",
    "\n",
    "\n",
    "def get_polygons_by_municipal(dataframe, municipal_nr):\n",
    "    polygons_by_muni = dataframe.loc[dataframe['municipal_nr'] == municipal_nr]\n",
    "    polygons_list = polygons_by_muni['geometry'].tolist()\n",
    "    return polygons_list\n",
    "\n",
    "def convert_crs(polygons):\n",
    "    project = pyproj.Transformer.from_proj(pyproj.Proj('epsg:25833'), pyproj.Proj('epsg:4326'), always_xy=True)\n",
    "    return [transform(project.transform, poly) for poly in polygons]\n",
    "\n"
   ]
  },
  {
   "cell_type": "code",
   "execution_count": 26,
   "metadata": {},
   "outputs": [
    {
     "name": "stdout",
     "output_type": "stream",
     "text": [
      "Retrieving disposed properties data, satellite data and polygon data\n"
     ]
    },
    {
     "name": "stderr",
     "output_type": "stream",
     "text": [
      "100%|██████████| 4135/4135 [00:00<00:00, 38365.45it/s]\n",
      "100%|██████████| 3477/3477 [00:00<00:00, 33932.38it/s]\n"
     ]
    }
   ],
   "source": [
    "print(\"Retrieving data\")\n",
    "disp_eien = get_disp_eiendommer()\n",
    "field_data = get_polygon_data()\n",
    "farmer_centroid = get_farmer_centroid()\n",
    "\n",
    "sat_orgnr = np.array(get_combined_satellite_data())\n"
   ]
  },
  {
   "cell_type": "code",
   "execution_count": 27,
   "metadata": {},
   "outputs": [
    {
     "name": "stdout",
     "output_type": "stream",
     "text": [
      "Amount of fields from disposed properties: (17884, 3)\n",
      "Amount of organisation numbers from satellite data: 6890\n",
      "Amount of fields from jordsmonn: (629040, 4)\n"
     ]
    },
    {
     "name": "stderr",
     "output_type": "stream",
     "text": [
      "100%|██████████| 17884/17884 [00:12<00:00, 1402.25it/s]\n"
     ]
    }
   ],
   "source": [
    "farm_orgnr = np.array(list(disp_eien['orgnr']))\n",
    "intersection = np.intersect1d(sat_orgnr, farm_orgnr)\n",
    "\n",
    "filtered_disp_eien = disp_eien[disp_eien['orgnr'].isin(intersection)]\n",
    "filtered_satellite_data = intersection[:]\n",
    "\n",
    "print(f\"Amount of fields from disposed properties: {filtered_disp_eien.shape}\")\n",
    "print(f\"Amount of organisation numbers from satellite data: {len(filtered_satellite_data)}\")\n",
    "print(f\"Amount of fields from jordsmonn: {field_data.shape}\")\n",
    "\n",
    "\n",
    "\n",
    "municipal_nrs = []\n",
    "idxs_to_remove = []\n",
    "orgnrs_to_check = list(set(farmer_centroid['orgnr'].tolist()))\n",
    "for index, row in tqdm(filtered_disp_eien.iterrows(), total=filtered_disp_eien.shape[0]):\n",
    "    if row['orgnr'] in orgnrs_to_check:\n",
    "        municipal_nrs.append(farmer_centroid.loc[farmer_centroid['orgnr'] == row['orgnr']]['kommunenr'].iloc[0])\n",
    "    else:\n",
    "        idxs_to_remove.append(index)\n",
    "    \n",
    "filtered_disp_eien = filtered_disp_eien.drop(idxs_to_remove)\n",
    "\n"
   ]
  },
  {
   "cell_type": "code",
   "execution_count": 32,
   "metadata": {},
   "outputs": [
    {
     "name": "stdout",
     "output_type": "stream",
     "text": [
      "(16857, 4)\n"
     ]
    },
    {
     "data": {
      "text/html": [
       "<div>\n",
       "<style scoped>\n",
       "    .dataframe tbody tr th:only-of-type {\n",
       "        vertical-align: middle;\n",
       "    }\n",
       "\n",
       "    .dataframe tbody tr th {\n",
       "        vertical-align: top;\n",
       "    }\n",
       "\n",
       "    .dataframe thead th {\n",
       "        text-align: right;\n",
       "    }\n",
       "</style>\n",
       "<table border=\"1\" class=\"dataframe\">\n",
       "  <thead>\n",
       "    <tr style=\"text-align: right;\">\n",
       "      <th></th>\n",
       "      <th>orgnr</th>\n",
       "      <th>municipal_nr</th>\n",
       "      <th>year</th>\n",
       "      <th>geometry</th>\n",
       "    </tr>\n",
       "  </thead>\n",
       "  <tbody>\n",
       "    <tr>\n",
       "      <th>0</th>\n",
       "      <td>969102404</td>\n",
       "      <td>3812</td>\n",
       "      <td>2017</td>\n",
       "      <td>MULTIPOLYGON (((199287.149 6584342.538, 199295...</td>\n",
       "    </tr>\n",
       "    <tr>\n",
       "      <th>1</th>\n",
       "      <td>983375782</td>\n",
       "      <td>3028</td>\n",
       "      <td>2017</td>\n",
       "      <td>MULTIPOLYGON (((284208.764 6624834.683, 284208...</td>\n",
       "    </tr>\n",
       "    <tr>\n",
       "      <th>3</th>\n",
       "      <td>983375782</td>\n",
       "      <td>3028</td>\n",
       "      <td>2019</td>\n",
       "      <td>MULTIPOLYGON (((284208.764 6624834.683, 284208...</td>\n",
       "    </tr>\n",
       "    <tr>\n",
       "      <th>6</th>\n",
       "      <td>983375782</td>\n",
       "      <td>3028</td>\n",
       "      <td>2018</td>\n",
       "      <td>MULTIPOLYGON (((284208.764 6624834.683, 284208...</td>\n",
       "    </tr>\n",
       "    <tr>\n",
       "      <th>11</th>\n",
       "      <td>971214074</td>\n",
       "      <td>3015</td>\n",
       "      <td>2019</td>\n",
       "      <td>MULTIPOLYGON (((283304.242 6602938.198, 283294...</td>\n",
       "    </tr>\n",
       "  </tbody>\n",
       "</table>\n",
       "</div>"
      ],
      "text/plain": [
       "        orgnr  municipal_nr  year  \\\n",
       "0   969102404          3812  2017   \n",
       "1   983375782          3028  2017   \n",
       "3   983375782          3028  2019   \n",
       "6   983375782          3028  2018   \n",
       "11  971214074          3015  2019   \n",
       "\n",
       "                                             geometry  \n",
       "0   MULTIPOLYGON (((199287.149 6584342.538, 199295...  \n",
       "1   MULTIPOLYGON (((284208.764 6624834.683, 284208...  \n",
       "3   MULTIPOLYGON (((284208.764 6624834.683, 284208...  \n",
       "6   MULTIPOLYGON (((284208.764 6624834.683, 284208...  \n",
       "11  MULTIPOLYGON (((283304.242 6602938.198, 283294...  "
      ]
     },
     "execution_count": 32,
     "metadata": {},
     "output_type": "execute_result"
    }
   ],
   "source": [
    "filtered_disp_eien.insert(1, \"municipal_nr\", municipal_nrs)\n",
    "print(filtered_disp_eien.shape)\n",
    "filtered_disp_eien.head()"
   ]
  },
  {
   "cell_type": "code",
   "execution_count": 36,
   "metadata": {},
   "outputs": [
    {
     "data": {
      "text/html": [
       "<div>\n",
       "<style scoped>\n",
       "    .dataframe tbody tr th:only-of-type {\n",
       "        vertical-align: middle;\n",
       "    }\n",
       "\n",
       "    .dataframe tbody tr th {\n",
       "        vertical-align: top;\n",
       "    }\n",
       "\n",
       "    .dataframe thead th {\n",
       "        text-align: right;\n",
       "    }\n",
       "</style>\n",
       "<table border=\"1\" class=\"dataframe\">\n",
       "  <thead>\n",
       "    <tr style=\"text-align: right;\">\n",
       "      <th></th>\n",
       "      <th>Unnamed: 0</th>\n",
       "      <th>id</th>\n",
       "      <th>municipal_nr</th>\n",
       "      <th>geometry</th>\n",
       "    </tr>\n",
       "  </thead>\n",
       "  <tbody>\n",
       "    <tr>\n",
       "      <th>0</th>\n",
       "      <td>0</td>\n",
       "      <td>0</td>\n",
       "      <td>3031</td>\n",
       "      <td>MULTIPOLYGON (((271721.06120 6664057.75200, 27...</td>\n",
       "    </tr>\n",
       "    <tr>\n",
       "      <th>1</th>\n",
       "      <td>1</td>\n",
       "      <td>1</td>\n",
       "      <td>3031</td>\n",
       "      <td>MULTIPOLYGON (((271483.64850 6664134.17310, 27...</td>\n",
       "    </tr>\n",
       "    <tr>\n",
       "      <th>2</th>\n",
       "      <td>2</td>\n",
       "      <td>2</td>\n",
       "      <td>3031</td>\n",
       "      <td>MULTIPOLYGON (((271708.79830 6664057.24050, 27...</td>\n",
       "    </tr>\n",
       "    <tr>\n",
       "      <th>3</th>\n",
       "      <td>3</td>\n",
       "      <td>3</td>\n",
       "      <td>3031</td>\n",
       "      <td>MULTIPOLYGON (((271314.24970 6664101.64960, 27...</td>\n",
       "    </tr>\n",
       "    <tr>\n",
       "      <th>4</th>\n",
       "      <td>4</td>\n",
       "      <td>4</td>\n",
       "      <td>3031</td>\n",
       "      <td>MULTIPOLYGON (((271293.07800 6664065.84230, 27...</td>\n",
       "    </tr>\n",
       "  </tbody>\n",
       "</table>\n",
       "</div>"
      ],
      "text/plain": [
       "  Unnamed: 0 id  municipal_nr  \\\n",
       "0          0  0          3031   \n",
       "1          1  1          3031   \n",
       "2          2  2          3031   \n",
       "3          3  3          3031   \n",
       "4          4  4          3031   \n",
       "\n",
       "                                            geometry  \n",
       "0  MULTIPOLYGON (((271721.06120 6664057.75200, 27...  \n",
       "1  MULTIPOLYGON (((271483.64850 6664134.17310, 27...  \n",
       "2  MULTIPOLYGON (((271708.79830 6664057.24050, 27...  \n",
       "3  MULTIPOLYGON (((271314.24970 6664101.64960, 27...  \n",
       "4  MULTIPOLYGON (((271293.07800 6664065.84230, 27...  "
      ]
     },
     "execution_count": 36,
     "metadata": {},
     "output_type": "execute_result"
    }
   ],
   "source": [
    "field_data.head()"
   ]
  },
  {
   "cell_type": "code",
   "execution_count": 45,
   "metadata": {},
   "outputs": [
    {
     "name": "stderr",
     "output_type": "stream",
     "text": [
      "  0%|          | 0/16857 [00:00<?, ?it/s]"
     ]
    },
    {
     "name": "stdout",
     "output_type": "stream",
     "text": [
      "       orgnr  municipal_nr field_id\n",
      "0  969102404          3812   192482\n",
      "1  969102404          3812   192484\n",
      "2  969102404          3812   192485\n",
      "3  969102404          3812   192486\n",
      "4  969102404          3812   192487\n",
      "(1298, 3)\n"
     ]
    },
    {
     "name": "stderr",
     "output_type": "stream",
     "text": [
      "\n"
     ]
    }
   ],
   "source": [
    "intersections_df = []\n",
    "municipal_nrs = filtered_disp_eien['municipal_nr'].tolist()\n",
    "\n",
    "for municipal_nr in tqdm(municipal_nrs):\n",
    "\n",
    "    filtered_disp = filter_by_municipal(filtered_disp_eien, municipal_nr)\n",
    "    filtered_fields = filter_by_municipal(field_data, municipal_nr)\n",
    "\n",
    "    polygons_fields = filtered_fields['geometry'].tolist()\n",
    "    polygons_disp = filtered_disp['geometry'].tolist()\n",
    "    id_fields = filtered_fields['id'].tolist()\n",
    "    orgnr_disp = filtered_disp['orgnr'].tolist()\n",
    "    \n",
    "    for i, poly_disp in enumerate(polygons_disp):\n",
    "        for j, poly_field in enumerate(polygons_fields):\n",
    "            if poly_disp.intersects(poly_field):\n",
    "                new_row = [orgnr_disp[i], municipal_nr, id_fields[j]]\n",
    "                intersections_df.append(new_row)\n",
    "\n",
    "    break\n",
    "\n",
    "intersections_df = pd.DataFrame(intersections_df, columns=['orgnr', 'municipal_nr', 'field_id'])\n",
    "intersections_df.to_csv(os.path.join(data_location, 'farm-information/fields_per_farm2.csv'))\n",
    "print(intersections_df.head())\n",
    "print(intersections_df.shape)"
   ]
  },
  {
   "cell_type": "code",
   "execution_count": 58,
   "metadata": {},
   "outputs": [
    {
     "name": "stdout",
     "output_type": "stream",
     "text": [
      "(42, 4)\n",
      "(1, 4)\n"
     ]
    }
   ],
   "source": [
    "disp_poly = filtered_disp_eien.loc[filtered_disp_eien['municipal_nr'] == 3812]\n",
    "field_poly = field_data.loc[field_data['municipal_nr'] == 3812]\n",
    "#field_poly = field_data[field_data[\"id\"].isin(intersections_df['field_id'].tolist())]\n",
    "field_poly = field_data[field_data[\"id\"].isin(['193825'])]\n",
    "print(disp_poly.shape)\n",
    "print(field_poly.shape)\n",
    "\n",
    "disp_poly = disp_poly['geometry'].tolist()\n",
    "field_poly = field_poly['geometry'].tolist()\n",
    "\n",
    "write_polygons_to_shp(convert_crs(disp_poly), 'disp')\n",
    "write_polygons_to_shp(convert_crs(field_poly), 'fields')"
   ]
  }
 ],
 "metadata": {
  "interpreter": {
   "hash": "51aaa48c339eac88a5864b4bfe998ed7e8f1bbfa29e27230d15e896d17641185"
  },
  "kernelspec": {
   "display_name": "Python 3.10.1 ('venv': venv)",
   "language": "python",
   "name": "python3"
  },
  "language_info": {
   "codemirror_mode": {
    "name": "ipython",
    "version": 3
   },
   "file_extension": ".py",
   "mimetype": "text/x-python",
   "name": "python",
   "nbconvert_exporter": "python",
   "pygments_lexer": "ipython3",
   "version": "3.10.1"
  },
  "orig_nbformat": 4
 },
 "nbformat": 4,
 "nbformat_minor": 2
}
