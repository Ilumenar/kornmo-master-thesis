{
 "cells": [
  {
   "cell_type": "code",
   "execution_count": 98,
   "metadata": {},
   "outputs": [
    {
     "name": "stdout",
     "output_type": "stream",
     "text": [
      "The autoreload extension is already loaded. To reload it, use:\n",
      "  %reload_ext autoreload\n"
     ]
    }
   ],
   "source": [
    "import pandas as pd\n",
    "import geopandas as gpd\n",
    "import numpy as np\n",
    "from tqdm import tqdm\n",
    "from shapely.geometry import box, Polygon\n",
    "from shapely.ops import transform\n",
    "from shapely import wkt\n",
    "import matplotlib.pyplot as plt\n",
    "import os, sys\n",
    "import pyproj\n",
    "\n",
    "#Enables imports from src directory in notebooks\n",
    "sys.path.insert(0, os.path.abspath('../src'))\n",
    "sys.path.insert(0, os.path.abspath('../src/data_handling'))\n",
    "#Auto update imports when python files in src is updated\n",
    "%load_ext autoreload\n",
    "%autoreload 2\n",
    "\n",
    "from satellite_images import read_sat_images_file\n",
    "from utils import boundingBox, write_polygons_to_shp, plot_polygons, png_to_geotiff\n",
    "\n",
    "\n",
    "data_location = \"E:/Universitetet i Agder/Mikkel Andreas Kvande - kornmo-data-files/raw-data\"\n"
   ]
  },
  {
   "cell_type": "code",
   "execution_count": 116,
   "metadata": {},
   "outputs": [],
   "source": [
    "def get_farmer_centroid(nrows=None):\n",
    "    farmer_centroid = pd.read_csv(os.path.join(data_location, 'farm-information/centroid_coordinates_new.csv'), delimiter=',', nrows=nrows)\n",
    "    columns_to_keep = ['orgnr', 'latitude', 'longitude', 'kommunenr']\n",
    "    farmer_centroid = farmer_centroid.filter(columns_to_keep)\n",
    "    farmer_centroid = farmer_centroid.dropna()\n",
    "    farmer_centroid['orgnr'] = farmer_centroid['orgnr'].astype(str)\n",
    "    farmer_centroid['latitude'] = farmer_centroid['latitude'].astype(float)\n",
    "    farmer_centroid['longitude'] = farmer_centroid['longitude'].astype(float)\n",
    "    farmer_centroid['kommunenr'] = farmer_centroid['kommunenr'].astype(int)\n",
    "    return farmer_centroid\n",
    "\n",
    "def get_polygon_data(nrows=None):\n",
    "    \n",
    "    soilquality = pd.read_csv(os.path.join(data_location, 'soil-data/jordsmonn_geometry.csv'), dtype=str, nrows=nrows)\n",
    "    soilquality = soilquality.dropna()\n",
    "    soilquality['geometry'] = soilquality['geometry'].apply(wkt.loads)\n",
    "    geo_soilquality = gpd.GeoDataFrame(soilquality, crs='epsg:4326')\n",
    "    geo_soilquality['KOMID'] = geo_soilquality['KOMID'].astype(int)\n",
    "    \n",
    "    return geo_soilquality\n",
    "\n",
    "def get_disp_eiendommer():\n",
    "    disp_eien = gpd.read_file(os.path.join(data_location, 'farm-information/farm-properties/disposed-properties-previous-students/disponerte_eiendommer.gpkg', layer='disponerte_eiendommer'))\n",
    "    disp_eien = disp_eien.dropna()\n",
    "    disp_eien['orgnr'] = disp_eien['orgnr'].astype(str)\n",
    "\n",
    "    return disp_eien\n",
    "\n",
    "def get_combined_satellite_data():\n",
    "    sat_images0 = read_sat_images_file('sentinel_100x100_0.h5')\n",
    "    sat_images1 = read_sat_images_file('sentinel_100x100_1.h5')\n",
    "    in_first = set(sat_images0)\n",
    "    in_second = set(sat_images1)\n",
    "\n",
    "    in_second_but_not_in_first = in_second - in_first\n",
    "\n",
    "    result = list(sat_images0) + list(in_second_but_not_in_first)\n",
    "\n",
    "    return result\n",
    "\n",
    "\n",
    "def get_orgnrs_by_municipal(municipal_nr, orgnr_dataframe):\n",
    "    return orgnr_dataframe.loc[orgnr_dataframe['kommunenr'] == municipal_nr]\n",
    "\n",
    "\n",
    "def get_polygons_by_municipal(polygons, municipal_nr):\n",
    "    polygons_by_muni = polygons.loc[polygons['KOMID'] == municipal_nr]\n",
    "    polygons_list = list(polygons_by_muni['geometry'])\n",
    "    return polygons_list, polygons_by_muni.index.values.tolist()\n",
    "\n",
    "def convert_crs(polygons):\n",
    "    project = pyproj.Transformer.from_proj(pyproj.Proj('epsg:25833'), pyproj.Proj('epsg:4326'), always_xy=True)\n",
    "    return [transform(project.transform, poly) for poly in polygons]\n",
    "\n"
   ]
  },
  {
   "cell_type": "code",
   "execution_count": 100,
   "metadata": {},
   "outputs": [
    {
     "name": "stdout",
     "output_type": "stream",
     "text": [
      "Retrieving farmer centroid data, satellite data and polygon data\n"
     ]
    },
    {
     "name": "stderr",
     "output_type": "stream",
     "text": [
      "100%|██████████| 4135/4135 [00:00<00:00, 36052.87it/s]\n",
      "100%|██████████| 3477/3477 [00:00<00:00, 36460.35it/s]\n"
     ]
    },
    {
     "name": "stdout",
     "output_type": "stream",
     "text": [
      "Farmer elevation shape: (6738, 4)\n",
      "Length of satellite data after filtering: 6708\n",
      "Farmer elevation shape after second filtering: (6738, 4)\n",
      "Polygon data shape after second filtering: (585241, 3)\n"
     ]
    }
   ],
   "source": [
    "print(\"Retrieving farmer centroid data, satellite data and polygon data\")\n",
    "farmer_centroid = get_farmer_centroid()\n",
    "polygons = get_polygon_data()\n",
    "\n",
    "sat_orgnr = np.array(get_combined_satellite_data())\n",
    "farm_orgnr = np.array(list(farmer_centroid['orgnr']))\n",
    "intersection = np.intersect1d(sat_orgnr, farm_orgnr)\n",
    "\n",
    "filtered_farmer_centroid = farmer_centroid[farmer_centroid['orgnr'].isin(intersection)]\n",
    "filtered_satellite_data = intersection[:]\n",
    "\n",
    "print(f\"Farmer elevation shape: {filtered_farmer_centroid.shape}\")\n",
    "print(f\"Length of satellite data after filtering: {len(filtered_satellite_data)}\")\n",
    "\n",
    "municipal_nrs_farm = np.array(list(set(filtered_farmer_centroid['kommunenr'])))\n",
    "municipal_nrs_sat = np.array(list(set(polygons['KOMID'])))\n",
    "intersection = np.intersect1d(municipal_nrs_farm, municipal_nrs_sat)\n",
    "\n",
    "filtered_farmer_centroid = filtered_farmer_centroid[filtered_farmer_centroid['kommunenr'].isin(intersection)]\n",
    "filtered_polygons = polygons[polygons['KOMID'].isin(intersection)]\n",
    "\n",
    "print(f\"Farmer centroid shape after second filtering: {filtered_farmer_centroid.shape}\")\n",
    "print(f\"Polygon data shape after second filtering: {filtered_polygons.shape}\")\n",
    "\n"
   ]
  },
  {
   "cell_type": "code",
   "execution_count": 102,
   "metadata": {},
   "outputs": [
    {
     "name": "stderr",
     "output_type": "stream",
     "text": [
      "100%|██████████| 144/144 [02:47<00:00,  1.17s/it]\n"
     ]
    },
    {
     "name": "stdout",
     "output_type": "stream",
     "text": [
      "   municipal_nr      orgnr  field_id\n",
      "0          1579  969990873    581984\n",
      "1          1579  969990873    581992\n",
      "2          1579  969990873    581993\n",
      "3          1579  969990873    581994\n",
      "4          1579  969990873    581996\n",
      "(1109422, 3)\n"
     ]
    }
   ],
   "source": [
    "\n",
    "municipal_nrs = list(set(filtered_farmer_centroid['kommunenr']))\n",
    "intersections = {}\n",
    "intersections_df = []\n",
    "for municipal_nr in tqdm(municipal_nrs):\n",
    "    orgnrs_by_municipal_nr = get_orgnrs_by_municipal(municipal_nr, filtered_farmer_centroid)\n",
    "    org_nrs_list = list(orgnrs_by_municipal_nr['orgnr'])\n",
    "\n",
    "    polygons_by_municipal_nr, polygon_indices = get_polygons_by_municipal(filtered_polygons, municipal_nr)\n",
    "\n",
    "    transformed_polygons = convert_crs(polygons_by_municipal_nr)\n",
    "    #write_polygons_to_shp(transformed_polygons, str(municipal_nr))\n",
    "    #polygons_plt = [Polygon(mapping(poly)['coordinates'][0][0]) for poly in transformed_polygons]\n",
    "    #plot_polygons(polygons_plt)\n",
    "    org_dict = {}\n",
    "    for orgnr in org_nrs_list:\n",
    "        row = orgnrs_by_municipal_nr.loc[orgnrs_by_municipal_nr['orgnr'] == orgnr].iloc[0]\n",
    "\n",
    "        bounding_box = boundingBox(row['latitude'], row['longitude'], 1)\n",
    "        bbox = box(bounding_box[0], bounding_box[1], bounding_box[2], bounding_box[3])\n",
    "        \n",
    "        for i, polygon in enumerate(transformed_polygons):\n",
    "            if polygon.intersects(bbox):\n",
    "                new_row = [municipal_nr, orgnr, polygon_indices[i]]\n",
    "                intersections_df.append(new_row)\n",
    "                if orgnr in org_dict:\n",
    "                    org_dict[orgnr] += 1\n",
    "                else:\n",
    "                    org_dict[orgnr] = 0\n",
    "    intersections[municipal_nr] = org_dict\n",
    "\n",
    "\n",
    "intersections_df = pd.DataFrame(intersections_df, columns=['municipal_nr', 'orgnr', 'field_id'])\n",
    "intersections_df.to_csv(os.path.join(data_location, 'farm-information/fields_per_farm.csv'))\n",
    "print(intersections_df.head())\n",
    "print(intersections_df.shape)\n",
    "\n",
    "\n",
    "\n",
    "\n",
    "    "
   ]
  },
  {
   "cell_type": "code",
   "execution_count": 33,
   "metadata": {},
   "outputs": [
    {
     "name": "stdout",
     "output_type": "stream",
     "text": [
      "18\n",
      "Number of org number for municipal 101: 165\n",
      "Number of polygons for municipal 101: 0\n",
      "0\n",
      "0\n"
     ]
    }
   ],
   "source": [
    "print(len(intersections))\n",
    "municipal_nr = 101\n",
    "orgnr = '918312145'\n",
    "orgnrs_by_municipal_nr = get_orgnrs_by_municipal(municipal_nr, farmer_centroid)\n",
    "org_nrs_list = list(orgnrs_by_municipal_nr['orgnr'])\n",
    "print(f\"Number of org number for municipal {municipal_nr}: {len(org_nrs_list)}\")\n",
    "#print(orgnrs_by_municipal_nr.head())\n",
    "polygons_by_municipal_nr, polygon_indices = get_polygons_by_municipal(filtered_polygons, municipal_nr)\n",
    "print(f\"Number of polygons for municipal {municipal_nr}: {len(polygons_by_municipal_nr)}\")\n",
    "\n",
    "transformed_polygons = convert_crs(polygons_by_municipal_nr)\n",
    "print(len(transformed_polygons))\n",
    "print(len(polygon_indices))\n",
    "#write_polygons_to_shp(transformed_polygons, str(municipal_nr))\n",
    "\n",
    "#polygons_plt = [Polygon(mapping(poly)['coordinates'][0][0]) for poly in transformed_polygons]\n",
    "#plot_polygons(polygons_plt)\n",
    "#print(orgnrs_by_municipal_nr.head())\n",
    "for orgnr in org_nrs_list:\n",
    "    row = orgnrs_by_municipal_nr.loc[orgnrs_by_municipal_nr['orgnr'] == orgnr].iloc[0]\n",
    "\n",
    "    bounding_box = boundingBox(row['latitude'], row['longitude'], 1)\n",
    "    bbox = box(bounding_box[0], bounding_box[1], bounding_box[2], bounding_box[3])\n",
    "\n",
    "    write_polygons_to_shp([bbox], 'bbox' + orgnr)\n",
    "\n",
    "    \n",
    "\n",
    "\n",
    "#plot_polygons([bbox])\n"
   ]
  },
  {
   "cell_type": "code",
   "execution_count": 106,
   "metadata": {},
   "outputs": [
    {
     "name": "stderr",
     "output_type": "stream",
     "text": [
      "100%|██████████| 6738/6738 [00:06<00:00, 1062.43it/s]\n"
     ]
    }
   ],
   "source": [
    "orgnrs = filtered_farmer_centroid['orgnr'].tolist()\n",
    "\n",
    "polygons = []\n",
    "for nr in tqdm(orgnrs):\n",
    "    lat, lng = filtered_farmer_centroid.loc[filtered_farmer_centroid['orgnr'] == nr].iloc[0]['latitude'], filtered_farmer_centroid.loc[filtered_farmer_centroid['orgnr'] == nr].iloc[0]['longitude']\n",
    "    bounding_box = boundingBox(lat, lng, 1)\n",
    "    bbox = box(bounding_box[0], bounding_box[1], bounding_box[2], bounding_box[3])\n",
    "    polygons.append(bbox)\n",
    "\n",
    "\n",
    "\n"
   ]
  },
  {
   "cell_type": "code",
   "execution_count": 107,
   "metadata": {},
   "outputs": [],
   "source": [
    "write_polygons_to_shp(polygons, 'bounding_boxes')"
   ]
  },
  {
   "cell_type": "code",
   "execution_count": 126,
   "metadata": {},
   "outputs": [
    {
     "name": "stdout",
     "output_type": "stream",
     "text": [
      "Retrieving disposed properties data, satellite data and polygon data\n"
     ]
    },
    {
     "name": "stderr",
     "output_type": "stream",
     "text": [
      "100%|██████████| 4135/4135 [00:00<00:00, 36052.72it/s]\n",
      "100%|██████████| 3477/3477 [00:00<00:00, 34995.14it/s]\n"
     ]
    }
   ],
   "source": [
    "print(\"Retrieving disposed properties data, satellite data and polygon data\")\n",
    "disp_eien = get_disp_eiendommer()\n",
    "polygons = get_polygon_data()\n",
    "\n",
    "sat_orgnr = np.array(get_combined_satellite_data())\n"
   ]
  },
  {
   "cell_type": "code",
   "execution_count": 169,
   "metadata": {},
   "outputs": [
    {
     "name": "stdout",
     "output_type": "stream",
     "text": [
      "Farmer disposed properties shape filtering: (17884, 3)\n",
      "Length of satellite data after filtering: 6890\n",
      "Polygon data shape: (629040, 3)\n"
     ]
    },
    {
     "name": "stderr",
     "output_type": "stream",
     "text": [
      "100%|██████████| 17884/17884 [00:08<00:00, 2065.81it/s]"
     ]
    },
    {
     "name": "stdout",
     "output_type": "stream",
     "text": [
      "(17884, 3)\n",
      "(16857, 3)\n",
      "16857\n"
     ]
    },
    {
     "name": "stderr",
     "output_type": "stream",
     "text": [
      "\n"
     ]
    }
   ],
   "source": [
    "farm_orgnr = np.array(list(disp_eien['orgnr']))\n",
    "intersection = np.intersect1d(sat_orgnr, farm_orgnr)\n",
    "\n",
    "filtered_disp_eien = disp_eien[disp_eien['orgnr'].isin(intersection)]\n",
    "filtered_satellite_data = intersection[:]\n",
    "\n",
    "print(f\"Farmer disposed properties shape filtering: {filtered_disp_eien.shape}\")\n",
    "print(f\"Length of satellite data after filtering: {len(filtered_satellite_data)}\")\n",
    "print(f\"Polygon data shape: {polygons.shape}\")\n",
    "\n",
    "\n",
    "\n",
    "municipal_nrs = []\n",
    "idxs_to_remove = []\n",
    "orgnrs_to_check = list(set(filtered_farmer_centroid['orgnr'].tolist()))\n",
    "for index, row in tqdm(filtered_disp_eien.iterrows(), total=filtered_disp_eien.shape[0]):\n",
    "    if row['orgnr'] in orgnrs_to_check:\n",
    "        municipal_nrs.append(filtered_farmer_centroid.loc[filtered_farmer_centroid['orgnr'] == row['orgnr']]['kommunenr'].iloc[0])\n",
    "    else:\n",
    "        idxs_to_remove.append(index)\n",
    "    \n",
    "filtered_disp_eien = filtered_disp_eien.drop(idxs_to_remove)\n",
    "\n"
   ]
  },
  {
   "cell_type": "code",
   "execution_count": 119,
   "metadata": {},
   "outputs": [
    {
     "data": {
      "text/html": [
       "<div>\n",
       "<style scoped>\n",
       "    .dataframe tbody tr th:only-of-type {\n",
       "        vertical-align: middle;\n",
       "    }\n",
       "\n",
       "    .dataframe tbody tr th {\n",
       "        vertical-align: top;\n",
       "    }\n",
       "\n",
       "    .dataframe thead th {\n",
       "        text-align: right;\n",
       "    }\n",
       "</style>\n",
       "<table border=\"1\" class=\"dataframe\">\n",
       "  <thead>\n",
       "    <tr style=\"text-align: right;\">\n",
       "      <th></th>\n",
       "      <th>orgnr</th>\n",
       "      <th>year</th>\n",
       "      <th>geometry</th>\n",
       "    </tr>\n",
       "  </thead>\n",
       "  <tbody>\n",
       "    <tr>\n",
       "      <th>0</th>\n",
       "      <td>969102404</td>\n",
       "      <td>2017</td>\n",
       "      <td>MULTIPOLYGON (((199287.149 6584342.538, 199295...</td>\n",
       "    </tr>\n",
       "    <tr>\n",
       "      <th>1</th>\n",
       "      <td>983375782</td>\n",
       "      <td>2017</td>\n",
       "      <td>MULTIPOLYGON (((284208.764 6624834.683, 284208...</td>\n",
       "    </tr>\n",
       "    <tr>\n",
       "      <th>3</th>\n",
       "      <td>983375782</td>\n",
       "      <td>2019</td>\n",
       "      <td>MULTIPOLYGON (((284208.764 6624834.683, 284208...</td>\n",
       "    </tr>\n",
       "    <tr>\n",
       "      <th>6</th>\n",
       "      <td>983375782</td>\n",
       "      <td>2018</td>\n",
       "      <td>MULTIPOLYGON (((284208.764 6624834.683, 284208...</td>\n",
       "    </tr>\n",
       "    <tr>\n",
       "      <th>11</th>\n",
       "      <td>971214074</td>\n",
       "      <td>2019</td>\n",
       "      <td>MULTIPOLYGON (((283304.242 6602938.198, 283294...</td>\n",
       "    </tr>\n",
       "  </tbody>\n",
       "</table>\n",
       "</div>"
      ],
      "text/plain": [
       "        orgnr  year                                           geometry\n",
       "0   969102404  2017  MULTIPOLYGON (((199287.149 6584342.538, 199295...\n",
       "1   983375782  2017  MULTIPOLYGON (((284208.764 6624834.683, 284208...\n",
       "3   983375782  2019  MULTIPOLYGON (((284208.764 6624834.683, 284208...\n",
       "6   983375782  2018  MULTIPOLYGON (((284208.764 6624834.683, 284208...\n",
       "11  971214074  2019  MULTIPOLYGON (((283304.242 6602938.198, 283294..."
      ]
     },
     "execution_count": 119,
     "metadata": {},
     "output_type": "execute_result"
    }
   ],
   "source": [
    "filtered_disp_eien.head()"
   ]
  },
  {
   "cell_type": "code",
   "execution_count": 171,
   "metadata": {},
   "outputs": [
    {
     "ename": "ValueError",
     "evalue": "cannot insert municipal_id, already exists",
     "output_type": "error",
     "traceback": [
      "\u001b[1;31m---------------------------------------------------------------------------\u001b[0m",
      "\u001b[1;31mValueError\u001b[0m                                Traceback (most recent call last)",
      "\u001b[1;32mc:\\Users\\Sigurd\\PycharmProjects\\kornmo-master-thesis\\notebooks\\temp_notebook.ipynb Cell 11'\u001b[0m in \u001b[0;36m<module>\u001b[1;34m\u001b[0m\n\u001b[1;32m----> <a href='vscode-notebook-cell:/c%3A/Users/Sigurd/PycharmProjects/kornmo-master-thesis/notebooks/temp_notebook.ipynb#ch0000018?line=0'>1</a>\u001b[0m filtered_disp_eien\u001b[39m.\u001b[39;49minsert(\u001b[39m1\u001b[39;49m, \u001b[39m\"\u001b[39;49m\u001b[39mmunicipal_id\u001b[39;49m\u001b[39m\"\u001b[39;49m, municipal_nrs)\n\u001b[0;32m      <a href='vscode-notebook-cell:/c%3A/Users/Sigurd/PycharmProjects/kornmo-master-thesis/notebooks/temp_notebook.ipynb#ch0000018?line=1'>2</a>\u001b[0m filtered_disp_eien\u001b[39m.\u001b[39mhead(\u001b[39m50\u001b[39m)\n",
      "File \u001b[1;32mc:\\Users\\Sigurd\\PycharmProjects\\kornmo-master-thesis\\venv\\lib\\site-packages\\pandas\\core\\frame.py:4442\u001b[0m, in \u001b[0;36mDataFrame.insert\u001b[1;34m(self, loc, column, value, allow_duplicates)\u001b[0m\n\u001b[0;32m   <a href='file:///c%3A/Users/Sigurd/PycharmProjects/kornmo-master-thesis/venv/lib/site-packages/pandas/core/frame.py?line=4435'>4436</a>\u001b[0m     \u001b[39mraise\u001b[39;00m \u001b[39mValueError\u001b[39;00m(\n\u001b[0;32m   <a href='file:///c%3A/Users/Sigurd/PycharmProjects/kornmo-master-thesis/venv/lib/site-packages/pandas/core/frame.py?line=4436'>4437</a>\u001b[0m         \u001b[39m\"\u001b[39m\u001b[39mCannot specify \u001b[39m\u001b[39m'\u001b[39m\u001b[39mallow_duplicates=True\u001b[39m\u001b[39m'\u001b[39m\u001b[39m when \u001b[39m\u001b[39m\"\u001b[39m\n\u001b[0;32m   <a href='file:///c%3A/Users/Sigurd/PycharmProjects/kornmo-master-thesis/venv/lib/site-packages/pandas/core/frame.py?line=4437'>4438</a>\u001b[0m         \u001b[39m\"\u001b[39m\u001b[39m'\u001b[39m\u001b[39mself.flags.allows_duplicate_labels\u001b[39m\u001b[39m'\u001b[39m\u001b[39m is False.\u001b[39m\u001b[39m\"\u001b[39m\n\u001b[0;32m   <a href='file:///c%3A/Users/Sigurd/PycharmProjects/kornmo-master-thesis/venv/lib/site-packages/pandas/core/frame.py?line=4438'>4439</a>\u001b[0m     )\n\u001b[0;32m   <a href='file:///c%3A/Users/Sigurd/PycharmProjects/kornmo-master-thesis/venv/lib/site-packages/pandas/core/frame.py?line=4439'>4440</a>\u001b[0m \u001b[39mif\u001b[39;00m \u001b[39mnot\u001b[39;00m allow_duplicates \u001b[39mand\u001b[39;00m column \u001b[39min\u001b[39;00m \u001b[39mself\u001b[39m\u001b[39m.\u001b[39mcolumns:\n\u001b[0;32m   <a href='file:///c%3A/Users/Sigurd/PycharmProjects/kornmo-master-thesis/venv/lib/site-packages/pandas/core/frame.py?line=4440'>4441</a>\u001b[0m     \u001b[39m# Should this be a different kind of error??\u001b[39;00m\n\u001b[1;32m-> <a href='file:///c%3A/Users/Sigurd/PycharmProjects/kornmo-master-thesis/venv/lib/site-packages/pandas/core/frame.py?line=4441'>4442</a>\u001b[0m     \u001b[39mraise\u001b[39;00m \u001b[39mValueError\u001b[39;00m(\u001b[39mf\u001b[39m\u001b[39m\"\u001b[39m\u001b[39mcannot insert \u001b[39m\u001b[39m{\u001b[39;00mcolumn\u001b[39m}\u001b[39;00m\u001b[39m, already exists\u001b[39m\u001b[39m\"\u001b[39m)\n\u001b[0;32m   <a href='file:///c%3A/Users/Sigurd/PycharmProjects/kornmo-master-thesis/venv/lib/site-packages/pandas/core/frame.py?line=4442'>4443</a>\u001b[0m \u001b[39mif\u001b[39;00m \u001b[39mnot\u001b[39;00m \u001b[39misinstance\u001b[39m(loc, \u001b[39mint\u001b[39m):\n\u001b[0;32m   <a href='file:///c%3A/Users/Sigurd/PycharmProjects/kornmo-master-thesis/venv/lib/site-packages/pandas/core/frame.py?line=4443'>4444</a>\u001b[0m     \u001b[39mraise\u001b[39;00m \u001b[39mTypeError\u001b[39;00m(\u001b[39m\"\u001b[39m\u001b[39mloc must be int\u001b[39m\u001b[39m\"\u001b[39m)\n",
      "\u001b[1;31mValueError\u001b[0m: cannot insert municipal_id, already exists"
     ]
    }
   ],
   "source": [
    "filtered_disp_eien.insert(1, \"municipal_id\", municipal_nrs)"
   ]
  },
  {
   "cell_type": "code",
   "execution_count": 120,
   "metadata": {},
   "outputs": [
    {
     "data": {
      "text/html": [
       "<div>\n",
       "<style scoped>\n",
       "    .dataframe tbody tr th:only-of-type {\n",
       "        vertical-align: middle;\n",
       "    }\n",
       "\n",
       "    .dataframe tbody tr th {\n",
       "        vertical-align: top;\n",
       "    }\n",
       "\n",
       "    .dataframe thead th {\n",
       "        text-align: right;\n",
       "    }\n",
       "</style>\n",
       "<table border=\"1\" class=\"dataframe\">\n",
       "  <thead>\n",
       "    <tr style=\"text-align: right;\">\n",
       "      <th></th>\n",
       "      <th>Unnamed: 0</th>\n",
       "      <th>KOMID</th>\n",
       "      <th>geometry</th>\n",
       "    </tr>\n",
       "  </thead>\n",
       "  <tbody>\n",
       "    <tr>\n",
       "      <th>0</th>\n",
       "      <td>0</td>\n",
       "      <td>3031</td>\n",
       "      <td>MULTIPOLYGON (((271721.06120 6664057.75200, 27...</td>\n",
       "    </tr>\n",
       "    <tr>\n",
       "      <th>1</th>\n",
       "      <td>1</td>\n",
       "      <td>3031</td>\n",
       "      <td>MULTIPOLYGON (((271483.64850 6664134.17310, 27...</td>\n",
       "    </tr>\n",
       "    <tr>\n",
       "      <th>2</th>\n",
       "      <td>2</td>\n",
       "      <td>3031</td>\n",
       "      <td>MULTIPOLYGON (((271708.79830 6664057.24050, 27...</td>\n",
       "    </tr>\n",
       "    <tr>\n",
       "      <th>3</th>\n",
       "      <td>3</td>\n",
       "      <td>3031</td>\n",
       "      <td>MULTIPOLYGON (((271314.24970 6664101.64960, 27...</td>\n",
       "    </tr>\n",
       "    <tr>\n",
       "      <th>4</th>\n",
       "      <td>4</td>\n",
       "      <td>3031</td>\n",
       "      <td>MULTIPOLYGON (((271293.07800 6664065.84230, 27...</td>\n",
       "    </tr>\n",
       "  </tbody>\n",
       "</table>\n",
       "</div>"
      ],
      "text/plain": [
       "  Unnamed: 0  KOMID                                           geometry\n",
       "0          0   3031  MULTIPOLYGON (((271721.06120 6664057.75200, 27...\n",
       "1          1   3031  MULTIPOLYGON (((271483.64850 6664134.17310, 27...\n",
       "2          2   3031  MULTIPOLYGON (((271708.79830 6664057.24050, 27...\n",
       "3          3   3031  MULTIPOLYGON (((271314.24970 6664101.64960, 27...\n",
       "4          4   3031  MULTIPOLYGON (((271293.07800 6664065.84230, 27..."
      ]
     },
     "execution_count": 120,
     "metadata": {},
     "output_type": "execute_result"
    }
   ],
   "source": [
    "filtered_polygons.head()"
   ]
  },
  {
   "cell_type": "code",
   "execution_count": 186,
   "metadata": {},
   "outputs": [
    {
     "name": "stderr",
     "output_type": "stream",
     "text": [
      "  3%|▎         | 431/16857 [01:18<49:56,  5.48it/s]   \n"
     ]
    },
    {
     "ename": "KeyboardInterrupt",
     "evalue": "",
     "output_type": "error",
     "traceback": [
      "\u001b[1;31m---------------------------------------------------------------------------\u001b[0m",
      "\u001b[1;31mKeyboardInterrupt\u001b[0m                         Traceback (most recent call last)",
      "\u001b[1;32mc:\\Users\\Sigurd\\PycharmProjects\\kornmo-master-thesis\\notebooks\\temp_notebook.ipynb Cell 13'\u001b[0m in \u001b[0;36m<module>\u001b[1;34m\u001b[0m\n\u001b[0;32m      <a href='vscode-notebook-cell:/c%3A/Users/Sigurd/PycharmProjects/kornmo-master-thesis/notebooks/temp_notebook.ipynb#ch0000017?line=6'>7</a>\u001b[0m     poly_fields \u001b[39m=\u001b[39m filtered_polygons\u001b[39m.\u001b[39mloc[filtered_polygons[\u001b[39m'\u001b[39m\u001b[39mKOMID\u001b[39m\u001b[39m'\u001b[39m] \u001b[39m==\u001b[39m municipal_nr][\u001b[39m'\u001b[39m\u001b[39mgeometry\u001b[39m\u001b[39m'\u001b[39m]\u001b[39m.\u001b[39mtolist()\n\u001b[0;32m     <a href='vscode-notebook-cell:/c%3A/Users/Sigurd/PycharmProjects/kornmo-master-thesis/notebooks/temp_notebook.ipynb#ch0000017?line=9'>10</a>\u001b[0m     \u001b[39mfor\u001b[39;00m i, poly_field \u001b[39min\u001b[39;00m \u001b[39menumerate\u001b[39m(poly_fields):\n\u001b[1;32m---> <a href='vscode-notebook-cell:/c%3A/Users/Sigurd/PycharmProjects/kornmo-master-thesis/notebooks/temp_notebook.ipynb#ch0000017?line=10'>11</a>\u001b[0m         \u001b[39mif\u001b[39;00m poly_prop\u001b[39m.\u001b[39;49mintersects(poly_field):\n\u001b[0;32m     <a href='vscode-notebook-cell:/c%3A/Users/Sigurd/PycharmProjects/kornmo-master-thesis/notebooks/temp_notebook.ipynb#ch0000017?line=11'>12</a>\u001b[0m             intersections_df\u001b[39m.\u001b[39mappend([orgnr, i])\n\u001b[0;32m     <a href='vscode-notebook-cell:/c%3A/Users/Sigurd/PycharmProjects/kornmo-master-thesis/notebooks/temp_notebook.ipynb#ch0000017?line=16'>17</a>\u001b[0m intersections_df \u001b[39m=\u001b[39m pd\u001b[39m.\u001b[39mDataFrame(intersections_df, columns\u001b[39m=\u001b[39m[\u001b[39m'\u001b[39m\u001b[39morgnr\u001b[39m\u001b[39m'\u001b[39m, \u001b[39m'\u001b[39m\u001b[39mfield_id\u001b[39m\u001b[39m'\u001b[39m])\n",
      "File \u001b[1;32mc:\\Users\\Sigurd\\PycharmProjects\\kornmo-master-thesis\\venv\\lib\\site-packages\\shapely\\geometry\\base.py:799\u001b[0m, in \u001b[0;36mBaseGeometry.intersects\u001b[1;34m(self, other)\u001b[0m\n\u001b[0;32m    <a href='file:///c%3A/Users/Sigurd/PycharmProjects/kornmo-master-thesis/venv/lib/site-packages/shapely/geometry/base.py?line=796'>797</a>\u001b[0m \u001b[39mdef\u001b[39;00m \u001b[39mintersects\u001b[39m(\u001b[39mself\u001b[39m, other):\n\u001b[0;32m    <a href='file:///c%3A/Users/Sigurd/PycharmProjects/kornmo-master-thesis/venv/lib/site-packages/shapely/geometry/base.py?line=797'>798</a>\u001b[0m     \u001b[39m\"\"\"Returns True if geometries intersect, else False\"\"\"\u001b[39;00m\n\u001b[1;32m--> <a href='file:///c%3A/Users/Sigurd/PycharmProjects/kornmo-master-thesis/venv/lib/site-packages/shapely/geometry/base.py?line=798'>799</a>\u001b[0m     \u001b[39mreturn\u001b[39;00m \u001b[39mbool\u001b[39m(\u001b[39mself\u001b[39;49m\u001b[39m.\u001b[39;49mimpl[\u001b[39m'\u001b[39;49m\u001b[39mintersects\u001b[39;49m\u001b[39m'\u001b[39;49m](\u001b[39mself\u001b[39;49m, other))\n",
      "File \u001b[1;32mc:\\Users\\Sigurd\\PycharmProjects\\kornmo-master-thesis\\venv\\lib\\site-packages\\shapely\\predicates.py:15\u001b[0m, in \u001b[0;36mBinaryPredicate.__call__\u001b[1;34m(self, this, other, *args)\u001b[0m\n\u001b[0;32m     <a href='file:///c%3A/Users/Sigurd/PycharmProjects/kornmo-master-thesis/venv/lib/site-packages/shapely/predicates.py?line=12'>13</a>\u001b[0m \u001b[39mself\u001b[39m\u001b[39m.\u001b[39m_validate(other, stop_prepared\u001b[39m=\u001b[39m\u001b[39mTrue\u001b[39;00m)\n\u001b[0;32m     <a href='file:///c%3A/Users/Sigurd/PycharmProjects/kornmo-master-thesis/venv/lib/site-packages/shapely/predicates.py?line=13'>14</a>\u001b[0m \u001b[39mtry\u001b[39;00m:\n\u001b[1;32m---> <a href='file:///c%3A/Users/Sigurd/PycharmProjects/kornmo-master-thesis/venv/lib/site-packages/shapely/predicates.py?line=14'>15</a>\u001b[0m     \u001b[39mreturn\u001b[39;00m \u001b[39mself\u001b[39;49m\u001b[39m.\u001b[39;49mfn(this\u001b[39m.\u001b[39;49m_geom, other\u001b[39m.\u001b[39;49m_geom, \u001b[39m*\u001b[39;49margs)\n\u001b[0;32m     <a href='file:///c%3A/Users/Sigurd/PycharmProjects/kornmo-master-thesis/venv/lib/site-packages/shapely/predicates.py?line=15'>16</a>\u001b[0m \u001b[39mexcept\u001b[39;00m PredicateError \u001b[39mas\u001b[39;00m err:\n\u001b[0;32m     <a href='file:///c%3A/Users/Sigurd/PycharmProjects/kornmo-master-thesis/venv/lib/site-packages/shapely/predicates.py?line=16'>17</a>\u001b[0m     \u001b[39m# Dig deeper into causes of errors.\u001b[39;00m\n\u001b[0;32m     <a href='file:///c%3A/Users/Sigurd/PycharmProjects/kornmo-master-thesis/venv/lib/site-packages/shapely/predicates.py?line=17'>18</a>\u001b[0m     \u001b[39mself\u001b[39m\u001b[39m.\u001b[39m_check_topology(err, this, other)\n",
      "File \u001b[1;32mc:\\Users\\Sigurd\\PycharmProjects\\kornmo-master-thesis\\venv\\lib\\site-packages\\shapely\\geos.py:553\u001b[0m, in \u001b[0;36merrcheck_predicate\u001b[1;34m(result, func, argtuple)\u001b[0m\n\u001b[0;32m    <a href='file:///c%3A/Users/Sigurd/PycharmProjects/kornmo-master-thesis/venv/lib/site-packages/shapely/geos.py?line=545'>546</a>\u001b[0m         \u001b[39mraise\u001b[39;00m TopologicalError(\n\u001b[0;32m    <a href='file:///c%3A/Users/Sigurd/PycharmProjects/kornmo-master-thesis/venv/lib/site-packages/shapely/geos.py?line=546'>547</a>\u001b[0m             \u001b[39m\"\u001b[39m\u001b[39mThe operation \u001b[39m\u001b[39m'\u001b[39m\u001b[39m{}\u001b[39;00m\u001b[39m'\u001b[39m\u001b[39m could not be performed.\u001b[39m\u001b[39m\"\u001b[39m\n\u001b[0;32m    <a href='file:///c%3A/Users/Sigurd/PycharmProjects/kornmo-master-thesis/venv/lib/site-packages/shapely/geos.py?line=547'>548</a>\u001b[0m             \u001b[39m\"\u001b[39m\u001b[39mLikely cause is invalidity of the geometry.\u001b[39m\u001b[39m\"\u001b[39m\u001b[39m.\u001b[39mformat(\n\u001b[0;32m    <a href='file:///c%3A/Users/Sigurd/PycharmProjects/kornmo-master-thesis/venv/lib/site-packages/shapely/geos.py?line=548'>549</a>\u001b[0m                 func\u001b[39m.\u001b[39m\u001b[39m__name__\u001b[39m))\n\u001b[0;32m    <a href='file:///c%3A/Users/Sigurd/PycharmProjects/kornmo-master-thesis/venv/lib/site-packages/shapely/geos.py?line=549'>550</a>\u001b[0m     \u001b[39mreturn\u001b[39;00m errcheck_just_free(result, func, argtuple)\n\u001b[1;32m--> <a href='file:///c%3A/Users/Sigurd/PycharmProjects/kornmo-master-thesis/venv/lib/site-packages/shapely/geos.py?line=552'>553</a>\u001b[0m \u001b[39mdef\u001b[39;00m \u001b[39merrcheck_predicate\u001b[39m(result, func, argtuple):\n\u001b[0;32m    <a href='file:///c%3A/Users/Sigurd/PycharmProjects/kornmo-master-thesis/venv/lib/site-packages/shapely/geos.py?line=553'>554</a>\u001b[0m     \u001b[39m\"\"\"Result is 2 on exception, 1 on True, 0 on False\"\"\"\u001b[39;00m\n\u001b[0;32m    <a href='file:///c%3A/Users/Sigurd/PycharmProjects/kornmo-master-thesis/venv/lib/site-packages/shapely/geos.py?line=554'>555</a>\u001b[0m     \u001b[39mif\u001b[39;00m result \u001b[39m==\u001b[39m \u001b[39m2\u001b[39m:\n",
      "\u001b[1;31mKeyboardInterrupt\u001b[0m: "
     ]
    }
   ],
   "source": [
    "intersections_df = []\n",
    "disp_orgnrs = filtered_disp_eien['orgnr'].tolist()\n",
    "\n",
    "for orgnr in tqdm(disp_orgnrs):\n",
    "    poly_prop = filtered_disp_eien.loc[filtered_disp_eien['orgnr'] == orgnr].iloc[0]['geometry']\n",
    "    municipal_nr = filtered_disp_eien.loc[filtered_disp_eien['orgnr'] == orgnr].iloc[0]['municipal_id']\n",
    "    poly_fields = filtered_polygons.loc[filtered_polygons['KOMID'] == municipal_nr]['geometry'].tolist()\n",
    "\n",
    "    \n",
    "    for i, poly_field in enumerate(poly_fields):\n",
    "        if poly_prop.intersects(poly_field):\n",
    "            intersections_df.append([orgnr, i])\n",
    "\n",
    "    \n",
    "\n",
    "\n",
    "intersections_df = pd.DataFrame(intersections_df, columns=['orgnr', 'field_id'])\n",
    "intersections_df.to_csv(os.path.join(data_location, 'farm-information/fields_per_farm2.csv'))\n",
    "print(intersections_df.head())\n",
    "print(intersections_df.shape)"
   ]
  }
 ],
 "metadata": {
  "interpreter": {
   "hash": "51aaa48c339eac88a5864b4bfe998ed7e8f1bbfa29e27230d15e896d17641185"
  },
  "kernelspec": {
   "display_name": "Python 3.10.1 ('venv': venv)",
   "language": "python",
   "name": "python3"
  },
  "language_info": {
   "codemirror_mode": {
    "name": "ipython",
    "version": 3
   },
   "file_extension": ".py",
   "mimetype": "text/x-python",
   "name": "python",
   "nbconvert_exporter": "python",
   "pygments_lexer": "ipython3",
   "version": "3.10.1"
  },
  "orig_nbformat": 4
 },
 "nbformat": 4,
 "nbformat_minor": 2
}
