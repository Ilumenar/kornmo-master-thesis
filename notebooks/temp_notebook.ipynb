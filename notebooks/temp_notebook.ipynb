{
 "cells": [
  {
   "cell_type": "code",
   "execution_count": 3,
   "metadata": {},
   "outputs": [],
   "source": [
    "import pandas as pd\n",
    "import geopandas as gpd\n",
    "import numpy as np\n",
    "from tqdm import tqdm\n",
    "from shapely.geometry import box, Polygon\n",
    "from shapely.ops import transform\n",
    "from shapely import wkt\n",
    "import matplotlib.pyplot as plt\n",
    "import os, sys\n",
    "import pyproj\n",
    "\n",
    "#Enables imports from src directory in notebooks\n",
    "sys.path.insert(0, os.path.abspath('../src'))\n",
    "sys.path.insert(0, os.path.abspath('../src/data_handling'))\n",
    "#Auto update imports when python files in src is updated\n",
    "%load_ext autoreload\n",
    "%autoreload 2\n",
    "\n",
    "from satellite_images import read_sat_images_file\n",
    "from utils import boundingBox, write_polygons_to_shp, plot_polygons, png_to_geotiff\n",
    "\n",
    "\n",
    "data_location = \"../../kornmo-data-files/raw-data\"\n"
   ]
  },
  {
   "cell_type": "code",
   "execution_count": 4,
   "metadata": {},
   "outputs": [],
   "source": [
    "def get_farmer_centroid(nrows=None):\n",
    "    farmer_centroid = pd.read_csv(os.path.join(data_location, 'farm-information/centroid_coordinates_new.csv'), delimiter=',', nrows=nrows)\n",
    "    columns_to_keep = ['orgnr', 'latitude', 'longitude', 'kommunenr']\n",
    "    farmer_centroid = farmer_centroid.filter(columns_to_keep)\n",
    "    farmer_centroid = farmer_centroid.dropna()\n",
    "    farmer_centroid['orgnr'] = farmer_centroid['orgnr'].astype(str)\n",
    "    farmer_centroid['latitude'] = farmer_centroid['latitude'].astype(float)\n",
    "    farmer_centroid['longitude'] = farmer_centroid['longitude'].astype(float)\n",
    "    farmer_centroid['kommunenr'] = farmer_centroid['kommunenr'].astype(int)\n",
    "    return farmer_centroid\n",
    "\n",
    "def get_polygon_data(nrows=None):\n",
    "    \n",
    "    soilquality = pd.read_csv(os.path.join(data_location, 'soil-data/jordsmonn_geometry.csv'), dtype=str, nrows=nrows)\n",
    "    soilquality = soilquality.dropna()\n",
    "    soilquality['geometry'] = soilquality['geometry'].apply(wkt.loads)\n",
    "    geo_soilquality = gpd.GeoDataFrame(soilquality, crs='epsg:4326')\n",
    "    geo_soilquality['municipal_nr'] = geo_soilquality['municipal_nr'].astype(int)\n",
    "    \n",
    "    return geo_soilquality\n",
    "\n",
    "def get_disp_eiendommer():\n",
    "    disp_eien = gpd.read_file(os.path.join(data_location, 'farm-information/farm-properties/disposed-properties-previous-students/disponerte_eiendommer.gpkg'), layer='disponerte_eiendommer')\n",
    "    disp_eien = disp_eien.dropna()\n",
    "    disp_eien.drop_duplicates(['orgnr', 'geometry'], keep='first', inplace=True)\n",
    "    disp_eien['orgnr'] = disp_eien['orgnr'].astype(str)\n",
    "\n",
    "    return disp_eien\n",
    "\n",
    "def get_combined_satellite_data():\n",
    "    sat_images0 = read_sat_images_file('sentinel_100x100_0.h5')\n",
    "    sat_images1 = read_sat_images_file('sentinel_100x100_1.h5')\n",
    "    in_first = set(sat_images0)\n",
    "    in_second = set(sat_images1)\n",
    "\n",
    "    in_second_but_not_in_first = in_second - in_first\n",
    "\n",
    "    result = list(sat_images0) + list(in_second_but_not_in_first)\n",
    "\n",
    "    return result\n",
    "\n",
    "\n",
    "def filter_by_municipal(dataframe, municipal_nr):\n",
    "    return dataframe.loc[dataframe['municipal_nr'] == municipal_nr]\n",
    "\n",
    "\n",
    "def get_polygons_by_municipal(dataframe, municipal_nr):\n",
    "    polygons_by_muni = dataframe.loc[dataframe['municipal_nr'] == municipal_nr]\n",
    "    polygons_list = polygons_by_muni['geometry'].tolist()\n",
    "    return polygons_list\n",
    "\n",
    "def convert_crs(polygons):\n",
    "    project = pyproj.Transformer.from_proj(pyproj.Proj('epsg:25833'), pyproj.Proj('epsg:4326'), always_xy=True)\n",
    "    return [transform(project.transform, poly) for poly in polygons]\n",
    "\n"
   ]
  },
  {
   "cell_type": "code",
   "execution_count": 5,
   "metadata": {},
   "outputs": [
    {
     "name": "stdout",
     "output_type": "stream",
     "text": [
      "Retrieving data\n"
     ]
    },
    {
     "name": "stderr",
     "output_type": "stream",
     "text": [
      "100%|██████████| 4135/4135 [00:31<00:00, 129.90it/s]\n",
      "100%|██████████| 3477/3477 [00:31<00:00, 111.96it/s]\n"
     ]
    }
   ],
   "source": [
    "print(\"Retrieving data\")\n",
    "disp_eien = get_disp_eiendommer()\n",
    "field_data = get_polygon_data()\n",
    "farmer_centroid = get_farmer_centroid()\n",
    "\n",
    "sat_orgnr = np.array(get_combined_satellite_data())\n"
   ]
  },
  {
   "cell_type": "code",
   "execution_count": 6,
   "metadata": {},
   "outputs": [
    {
     "name": "stdout",
     "output_type": "stream",
     "text": [
      "Amount of fields from disposed properties: (8442, 3)\n",
      "Amount of organisation numbers from satellite data: 6890\n",
      "Amount of fields from jordsmonn: (629040, 4)\n"
     ]
    },
    {
     "name": "stderr",
     "output_type": "stream",
     "text": [
      "100%|██████████| 8442/8442 [00:05<00:00, 1549.91it/s]\n"
     ]
    }
   ],
   "source": [
    "farm_orgnr = np.array(list(disp_eien['orgnr']))\n",
    "intersection = np.intersect1d(sat_orgnr, farm_orgnr)\n",
    "\n",
    "filtered_disp_eien = disp_eien[disp_eien['orgnr'].isin(intersection)]\n",
    "filtered_satellite_data = intersection[:]\n",
    "\n",
    "print(f\"Amount of fields from disposed properties: {filtered_disp_eien.shape}\")\n",
    "print(f\"Amount of organisation numbers from satellite data: {len(filtered_satellite_data)}\")\n",
    "print(f\"Amount of fields from jordsmonn: {field_data.shape}\")\n",
    "\n",
    "\n",
    "\n",
    "municipal_nrs = []\n",
    "idxs_to_remove = []\n",
    "orgnrs_to_check = list(set(farmer_centroid['orgnr'].tolist()))\n",
    "for index, row in tqdm(filtered_disp_eien.iterrows(), total=filtered_disp_eien.shape[0]):\n",
    "    if row['orgnr'] in orgnrs_to_check:\n",
    "        municipal_nrs.append(farmer_centroid.loc[farmer_centroid['orgnr'] == row['orgnr']]['kommunenr'].iloc[0])\n",
    "    else:\n",
    "        idxs_to_remove.append(index)\n",
    "    \n",
    "filtered_disp_eien = filtered_disp_eien.drop(idxs_to_remove)\n",
    "\n"
   ]
  },
  {
   "cell_type": "code",
   "execution_count": 7,
   "metadata": {},
   "outputs": [
    {
     "name": "stdout",
     "output_type": "stream",
     "text": [
      "(7979, 4)\n"
     ]
    },
    {
     "data": {
      "text/html": [
       "<div>\n",
       "<style scoped>\n",
       "    .dataframe tbody tr th:only-of-type {\n",
       "        vertical-align: middle;\n",
       "    }\n",
       "\n",
       "    .dataframe tbody tr th {\n",
       "        vertical-align: top;\n",
       "    }\n",
       "\n",
       "    .dataframe thead th {\n",
       "        text-align: right;\n",
       "    }\n",
       "</style>\n",
       "<table border=\"1\" class=\"dataframe\">\n",
       "  <thead>\n",
       "    <tr style=\"text-align: right;\">\n",
       "      <th></th>\n",
       "      <th>orgnr</th>\n",
       "      <th>municipal_nr</th>\n",
       "      <th>year</th>\n",
       "      <th>geometry</th>\n",
       "    </tr>\n",
       "  </thead>\n",
       "  <tbody>\n",
       "    <tr>\n",
       "      <th>0</th>\n",
       "      <td>969102404</td>\n",
       "      <td>3812</td>\n",
       "      <td>2017</td>\n",
       "      <td>MULTIPOLYGON (((199287.149 6584342.538, 199295...</td>\n",
       "    </tr>\n",
       "    <tr>\n",
       "      <th>1</th>\n",
       "      <td>983375782</td>\n",
       "      <td>3028</td>\n",
       "      <td>2017</td>\n",
       "      <td>MULTIPOLYGON (((284208.764 6624834.683, 284208...</td>\n",
       "    </tr>\n",
       "    <tr>\n",
       "      <th>11</th>\n",
       "      <td>971214074</td>\n",
       "      <td>3015</td>\n",
       "      <td>2019</td>\n",
       "      <td>MULTIPOLYGON (((283304.242 6602938.198, 283294...</td>\n",
       "    </tr>\n",
       "    <tr>\n",
       "      <th>28</th>\n",
       "      <td>969351560</td>\n",
       "      <td>3805</td>\n",
       "      <td>2019</td>\n",
       "      <td>MULTIPOLYGON (((211678.192 6579653.617, 211659...</td>\n",
       "    </tr>\n",
       "    <tr>\n",
       "      <th>31</th>\n",
       "      <td>969351560</td>\n",
       "      <td>3805</td>\n",
       "      <td>2018</td>\n",
       "      <td>MULTIPOLYGON (((211678.192 6579653.617, 211659...</td>\n",
       "    </tr>\n",
       "  </tbody>\n",
       "</table>\n",
       "</div>"
      ],
      "text/plain": [
       "        orgnr  municipal_nr  year  \\\n",
       "0   969102404          3812  2017   \n",
       "1   983375782          3028  2017   \n",
       "11  971214074          3015  2019   \n",
       "28  969351560          3805  2019   \n",
       "31  969351560          3805  2018   \n",
       "\n",
       "                                             geometry  \n",
       "0   MULTIPOLYGON (((199287.149 6584342.538, 199295...  \n",
       "1   MULTIPOLYGON (((284208.764 6624834.683, 284208...  \n",
       "11  MULTIPOLYGON (((283304.242 6602938.198, 283294...  \n",
       "28  MULTIPOLYGON (((211678.192 6579653.617, 211659...  \n",
       "31  MULTIPOLYGON (((211678.192 6579653.617, 211659...  "
      ]
     },
     "execution_count": 7,
     "metadata": {},
     "output_type": "execute_result"
    }
   ],
   "source": [
    "filtered_disp_eien.insert(1, \"municipal_nr\", municipal_nrs)\n",
    "print(filtered_disp_eien.shape)\n",
    "filtered_disp_eien.head()"
   ]
  },
  {
   "cell_type": "code",
   "execution_count": 8,
   "metadata": {},
   "outputs": [
    {
     "data": {
      "text/html": [
       "<div>\n",
       "<style scoped>\n",
       "    .dataframe tbody tr th:only-of-type {\n",
       "        vertical-align: middle;\n",
       "    }\n",
       "\n",
       "    .dataframe tbody tr th {\n",
       "        vertical-align: top;\n",
       "    }\n",
       "\n",
       "    .dataframe thead th {\n",
       "        text-align: right;\n",
       "    }\n",
       "</style>\n",
       "<table border=\"1\" class=\"dataframe\">\n",
       "  <thead>\n",
       "    <tr style=\"text-align: right;\">\n",
       "      <th></th>\n",
       "      <th>Unnamed: 0</th>\n",
       "      <th>id</th>\n",
       "      <th>municipal_nr</th>\n",
       "      <th>geometry</th>\n",
       "    </tr>\n",
       "  </thead>\n",
       "  <tbody>\n",
       "    <tr>\n",
       "      <th>0</th>\n",
       "      <td>0</td>\n",
       "      <td>0</td>\n",
       "      <td>3031</td>\n",
       "      <td>MULTIPOLYGON (((271721.06120 6664057.75200, 27...</td>\n",
       "    </tr>\n",
       "    <tr>\n",
       "      <th>1</th>\n",
       "      <td>1</td>\n",
       "      <td>1</td>\n",
       "      <td>3031</td>\n",
       "      <td>MULTIPOLYGON (((271483.64850 6664134.17310, 27...</td>\n",
       "    </tr>\n",
       "    <tr>\n",
       "      <th>2</th>\n",
       "      <td>2</td>\n",
       "      <td>2</td>\n",
       "      <td>3031</td>\n",
       "      <td>MULTIPOLYGON (((271708.79830 6664057.24050, 27...</td>\n",
       "    </tr>\n",
       "    <tr>\n",
       "      <th>3</th>\n",
       "      <td>3</td>\n",
       "      <td>3</td>\n",
       "      <td>3031</td>\n",
       "      <td>MULTIPOLYGON (((271314.24970 6664101.64960, 27...</td>\n",
       "    </tr>\n",
       "    <tr>\n",
       "      <th>4</th>\n",
       "      <td>4</td>\n",
       "      <td>4</td>\n",
       "      <td>3031</td>\n",
       "      <td>MULTIPOLYGON (((271293.07800 6664065.84230, 27...</td>\n",
       "    </tr>\n",
       "  </tbody>\n",
       "</table>\n",
       "</div>"
      ],
      "text/plain": [
       "  Unnamed: 0 id  municipal_nr  \\\n",
       "0          0  0          3031   \n",
       "1          1  1          3031   \n",
       "2          2  2          3031   \n",
       "3          3  3          3031   \n",
       "4          4  4          3031   \n",
       "\n",
       "                                            geometry  \n",
       "0  MULTIPOLYGON (((271721.06120 6664057.75200, 27...  \n",
       "1  MULTIPOLYGON (((271483.64850 6664134.17310, 27...  \n",
       "2  MULTIPOLYGON (((271708.79830 6664057.24050, 27...  \n",
       "3  MULTIPOLYGON (((271314.24970 6664101.64960, 27...  \n",
       "4  MULTIPOLYGON (((271293.07800 6664065.84230, 27...  "
      ]
     },
     "execution_count": 8,
     "metadata": {},
     "output_type": "execute_result"
    }
   ],
   "source": [
    "field_data.head()"
   ]
  },
  {
   "cell_type": "code",
   "execution_count": 86,
   "metadata": {},
   "outputs": [
    {
     "name": "stderr",
     "output_type": "stream",
     "text": [
      "100%|██████████| 133/133 [21:01<00:00,  9.49s/it]\n"
     ]
    },
    {
     "name": "stdout",
     "output_type": "stream",
     "text": [
      "  field_id  municipal_nr       orgnrs\n",
      "0   508169          4642  [969830396]\n",
      "1   508183          4642  [969830396]\n",
      "2   508184          4642  [969830396]\n",
      "3   508190          4642  [969830396]\n",
      "4   508217          4642  [969830396]\n",
      "(214132, 3)\n"
     ]
    }
   ],
   "source": [
    "intersections_df = []\n",
    "municipal_nrs = list(set(filtered_disp_eien['municipal_nr'].tolist()))\n",
    "\n",
    "for municipal_nr in tqdm(municipal_nrs):\n",
    "\n",
    "    filtered_disp = filter_by_municipal(filtered_disp_eien, municipal_nr)\n",
    "    filtered_fields = filter_by_municipal(field_data, municipal_nr)\n",
    "\n",
    "    polygons_fields = filtered_fields['geometry'].tolist()\n",
    "    polygons_disp = filtered_disp['geometry'].tolist()\n",
    "    id_fields = filtered_fields['id'].tolist()\n",
    "    orgnr_disp = filtered_disp['orgnr'].tolist()\n",
    "    \n",
    "    for i, poly_field in enumerate(polygons_fields):\n",
    "        disp_orgnrs = []\n",
    "        for j, poly_disp in enumerate(polygons_disp):\n",
    "            \n",
    "            if poly_disp.intersects(poly_field):\n",
    "                disp_orgnrs.append(orgnr_disp[j])\n",
    "        if len(disp_orgnrs) > 0:\n",
    "            intersections_df.append([id_fields[i], municipal_nr, disp_orgnrs])\n",
    "\n",
    "intersections_df = pd.DataFrame(intersections_df, columns=['field_id', 'municipal_nr', 'orgnrs'])\n",
    "intersections_df.to_csv(os.path.join(data_location, 'farm-information/orgnrs_per_field.csv'))\n",
    "print(intersections_df.head())\n",
    "print(intersections_df.shape)"
   ]
  },
  {
   "cell_type": "code",
   "execution_count": 84,
   "metadata": {},
   "outputs": [
    {
     "ename": "IndexError",
     "evalue": "list index out of range",
     "output_type": "error",
     "traceback": [
      "\u001B[1;31m---------------------------------------------------------------------------\u001B[0m",
      "\u001B[1;31mIndexError\u001B[0m                                Traceback (most recent call last)",
      "\u001B[1;32m~\\AppData\\Local\\Temp/ipykernel_11784/3735953800.py\u001B[0m in \u001B[0;36m<module>\u001B[1;34m\u001B[0m\n\u001B[1;32m----> 1\u001B[1;33m \u001B[0mintersections_df\u001B[0m\u001B[1;33m[\u001B[0m\u001B[1;34m'orgnrs'\u001B[0m\u001B[1;33m]\u001B[0m\u001B[1;33m.\u001B[0m\u001B[0miloc\u001B[0m\u001B[1;33m[\u001B[0m\u001B[1;36m0\u001B[0m\u001B[1;33m]\u001B[0m\u001B[1;33m[\u001B[0m\u001B[1;36m0\u001B[0m\u001B[1;33m]\u001B[0m\u001B[1;33m\u001B[0m\u001B[1;33m\u001B[0m\u001B[0m\n\u001B[0m",
      "\u001B[1;31mIndexError\u001B[0m: list index out of range"
     ]
    }
   ],
   "source": [
    "intersections_df['orgnrs'].iloc[0]"
   ]
  },
  {
   "cell_type": "code",
   "execution_count": 10,
   "metadata": {},
   "outputs": [
    {
     "name": "stdout",
     "output_type": "stream",
     "text": [
      "(1, 4)\n"
     ]
    }
   ],
   "source": [
    "intersections_df =  pd.read_csv(os.path.join(data_location, 'soil-data/jordsmonn_geometry.csv'))\n",
    "#disp_poly = filtered_disp_eien.loc[filtered_disp_eien['municipal_nr'] == 3812]\n",
    "#field_poly = field_data.loc[field_data['municipal_nr'] == 3812]\n",
    "#field_poly = field_data[field_data[\"id\"].isin(intersections_df['field_id'].tolist())]\n",
    "field_poly = field_data[field_data[\"id\"].isin(['477729'])]\n",
    "#print(disp_poly.shape)\n",
    "print(field_poly.shape)\n",
    "\n",
    "#disp_poly = disp_poly['geometry'].tolist()\n",
    "field_poly = field_poly['geometry'].tolist()\n",
    "\n",
    "#write_polygons_to_shp(convert_crs(disp_poly), 'disp')\n",
    "write_polygons_to_shp(convert_crs(field_poly), 'fields')"
   ]
  },
  {
   "cell_type": "code",
   "execution_count": 47,
   "metadata": {},
   "outputs": [],
   "source": [
    "from src.satellite_images.storage import SentinelDataset\n",
    "import geopandas as gpd\n",
    "\n",
    "data_path = '../../kornmo-data-files/raw-data/crop-classification-data'\n",
    "satellite_imgs = SentinelDataset('E:/MasterThesisData/Satellite_Images/satellite_images_train.h5')\n",
    "train = gpd.read_file(f\"{data_path}/training_data.gpkg\")\n",
    "imgs = satellite_imgs.get_images(811555762, 2017)\n",
    "poly = train.loc[train['orgnr'] == 811555762].loc[train['year'] == 2017].iloc[1]['geometry']\n",
    "poly = convert_crs([poly])[0]\n"
   ]
  },
  {
   "cell_type": "code",
   "execution_count": 22,
   "outputs": [
    {
     "name": "stdout",
     "output_type": "stream",
     "text": [
      "(20, 20, 12)\n"
     ]
    }
   ],
   "source": [
    "from PIL import Image\n",
    "import numpy as np\n",
    "\n",
    "img_ = imgs[0]\n",
    "\n",
    "\n",
    "\n",
    "def crop_img(img, left, top, size):\n",
    "    new_img = []\n",
    "    for i in range(left, left+size):\n",
    "        row = []\n",
    "        for j in range(top, top+size):\n",
    "            row.append(img[i][j])\n",
    "        new_img.append(row)\n",
    "    return new_img\n",
    "\n",
    "size = 20\n",
    "left = 10\n",
    "top = 10\n",
    "print(np.array(crop_img(img_, left, top, size)).shape)"
   ],
   "metadata": {
    "collapsed": false,
    "pycharm": {
     "name": "#%%\n"
    }
   }
  },
  {
   "cell_type": "code",
   "execution_count": 48,
   "outputs": [
    {
     "name": "stdout",
     "output_type": "stream",
     "text": [
      "(10.18557166690006, 63.253851116928104, 10.225612734367148, 63.27186551419738)\n",
      "{'srcX': 0, 'srcY': 0, 'lat': 63.253851116928104, 'lng': 10.18557166690006, 'pos': {'x': 58957.63394669158, 'y': 402990.2854659489}}\n",
      "{'srcX': 100, 'srcY': 100, 'lat': 63.27186551419738, 'lng': 10.225612734367148, 'pos': {'x': 59189.40558168297, 'y': 403105.0551909515}}\n",
      "10.18557166690006 63.253851116928104\n",
      "{'x': 0.0, 'y': 0.0}\n"
     ]
    },
    {
     "data": {
      "text/plain": "<Figure size 432x288 with 1 Axes>",
      "image/png": "[encoded data removed]"
     },
     "metadata": {
      "needs_background": "light"
     },
     "output_type": "display_data"
    }
   ],
   "source": [
    "from src.kornmo.mask.geo_point_translator import GeoPointTranslator\n",
    "from shapely.geometry import box\n",
    "from src.utils import boundingBox, convert_crs\n",
    "import matplotlib.pyplot as plt\n",
    "plt.plot(*poly.exterior.xy)\n",
    "bbox = boundingBox(poly.centroid.y, poly.centroid.x, 1)\n",
    "bbox_new = box(bbox[0], bbox[1], bbox[2], bbox[3])\n",
    "\n",
    "print(bbox_new.exterior.bounds)\n",
    "geo_translator = GeoPointTranslator(bbox_new)\n",
    "print(geo_translator.p0)\n",
    "print(geo_translator.p1)\n",
    "\n",
    "print(bbox[0], bbox[1])\n",
    "xy = geo_translator.lat_lng_to_screen_xy(bbox[1], bbox[0])\n",
    "\n",
    "print(xy)\n",
    "\n",
    "\n",
    "\n",
    "\n"
   ],
   "metadata": {
    "collapsed": false,
    "pycharm": {
     "name": "#%%\n"
    }
   }
  }
 ],
 "metadata": {
  "interpreter": {
   "hash": "51aaa48c339eac88a5864b4bfe998ed7e8f1bbfa29e27230d15e896d17641185"
  },
  "kernelspec": {
   "display_name": "Python 3.10.1 ('venv': venv)",
   "language": "python",
   "name": "python3"
  },
  "language_info": {
   "codemirror_mode": {
    "name": "ipython",
    "version": 3
   },
   "file_extension": ".py",
   "mimetype": "text/x-python",
   "name": "python",
   "nbconvert_exporter": "python",
   "pygments_lexer": "ipython3",
   "version": "3.10.1"
  },
  "orig_nbformat": 4
 },
 "nbformat": 4,
 "nbformat_minor": 2
}