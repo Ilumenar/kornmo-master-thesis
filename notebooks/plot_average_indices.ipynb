{
 "cells": [
  {
   "cell_type": "code",
   "execution_count": null,
   "outputs": [],
   "source": [
    "import h5py\n",
    "import numpy as np\n",
    "from tqdm import tqdm\n",
    "from src.satellite_images.storage import SentinelDataset\n",
    "import pandas as pd\n",
    "import geopandas as gpd\n",
    "import matplotlib.pyplot as plt"
   ],
   "metadata": {
    "collapsed": false,
    "pycharm": {
     "name": "#%%\n"
    }
   }
  },
  {
   "cell_type": "code",
   "execution_count": null,
   "outputs": [],
   "source": [
    "\n",
    "average_indices_planted = pd.read_csv(\"../../kornmo-data-files/raw-data/crop-classification-data/average_vegetation_indices_planted.csv\")\n",
    "average_indices_planted.drop(\"Unnamed: 0\", inplace=True, axis=1)\n",
    "\n",
    "vegetation_indices = [\"NDVI\", \"NDRE\", \"EVI\", \"SIPI3\", \"PVR\", \"GARI\", \"GRNDVI\", \"SIWSI\", \"LSWI\", \"NDSVI\"]\n",
    "\n",
    "crop_types = average_indices_planted['planted'].unique()\n",
    "\n",
    "columns = [\"index\", \"planted\"]\n",
    "for day in range(1, 31):\n",
    "    columns.append(f\"day_{day}\")\n",
    "\n",
    "final_dataset = pd.DataFrame(columns=columns)\n",
    "\n",
    "\n",
    "for crop_type in crop_types:\n",
    "    average_indices_for_crop = average_indices_planted[(average_indices_planted['planted'] == crop_type)]\n",
    "    print(f\"{crop_type}: {len(average_indices_for_crop)}\")\n",
    "\n",
    "    for vegetation_index in vegetation_indices:\n",
    "        default_data = {'index': str(vegetation_index), 'planted': str(crop_type)}\n",
    "        row = pd.Series(data=default_data, index=['index', 'planted'])\n",
    "\n",
    "        for day in range(1, 31):\n",
    "            temp_values = average_indices_for_crop[f\"{vegetation_index}_{day}\"].tolist()\n",
    "            all_average_index = []\n",
    "\n",
    "            for value in temp_values:\n",
    "                if 0 <= value <= 1:\n",
    "                    all_average_index.append(value)\n",
    "\n",
    "            single_average_index = sum(all_average_index) / len(all_average_index)\n",
    "\n",
    "            if single_average_index < 0 or single_average_index > 1:\n",
    "                print(f\"Min: {min(all_average_index)}, Max: {max(all_average_index)}, Average: {single_average_index}\")\n",
    "\n",
    "            row[f\"day_{day}\"] = single_average_index\n",
    "\n",
    "        final_dataset = pd.concat([final_dataset, row.to_frame().T])\n",
    "\n",
    "\n"
   ],
   "metadata": {
    "collapsed": false,
    "pycharm": {
     "name": "#%%\n"
    }
   }
  },
  {
   "cell_type": "code",
   "execution_count": null,
   "metadata": {
    "collapsed": true,
    "pycharm": {
     "name": "#%%\n"
    }
   },
   "outputs": [],
   "source": [
    "\n",
    "crop_types = ['bygg', 'hvete', 'havre']\n",
    "# new_indices = [\"NDVI\", \"EVI\", \"PVR\", \"GRNDVI\", \"LSWI\", \"NDSVI\"]\n",
    "\n",
    "y= []\n",
    "for i in range(1, 31):\n",
    "    y.append(i)\n",
    "\n",
    "for vegetation_index in vegetation_indices:\n",
    "\n",
    "    # fig = plt.figure(figsize=)\n",
    "    # if vegetation_index in new_indices:\n",
    "        for crop_type in crop_types:\n",
    "            x = final_dataset[(final_dataset['index'] == vegetation_index) & (final_dataset['planted'] == crop_type)].values.flatten().tolist()\n",
    "\n",
    "            plt.plot(y, x[2:], label=x[1])\n",
    "\n",
    "        plt.rcParams[\"figure.figsize\"] = (20,10)\n",
    "        plt.xlabel('Days')\n",
    "        plt.ylabel(f'{x[0]} values')\n",
    "        plt.title(f'{x[0]} vegetation indices values')\n",
    "        plt.xticks(np.arange(19, 20, 1))\n",
    "        plt.grid()\n",
    "        plt.legend()\n",
    "        plt.show()\n"
   ]
  }
 ],
 "metadata": {
  "kernelspec": {
   "display_name": "Python 3",
   "language": "python",
   "name": "python3"
  },
  "language_info": {
   "codemirror_mode": {
    "name": "ipython",
    "version": 2
   },
   "file_extension": ".py",
   "mimetype": "text/x-python",
   "name": "python",
   "nbconvert_exporter": "python",
   "pygments_lexer": "ipython2",
   "version": "2.7.6"
  }
 },
 "nbformat": 4,
 "nbformat_minor": 0
}