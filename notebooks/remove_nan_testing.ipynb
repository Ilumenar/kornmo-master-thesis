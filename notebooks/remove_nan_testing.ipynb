{
 "cells": [
  {
   "cell_type": "code",
   "execution_count": 36,
   "metadata": {
    "collapsed": true
   },
   "outputs": [],
   "source": [
    "import pandas as pd\n",
    "\n",
    "MEASUREMENT_DAYS = 214\n",
    "ACCEPTABLE_MISSING_PERCENTAGE = 0.75\n",
    "\n",
    "start_date = f'{2017}-03-01'\n",
    "end_date = f'{2017}-10-01'\n",
    "weather_type = 'precipitation'"
   ]
  },
  {
   "cell_type": "code",
   "execution_count": 109,
   "outputs": [],
   "source": [
    "from sklearn.model_selection import train_test_split\n",
    "from sklearn.preprocessing import PolynomialFeatures\n",
    "from sklearn.linear_model import LinearRegression\n",
    "from sklearn.metrics import r2_score\n",
    "import math\n",
    "import numpy as np\n",
    "\n",
    "\n",
    "def interpolate(row):\n",
    "\n",
    "    y = np.array(row)\n",
    "    X = np.array(range(0, len(y)))\n",
    "\n",
    "    # print(y)\n",
    "    # print(X)\n",
    "    vals_to_interpolate = []\n",
    "    for j, val in enumerate(y[:]):\n",
    "        if math.isnan(val):\n",
    "            vals_to_interpolate.append(j)\n",
    "    y = np.delete(y, vals_to_interpolate)\n",
    "    X = np.delete(X, vals_to_interpolate)\n",
    "    X.shape = [len(X), 1]\n",
    "    # print(X.shape)\n",
    "    # print(y.shape)\n",
    "    r2_scores = []\n",
    "    for degree in range(2, 20):\n",
    "        poly_reg = PolynomialFeatures(degree=degree)\n",
    "        X_poly = poly_reg.fit_transform(X)\n",
    "        pol_reg = LinearRegression()\n",
    "        pol_reg.fit(X_poly, y)\n",
    "        r2_scores.append(r2_score(y, pol_reg.predict(poly_reg.fit_transform(X))))\n",
    "\n",
    "    best_degree = (r2_scores.index(max(r2_scores)) + 2)\n",
    "    poly_reg = PolynomialFeatures(degree=best_degree)\n",
    "    X_poly = poly_reg.fit_transform(X)\n",
    "    pol_reg = LinearRegression()\n",
    "    pol_reg.fit(X_poly, y)\n",
    "\n",
    "    interpolated_values = []\n",
    "    for val in vals_to_interpolate:\n",
    "        interpolated_values.append(pol_reg.predict(poly_reg.fit_transform([[val]]))[0])\n",
    "\n",
    "    for j, val in enumerate(interpolated_values):\n",
    "        y = np.insert(y, vals_to_interpolate[j], val)\n",
    "\n",
    "    return pd.Series(y)\n",
    "\n"
   ],
   "metadata": {
    "collapsed": false,
    "pycharm": {
     "name": "#%%\n"
    }
   }
  },
  {
   "cell_type": "code",
   "execution_count": 111,
   "outputs": [
    {
     "name": "stdout",
     "output_type": "stream",
     "text": [
      "608\n",
      "Dropping row 39 which is missing 0.8084% of the values\n",
      "Dropping row 129 which is missing 0.9626% of the values\n",
      "Dropping row 207 which is missing 0.9907% of the values\n",
      "Dropping row 208 which is missing 0.8598% of the values\n",
      "Dropping row 237 which is missing 0.8598% of the values\n",
      "Dropping row 238 which is missing 0.9673% of the values\n",
      "Dropping row 286 which is missing 0.8551% of the values\n",
      "Dropping row 374 which is missing 0.8598% of the values\n",
      "Dropping row 416 which is missing 0.9626% of the values\n",
      "Dropping row 438 which is missing 0.8598% of the values\n",
      "Dropping row 461 which is missing 0.8879% of the values\n",
      "Dropping row 478 which is missing 0.9159% of the values\n",
      "Dataset valid and cleared for interpolation\n"
     ]
    }
   ],
   "source": [
    "\n",
    "processes_dataset = pd.read_csv(\n",
    "    f'../../kornmo-data-files/raw-data/weather-data/processed/{weather_type}/{weather_type}_processed_{start_date}_to_{end_date}.csv'\n",
    ")\n",
    "\n",
    "print(len(processes_dataset))\n",
    "\n",
    "\n",
    "for index, row in processes_dataset.iterrows():\n",
    "    row = row.filter(regex=\"day_.*\")\n",
    "    missing = row.isna().sum().sum()\n",
    "    coverage = missing / MEASUREMENT_DAYS\n",
    "\n",
    "    if (row == 0).sum() + missing == MEASUREMENT_DAYS:\n",
    "        processes_dataset.drop([index], inplace=True)\n",
    "        placeholder = 0\n",
    "\n",
    "    elif coverage >= ACCEPTABLE_MISSING_PERCENTAGE:\n",
    "        print(f\"Dropping row {index} which is missing {round(coverage, 4)}% of the values\")\n",
    "        processes_dataset.drop([index], inplace=True)\n",
    "\n",
    "    elif missing != 0:\n",
    "\n",
    "        row.reset_index(drop=True, inplace=True)\n",
    "\n",
    "        interpolated_row = interpolate(row)\n",
    "\n",
    "        for i in range(MEASUREMENT_DAYS):\n",
    "            processes_dataset.loc[index, f'day_{i}'] = interpolated_row[i]\n",
    "\n",
    "if processes_dataset.isna().sum().sum() != 0:\n",
    "    print(len(processes_dataset))\n",
    "    print(f\"There are {processes_dataset.isna().sum().sum()} NaN values in the dataset\")\n",
    "    print(processes_dataset.isna().sum())\n",
    "else:\n",
    "    processes_dataset.reset_index(drop=True, inplace=True)\n",
    "    processes_dataset.to_csv(\n",
    "        f'../../kornmo-data-files/raw-data/weather-data/cleaned/{weather_type}/{weather_type}_processed_{start_date}_to_{end_date}.csv'\n",
    "    )\n",
    "    print(f\"Dataset valid and cleared for interpolation\")"
   ],
   "metadata": {
    "collapsed": false,
    "pycharm": {
     "name": "#%%\n"
    }
   }
  },
  {
   "cell_type": "code",
   "execution_count": 40,
   "outputs": [],
   "source": [],
   "metadata": {
    "collapsed": false,
    "pycharm": {
     "name": "#%%\n"
    }
   }
  },
  {
   "cell_type": "code",
   "execution_count": null,
   "outputs": [],
   "source": [],
   "metadata": {
    "collapsed": false,
    "pycharm": {
     "name": "#%%\n"
    }
   }
  }
 ],
 "metadata": {
  "kernelspec": {
   "display_name": "Python 3",
   "language": "python",
   "name": "python3"
  },
  "language_info": {
   "codemirror_mode": {
    "name": "ipython",
    "version": 2
   },
   "file_extension": ".py",
   "mimetype": "text/x-python",
   "name": "python",
   "nbconvert_exporter": "python",
   "pygments_lexer": "ipython2",
   "version": "2.7.6"
  }
 },
 "nbformat": 4,
 "nbformat_minor": 0
}