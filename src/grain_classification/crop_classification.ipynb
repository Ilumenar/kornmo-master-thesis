{
 "cells": [
  {
   "cell_type": "code",
   "execution_count": 1,
   "metadata": {
    "collapsed": true,
    "pycharm": {
     "name": "#%%\n"
    }
   },
   "outputs": [],
   "source": [
    "import geopandas as gpd\n",
    "import matplotlib.pyplot as plt\n",
    "import numpy as np\n",
    "import pandas as pd\n",
    "import h5py\n",
    "import tensorflow as tf\n",
    "import os\n",
    "\n",
    "from sentinel.storage import SentinelDataset, SentinelDatasetIterator\n",
    "from mask.mask_dataset import MaskDataset, MaskDatasetIterator\n",
    "from mask.utils import apply_mask_to_image_series\n",
    "\n",
    "\n",
    "data_path = '../../kornmo-data-files/raw-data/crop-classification-data/'"
   ]
  },
  {
   "cell_type": "code",
   "execution_count": 2,
   "outputs": [
    {
     "name": "stdout",
     "output_type": "stream",
     "text": [
      "Reading data\n",
      "Reading masks\n",
      "Reading satellite images\n"
     ]
    }
   ],
   "source": [
    "print(\"Reading data\")\n",
    "data = gpd.read_file(f\"{data_path}/training_data.gpkg\")\n",
    "data['orgnr'] = data['orgnr'].astype(int)\n",
    "data['year'] = data['year'].astype(int)\n",
    "\n",
    "print(\"Reading masks\")\n",
    "masks = MaskDataset(f\"{data_path}/train_data_masks.h5\")\n",
    "\n",
    "print(\"Reading satellite images\")\n",
    "satellite_imgs = SentinelDataset('E:/MasterThesisData/Satellite_Images/satellite_images_train.h5')\n",
    "\n"
   ],
   "metadata": {
    "collapsed": false,
    "pycharm": {
     "name": "#%%\n"
    }
   }
  },
  {
   "cell_type": "code",
   "execution_count": 3,
   "outputs": [
    {
     "name": "stdout",
     "output_type": "stream",
     "text": [
      "bygg     126957\n",
      "havre     32227\n",
      "hvete     29149\n",
      "dtype: int64\n"
     ]
    }
   ],
   "source": [
    "data = data.loc[data['planted'] != 'erter']\n",
    "data = data.loc[data['planted'] != 'rughvete']\n",
    "data = data.loc[data['planted'] != 'oljefro']\n",
    "data = data.loc[data['planted'] != 'rug']\n",
    "print(pd.Series(list(data['planted'])).value_counts())\n",
    "labels = list(set(data['planted']))\n",
    "\n",
    "def add_labels(orgnr, year, data_arg):\n",
    "    orgnr = int(orgnr)\n",
    "    year = int(year)\n",
    "    if orgnr in data['orgnr'].unique() and year in data.loc[data['orgnr'] == orgnr]['year'].unique():\n",
    "        label = data.loc[data['orgnr'] == orgnr].loc[data['year'] == year]['planted'].iloc[0]\n",
    "        index = labels.index(label)\n",
    "        arr = [0 for _ in range(0, len(labels))]\n",
    "        arr[index] = 1\n",
    "        return {'class': arr}\n",
    "    else:\n",
    "        return []"
   ],
   "metadata": {
    "collapsed": false,
    "pycharm": {
     "name": "#%%\n"
    }
   }
  },
  {
   "cell_type": "code",
   "execution_count": 4,
   "outputs": [
    {
     "name": "stderr",
     "output_type": "stream",
     "text": [
      "100%|██████████| 7844/7844 [00:40<00:00, 192.46it/s]\n",
      "100%|██████████| 1961/1961 [00:10<00:00, 185.19it/s]\n"
     ]
    },
    {
     "name": "stdout",
     "output_type": "stream",
     "text": [
      "train samples: 7737\n",
      "val samples: 1937\n"
     ]
    }
   ],
   "source": [
    "train, val = satellite_imgs.to_iterator().split(rand_seed='corn')\n",
    "train = train.with_data(add_labels, show_progress=True)\n",
    "val = val.with_data(add_labels, show_progress=True)\n",
    "masks_it = masks.get_iterator()\n",
    "mask_dict = {}\n",
    "\n",
    "for orgnr, year, mask in masks_it:\n",
    "    mask_dict[f'{orgnr}/{year}'] = mask\n",
    "\n",
    "\n",
    "train = train.filter(lambda orgnr, year, _,__: f\"{orgnr}/{year}\" in mask_dict)\n",
    "val = val.filter(lambda orgnr, year, _,__: f\"{orgnr}/{year}\" in mask_dict)\n",
    "\n",
    "print(f\"train samples: {len(train)}\")\n",
    "print(f\"val samples: {len(val)}\")\\\n"
   ],
   "metadata": {
    "collapsed": false,
    "pycharm": {
     "name": "#%%\n"
    }
   }
  },
  {
   "cell_type": "code",
   "execution_count": 5,
   "outputs": [],
   "source": [
    "#import random\n",
    "\n",
    "def apply_mask(orgnr, year, imgs):\n",
    "    mask = mask_dict[f'{orgnr}/{year}']\n",
    "    return apply_mask_to_image_series(mask, imgs)\n",
    "\n",
    "def apply_output(orgnr, year, img_source, data):\n",
    "    label = data['class']\n",
    "    #num = random.randint(0, 29)\n",
    "    return {\"cnn_input\": img_source[0:30]}, label"
   ],
   "metadata": {
    "collapsed": false,
    "pycharm": {
     "name": "#%%\n"
    }
   }
  },
  {
   "cell_type": "code",
   "execution_count": 6,
   "outputs": [
    {
     "name": "stdout",
     "output_type": "stream",
     "text": [
      "training samples: 7737\n",
      "Validation samples: 1937\n"
     ]
    }
   ],
   "source": [
    "from tensorflow.python.data.experimental import assert_cardinality\n",
    "\n",
    "train_dataset = tf.data.Dataset.from_generator(\n",
    "    train.transform(apply_mask).apply(apply_output).shuffled(),\n",
    "    output_types=({'cnn_input': tf.dtypes.float64}, tf.dtypes.int64)\n",
    ").apply(assert_cardinality(len(train)))\n",
    "\n",
    "val_dataset = tf.data.Dataset.from_generator(\n",
    "    val.transform(apply_mask).apply(apply_output).shuffled(),\n",
    "    output_types=({'cnn_input': tf.dtypes.float64}, tf.dtypes.int64)\n",
    ").apply(assert_cardinality(len(val)))\n",
    "\n",
    "print(f\"training samples: {len(train_dataset)}\")\n",
    "print(f\"Validation samples: {len(val_dataset)}\")"
   ],
   "metadata": {
    "collapsed": false,
    "pycharm": {
     "name": "#%%\n"
    }
   }
  },
  {
   "cell_type": "code",
   "execution_count": 9,
   "outputs": [
    {
     "name": "stdout",
     "output_type": "stream",
     "text": [
      "{0: 0.49447975823835366, 1: 1.9479835748492464, 2: 2.1536816586046403}\n"
     ]
    }
   ],
   "source": [
    "from sklearn.utils import class_weight\n",
    "\n",
    "classes = list(data['planted'])\n",
    "\n",
    "class_weights = class_weight.compute_class_weight(class_weight='balanced', classes=np.unique(classes), y=classes)\n",
    "class_weights = dict(zip(np.array([0, 1, 2]), class_weights))\n",
    "\n",
    "print(class_weights)"
   ],
   "metadata": {
    "collapsed": false,
    "pycharm": {
     "name": "#%%\n"
    }
   }
  },
  {
   "cell_type": "code",
   "execution_count": 20,
   "outputs": [],
   "source": [
    "from keras import layers, models\n",
    "\n",
    "\n",
    "def cnn(input_dim, output_dim):\n",
    "    input_layer = layers.Input(shape=input_dim)\n",
    "    y = layers.Conv2D(16, (3, 3), activation=tf.nn.relu, padding='same')(input_layer)\n",
    "    y = layers.MaxPool2D((2, 2))(y)\n",
    "    y = layers.Conv2D(32, (3, 3), activation=tf.nn.relu, padding='same')(y)\n",
    "    y = layers.MaxPool2D((2, 2))(y)\n",
    "    y = layers.Conv2D(64, (3, 3), activation=tf.nn.relu, padding='same')(y)\n",
    "    y = layers.MaxPool2D((2, 2))(y)\n",
    "    y = layers.Flatten()(y)\n",
    "    y = layers.Dense(output_dim, activation=tf.nn.relu)(y)\n",
    "    return models.Model(inputs=[input_layer], outputs=[y], name=\"SingleImageCNN\")"
   ],
   "metadata": {
    "collapsed": false,
    "pycharm": {
     "name": "#%%\n"
    }
   }
  },
  {
   "cell_type": "code",
   "execution_count": 21,
   "outputs": [
    {
     "name": "stdout",
     "output_type": "stream",
     "text": [
      "Model: \"CNN\"\n",
      "_________________________________________________________________\n",
      " Layer (type)                Output Shape              Param #   \n",
      "=================================================================\n",
      " cnn_input (InputLayer)      [(None, 30, 100, 100, 12  0         \n",
      "                             )]                                  \n",
      "                                                                 \n",
      " time_distributed_3 (TimeDis  (None, 30, 64)           614768    \n",
      " tributed)                                                       \n",
      "                                                                 \n",
      " gru_3 (GRU)                 (None, 64)                24960     \n",
      "                                                                 \n",
      " flatten_7 (Flatten)         (None, 64)                0         \n",
      "                                                                 \n",
      " dense_10 (Dense)            (None, 128)               8320      \n",
      "                                                                 \n",
      " dense_11 (Dense)            (None, 3)                 387       \n",
      "                                                                 \n",
      "=================================================================\n",
      "Total params: 648,435\n",
      "Trainable params: 648,435\n",
      "Non-trainable params: 0\n",
      "_________________________________________________________________\n",
      "None\n",
      "Epoch 1/20\n",
      "242/242 [==============================] - ETA: 0s - loss: 0.9349 - categorical_accuracy: 0.5931\n",
      "Epoch 1: val_loss improved from inf to 0.93920, saving model to ./training\\classification_model.h5\n",
      "242/242 [==============================] - 1020s 4s/step - loss: 0.9349 - categorical_accuracy: 0.5931 - val_loss: 0.9392 - val_categorical_accuracy: 0.5823\n",
      "Epoch 2/20\n",
      "242/242 [==============================] - ETA: 0s - loss: 0.9050 - categorical_accuracy: 0.5951\n",
      "Epoch 2: val_loss improved from 0.93920 to 0.91653, saving model to ./training\\classification_model.h5\n",
      "242/242 [==============================] - 1043s 4s/step - loss: 0.9050 - categorical_accuracy: 0.5951 - val_loss: 0.9165 - val_categorical_accuracy: 0.5808\n",
      "Epoch 3/20\n",
      "242/242 [==============================] - ETA: 0s - loss: 0.8791 - categorical_accuracy: 0.6026\n",
      "Epoch 3: val_loss improved from 0.91653 to 0.89286, saving model to ./training\\classification_model.h5\n",
      "242/242 [==============================] - 1011s 4s/step - loss: 0.8791 - categorical_accuracy: 0.6026 - val_loss: 0.8929 - val_categorical_accuracy: 0.5860\n",
      "Epoch 4/20\n",
      "242/242 [==============================] - ETA: 0s - loss: 0.8361 - categorical_accuracy: 0.6179\n",
      "Epoch 4: val_loss improved from 0.89286 to 0.84820, saving model to ./training\\classification_model.h5\n",
      "242/242 [==============================] - 1105s 5s/step - loss: 0.8361 - categorical_accuracy: 0.6179 - val_loss: 0.8482 - val_categorical_accuracy: 0.5937\n",
      "Epoch 5/20\n",
      "242/242 [==============================] - ETA: 0s - loss: 0.7955 - categorical_accuracy: 0.6298\n",
      "Epoch 5: val_loss did not improve from 0.84820\n",
      "242/242 [==============================] - 1123s 5s/step - loss: 0.7955 - categorical_accuracy: 0.6298 - val_loss: 0.8490 - val_categorical_accuracy: 0.5989\n",
      "Epoch 6/20\n",
      "242/242 [==============================] - ETA: 0s - loss: 0.7491 - categorical_accuracy: 0.6629\n",
      "Epoch 6: val_loss did not improve from 0.84820\n",
      "242/242 [==============================] - 1090s 5s/step - loss: 0.7491 - categorical_accuracy: 0.6629 - val_loss: 0.8753 - val_categorical_accuracy: 0.6040\n",
      "Epoch 7/20\n",
      "242/242 [==============================] - ETA: 0s - loss: 0.6968 - categorical_accuracy: 0.6824\n",
      "Epoch 7: val_loss did not improve from 0.84820\n",
      "242/242 [==============================] - 1064s 4s/step - loss: 0.6968 - categorical_accuracy: 0.6824 - val_loss: 0.9335 - val_categorical_accuracy: 0.5684\n",
      "Epoch 8/20\n",
      "242/242 [==============================] - ETA: 0s - loss: 0.6341 - categorical_accuracy: 0.7199\n",
      "Epoch 8: val_loss did not improve from 0.84820\n",
      "242/242 [==============================] - 1103s 5s/step - loss: 0.6341 - categorical_accuracy: 0.7199 - val_loss: 0.9090 - val_categorical_accuracy: 0.6004\n",
      "Epoch 9/20\n",
      "242/242 [==============================] - ETA: 0s - loss: 0.5807 - categorical_accuracy: 0.7449\n",
      "Epoch 9: val_loss did not improve from 0.84820\n",
      "242/242 [==============================] - 1008s 4s/step - loss: 0.5807 - categorical_accuracy: 0.7449 - val_loss: 0.9724 - val_categorical_accuracy: 0.6076\n",
      "Epoch 10/20\n",
      "242/242 [==============================] - ETA: 0s - loss: 0.5095 - categorical_accuracy: 0.7836\n",
      "Epoch 10: val_loss did not improve from 0.84820\n",
      "242/242 [==============================] - 1063s 4s/step - loss: 0.5095 - categorical_accuracy: 0.7836 - val_loss: 1.1341 - val_categorical_accuracy: 0.6138\n",
      "Epoch 11/20\n",
      "242/242 [==============================] - ETA: 0s - loss: 0.4545 - categorical_accuracy: 0.8044\n",
      "Epoch 11: val_loss did not improve from 0.84820\n",
      "242/242 [==============================] - 1076s 4s/step - loss: 0.4545 - categorical_accuracy: 0.8044 - val_loss: 1.0509 - val_categorical_accuracy: 0.5968\n",
      "Epoch 12/20\n",
      "242/242 [==============================] - ETA: 0s - loss: 0.3890 - categorical_accuracy: 0.8381\n",
      "Epoch 12: val_loss did not improve from 0.84820\n",
      "242/242 [==============================] - 1049s 4s/step - loss: 0.3890 - categorical_accuracy: 0.8381 - val_loss: 1.2535 - val_categorical_accuracy: 0.6102\n",
      "Epoch 13/20\n",
      "242/242 [==============================] - ETA: 0s - loss: 0.3476 - categorical_accuracy: 0.8582\n",
      "Epoch 13: val_loss did not improve from 0.84820\n",
      "242/242 [==============================] - 1019s 4s/step - loss: 0.3476 - categorical_accuracy: 0.8582 - val_loss: 1.3274 - val_categorical_accuracy: 0.6102\n",
      "Epoch 14/20\n",
      "242/242 [==============================] - ETA: 0s - loss: 0.3104 - categorical_accuracy: 0.8741\n",
      "Epoch 14: val_loss did not improve from 0.84820\n",
      "242/242 [==============================] - 1011s 4s/step - loss: 0.3104 - categorical_accuracy: 0.8741 - val_loss: 1.4733 - val_categorical_accuracy: 0.5953\n",
      "Epoch 15/20\n",
      "242/242 [==============================] - ETA: 0s - loss: 0.2663 - categorical_accuracy: 0.8877\n",
      "Epoch 15: val_loss did not improve from 0.84820\n",
      "242/242 [==============================] - 1013s 4s/step - loss: 0.2663 - categorical_accuracy: 0.8877 - val_loss: 1.5321 - val_categorical_accuracy: 0.6087\n",
      "Epoch 16/20\n",
      "242/242 [==============================] - ETA: 0s - loss: 0.2720 - categorical_accuracy: 0.8896\n",
      "Epoch 16: val_loss did not improve from 0.84820\n",
      "242/242 [==============================] - 984s 4s/step - loss: 0.2720 - categorical_accuracy: 0.8896 - val_loss: 1.5895 - val_categorical_accuracy: 0.5983\n",
      "Epoch 17/20\n",
      "242/242 [==============================] - ETA: 0s - loss: 0.2161 - categorical_accuracy: 0.9150\n",
      "Epoch 17: val_loss did not improve from 0.84820\n",
      "242/242 [==============================] - 1032s 4s/step - loss: 0.2161 - categorical_accuracy: 0.9150 - val_loss: 1.6733 - val_categorical_accuracy: 0.5901\n",
      "Epoch 18/20\n",
      "242/242 [==============================] - ETA: 0s - loss: 0.2060 - categorical_accuracy: 0.9179\n",
      "Epoch 18: val_loss did not improve from 0.84820\n",
      "242/242 [==============================] - 1027s 4s/step - loss: 0.2060 - categorical_accuracy: 0.9179 - val_loss: 1.8084 - val_categorical_accuracy: 0.6082\n",
      "Epoch 19/20\n",
      "242/242 [==============================] - ETA: 0s - loss: 0.1849 - categorical_accuracy: 0.9271\n",
      "Epoch 19: val_loss did not improve from 0.84820\n",
      "242/242 [==============================] - 1004s 4s/step - loss: 0.1849 - categorical_accuracy: 0.9271 - val_loss: 1.8661 - val_categorical_accuracy: 0.6200\n",
      "Epoch 20/20\n",
      "242/242 [==============================] - ETA: 0s - loss: 0.1825 - categorical_accuracy: 0.9261\n",
      "Epoch 20: val_loss did not improve from 0.84820\n",
      "242/242 [==============================] - 1019s 4s/step - loss: 0.1825 - categorical_accuracy: 0.9261 - val_loss: 1.8908 - val_categorical_accuracy: 0.6045\n"
     ]
    }
   ],
   "source": [
    "from keras.models import load_model\n",
    "from tensorflow import optimizers, keras\n",
    "\n",
    "\n",
    "model_checkpoint = keras.callbacks.ModelCheckpoint(\n",
    "    './training/classification_model.h5',\n",
    "    monitor=\"val_loss\",\n",
    "    verbose=1,\n",
    "    mode=\"min\",\n",
    "    save_best_only=True,\n",
    "    save_weights_only=True,\n",
    ")\n",
    "\n",
    "callbacks = [model_checkpoint]\n",
    "\n",
    "restart = True\n",
    "if restart:\n",
    "    cnn_net = cnn(input_dim=(100, 100, 12), output_dim=64)\n",
    "    input_cnn = layers.Input(shape=(30, 100, 100, 12), name=\"cnn_input\")\n",
    "\n",
    "    cnn = layers.TimeDistributed(cnn_net, input_shape=(30, 100, 100, 12))(input_cnn)\n",
    "    cnn = layers.GRU(64, return_sequences=False)(cnn)\n",
    "    cnn = layers.Flatten()(cnn)\n",
    "    cnn = layers.Dense(128)(cnn)\n",
    "    cnn = layers.Dense(3, activation='softmax')(cnn)\n",
    "\n",
    "    cnn = models.Model(inputs=[input_cnn], outputs=cnn, name=\"CNN\")\n",
    "\n",
    "    cnn.compile(\n",
    "        optimizer=optimizers.Adam(),\n",
    "        loss=tf.keras.losses.CategoricalCrossentropy(),\n",
    "        metrics=['categorical_accuracy']\n",
    "    )\n",
    "\n",
    "    print(cnn.summary())\n",
    "\n",
    "\n",
    "    cnn_history = cnn.fit(\n",
    "            train_dataset.take(10000).batch(32).prefetch(2),\n",
    "            validation_data=val_dataset.batch(32).prefetch(2),\n",
    "            epochs=20,\n",
    "            verbose=1,\n",
    "            callbacks=callbacks,\n",
    "            # class_weight=class_weights\n",
    "    )\n",
    "else:\n",
    "    cnn_net = load_model('./training/classification_model.h5')\n",
    "    cnn_net.compile(\n",
    "        optimizer=optimizers.Adam(),\n",
    "        loss=tf.keras.losses.CategoricalCrossentropy(),\n",
    "        metrics=['categorical_accuracy']\n",
    "    )\n",
    "    cnn_history = cnn_net.fit(\n",
    "        train_dataset.take(10000).batch(32).prefetch(2),\n",
    "        validation_data=val_dataset.batch(32).prefetch(2),\n",
    "        epochs=10,\n",
    "        verbose=1,\n",
    "        callbacks=callbacks\n",
    "    )"
   ],
   "metadata": {
    "collapsed": false,
    "pycharm": {
     "name": "#%%\n"
    }
   }
  },
  {
   "cell_type": "code",
   "execution_count": 30,
   "outputs": [
    {
     "data": {
      "text/plain": "<Figure size 432x288 with 1 Axes>",
      "image/png": "[encoded data removed]"
     },
     "metadata": {
      "needs_background": "light"
     },
     "output_type": "display_data"
    }
   ],
   "source": [
    "import matplotlib.pyplot as plt\n",
    "\n",
    "acc=cnn_history.history['categorical_accuracy']\n",
    "val_acc=cnn_history.history['val_categorical_accuracy']\n",
    "loss=cnn_history.history['loss']\n",
    "val_loss=cnn_history.history['val_loss']\n",
    "\n",
    "plt.plot(loss, label='Train_loss')\n",
    "plt.plot(val_loss, label='Val_loss')\n",
    "plt.plot(acc, label='Train_loss')\n",
    "plt.plot(val_acc, label='Val_loss')\n",
    "plt.legend()\n",
    "plt.savefig('classification_param_change.svg')\n",
    "plt.show()"
   ],
   "metadata": {
    "collapsed": false,
    "pycharm": {
     "name": "#%%\n"
    }
   }
  }
 ],
 "metadata": {
  "kernelspec": {
   "display_name": "Python 3",
   "language": "python",
   "name": "python3"
  },
  "language_info": {
   "codemirror_mode": {
    "name": "ipython",
    "version": 2
   },
   "file_extension": ".py",
   "mimetype": "text/x-python",
   "name": "python",
   "nbconvert_exporter": "python",
   "pygments_lexer": "ipython2",
   "version": "2.7.6"
  }
 },
 "nbformat": 4,
 "nbformat_minor": 0
}