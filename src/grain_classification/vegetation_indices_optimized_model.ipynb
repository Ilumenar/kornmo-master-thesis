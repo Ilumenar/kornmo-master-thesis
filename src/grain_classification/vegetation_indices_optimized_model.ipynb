{
 "cells": [
  {
   "cell_type": "code",
   "execution_count": null,
   "metadata": {
    "id": "e27EH4QXo3xa",
    "pycharm": {
     "name": "#%%\n"
    }
   },
   "outputs": [],
   "source": [
    "from keras.layers import TimeDistributed, GRU, Dense, Dropout\n",
    "from keras.layers import Conv2D, BatchNormalization, GlobalMaxPool2D\n",
    "from keras import Sequential\n",
    "\n",
    "import geopandas as gpd\n",
    "import matplotlib.pyplot as plt\n",
    "import pandas as pd\n",
    "import tensorflow as tf\n",
    "\n",
    "\n",
    "from kornmo.sentinel.storage import SentinelDataset\n",
    "from kornmo.mask.mask_dataset import MaskDataset\n",
    "from kornmo.mask.utils import apply_mask_to_image_series\n",
    "\n",
    "\n",
    "data_path = 'data'\n",
    "IMG_SIZE = 16\n",
    "NUM_IMGS = 30\n",
    "NUM_INDICES = 10\n",
    "runtime_name = \"all-indices-0-30-five-types-no-mask-optimized\"\n"
   ]
  },
  {
   "cell_type": "code",
   "execution_count": null,
   "metadata": {
    "colab": {
     "base_uri": "https://localhost:8080/"
    },
    "id": "BWzlnbnFrqNr",
    "outputId": "21635e27-d79c-44e5-a482-2297625babbf",
    "pycharm": {
     "name": "#%%\n"
    }
   },
   "outputs": [],
   "source": [
    "\n",
    "print(\"Reading data\")\n",
    "data = gpd.read_file(f\"{data_path}/training_data.gpkg\")\n",
    "data['orgnr'] = data['orgnr'].astype(int)\n",
    "data['year'] = data['year'].astype(int)\n",
    "\n",
    "print(\"Reading masks\")\n",
    "masks = MaskDataset(f\"{data_path}/mask/field_based_vegetation_indices_masks_16x16.h5\")\n",
    "\n",
    "print(\"Reading satellite images\")\n",
    "satellite_imgs = SentinelDataset(f\"{data_path}/sentinelhub/field_based_images/field_based_vegetation_indices_16x16.h5\")\n",
    "\n",
    "print(f\"Loaded {len(masks.labels)} masks\")\n",
    "print(f\"Loaded {len(satellite_imgs.labels) * NUM_IMGS} images\")\n",
    "\n",
    "\n",
    "\n",
    "data = data.loc[data['planted'] != 'erter']\n",
    "data = data.loc[data['planted'] != 'oljefro']\n",
    "# data = data.loc[data['planted'] != 'rughvete']\n",
    "# data = data.loc[data['planted'] != 'rug']\n",
    "\n",
    "data.drop(data[data['area'] < 1500].index, inplace = True)\n",
    "\n",
    "\n",
    "\n",
    "labels = list(set(data['planted']))\n",
    "n_classes = len(labels)\n",
    "\n",
    "print(pd.Series(list(data['planted'])).value_counts())\n",
    "\n",
    "def add_labels(orgnr, year, data_arg):\n",
    "    orgnr = int(orgnr[:9])\n",
    "    year = int(year)\n",
    "\n",
    "    if orgnr in data['orgnr'].unique() and year in data.loc[data['orgnr'] == orgnr]['year'].unique():\n",
    "        label = data.loc[data['orgnr'] == orgnr].loc[data['year'] == year]['planted'].iloc[0]\n",
    "        index = labels.index(label)\n",
    "        arr = [0 for _ in range(0, len(labels))]\n",
    "        arr[index] = 1\n",
    "        return {'class': arr}\n",
    "\n",
    "\n",
    "\n",
    "\n",
    "train, val = satellite_imgs.to_iterator().split(rand_seed='corn')\n",
    "train = train.with_data(add_labels, show_progress=True)\n",
    "val = val.with_data(add_labels, show_progress=True)\n",
    "\n",
    "masks_it = masks.get_iterator()\n",
    "mask_dict = {}\n",
    "\n",
    "for orgnr, year, mask in masks_it:\n",
    "    mask_dict[f'{orgnr}/{year}'] = mask\n",
    "\n",
    "print(f\"train samples: {len(train)}\")\n",
    "print(f\"val samples: {len(val)}\")\n"
   ]
  },
  {
   "cell_type": "code",
   "execution_count": null,
   "metadata": {
    "id": "9HwBK1ZxsXM9",
    "pycharm": {
     "name": "#%%\n"
    }
   },
   "outputs": [],
   "source": [
    "\n",
    "def train_generator():\n",
    "    for orgnr, year, imgs, label in train:\n",
    "        imgs = apply_mask_to_image_series(mask_dict[f'{orgnr}/{year}'], imgs[5:20], image_size=IMG_SIZE)\n",
    "        # imgs = apply_mask_to_image_series(mask_dict[f'{orgnr}/{year}'], imgs[9:15, :, :, [1, 6, 7, 8]], image_size=IMG_SIZE)\n",
    "        yield imgs[5:20], label['class']\n",
    "\n",
    "def val_generator():\n",
    "    for orgnr, year, imgs, label in val:\n",
    "        imgs = apply_mask_to_image_series(mask_dict[f'{orgnr}/{year}'], imgs[5:20], image_size=IMG_SIZE)\n",
    "        # imgs = apply_mask_to_image_series(mask_dict[f'{orgnr}/{year}'], imgs[9:15, :, :, [1, 6, 7, 8]], image_size=IMG_SIZE)\n",
    "        yield imgs[5:20], label['class']\n",
    "\n",
    "\n",
    "train_dataset = tf.data.Dataset.from_generator(\n",
    "    train_generator,\n",
    "    output_types=(tf.dtypes.float64, tf.dtypes.int64),\n",
    "    output_shapes=((NUM_IMGS, IMG_SIZE, IMG_SIZE, NUM_INDICES), n_classes)\n",
    ")\n",
    "\n",
    "val_dataset = tf.data.Dataset.from_generator(\n",
    "    val_generator,\n",
    "    output_types=(tf.dtypes.float64, tf.dtypes.int64),\n",
    "    output_shapes=((NUM_IMGS, IMG_SIZE, IMG_SIZE, NUM_INDICES), n_classes)\n",
    ")\n",
    "\n"
   ]
  },
  {
   "cell_type": "code",
   "execution_count": null,
   "metadata": {
    "id": "19V4sjwW3EAt",
    "pycharm": {
     "name": "#%%\n"
    }
   },
   "outputs": [],
   "source": [
    "\n",
    "def build_convnet(shape=(IMG_SIZE, IMG_SIZE, NUM_INDICES)):\n",
    "    momentum = 0.9\n",
    "    model = Sequential()\n",
    "    model.add(Conv2D(16, (3,3), input_shape=shape, padding='same', activation='relu'))\n",
    "    model.add(Conv2D(16, (3,3), padding='same', activation='relu'))\n",
    "    model.add(BatchNormalization(momentum=momentum))\n",
    "\n",
    "    model.add(GlobalMaxPool2D())\n",
    "    return model\n",
    "\n",
    "\n",
    "\n",
    "def action_model(shape=(NUM_IMGS, IMG_SIZE, IMG_SIZE, NUM_INDICES,), n_classes=n_classes):\n",
    "    convnet = build_convnet(shape[1:])\n",
    "\n",
    "    model = Sequential()\n",
    "\n",
    "    model.add(TimeDistributed(convnet, input_shape=shape))\n",
    "    model.add(GRU(12))\n",
    "\n",
    "    model.add(Dense(32, activation='relu'))\n",
    "    model.add(Dropout(0.5))\n",
    "    # model.add(Dense(32, activation='relu'))\n",
    "    model.add(Dense(n_classes, activation='softmax'))\n",
    "    return model\n"
   ]
  },
  {
   "cell_type": "code",
   "execution_count": null,
   "metadata": {
    "id": "JeFhwziku3Yw",
    "pycharm": {
     "name": "#%%\n"
    }
   },
   "outputs": [],
   "source": [
    "\n",
    "model = action_model(shape=(NUM_IMGS, IMG_SIZE, IMG_SIZE, NUM_INDICES,))\n",
    "optimizer = tf.keras.optimizers.Adam(learning_rate=0.0001)\n",
    "model.compile(optimizer=optimizer, loss='categorical_crossentropy', metrics=['acc'])\n",
    "\n",
    "cnn_history = model.fit(\n",
    "        train_dataset.take(10000).batch(32).prefetch(4),\n",
    "        validation_data=val_dataset.batch(32).prefetch(4),\n",
    "        epochs=100,\n",
    "        verbose=1,\n",
    ")\n",
    "\n",
    "\n",
    "fig, ax = plt.subplots(figsize=(20, 4))\n",
    "\n",
    "ax.plot(model.history.history[\"acc\"])\n",
    "ax.plot(model.history.history[\"loss\"])\n",
    "\n",
    "ax.plot(model.history.history[\"val_\" + \"acc\"])\n",
    "ax.plot(model.history.history[\"val_\" + \"loss\"])\n",
    "\n",
    "ax.set_title(\"Classification Accuracy and Loss\")\n",
    "ax.set_xlabel(\"Epochs\")\n",
    "ax.set_ylabel(\"Value\")\n",
    "ax.legend([\"train_acc\", \"train_loss\", \"val_acc\", \"val_loss\"])\n",
    "\n",
    "plt.show()\n",
    "\n",
    "\n"
   ]
  },
  {
   "cell_type": "code",
   "execution_count": null,
   "metadata": {
    "colab": {
     "base_uri": "https://localhost:8080/"
    },
    "id": "JvEN6sesKPgr",
    "outputId": "47c6bb01-6497-4bc4-c29d-411618df292a",
    "pycharm": {
     "name": "#%%\n"
    }
   },
   "outputs": [],
   "source": [
    "acc = model.history.history[\"acc\"]\n",
    "loss = model.history.history[\"loss\"]\n",
    "\n",
    "val_acc = model.history.history[\"val_\" + \"acc\"]\n",
    "val_loss = model.history.history[\"val_\" + \"loss\"]\n",
    "\n",
    "print(acc)\n",
    "print(loss)\n",
    "print(val_acc)\n",
    "print(val_loss)"
   ]
  },
  {
   "cell_type": "code",
   "execution_count": null,
   "metadata": {
    "colab": {
     "base_uri": "https://localhost:8080/"
    },
    "id": "c6UOphE1K0I0",
    "outputId": "5917a87d-15ef-4b1a-c34c-9ad2a3e5ddc4",
    "pycharm": {
     "name": "#%%\n"
    }
   },
   "outputs": [],
   "source": [
    "cnn_history2 = model.fit(\n",
    "        train_dataset.take(10000).batch(32).prefetch(4),\n",
    "        validation_data=val_dataset.batch(32).prefetch(4),\n",
    "        epochs=100,\n",
    "        verbose=1,\n",
    ")"
   ]
  },
  {
   "cell_type": "code",
   "execution_count": null,
   "metadata": {
    "colab": {
     "base_uri": "https://localhost:8080/",
     "height": 295
    },
    "id": "t2n37BqfJAlT",
    "outputId": "248b08ea-0f3c-4a21-9cdb-2f5aec2dcf90",
    "pycharm": {
     "name": "#%%\n"
    }
   },
   "outputs": [],
   "source": [
    "_, ax = plt.subplots(figsize=(20, 4))\n",
    "\n",
    "ax.plot(model.history.history[\"acc\"])\n",
    "ax.plot(model.history.history[\"loss\"])\n",
    "\n",
    "ax.plot(model.history.history[\"val_\" + \"acc\"])\n",
    "ax.plot(model.history.history[\"val_\" + \"loss\"])\n",
    "\n",
    "ax.set_title(\"Classification Accuracy and Loss\")\n",
    "ax.set_xlabel(\"Epochs\")\n",
    "ax.set_ylabel(\"Value\")\n",
    "ax.legend([\"train_acc\", \"train_loss\", \"val_acc\", \"val_loss\"])\n",
    "\n",
    "plt.show()"
   ]
  }
 ],
 "metadata": {
  "accelerator": "TPU",
  "colab": {
   "collapsed_sections": [],
   "name": "per field small indices classification.ipynb",
   "provenance": []
  },
  "kernelspec": {
   "display_name": "Python 3",
   "name": "python3"
  },
  "language_info": {
   "name": "python"
  }
 },
 "nbformat": 4,
 "nbformat_minor": 0
}