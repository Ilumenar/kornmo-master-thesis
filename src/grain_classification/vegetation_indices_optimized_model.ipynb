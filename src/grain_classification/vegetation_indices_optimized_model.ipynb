{
 "nbformat": 4,
 "nbformat_minor": 0,
 "metadata": {
  "colab": {
   "name": "per field small indices classification.ipynb",
   "provenance": [],
   "collapsed_sections": []
  },
  "kernelspec": {
   "name": "python3",
   "display_name": "Python 3"
  },
  "language_info": {
   "name": "python"
  },
  "accelerator": "TPU"
 },
 "cells": [
  {
   "cell_type": "code",
   "execution_count": null,
   "metadata": {
    "id": "e27EH4QXo3xa",
    "pycharm": {
     "name": "#%%\n"
    }
   },
   "outputs": [],
   "source": [
    "from keras.layers import TimeDistributed, GRU, Dense, Dropout\n",
    "from keras.layers import Conv2D, BatchNormalization, GlobalMaxPool2D\n",
    "from keras import Sequential\n",
    "\n",
    "import geopandas as gpd\n",
    "import matplotlib.pyplot as plt\n",
    "import pandas as pd\n",
    "import tensorflow as tf\n",
    "\n",
    "\n",
    "from kornmo.sentinel.storage import SentinelDataset\n",
    "from kornmo.mask.mask_dataset import MaskDataset\n",
    "from kornmo.mask.utils import apply_mask_to_image_series\n",
    "\n",
    "\n",
    "data_path = 'data'\n",
    "IMG_SIZE = 16\n",
    "NUM_IMGS = 30\n",
    "NUM_INDICES = 10\n",
    "runtime_name = \"all-indices-0-30-five-types-no-mask-optimized\"\n"
   ]
  },
  {
   "cell_type": "code",
   "source": [
    "\n",
    "print(\"Reading data\")\n",
    "data = gpd.read_file(f\"{data_path}/training_data.gpkg\")\n",
    "data['orgnr'] = data['orgnr'].astype(int)\n",
    "data['year'] = data['year'].astype(int)\n",
    "\n",
    "print(\"Reading masks\")\n",
    "masks = MaskDataset(f\"{data_path}/mask/field_based_vegetation_indices_masks_16x16.h5\")\n",
    "\n",
    "print(\"Reading satellite images\")\n",
    "satellite_imgs = SentinelDataset(f\"{data_path}/sentinelhub/field_based_images/field_based_vegetation_indices_16x16.h5\")\n",
    "\n",
    "print(f\"Loaded {len(masks.labels)} masks\")\n",
    "print(f\"Loaded {len(satellite_imgs.labels) * NUM_IMGS} images\")\n",
    "\n",
    "\n",
    "\n",
    "data = data.loc[data['planted'] != 'erter']\n",
    "data = data.loc[data['planted'] != 'oljefro']\n",
    "# data = data.loc[data['planted'] != 'rughvete']\n",
    "# data = data.loc[data['planted'] != 'rug']\n",
    "\n",
    "data.drop(data[data['area'] < 1500].index, inplace = True)\n",
    "\n",
    "\n",
    "\n",
    "labels = list(set(data['planted']))\n",
    "n_classes = len(labels)\n",
    "\n",
    "print(pd.Series(list(data['planted'])).value_counts())\n",
    "\n",
    "def add_labels(orgnr, year, data_arg):\n",
    "    orgnr = int(orgnr[:9])\n",
    "    year = int(year)\n",
    "\n",
    "    if orgnr in data['orgnr'].unique() and year in data.loc[data['orgnr'] == orgnr]['year'].unique():\n",
    "        label = data.loc[data['orgnr'] == orgnr].loc[data['year'] == year]['planted'].iloc[0]\n",
    "        index = labels.index(label)\n",
    "        arr = [0 for _ in range(0, len(labels))]\n",
    "        arr[index] = 1\n",
    "        return {'class': arr}\n",
    "\n",
    "\n",
    "\n",
    "\n",
    "train, val = satellite_imgs.to_iterator().split(rand_seed='corn')\n",
    "train = train.with_data(add_labels, show_progress=True)\n",
    "val = val.with_data(add_labels, show_progress=True)\n",
    "\n",
    "masks_it = masks.get_iterator()\n",
    "mask_dict = {}\n",
    "\n",
    "for orgnr, year, mask in masks_it:\n",
    "    mask_dict[f'{orgnr}/{year}'] = mask\n",
    "\n",
    "print(f\"train samples: {len(train)}\")\n",
    "print(f\"val samples: {len(val)}\")\n"
   ],
   "metadata": {
    "colab": {
     "base_uri": "https://localhost:8080/"
    },
    "id": "BWzlnbnFrqNr",
    "outputId": "21635e27-d79c-44e5-a482-2297625babbf",
    "pycharm": {
     "name": "#%%\n"
    }
   },
   "execution_count": null,
   "outputs": [
    {
     "output_type": "stream",
     "name": "stdout",
     "text": [
      "Reading data\n",
      "Reading satellite images\n",
      "Loaded 860790 images\n",
      "bygg        76231\n",
      "havre       20512\n",
      "hvete       18102\n",
      "rug           816\n",
      "rughvete      517\n",
      "dtype: int64\n"
     ]
    },
    {
     "output_type": "stream",
     "name": "stderr",
     "text": [
      "100%|██████████| 68863/68863 [09:47<00:00, 117.20it/s]\n",
      "100%|██████████| 17216/17216 [02:30<00:00, 114.28it/s]"
     ]
    },
    {
     "output_type": "stream",
     "name": "stdout",
     "text": [
      "train samples: 68569\n",
      "val samples: 17153\n"
     ]
    },
    {
     "output_type": "stream",
     "name": "stderr",
     "text": [
      "\n"
     ]
    }
   ]
  },
  {
   "cell_type": "code",
   "source": [
    "\n",
    "def train_generator():\n",
    "    for orgnr, year, imgs, label in train:\n",
    "        imgs = apply_mask_to_image_series(mask_dict[f'{orgnr}/{year}'], imgs[5:20], image_size=IMG_SIZE)\n",
    "        # imgs = apply_mask_to_image_series(mask_dict[f'{orgnr}/{year}'], imgs[9:15, :, :, [1, 6, 7, 8]], image_size=IMG_SIZE)\n",
    "        yield imgs[5:20], label['class']\n",
    "\n",
    "def val_generator():\n",
    "    for orgnr, year, imgs, label in val:\n",
    "        imgs = apply_mask_to_image_series(mask_dict[f'{orgnr}/{year}'], imgs[5:20], image_size=IMG_SIZE)\n",
    "        # imgs = apply_mask_to_image_series(mask_dict[f'{orgnr}/{year}'], imgs[9:15, :, :, [1, 6, 7, 8]], image_size=IMG_SIZE)\n",
    "        yield imgs[5:20], label['class']\n",
    "\n",
    "\n",
    "train_dataset = tf.data.Dataset.from_generator(\n",
    "    train_generator,\n",
    "    output_types=(tf.dtypes.float64, tf.dtypes.int64),\n",
    "    output_shapes=((NUM_IMGS, IMG_SIZE, IMG_SIZE, NUM_INDICES), n_classes)\n",
    ")\n",
    "\n",
    "val_dataset = tf.data.Dataset.from_generator(\n",
    "    val_generator,\n",
    "    output_types=(tf.dtypes.float64, tf.dtypes.int64),\n",
    "    output_shapes=((NUM_IMGS, IMG_SIZE, IMG_SIZE, NUM_INDICES), n_classes)\n",
    ")\n",
    "\n"
   ],
   "metadata": {
    "id": "9HwBK1ZxsXM9",
    "pycharm": {
     "name": "#%%\n"
    }
   },
   "execution_count": null,
   "outputs": []
  },
  {
   "cell_type": "code",
   "source": [
    "\n",
    "def build_convnet(shape=(IMG_SIZE, IMG_SIZE, NUM_INDICES)):\n",
    "    momentum = 0.9\n",
    "    model = Sequential()\n",
    "    model.add(Conv2D(16, (3,3), input_shape=shape, padding='same', activation='relu'))\n",
    "    model.add(Conv2D(16, (3,3), padding='same', activation='relu'))\n",
    "    model.add(BatchNormalization(momentum=momentum))\n",
    "\n",
    "    # model.add(MaxPool2D())\n",
    "\n",
    "    # model.add(Conv2D(32, (3,3), padding='same', activation='relu'))\n",
    "    # model.add(Conv2D(32, (3,3), padding='same', activation='relu'))\n",
    "    # model.add(BatchNormalization(momentum=momentum))\n",
    "\n",
    "    model.add(GlobalMaxPool2D())\n",
    "    return model\n",
    "\n",
    "\n",
    "\n",
    "def action_model(shape=(NUM_IMGS, IMG_SIZE, IMG_SIZE, NUM_INDICES,), n_classes=n_classes):\n",
    "    convnet = build_convnet(shape[1:])\n",
    "\n",
    "    model = Sequential()\n",
    "\n",
    "    model.add(TimeDistributed(convnet, input_shape=shape))\n",
    "    model.add(GRU(12))\n",
    "\n",
    "    model.add(Dense(32, activation='relu'))\n",
    "    model.add(Dropout(0.5))\n",
    "    # model.add(Dense(32, activation='relu'))\n",
    "    model.add(Dense(n_classes, activation='softmax'))\n",
    "    return model\n"
   ],
   "metadata": {
    "id": "19V4sjwW3EAt",
    "pycharm": {
     "name": "#%%\n"
    }
   },
   "execution_count": null,
   "outputs": []
  },
  {
   "cell_type": "code",
   "source": [
    "\n",
    "model = action_model(shape=(NUM_IMGS, IMG_SIZE, IMG_SIZE, NUM_INDICES,))\n",
    "optimizer = tf.keras.optimizers.Adam(learning_rate=0.0001)\n",
    "model.compile(optimizer=optimizer, loss='categorical_crossentropy', metrics=['acc'])\n",
    "\n",
    "cnn_history = model.fit(\n",
    "        train_dataset.take(10000).batch(32).prefetch(4),\n",
    "        validation_data=val_dataset.batch(32).prefetch(4),\n",
    "        epochs=100,\n",
    "        verbose=1,\n",
    ")\n",
    "\n",
    "\n",
    "fig, ax = plt.subplots(figsize=(20, 4))\n",
    "\n",
    "ax.plot(model.history.history[\"acc\"])\n",
    "ax.plot(model.history.history[\"loss\"])\n",
    "\n",
    "ax.plot(model.history.history[\"val_\" + \"acc\"])\n",
    "ax.plot(model.history.history[\"val_\" + \"loss\"])\n",
    "\n",
    "ax.set_title(\"Classification Accuracy and Loss\")\n",
    "ax.set_xlabel(\"Epochs\")\n",
    "ax.set_ylabel(\"Value\")\n",
    "ax.legend([\"train_acc\", \"train_loss\", \"val_acc\", \"val_loss\"])\n",
    "\n",
    "plt.show()\n",
    "\n",
    "\n"
   ],
   "metadata": {
    "id": "JeFhwziku3Yw",
    "pycharm": {
     "name": "#%%\n"
    }
   },
   "execution_count": null,
   "outputs": []
  },
  {
   "cell_type": "code",
   "source": [
    "acc = model.history.history[\"acc\"]\n",
    "loss = model.history.history[\"loss\"]\n",
    "\n",
    "val_acc = model.history.history[\"val_\" + \"acc\"]\n",
    "val_loss = model.history.history[\"val_\" + \"loss\"]\n",
    "\n",
    "print(acc)\n",
    "print(loss)\n",
    "print(val_acc)\n",
    "print(val_loss)"
   ],
   "metadata": {
    "colab": {
     "base_uri": "https://localhost:8080/"
    },
    "id": "JvEN6sesKPgr",
    "outputId": "47c6bb01-6497-4bc4-c29d-411618df292a",
    "pycharm": {
     "name": "#%%\n"
    }
   },
   "execution_count": null,
   "outputs": [
    {
     "output_type": "stream",
     "name": "stdout",
     "text": [
      "[0.6115000247955322, 0.6248000264167786, 0.6248000264167786, 0.6248000264167786, 0.6248000264167786, 0.6248000264167786, 0.6248000264167786, 0.6248000264167786, 0.6248000264167786, 0.6248000264167786, 0.6248000264167786, 0.6248000264167786, 0.6248000264167786, 0.6248000264167786, 0.6248999834060669, 0.6243000030517578, 0.625, 0.6248999834060669, 0.6256999969482422, 0.6258999705314636, 0.6259999871253967, 0.6263999938964844, 0.6261000037193298, 0.6269000172615051, 0.6298999786376953, 0.628600001335144, 0.6291000247001648, 0.6330999732017517, 0.6342999935150146, 0.6309000253677368, 0.6376000046730042, 0.6403999924659729, 0.6391000151634216, 0.6406999826431274, 0.6444000005722046, 0.6459000110626221, 0.6450999975204468, 0.6477000117301941, 0.6486999988555908, 0.6513000130653381]\n",
      "[1.0103317499160767, 0.9583053588867188, 0.9489973783493042, 0.9466026425361633, 0.9470601677894592, 0.9427862167358398, 0.9416428804397583, 0.9372899532318115, 0.9384923577308655, 0.9341193437576294, 0.9327442646026611, 0.9314478635787964, 0.9353393316268921, 0.9312608242034912, 0.9286133646965027, 0.928246021270752, 0.9239836931228638, 0.9241507649421692, 0.924391508102417, 0.9218670129776001, 0.9199463129043579, 0.9127771258354187, 0.9147526621818542, 0.9118710160255432, 0.9049818515777588, 0.9043964147567749, 0.8996680378913879, 0.8925476670265198, 0.8890693187713623, 0.893205463886261, 0.8845392465591431, 0.8783565163612366, 0.8757654428482056, 0.8708198070526123, 0.8677645325660706, 0.8606569170951843, 0.8566388487815857, 0.8567612171173096, 0.8471148610115051, 0.8425400257110596]\n",
      "[0.6351075768470764, 0.6351075768470764, 0.6351075768470764, 0.6351075768470764, 0.6351075768470764, 0.6351075768470764, 0.6351075768470764, 0.6351075768470764, 0.6351075768470764, 0.6351075768470764, 0.6351075768470764, 0.6351075768470764, 0.6351075768470764, 0.6351075768470764, 0.6351075768470764, 0.6351075768470764, 0.6350492835044861, 0.6350492835044861, 0.6352241635322571, 0.6351075768470764, 0.6352824568748474, 0.6348743438720703, 0.6353407502174377, 0.632950484752655, 0.6300355792045593, 0.6341747641563416, 0.6309683322906494, 0.6323091983795166, 0.6219320297241211, 0.630327045917511, 0.6268874406814575, 0.6290444731712341, 0.6247303485870361, 0.629977285861969, 0.6191920042037964, 0.6279367804527283, 0.625663161277771, 0.6197166442871094, 0.6200664639472961, 0.6184340715408325]\n",
      "[0.9385561347007751, 0.945473313331604, 0.9317411780357361, 0.9354921579360962, 0.9309684634208679, 0.9299283027648926, 0.9297052621841431, 0.9283044338226318, 0.9287863373756409, 0.9314613938331604, 0.9298554062843323, 0.9289563894271851, 0.9285043478012085, 0.9295095205307007, 0.927442193031311, 0.9249935746192932, 0.9279251098632812, 0.9287590980529785, 0.9266154170036316, 0.9316276907920837, 0.9246784448623657, 0.9329478144645691, 0.9373349547386169, 0.9298310279846191, 0.9319174289703369, 0.9315688610076904, 0.9381076693534851, 0.937044620513916, 0.9472395777702332, 0.9401105642318726, 0.9440229535102844, 0.9515306353569031, 0.9527154564857483, 0.9558470845222473, 0.9567573070526123, 0.9690035581588745, 0.9648732542991638, 0.9786525964736938, 0.9814921617507935, 0.9836857914924622]\n"
     ]
    }
   ]
  },
  {
   "cell_type": "code",
   "source": [
    "cnn_history2 = model.fit(\n",
    "        train_dataset.take(10000).batch(32).prefetch(4),\n",
    "        validation_data=val_dataset.batch(32).prefetch(4),\n",
    "        epochs=100,\n",
    "        verbose=1,\n",
    ")"
   ],
   "metadata": {
    "colab": {
     "base_uri": "https://localhost:8080/"
    },
    "id": "c6UOphE1K0I0",
    "outputId": "5917a87d-15ef-4b1a-c34c-9ad2a3e5ddc4",
    "pycharm": {
     "name": "#%%\n"
    }
   },
   "execution_count": null,
   "outputs": [
    {
     "output_type": "stream",
     "name": "stdout",
     "text": [
      "Epoch 1/100\n",
      "313/313 [==============================] - 343s 1s/step - loss: 0.8375 - acc: 0.6540 - val_loss: 0.9840 - val_acc: 0.6284\n",
      "Epoch 2/100\n",
      "313/313 [==============================] - 314s 1s/step - loss: 0.8334 - acc: 0.6547 - val_loss: 1.0051 - val_acc: 0.6247\n",
      "Epoch 3/100\n",
      "313/313 [==============================] - 322s 1s/step - loss: 0.8326 - acc: 0.6572 - val_loss: 0.9981 - val_acc: 0.6278\n",
      "Epoch 4/100\n",
      "313/313 [==============================] - 311s 993ms/step - loss: 0.8189 - acc: 0.6630 - val_loss: 1.0032 - val_acc: 0.6210\n",
      "Epoch 5/100\n",
      "313/313 [==============================] - 314s 1s/step - loss: 0.8206 - acc: 0.6621 - val_loss: 1.0197 - val_acc: 0.6114\n",
      "Epoch 6/100\n",
      "313/313 [==============================] - 302s 964ms/step - loss: 0.8227 - acc: 0.6562 - val_loss: 0.9918 - val_acc: 0.6244\n",
      "Epoch 7/100\n",
      "313/313 [==============================] - 309s 988ms/step - loss: 0.8141 - acc: 0.6626 - val_loss: 0.9958 - val_acc: 0.6262\n",
      "Epoch 8/100\n",
      "313/313 [==============================] - 307s 980ms/step - loss: 0.8153 - acc: 0.6644 - val_loss: 0.9979 - val_acc: 0.6177\n",
      "Epoch 9/100\n",
      "313/313 [==============================] - 318s 1s/step - loss: 0.8108 - acc: 0.6638 - val_loss: 1.0097 - val_acc: 0.6186\n",
      "Epoch 10/100\n",
      "313/313 [==============================] - 302s 965ms/step - loss: 0.7976 - acc: 0.6694 - val_loss: 1.0274 - val_acc: 0.6172\n",
      "Epoch 11/100\n",
      "313/313 [==============================] - 312s 996ms/step - loss: 0.7937 - acc: 0.6721 - val_loss: 1.0481 - val_acc: 0.6158\n",
      "Epoch 12/100\n",
      "313/313 [==============================] - 303s 968ms/step - loss: 0.7848 - acc: 0.6772 - val_loss: 1.0610 - val_acc: 0.6146\n",
      "Epoch 13/100\n",
      "313/313 [==============================] - 312s 998ms/step - loss: 0.7830 - acc: 0.6788 - val_loss: 1.0545 - val_acc: 0.6099\n",
      "Epoch 14/100\n",
      "313/313 [==============================] - 314s 1s/step - loss: 0.7848 - acc: 0.6757 - val_loss: 1.0699 - val_acc: 0.6129\n",
      "Epoch 15/100\n",
      "313/313 [==============================] - 319s 1s/step - loss: 0.7847 - acc: 0.6772 - val_loss: 1.0416 - val_acc: 0.6134\n",
      "Epoch 16/100\n",
      "313/313 [==============================] - 307s 981ms/step - loss: 0.7774 - acc: 0.6790 - val_loss: 1.0883 - val_acc: 0.6213\n",
      "Epoch 17/100\n",
      "313/313 [==============================] - 314s 1s/step - loss: 0.7747 - acc: 0.6812 - val_loss: 1.0821 - val_acc: 0.6062\n",
      "Epoch 18/100\n",
      "313/313 [==============================] - 334s 1s/step - loss: 0.7678 - acc: 0.6805 - val_loss: 1.1022 - val_acc: 0.6186\n",
      "Epoch 19/100\n",
      "313/313 [==============================] - 310s 991ms/step - loss: 0.7655 - acc: 0.6857 - val_loss: 1.0864 - val_acc: 0.6198\n",
      "Epoch 20/100\n",
      "313/313 [==============================] - 317s 1s/step - loss: 0.7682 - acc: 0.6866 - val_loss: 1.0833 - val_acc: 0.6160\n",
      "Epoch 21/100\n",
      "313/313 [==============================] - 326s 1s/step - loss: 0.7635 - acc: 0.6840 - val_loss: 1.1007 - val_acc: 0.6117\n",
      "Epoch 22/100\n",
      "313/313 [==============================] - 336s 1s/step - loss: 0.7613 - acc: 0.6851 - val_loss: 1.1006 - val_acc: 0.6191\n",
      "Epoch 23/100\n",
      "313/313 [==============================] - 321s 1s/step - loss: 0.7565 - acc: 0.6909 - val_loss: 1.1341 - val_acc: 0.6012\n",
      "Epoch 24/100\n",
      "313/313 [==============================] - 334s 1s/step - loss: 0.7510 - acc: 0.6890 - val_loss: 1.1177 - val_acc: 0.6104\n",
      "Epoch 25/100\n",
      "313/313 [==============================] - 327s 1s/step - loss: 0.7560 - acc: 0.6895 - val_loss: 1.1227 - val_acc: 0.6057\n",
      "Epoch 26/100\n",
      "313/313 [==============================] - 342s 1s/step - loss: 0.7592 - acc: 0.6858 - val_loss: 1.1284 - val_acc: 0.6100\n",
      "Epoch 27/100\n",
      "313/313 [==============================] - 354s 1s/step - loss: 0.7376 - acc: 0.6985 - val_loss: 1.1262 - val_acc: 0.6117\n",
      "Epoch 28/100\n",
      "313/313 [==============================] - 330s 1s/step - loss: 0.7306 - acc: 0.7001 - val_loss: 1.1362 - val_acc: 0.6095\n",
      "Epoch 29/100\n",
      "313/313 [==============================] - 340s 1s/step - loss: 0.7449 - acc: 0.6945 - val_loss: 1.1231 - val_acc: 0.6177\n",
      "Epoch 30/100\n",
      "313/313 [==============================] - 326s 1s/step - loss: 0.7394 - acc: 0.6963 - val_loss: 1.1268 - val_acc: 0.6205\n",
      "Epoch 31/100\n",
      "313/313 [==============================] - 337s 1s/step - loss: 0.7303 - acc: 0.7015 - val_loss: 1.1595 - val_acc: 0.6111\n",
      "Epoch 32/100\n",
      "313/313 [==============================] - 327s 1s/step - loss: 0.7253 - acc: 0.7020 - val_loss: 1.1708 - val_acc: 0.6102\n",
      "Epoch 33/100\n",
      "313/313 [==============================] - 320s 1s/step - loss: 0.7302 - acc: 0.7013 - val_loss: 1.1233 - val_acc: 0.6071\n",
      "Epoch 34/100\n",
      "313/313 [==============================] - 325s 1s/step - loss: 0.7283 - acc: 0.6982 - val_loss: 1.1187 - val_acc: 0.6164\n",
      "Epoch 35/100\n",
      "313/313 [==============================] - 330s 1s/step - loss: 0.7343 - acc: 0.7010 - val_loss: 1.1275 - val_acc: 0.6034\n",
      "Epoch 36/100\n",
      "313/313 [==============================] - 324s 1s/step - loss: 0.7178 - acc: 0.7055 - val_loss: 1.2063 - val_acc: 0.6001\n",
      "Epoch 37/100\n",
      "313/313 [==============================] - 317s 1s/step - loss: 0.7077 - acc: 0.7100 - val_loss: 1.1839 - val_acc: 0.6079\n",
      "Epoch 38/100\n",
      "313/313 [==============================] - 318s 1s/step - loss: 0.7198 - acc: 0.7040 - val_loss: 1.1513 - val_acc: 0.6134\n",
      "Epoch 39/100\n",
      "313/313 [==============================] - 310s 990ms/step - loss: 0.7233 - acc: 0.7062 - val_loss: 1.1371 - val_acc: 0.6150\n",
      "Epoch 40/100\n",
      "313/313 [==============================] - 315s 1s/step - loss: 0.7051 - acc: 0.7104 - val_loss: 1.1952 - val_acc: 0.6108\n",
      "Epoch 41/100\n",
      "313/313 [==============================] - 336s 1s/step - loss: 0.7055 - acc: 0.7150 - val_loss: 1.1978 - val_acc: 0.5976\n",
      "Epoch 42/100\n",
      "313/313 [==============================] - 317s 1s/step - loss: 0.7120 - acc: 0.7054 - val_loss: 1.1624 - val_acc: 0.6042\n",
      "Epoch 43/100\n",
      "313/313 [==============================] - 308s 982ms/step - loss: 0.7008 - acc: 0.7133 - val_loss: 1.2053 - val_acc: 0.6097\n",
      "Epoch 44/100\n",
      "313/313 [==============================] - 344s 1s/step - loss: 0.6892 - acc: 0.7190 - val_loss: 1.1816 - val_acc: 0.6076\n",
      "Epoch 45/100\n",
      "313/313 [==============================] - 314s 1s/step - loss: 0.6947 - acc: 0.7135 - val_loss: 1.2306 - val_acc: 0.6086\n",
      "Epoch 46/100\n",
      "313/313 [==============================] - 310s 990ms/step - loss: 0.7027 - acc: 0.7133 - val_loss: 1.2064 - val_acc: 0.6042\n",
      "Epoch 47/100\n",
      "313/313 [==============================] - 300s 958ms/step - loss: 0.6905 - acc: 0.7193 - val_loss: 1.1778 - val_acc: 0.6002\n",
      "Epoch 48/100\n",
      "313/313 [==============================] - 319s 1s/step - loss: 0.6907 - acc: 0.7155 - val_loss: 1.2248 - val_acc: 0.5976\n",
      "Epoch 49/100\n",
      "313/313 [==============================] - 300s 959ms/step - loss: 0.6866 - acc: 0.7185 - val_loss: 1.2368 - val_acc: 0.5982\n",
      "Epoch 50/100\n",
      "313/313 [==============================] - 305s 973ms/step - loss: 0.6771 - acc: 0.7236 - val_loss: 1.3052 - val_acc: 0.5820\n",
      "Epoch 51/100\n",
      "313/313 [==============================] - 301s 960ms/step - loss: 0.6770 - acc: 0.7232 - val_loss: 1.2597 - val_acc: 0.6024\n",
      "Epoch 52/100\n",
      "313/313 [==============================] - 334s 1s/step - loss: 0.6762 - acc: 0.7236 - val_loss: 1.2693 - val_acc: 0.5925\n",
      "Epoch 53/100\n",
      "313/313 [==============================] - 308s 985ms/step - loss: 0.6902 - acc: 0.7216 - val_loss: 1.1943 - val_acc: 0.5990\n",
      "Epoch 54/100\n",
      "313/313 [==============================] - 296s 946ms/step - loss: 0.7008 - acc: 0.7151 - val_loss: 1.1785 - val_acc: 0.6086\n",
      "Epoch 55/100\n",
      "313/313 [==============================] - 332s 1s/step - loss: 0.6811 - acc: 0.7220 - val_loss: 1.2071 - val_acc: 0.6032\n",
      "Epoch 56/100\n",
      "313/313 [==============================] - 299s 955ms/step - loss: 0.6685 - acc: 0.7285 - val_loss: 1.2526 - val_acc: 0.6026\n",
      "Epoch 57/100\n",
      "313/313 [==============================] - 339s 1s/step - loss: 0.6783 - acc: 0.7233 - val_loss: 1.2247 - val_acc: 0.6017\n",
      "Epoch 58/100\n",
      "313/313 [==============================] - 304s 971ms/step - loss: 0.6725 - acc: 0.7247 - val_loss: 1.2678 - val_acc: 0.5998\n",
      "Epoch 59/100\n",
      "313/313 [==============================] - 299s 949ms/step - loss: 0.6697 - acc: 0.7274 - val_loss: 1.2929 - val_acc: 0.6023\n",
      "Epoch 60/100\n",
      "313/313 [==============================] - 283s 904ms/step - loss: 0.6624 - acc: 0.7315 - val_loss: 1.3160 - val_acc: 0.5934\n",
      "Epoch 61/100\n",
      "313/313 [==============================] - 294s 939ms/step - loss: 0.6583 - acc: 0.7331 - val_loss: 1.3054 - val_acc: 0.5951\n",
      "Epoch 62/100\n",
      "313/313 [==============================] - 282s 902ms/step - loss: 0.6643 - acc: 0.7280 - val_loss: 1.2909 - val_acc: 0.5877\n",
      "Epoch 63/100\n",
      "313/313 [==============================] - 290s 925ms/step - loss: 0.6475 - acc: 0.7344 - val_loss: 1.2771 - val_acc: 0.5942\n",
      "Epoch 64/100\n",
      "313/313 [==============================] - 283s 902ms/step - loss: 0.6466 - acc: 0.7377 - val_loss: 1.3394 - val_acc: 0.5971\n",
      "Epoch 65/100\n",
      "313/313 [==============================] - 290s 925ms/step - loss: 0.6650 - acc: 0.7319 - val_loss: 1.2797 - val_acc: 0.5930\n",
      "Epoch 66/100\n",
      "313/313 [==============================] - 329s 1s/step - loss: 0.6537 - acc: 0.7360 - val_loss: 1.2956 - val_acc: 0.5857\n",
      "Epoch 67/100\n",
      "313/313 [==============================] - 290s 927ms/step - loss: 0.6682 - acc: 0.7298 - val_loss: 1.2272 - val_acc: 0.6019\n",
      "Epoch 68/100\n",
      "313/313 [==============================] - 294s 939ms/step - loss: 0.6552 - acc: 0.7338 - val_loss: 1.2339 - val_acc: 0.5995\n",
      "Epoch 69/100\n",
      "313/313 [==============================] - 287s 917ms/step - loss: 0.6532 - acc: 0.7333 - val_loss: 1.2803 - val_acc: 0.5888\n",
      "Epoch 70/100\n",
      "313/313 [==============================] - 297s 950ms/step - loss: 0.6368 - acc: 0.7396 - val_loss: 1.3259 - val_acc: 0.5888\n",
      "Epoch 71/100\n",
      "313/313 [==============================] - 283s 904ms/step - loss: 0.6456 - acc: 0.7366 - val_loss: 1.3395 - val_acc: 0.5931\n",
      "Epoch 72/100\n",
      "313/313 [==============================] - 296s 945ms/step - loss: 0.6906 - acc: 0.7233 - val_loss: 1.2166 - val_acc: 0.5844\n",
      "Epoch 73/100\n",
      "313/313 [==============================] - 289s 923ms/step - loss: 0.6542 - acc: 0.7374 - val_loss: 1.2861 - val_acc: 0.5884\n",
      "Epoch 74/100\n",
      "313/313 [==============================] - 330s 1s/step - loss: 0.6366 - acc: 0.7444 - val_loss: 1.3236 - val_acc: 0.5943\n",
      "Epoch 75/100\n",
      "313/313 [==============================] - 289s 923ms/step - loss: 0.6349 - acc: 0.7431 - val_loss: 1.3457 - val_acc: 0.5808\n",
      "Epoch 76/100\n",
      "313/313 [==============================] - 292s 932ms/step - loss: 0.6463 - acc: 0.7363 - val_loss: 1.2816 - val_acc: 0.5873\n",
      "Epoch 77/100\n",
      "313/313 [==============================] - 284s 905ms/step - loss: 0.6463 - acc: 0.7381 - val_loss: 1.2840 - val_acc: 0.5996\n",
      "Epoch 78/100\n",
      "313/313 [==============================] - 296s 946ms/step - loss: 0.6287 - acc: 0.7455 - val_loss: 1.3354 - val_acc: 0.5816\n",
      "Epoch 79/100\n",
      "313/313 [==============================] - 290s 927ms/step - loss: 0.6296 - acc: 0.7452 - val_loss: 1.2863 - val_acc: 0.6011\n",
      "Epoch 80/100\n",
      "313/313 [==============================] - 294s 940ms/step - loss: 0.6430 - acc: 0.7389 - val_loss: 1.2660 - val_acc: 0.5930\n",
      "Epoch 81/100\n",
      "313/313 [==============================] - 287s 916ms/step - loss: 0.6413 - acc: 0.7403 - val_loss: 1.3407 - val_acc: 0.5871\n",
      "Epoch 82/100\n",
      "313/313 [==============================] - 293s 936ms/step - loss: 0.6377 - acc: 0.7427 - val_loss: 1.3375 - val_acc: 0.5835\n",
      "Epoch 83/100\n",
      "313/313 [==============================] - 289s 924ms/step - loss: 0.6369 - acc: 0.7415 - val_loss: 1.3307 - val_acc: 0.5903\n",
      "Epoch 84/100\n",
      "313/313 [==============================] - 328s 1s/step - loss: 0.6297 - acc: 0.7423 - val_loss: 1.3056 - val_acc: 0.5974\n",
      "Epoch 85/100\n",
      "313/313 [==============================] - 282s 900ms/step - loss: 0.6300 - acc: 0.7423 - val_loss: 1.3301 - val_acc: 0.5770\n",
      "Epoch 86/100\n",
      "313/313 [==============================] - 328s 1s/step - loss: 0.6406 - acc: 0.7422 - val_loss: 1.2863 - val_acc: 0.5868\n",
      "Epoch 87/100\n",
      "313/313 [==============================] - 278s 888ms/step - loss: 0.6205 - acc: 0.7462 - val_loss: 1.3531 - val_acc: 0.5921\n",
      "Epoch 88/100\n",
      "313/313 [==============================] - 288s 920ms/step - loss: 0.6111 - acc: 0.7537 - val_loss: 1.3939 - val_acc: 0.5921\n",
      "Epoch 89/100\n",
      "313/313 [==============================] - 280s 895ms/step - loss: 0.6252 - acc: 0.7465 - val_loss: 1.3695 - val_acc: 0.5945\n",
      "Epoch 90/100\n",
      "313/313 [==============================] - 288s 919ms/step - loss: 0.6258 - acc: 0.7478 - val_loss: 1.3891 - val_acc: 0.6058\n",
      "Epoch 91/100\n",
      "313/313 [==============================] - 283s 904ms/step - loss: 0.6169 - acc: 0.7507 - val_loss: 1.3660 - val_acc: 0.6007\n",
      "Epoch 92/100\n",
      "313/313 [==============================] - 288s 920ms/step - loss: 0.6254 - acc: 0.7470 - val_loss: 1.3639 - val_acc: 0.5864\n",
      "Epoch 93/100\n",
      "313/313 [==============================] - 280s 894ms/step - loss: 0.6207 - acc: 0.7493 - val_loss: 1.3655 - val_acc: 0.6019\n",
      "Epoch 94/100\n",
      "313/313 [==============================] - 286s 913ms/step - loss: 0.6194 - acc: 0.7511 - val_loss: 1.3370 - val_acc: 0.5971\n",
      "Epoch 95/100\n",
      "313/313 [==============================] - 278s 887ms/step - loss: 0.6203 - acc: 0.7497 - val_loss: 1.3035 - val_acc: 0.5981\n",
      "Epoch 96/100\n",
      "313/313 [==============================] - 289s 921ms/step - loss: 0.6308 - acc: 0.7473 - val_loss: 1.3024 - val_acc: 0.5968\n",
      "Epoch 97/100\n",
      "313/313 [==============================] - 281s 897ms/step - loss: 0.6136 - acc: 0.7513 - val_loss: 1.3422 - val_acc: 0.5967\n",
      "Epoch 98/100\n",
      "313/313 [==============================] - 287s 916ms/step - loss: 0.6171 - acc: 0.7495 - val_loss: 1.3471 - val_acc: 0.5939\n",
      "Epoch 99/100\n",
      "313/313 [==============================] - 278s 889ms/step - loss: 0.5987 - acc: 0.7574 - val_loss: 1.4424 - val_acc: 0.5888\n",
      "Epoch 100/100\n",
      "313/313 [==============================] - 290s 927ms/step - loss: 0.6108 - acc: 0.7534 - val_loss: 1.3700 - val_acc: 0.5969\n"
     ]
    }
   ]
  },
  {
   "cell_type": "code",
   "source": [
    "_, ax = plt.subplots(figsize=(20, 4))\n",
    "\n",
    "ax.plot(model.history.history[\"acc\"])\n",
    "ax.plot(model.history.history[\"loss\"])\n",
    "\n",
    "ax.plot(model.history.history[\"val_\" + \"acc\"])\n",
    "ax.plot(model.history.history[\"val_\" + \"loss\"])\n",
    "\n",
    "ax.set_title(\"Classification Accuracy and Loss\")\n",
    "ax.set_xlabel(\"Epochs\")\n",
    "ax.set_ylabel(\"Value\")\n",
    "ax.legend([\"train_acc\", \"train_loss\", \"val_acc\", \"val_loss\"])\n",
    "\n",
    "plt.show()"
   ],
   "metadata": {
    "colab": {
     "base_uri": "https://localhost:8080/",
     "height": 295
    },
    "id": "t2n37BqfJAlT",
    "outputId": "248b08ea-0f3c-4a21-9cdb-2f5aec2dcf90",
    "pycharm": {
     "name": "#%%\n"
    }
   },
   "execution_count": null,
   "outputs": [
    {
     "output_type": "display_data",
     "data": {
      "text/plain": [
       "<Figure size 1440x288 with 1 Axes>"
      ],
      "image/png": "[encoded data removed]"
     },
     "metadata": {
      "needs_background": "light"
     }
    }
   ]
  }
 ]
}