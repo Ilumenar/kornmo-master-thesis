{
 "cells": [
  {
   "cell_type": "code",
   "execution_count": null,
   "metadata": {
    "collapsed": true,
    "pycharm": {
     "is_executing": true
    }
   },
   "outputs": [],
   "source": [
    "import geopandas as gpd\n",
    "import matplotlib.pyplot as plt\n",
    "import numpy as np\n",
    "import pandas as pd\n",
    "import h5py\n",
    "import tensorflow as tf\n",
    "import os\n",
    "\n",
    "from src.utils import to_rgb\n",
    "from src.satellite_images.storage import SentinelDataset, SentinelDatasetIterator\n",
    "from src.mask.mask_dataset import MaskDataset, MaskDatasetIterator\n",
    "from src.mask.utils import apply_mask_to_image_series, apply_mask_to_image\n",
    "\n",
    "%load_ext autoreload\n",
    "%autoreload 2\n",
    "\n",
    "data_path = '../../../kornmo-data-files/raw-data/crop-classification-data/'"
   ]
  },
  {
   "cell_type": "code",
   "execution_count": null,
   "outputs": [],
   "source": [
    "print(\"Reading data\")\n",
    "data = gpd.read_file(f\"{data_path}/training_data.gpkg\")\n",
    "data['orgnr'] = data['orgnr'].astype(int)\n",
    "data['year'] = data['year'].astype(int)\n",
    "\n",
    "print(\"Reading masks\")\n",
    "masks = MaskDataset(f\"{data_path}/small_masks_train.h5\")\n",
    "\n",
    "print(\"Reading satellite images\")\n",
    "satellite_imgs = SentinelDataset(f\"{data_path}/small_images_train.h5\")\n",
    "\n",
    "print(f\"Loaded {len(masks.labels)} masks\")\n",
    "print(f\"Loaded {len(satellite_imgs.labels) * 30} images\")"
   ],
   "metadata": {
    "collapsed": false,
    "pycharm": {
     "name": "#%%\n",
     "is_executing": true
    }
   }
  },
  {
   "cell_type": "code",
   "execution_count": null,
   "outputs": [],
   "source": [
    "# data = data.loc[data['planted'] != 'erter']\n",
    "# data = data.loc[data['planted'] != 'rughvete']\n",
    "# data = data.loc[data['planted'] != 'oljefro']\n",
    "# data = data.loc[data['planted'] != 'rug']\n",
    "\n",
    "# print(969923173 in data['orgnr'].unique())\n",
    "# print(2017 in data.loc[data['orgnr'] == 969923173]['year'].unique())\n",
    "# label = data.loc[data['orgnr'] == 969923173]\n",
    "# print(label)"
   ],
   "metadata": {
    "collapsed": false,
    "pycharm": {
     "name": "#%%\n",
     "is_executing": true
    }
   }
  },
  {
   "cell_type": "code",
   "execution_count": null,
   "outputs": [],
   "source": [
    "\n",
    "labels = list(set(data['planted']))\n",
    "print(labels)\n",
    "print(pd.Series(list(data['planted'])).value_counts())\n",
    "def add_labels(orgnr, year, data_arg):\n",
    "    orgnr = int(orgnr[:9])\n",
    "    year = int(year)\n",
    "    if orgnr in data['orgnr'].unique() and year in data.loc[data['orgnr'] == orgnr]['year'].unique():\n",
    "        label = data.loc[data['orgnr'] == orgnr].loc[data['year'] == year]['planted'].iloc[0]\n",
    "        index = labels.index(label)\n",
    "        arr = [0 for _ in range(0, len(labels))]\n",
    "        arr[index] = 1\n",
    "        return {'class': arr}\n"
   ],
   "metadata": {
    "collapsed": false,
    "pycharm": {
     "name": "#%%\n",
     "is_executing": true
    }
   }
  },
  {
   "cell_type": "code",
   "execution_count": null,
   "outputs": [],
   "source": [
    "train, val = satellite_imgs.to_iterator().split(rand_seed='corn')\n",
    "\n",
    "\n",
    "train = train.with_data(add_labels, show_progress=True)\n",
    "val = val.with_data(add_labels, show_progress=True)\n",
    "masks_it = masks.get_iterator()\n",
    "mask_dict = {}\n",
    "\n",
    "for orgnr, year, mask in masks_it:\n",
    "    mask_dict[f'{orgnr}/{year}'] = mask\n",
    "\n",
    "\n",
    "# train = train.filter(lambda orgnr, year, _,__: f\"{orgnr}/{year}\" in mask_dict)\n",
    "# val = val.filter(lambda orgnr, year, _,__: f\"{orgnr}/{year}\" in mask_dict)\n",
    "\n",
    "print(f\"train samples: {len(train)}\")\n",
    "print(f\"val samples: {len(val)}\")\n",
    "\n",
    "#7737, 1937"
   ],
   "metadata": {
    "collapsed": false,
    "pycharm": {
     "name": "#%%\n",
     "is_executing": true
    }
   }
  },
  {
   "cell_type": "code",
   "execution_count": null,
   "outputs": [],
   "source": [
    "import random\n",
    "\n",
    "def train_generator():\n",
    "    for orgnr, year, imgs, label in train:\n",
    "        for img in imgs[5:20]:\n",
    "            img = apply_mask_to_image(mask_dict[f'{orgnr}/{year}'], img, image_size=16)\n",
    "            yield img, label['class']\n",
    "\n",
    "\n",
    "def val_generator():\n",
    "    for orgnr, year, imgs, label in val:\n",
    "        for img in imgs[5:20]:\n",
    "            img = apply_mask_to_image(mask_dict[f'{orgnr}/{year}'], img, image_size=16)\n",
    "            yield img, label['class']\n",
    "\n",
    "\n",
    "# def train_generator():\n",
    "#     for orgnr, year, imgs, label in train:\n",
    "#         imgs = apply_mask_to_image_series(mask_dict[f'{orgnr}/{year}'], imgs[5:20])\n",
    "#         yield imgs, label['class']\n",
    "#\n",
    "#\n",
    "# def val_generator():\n",
    "#     for orgnr, year, imgs, label in val:\n",
    "#         imgs = apply_mask_to_image_series(mask_dict[f'{orgnr}/{year}'], imgs[5:20])\n",
    "#         yield imgs, label['class']\n",
    "#\n"
   ],
   "metadata": {
    "collapsed": false,
    "pycharm": {
     "name": "#%%\n",
     "is_executing": true
    }
   }
  },
  {
   "cell_type": "code",
   "execution_count": null,
   "outputs": [],
   "source": [
    "for vale in val:\n",
    "    print(vale)\n",
    "    break"
   ],
   "metadata": {
    "collapsed": false,
    "pycharm": {
     "name": "#%%\n",
     "is_executing": true
    }
   }
  },
  {
   "cell_type": "code",
   "execution_count": null,
   "outputs": [],
   "source": [
    "\n",
    "\n",
    "train_dataset = tf.data.Dataset.from_generator(\n",
    "    train_generator,\n",
    "    output_types=(tf.dtypes.float64, tf.dtypes.int64),\n",
    "    output_shapes=(( 16, 16, 12), 3)\n",
    ")\n",
    "\n",
    "val_dataset = tf.data.Dataset.from_generator(\n",
    "    val_generator,\n",
    "    output_types=(tf.dtypes.float64, tf.dtypes.int64),\n",
    "    output_shapes=(( 16, 16, 12), 3)\n",
    ")\n",
    "\n",
    "# print(f\"training samples: {len(train_dataset)}\")\n",
    "# print(f\"Validation samples: {len(val_dataset)}\")"
   ],
   "metadata": {
    "collapsed": false,
    "pycharm": {
     "name": "#%%\n",
     "is_executing": true
    }
   }
  },
  {
   "cell_type": "code",
   "execution_count": null,
   "outputs": [],
   "source": [
    "\n",
    "def cnn(input_dim, output_dim):\n",
    "    input_layer = layers.Input(shape=input_dim)\n",
    "    y = layers.Conv2D(16, (3, 3), activation=tf.nn.relu, padding='same')(input_layer)\n",
    "    y = layers.MaxPool2D((2, 2))(y)\n",
    "    y = layers.Conv2D(32, (3, 3), activation=tf.nn.relu, padding='same')(y)\n",
    "    y = layers.MaxPool2D((2, 2))(y)\n",
    "    y = layers.Conv2D(64, (3, 3), activation=tf.nn.relu, padding='same')(y)\n",
    "    y = layers.MaxPool2D((2, 2))(y)\n",
    "    y = layers.Flatten()(y)\n",
    "    y = layers.Dense(output_dim, activation=tf.nn.relu)(y)\n",
    "    return models.Model(inputs=[input_layer], outputs=[y], name=\"SingleImageCNN\")"
   ],
   "metadata": {
    "collapsed": false,
    "pycharm": {
     "name": "#%%\n",
     "is_executing": true
    }
   }
  },
  {
   "cell_type": "code",
   "execution_count": null,
   "outputs": [],
   "source": [
    "from tensorflow.python.data import AUTOTUNE\n",
    "from keras import models\n",
    "from keras.applications.densenet import layers\n",
    "from keras.models import load_model\n",
    "from tensorflow import optimizers\n",
    "from src.kornmo.pyimagesearch.callbacks.epochcheckpoint import EpochCheckpoint\n",
    "from src.kornmo.pyimagesearch.callbacks.trainingmonitor import TrainingMonitor\n",
    "\n",
    "plotPath = os.path.sep.join([\"training\", \"hybrid_more_features.png\"])\n",
    "jsonPath = os.path.sep.join([\"training\", \"hybrid_more_features.json\"])\n",
    "callbacks = [\n",
    "\tEpochCheckpoint('./training', every=1, startAt=0),\n",
    "\tTrainingMonitor(plotPath, jsonPath=jsonPath, startAt=0)\n",
    "]\n",
    "\n",
    "#\n",
    "# restart = True\n",
    "# if restart:\n",
    "#     cnn_net = cnn((16, 16, 12), 64)\n",
    "#     input_cnn = layers.Input(shape=(15, 16, 16, 12), name=\"cnn_input\")\n",
    "#\n",
    "#     cnn = layers.TimeDistributed(cnn_net)(input_cnn)\n",
    "#     cnn = layers.GRU(128, return_sequences=False)(cnn)\n",
    "#     cnn = layers.Flatten()(cnn)\n",
    "#     cnn = layers.Dense(128)(cnn)\n",
    "#     cnn = layers.Dense(3, activation='softmax')(cnn)\n",
    "#\n",
    "#     cnn = models.Model(inputs=input_cnn, outputs=cnn, name=\"CNN\")\n",
    "#\n",
    "#     cnn.compile(\n",
    "#         optimizer=optimizers.Adam(),\n",
    "#         loss=tf.keras.losses.CategoricalCrossentropy(),\n",
    "#         metrics=['categorical_accuracy']\n",
    "#     )\n",
    "#     # callback = tf.keras.callbacks.EarlyStopping(monitor='val_loss', patience=15, restore_best_weights=True)\n",
    "#\n",
    "#\n",
    "#     cnn_history = cnn.fit(\n",
    "#             train_dataset.take(10000).batch(32).prefetch(2),\n",
    "#             validation_data=val_dataset.batch(32).prefetch(2),\n",
    "#             epochs=10,\n",
    "#             verbose=1,\n",
    "#             callbacks=callbacks\n",
    "#     )\n",
    "# else:\n",
    "#     cnn_net = load_model('./training/epoch_2.hdf5')\n",
    "#\n",
    "#     cnn_history = cnn_net.fit(\n",
    "#         train_dataset.take(10000).batch(32).prefetch(2),\n",
    "#         validation_data=val_dataset.batch(32).prefetch(2),\n",
    "#         epochs=10,\n",
    "#         verbose=1,\n",
    "#         callbacks=callbacks\n",
    "#     )\n",
    "\n",
    "restart = True\n",
    "if restart:\n",
    "    input_layer = layers.Input(shape=(16, 16, 12))\n",
    "    cnn = layers.Conv2D(16, (3, 3), activation='relu', padding='same')(input_layer)\n",
    "    cnn = layers.MaxPooling2D((2, 2))(cnn)\n",
    "    cnn = layers.Dropout(0.2)(cnn)\n",
    "    cnn = layers.Conv2D(32, (3, 3), strides=(2,2), activation='relu', padding='same')(cnn)\n",
    "    cnn = layers.Flatten()(cnn)\n",
    "    cnn = layers.Dense(32, activation=\"relu\")(cnn)\n",
    "    cnn = layers.Dropout(0.2)(cnn)\n",
    "    cnn = layers.Dense(3, activation='softmax')(cnn)\n",
    "\n",
    "\n",
    "\n",
    "\n",
    "    cnn = models.Model(inputs=[input_layer], outputs=cnn, name=\"cnn_pure\")\n",
    "    cnn.compile(\n",
    "        optimizer=optimizers.Adam(),\n",
    "        loss=tf.keras.losses.CategoricalCrossentropy(),\n",
    "        metrics=['categorical_accuracy']\n",
    "    )\n",
    "    history = cnn.fit(\n",
    "        train_dataset.batch(32).prefetch(buffer_size=AUTOTUNE),\n",
    "        validation_data=val_dataset.batch(32).prefetch(buffer_size=AUTOTUNE),\n",
    "        epochs=100,\n",
    "        callbacks=callbacks\n",
    "    )\n",
    "else:\n",
    "\n",
    "    cnn_net = load_model('./training/epoch_4.hdf5')\n",
    "\n",
    "    cnn_history = cnn_net.fit(\n",
    "        train_dataset.take(10000).batch(32).prefetch(2),\n",
    "        validation_data=val_dataset.batch(32).prefetch(2),\n",
    "        epochs=100,\n",
    "        verbose=1,\n",
    "        callbacks=callbacks\n",
    "    )\n"
   ],
   "metadata": {
    "collapsed": false,
    "pycharm": {
     "name": "#%%\n",
     "is_executing": true
    }
   }
  },
  {
   "cell_type": "code",
   "execution_count": null,
   "outputs": [],
   "source": [],
   "metadata": {
    "collapsed": false,
    "pycharm": {
     "name": "#%%\n",
     "is_executing": true
    }
   }
  },
  {
   "cell_type": "code",
   "execution_count": null,
   "outputs": [],
   "source": [
    "from sklearn.metrics import classification_report\n",
    "\n",
    "cnn_net = load_model('./training/epoch_16.hdf5')\n",
    "res = cnn_net.predict(val_dataset, verbose=1)"
   ],
   "metadata": {
    "collapsed": false,
    "pycharm": {
     "name": "#%%\n",
     "is_executing": true
    }
   }
  },
  {
   "cell_type": "code",
   "execution_count": null,
   "outputs": [],
   "source": [],
   "metadata": {
    "collapsed": false,
    "pycharm": {
     "name": "#%%\n",
     "is_executing": true
    }
   }
  }
 ],
 "metadata": {
  "kernelspec": {
   "display_name": "Python 3",
   "language": "python",
   "name": "python3"
  },
  "language_info": {
   "codemirror_mode": {
    "name": "ipython",
    "version": 2
   },
   "file_extension": ".py",
   "mimetype": "text/x-python",
   "name": "python",
   "nbconvert_exporter": "python",
   "pygments_lexer": "ipython2",
   "version": "2.7.6"
  }
 },
 "nbformat": 4,
 "nbformat_minor": 0
}