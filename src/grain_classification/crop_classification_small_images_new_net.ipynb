{
 "cells": [
  {
   "cell_type": "code",
   "execution_count": null,
   "metadata": {
    "collapsed": true
   },
   "outputs": [],
   "source": [
    "import geopandas as gpd\n",
    "import matplotlib.pyplot as plt\n",
    "import numpy as np\n",
    "import pandas as pd\n",
    "import tensorflow as tf\n",
    "from tqdm import tqdm\n",
    "from tensorflow import keras\n",
    "\n",
    "from sentinel.storage import SentinelDataset, SentinelDatasetIterator\n",
    "from mask.mask_dataset import MaskDataset, MaskDatasetIterator\n",
    "\n",
    "%load_ext autoreload\n",
    "%autoreload 2\n",
    "\n",
    "data_path = '../../kornmo-data-files/raw-data/crop-classification-data/'"
   ]
  },
  {
   "cell_type": "code",
   "execution_count": null,
   "metadata": {
    "collapsed": false,
    "pycharm": {
     "name": "#%%\n"
    }
   },
   "outputs": [],
   "source": [
    "print(\"Reading data\")\n",
    "data = gpd.read_file(f\"{data_path}/training_data.gpkg\")\n",
    "data['orgnr'] = data['orgnr'].astype(int)\n",
    "data['year'] = data['year'].astype(int)\n",
    "\n",
    "print(\"Reading masks\")\n",
    "masks = MaskDataset(f\"{data_path}/small_masks_train.h5\")\n",
    "\n",
    "print(\"Reading satellite images\")\n",
    "satellite_imgs = SentinelDataset(f\"{data_path}/small_images_train.h5\")\n",
    "\n",
    "print(f\"Loaded {len(masks.labels)} masks\")\n",
    "print(f\"Loaded {len(satellite_imgs.labels) * 30} images\")"
   ]
  },
  {
   "cell_type": "code",
   "execution_count": null,
   "metadata": {
    "collapsed": false,
    "pycharm": {
     "name": "#%%\n"
    }
   },
   "outputs": [],
   "source": [
    "data = data.loc[data['planted'] != 'erter']\n",
    "# data = data.loc[data['planted'] != 'rughvete']\n",
    "data = data.loc[data['planted'] != 'oljefro']\n",
    "# data = data.loc[data['planted'] != 'rug']\n",
    "data.drop(data[data['area'] < 1500].index, inplace = True)\n",
    "\n",
    "labels = list(set(data['planted']))\n",
    "n_classes = len(labels)\n",
    "IMG_SIZE = 16\n",
    "IMG_CHANNEL = 12\n",
    "\n",
    "print(labels)\n",
    "print(pd.Series(list(data['planted'])).value_counts())"
   ]
  },
  {
   "cell_type": "code",
   "execution_count": null,
   "metadata": {
    "collapsed": false,
    "pycharm": {
     "name": "#%%\n"
    }
   },
   "outputs": [],
   "source": [
    "def add_labels(orgnr, year, data_arg):\n",
    "    orgnr = int(orgnr[:9])\n",
    "    year = int(year)\n",
    "    if orgnr in data['orgnr'].unique() and year in data.loc[data['orgnr'] == orgnr]['year'].unique():\n",
    "        label = data.loc[data['orgnr'] == orgnr].loc[data['year'] == year]['planted'].iloc[0]\n",
    "        index = labels.index(label)\n",
    "        arr = [0 for _ in range(0, len(labels))]\n",
    "        arr[index] = 1\n",
    "        return {'class': arr}\n",
    "    else:\n",
    "        return []\n"
   ]
  },
  {
   "cell_type": "code",
   "execution_count": null,
   "metadata": {
    "collapsed": false,
    "pycharm": {
     "name": "#%%\n"
    }
   },
   "outputs": [],
   "source": [
    "train, val = satellite_imgs.to_iterator().split(rand_seed='corn')\n",
    "\n",
    "train = train.with_data(add_labels, show_progress=True)\n",
    "val = val.with_data(add_labels, show_progress=True)\n",
    "masks_it = masks.get_iterator()\n",
    "mask_dict = {}\n",
    "\n",
    "for orgnr, year, mask in tqdm(masks_it, total=len(masks_it.labels)):\n",
    "    mask_dict[f'{orgnr}/{year}'] = mask\n",
    "\n",
    "\n",
    "print(f\"train samples: {len(train)}\")\n",
    "print(f\"val samples: {len(val)}\")\n",
    "\n",
    "#7737, 1937"
   ]
  },
  {
   "cell_type": "code",
   "execution_count": null,
   "metadata": {
    "collapsed": false,
    "pycharm": {
     "name": "#%%\n"
    }
   },
   "outputs": [],
   "source": [
    "import tensorflow_addons as tfa\n",
    "from sentinel.transform import salt_n_pepper\n",
    "\n",
    "stride = 2\n",
    "def top_left(imgs):\n",
    "    return imgs[...,:-stride, :-stride,:]\n",
    "def top_right(imgs):\n",
    "    return imgs[...,:-stride, stride:,:]\n",
    "def bot_left(imgs):\n",
    "    return imgs[...,stride:, :-stride,:]\n",
    "def bot_right(imgs):\n",
    "    return imgs[...,stride:, stride:,:]\n",
    "def center(imgs):\n",
    "    s = stride//2\n",
    "    return imgs[...,s:-s, s:-s,:]\n",
    "\n",
    "def rotate_random(imgs):\n",
    "    angle = tf.constant(np.pi/8)\n",
    "    return tfa.image.rotate(imgs, angle)\n",
    "\n",
    "def random_flip_left_right(imgs):\n",
    "    return tf.image.random_flip_left_right(imgs)\n",
    "\n",
    "def random_flip_up_down(imgs):\n",
    "    return tf.image.random_flip_up_down(imgs)\n",
    "\n",
    "\n",
    "\n",
    "augmented_dataset = train\\\n",
    "    .transform(salt_n_pepper())\\\n",
    "    .transform(rotate_random)\\\n",
    "    .transform(random_flip_left_right)\\\n",
    "    .transform(random_flip_up_down)\\\n",
    "\n",
    "#valnew = val.transform(center)\n",
    "\n",
    "print(f\"Augmented samples: {len(augmented_dataset)}\")\n"
   ]
  },
  {
   "cell_type": "code",
   "execution_count": null,
   "metadata": {
    "collapsed": false,
    "pycharm": {
     "name": "#%%\n"
    }
   },
   "outputs": [],
   "source": [
    "timesteps = 11\n",
    "def train_generator():\n",
    "    for orgnr, year, imgs, label in augmented_dataset:\n",
    "        #imgs = apply_mask_to_image_series(mask_dict[f'{orgnr}/{year}'], imgs[4:20], image_size=IMG_SIZE)\n",
    "        imgs = imgs[0:timesteps]\n",
    "        yield imgs, label['class']\n",
    "\n",
    "\n",
    "def val_generator():\n",
    "    for orgnr, year, imgs, label in val:\n",
    "        #imgs = apply_mask_to_image_series(mask_dict[f'{orgnr}/{year}'], imgs[4:20], image_size=IMG_SIZE)\n",
    "        imgs = imgs[0:timesteps]\n",
    "        yield imgs, label['class']\n",
    "\n"
   ]
  },
  {
   "cell_type": "code",
   "execution_count": null,
   "metadata": {
    "collapsed": false,
    "pycharm": {
     "name": "#%%\n"
    }
   },
   "outputs": [],
   "source": [
    "from src.utils import to_rgb\n",
    "def plot_30_imgs(images):\n",
    "    rows = 5\n",
    "    cols = 6\n",
    "    fig = plt.figure(figsize=(10,10))\n",
    "    for i, img in enumerate(images):\n",
    "        fig.add_subplot(rows, cols, i + 1)\n",
    "        plt.imshow(to_rgb(img))\n",
    "\n",
    "i = 0\n",
    "for imgs, _ in val_generator():\n",
    "    if i == 0:\n",
    "        plot_30_imgs(imgs)\n",
    "        break\n",
    "    i += 1"
   ]
  },
  {
   "cell_type": "code",
   "execution_count": null,
   "metadata": {
    "collapsed": false,
    "pycharm": {
     "name": "#%%\n"
    }
   },
   "outputs": [],
   "source": [
    "\n",
    "train_dataset = tf.data.Dataset.from_generator(\n",
    "    train_generator,\n",
    "    output_types=(tf.dtypes.float64, tf.dtypes.int64),\n",
    "    output_shapes=((timesteps, IMG_SIZE, IMG_SIZE, IMG_CHANNEL), n_classes)\n",
    ")\n",
    "\n",
    "val_dataset = tf.data.Dataset.from_generator(\n",
    "    val_generator,\n",
    "    output_types=(tf.dtypes.float64, tf.dtypes.int64),\n",
    "    output_shapes=((timesteps, IMG_SIZE, IMG_SIZE, IMG_CHANNEL), n_classes)\n",
    ")\n",
    "\n"
   ]
  },
  {
   "cell_type": "code",
   "execution_count": null,
   "metadata": {
    "collapsed": false,
    "pycharm": {
     "name": "#%%\n"
    }
   },
   "outputs": [],
   "source": []
  },
  {
   "cell_type": "code",
   "execution_count": null,
   "metadata": {
    "collapsed": false,
    "pycharm": {
     "name": "#%%\n"
    }
   },
   "outputs": [],
   "source": [
    "from keras.layers import Conv2D, BatchNormalization, MaxPool2D, GlobalMaxPool2D\n",
    "\n",
    "def build_convnet(shape=(IMG_SIZE, IMG_SIZE, IMG_CHANNEL)):\n",
    "    momentum = 0.9\n",
    "    model = keras.Sequential()\n",
    "    model.add(Conv2D(16, (3,3), input_shape=shape, padding='same', activation='relu'))\n",
    "    model.add(Conv2D(16, (3,3), padding='same', activation='relu'))\n",
    "    model.add(BatchNormalization(momentum=momentum))\n",
    "\n",
    "    model.add(MaxPool2D())\n",
    "\n",
    "    model.add(Conv2D(32, (3,3), padding='same', activation='relu'))\n",
    "    model.add(Conv2D(32, (3,3), padding='same', activation='relu'))\n",
    "    model.add(BatchNormalization(momentum=momentum))\n",
    "\n",
    "    # model.add(MaxPool2D())\n",
    "    #\n",
    "    # model.add(Conv2D(256, (3,3), padding='same', activation='relu'))\n",
    "    # model.add(Conv2D(256, (3,3), padding='same', activation='relu'))\n",
    "    # model.add(BatchNormalization(momentum=momentum))\n",
    "\n",
    "    # model.add(MaxPool2D())\n",
    "\n",
    "    # model.add(Conv2D(512, (3,3), padding='same', activation='relu'))\n",
    "    # model.add(Conv2D(512, (3,3), padding='same', activation='relu'))\n",
    "    # model.add(BatchNormalization(momentum=momentum))\n",
    "\n",
    "    # flatten...\n",
    "    model.add(GlobalMaxPool2D())\n",
    "    return model\n",
    "\n"
   ]
  },
  {
   "cell_type": "code",
   "execution_count": null,
   "metadata": {
    "collapsed": false,
    "pycharm": {
     "name": "#%%\n"
    }
   },
   "outputs": [],
   "source": [
    "from keras.layers import TimeDistributed, GRU, Dense, Dropout, Reshape\n",
    "\n",
    "\n",
    "def action_model(shape=(30, IMG_SIZE, IMG_SIZE, IMG_CHANNEL,), n_classes=n_classes):\n",
    "    convnet = build_convnet(shape[1:])\n",
    "\n",
    "    model = keras.Sequential()\n",
    "\n",
    "    model.add(TimeDistributed(convnet, input_shape=shape))\n",
    "    model.add(GRU(12))\n",
    "\n",
    "    model.add(Dense(64, activation='relu'))\n",
    "    model.add(Dropout(0.5))\n",
    "    model.add(Dense(32, activation='relu'))\n",
    "    model.add(Dense(n_classes, activation='softmax'))\n",
    "    return model"
   ]
  },
  {
   "cell_type": "code",
   "execution_count": null,
   "metadata": {
    "collapsed": false,
    "pycharm": {
     "name": "#%%\n"
    }
   },
   "outputs": [],
   "source": [
    "from keras.models import load_model\n",
    "\n",
    "\n",
    "\n",
    "\n",
    "restart = True\n",
    "if restart:\n",
    "    model = action_model(shape=(timesteps, IMG_SIZE, IMG_SIZE, IMG_CHANNEL,))\n",
    "    print(model.summary())\n",
    "    optimizer = keras.optimizers.Adam(learning_rate=0.001)\n",
    "    model.compile(optimizer=optimizer, loss='categorical_crossentropy', metrics=['acc'])\n",
    "\n",
    "\n",
    "    cnn_history = model.fit(\n",
    "            train_dataset.take(10000).batch(32).prefetch(2),\n",
    "            validation_data=val_dataset.batch(32).prefetch(2),\n",
    "            epochs=100,\n",
    "            verbose=1,\n",
    "    )\n",
    "else:\n",
    "    model = load_model('./training/epoch_2.hdf5')\n",
    "\n",
    "    cnn_history = model.fit(\n",
    "            train_dataset.take(10000).batch(32).prefetch(2),\n",
    "            validation_data=val_dataset.batch(32).prefetch(2),\n",
    "            epochs=100,\n",
    "            verbose=1,\n",
    "    )\n",
    "\n"
   ]
  },
  {
   "cell_type": "code",
   "execution_count": null,
   "metadata": {
    "collapsed": false,
    "pycharm": {
     "name": "#%%\n"
    }
   },
   "outputs": [],
   "source": [
    "#print(cnn_history)\n",
    "N = np.arange(0, len(cnn_history.history[\"loss\"]))\n",
    "plt.figure()\n",
    "plt.plot(N, cnn_history.history[\"loss\"], label=\"train_loss\")\n",
    "plt.plot(N, cnn_history.history[\"val_loss\"], label=\"val_loss\")\n",
    "plt.plot(N, cnn_history.history[\"acc\"], label=\"train_acc\")\n",
    "plt.plot(N, cnn_history.history[\"val_acc\"], label=\"val_acc\")\n",
    "plt.title(f\"Training Loss and Accuracy [Epoch {len(cnn_history.history['loss'])}]\")\n",
    "plt.xlabel(\"Epoch\")\n",
    "plt.ylabel(\"Loss/Accuracy\")\n",
    "plt.legend()\n",
    "plt.savefig('training/small_img_classification_1_11.png')\n",
    "\n",
    "model.save('training/models/classification_1-11.hdf5', overwrite=True)\n",
    "model.evaluate(x=val_dataset.batch(32).prefetch(2), verbose=1)\n",
    "\n"
   ]
  },
  {
   "cell_type": "code",
   "execution_count": null,
   "metadata": {
    "collapsed": false,
    "pycharm": {
     "name": "#%%\n"
    }
   },
   "outputs": [],
   "source": []
  }
 ],
 "metadata": {
  "kernelspec": {
   "display_name": "Python 3",
   "language": "python",
   "name": "python3"
  },
  "language_info": {
   "codemirror_mode": {
    "name": "ipython",
    "version": 2
   },
   "file_extension": ".py",
   "mimetype": "text/x-python",
   "name": "python",
   "nbconvert_exporter": "python",
   "pygments_lexer": "ipython2",
   "version": "2.7.6"
  }
 },
 "nbformat": 4,
 "nbformat_minor": 0
}