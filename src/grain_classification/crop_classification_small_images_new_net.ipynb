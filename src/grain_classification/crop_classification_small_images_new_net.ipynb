{
 "cells": [
  {
   "cell_type": "code",
   "execution_count": 1,
   "metadata": {
    "collapsed": true
   },
   "outputs": [],
   "source": [
    "import geopandas as gpd\n",
    "import matplotlib.pyplot as plt\n",
    "import numpy as np\n",
    "import pandas as pd\n",
    "import tensorflow as tf\n",
    "from tqdm import tqdm\n",
    "from tensorflow import keras\n",
    "\n",
    "from sentinel.storage import SentinelDataset, SentinelDatasetIterator\n",
    "from mask.mask_dataset import MaskDataset, MaskDatasetIterator\n",
    "\n",
    "%load_ext autoreload\n",
    "%autoreload 2\n",
    "\n",
    "data_path = '../../kornmo-data-files/raw-data/crop-classification-data/'"
   ]
  },
  {
   "cell_type": "code",
   "execution_count": 2,
   "outputs": [
    {
     "name": "stdout",
     "output_type": "stream",
     "text": [
      "Reading data\n",
      "Reading masks\n",
      "Reading satellite images\n",
      "Loaded 86079 masks\n",
      "Loaded 2582370 images\n"
     ]
    }
   ],
   "source": [
    "print(\"Reading data\")\n",
    "data = gpd.read_file(f\"{data_path}/training_data.gpkg\")\n",
    "data['orgnr'] = data['orgnr'].astype(int)\n",
    "data['year'] = data['year'].astype(int)\n",
    "\n",
    "print(\"Reading masks\")\n",
    "masks = MaskDataset(f\"{data_path}/small_masks_train.h5\")\n",
    "\n",
    "print(\"Reading satellite images\")\n",
    "satellite_imgs = SentinelDataset(f\"{data_path}/small_images_train.h5\")\n",
    "\n",
    "print(f\"Loaded {len(masks.labels)} masks\")\n",
    "print(f\"Loaded {len(satellite_imgs.labels) * 30} images\")"
   ],
   "metadata": {
    "collapsed": false,
    "pycharm": {
     "name": "#%%\n"
    }
   }
  },
  {
   "cell_type": "code",
   "execution_count": 3,
   "outputs": [
    {
     "name": "stdout",
     "output_type": "stream",
     "text": [
      "['havre', 'bygg', 'rughvete', 'hvete', 'rug']\n",
      "bygg        76231\n",
      "havre       20512\n",
      "hvete       18102\n",
      "rug           816\n",
      "rughvete      517\n",
      "dtype: int64\n"
     ]
    }
   ],
   "source": [
    "data = data.loc[data['planted'] != 'erter']\n",
    "# data = data.loc[data['planted'] != 'rughvete']\n",
    "data = data.loc[data['planted'] != 'oljefro']\n",
    "# data = data.loc[data['planted'] != 'rug']\n",
    "data.drop(data[data['area'] < 1500].index, inplace = True)\n",
    "\n",
    "labels = list(set(data['planted']))\n",
    "n_classes = len(labels)\n",
    "IMG_SIZE = 16\n",
    "IMG_CHANNEL = 12\n",
    "\n",
    "print(labels)\n",
    "print(pd.Series(list(data['planted'])).value_counts())"
   ],
   "metadata": {
    "collapsed": false,
    "pycharm": {
     "name": "#%%\n"
    }
   }
  },
  {
   "cell_type": "code",
   "execution_count": 4,
   "outputs": [],
   "source": [
    "def add_labels(orgnr, year, data_arg):\n",
    "    orgnr = int(orgnr[:9])\n",
    "    year = int(year)\n",
    "    if orgnr in data['orgnr'].unique() and year in data.loc[data['orgnr'] == orgnr]['year'].unique():\n",
    "        label = data.loc[data['orgnr'] == orgnr].loc[data['year'] == year]['planted'].iloc[0]\n",
    "        index = labels.index(label)\n",
    "        arr = [0 for _ in range(0, len(labels))]\n",
    "        arr[index] = 1\n",
    "        return {'class': arr}\n",
    "    else:\n",
    "        return []\n"
   ],
   "metadata": {
    "collapsed": false,
    "pycharm": {
     "name": "#%%\n"
    }
   }
  },
  {
   "cell_type": "code",
   "execution_count": 5,
   "outputs": [
    {
     "name": "stderr",
     "output_type": "stream",
     "text": [
      "100%|██████████| 68863/68863 [03:07<00:00, 367.21it/s]\n",
      "100%|██████████| 17216/17216 [00:47<00:00, 364.69it/s]\n",
      "100%|██████████| 86079/86079 [08:24<00:00, 170.50it/s]"
     ]
    },
    {
     "name": "stdout",
     "output_type": "stream",
     "text": [
      "train samples: 68569\n",
      "val samples: 17153\n"
     ]
    },
    {
     "name": "stderr",
     "output_type": "stream",
     "text": [
      "\n"
     ]
    }
   ],
   "source": [
    "train, val = satellite_imgs.to_iterator().split(rand_seed='corn')\n",
    "\n",
    "train = train.with_data(add_labels, show_progress=True)\n",
    "val = val.with_data(add_labels, show_progress=True)\n",
    "masks_it = masks.get_iterator()\n",
    "mask_dict = {}\n",
    "\n",
    "for orgnr, year, mask in tqdm(masks_it, total=len(masks_it.labels)):\n",
    "    mask_dict[f'{orgnr}/{year}'] = mask\n",
    "\n",
    "\n",
    "print(f\"train samples: {len(train)}\")\n",
    "print(f\"val samples: {len(val)}\")\n",
    "\n",
    "#7737, 1937"
   ],
   "metadata": {
    "collapsed": false,
    "pycharm": {
     "name": "#%%\n"
    }
   }
  },
  {
   "cell_type": "code",
   "execution_count": 26,
   "outputs": [
    {
     "name": "stdout",
     "output_type": "stream",
     "text": [
      "Augmented samples: 68569\n"
     ]
    }
   ],
   "source": [
    "import tensorflow_addons as tfa\n",
    "from sentinel.transform import salt_n_pepper\n",
    "\n",
    "stride = 2\n",
    "def top_left(imgs):\n",
    "    return imgs[...,:-stride, :-stride,:]\n",
    "def top_right(imgs):\n",
    "    return imgs[...,:-stride, stride:,:]\n",
    "def bot_left(imgs):\n",
    "    return imgs[...,stride:, :-stride,:]\n",
    "def bot_right(imgs):\n",
    "    return imgs[...,stride:, stride:,:]\n",
    "def center(imgs):\n",
    "    s = stride//2\n",
    "    return imgs[...,s:-s, s:-s,:]\n",
    "\n",
    "def rotate_random(imgs):\n",
    "    angle = tf.constant(np.pi/8)\n",
    "    return tfa.image.rotate(imgs, angle)\n",
    "\n",
    "def random_flip_left_right(imgs):\n",
    "    return tf.image.random_flip_left_right(imgs)\n",
    "\n",
    "def random_flip_up_down(imgs):\n",
    "    return tf.image.random_flip_up_down(imgs)\n",
    "\n",
    "\n",
    "\n",
    "augmented_dataset = train\\\n",
    "    .transform(salt_n_pepper())\\\n",
    "    .transform(rotate_random)\\\n",
    "    .transform(random_flip_left_right)\\\n",
    "    .transform(random_flip_up_down)\\\n",
    "\n",
    "#valnew = val.transform(center)\n",
    "\n",
    "print(f\"Augmented samples: {len(augmented_dataset)}\")\n"
   ],
   "metadata": {
    "collapsed": false,
    "pycharm": {
     "name": "#%%\n"
    }
   }
  },
  {
   "cell_type": "code",
   "execution_count": 27,
   "outputs": [],
   "source": [
    "timesteps = 11\n",
    "def train_generator():\n",
    "    for orgnr, year, imgs, label in augmented_dataset:\n",
    "        #imgs = apply_mask_to_image_series(mask_dict[f'{orgnr}/{year}'], imgs[4:20], image_size=IMG_SIZE)\n",
    "        imgs = imgs[0:timesteps]\n",
    "        yield imgs, label['class']\n",
    "\n",
    "\n",
    "def val_generator():\n",
    "    for orgnr, year, imgs, label in val:\n",
    "        #imgs = apply_mask_to_image_series(mask_dict[f'{orgnr}/{year}'], imgs[4:20], image_size=IMG_SIZE)\n",
    "        imgs = imgs[0:timesteps]\n",
    "        yield imgs, label['class']\n",
    "\n"
   ],
   "metadata": {
    "collapsed": false,
    "pycharm": {
     "name": "#%%\n"
    }
   }
  },
  {
   "cell_type": "code",
   "execution_count": 28,
   "outputs": [
    {
     "data": {
      "text/plain": "<Figure size 720x720 with 11 Axes>",
      "image/png": "[encoded data removed]"
     },
     "metadata": {
      "needs_background": "light"
     },
     "output_type": "display_data"
    }
   ],
   "source": [
    "from src.utils import to_rgb\n",
    "def plot_30_imgs(images):\n",
    "    rows = 5\n",
    "    cols = 6\n",
    "    fig = plt.figure(figsize=(10,10))\n",
    "    for i, img in enumerate(images):\n",
    "        fig.add_subplot(rows, cols, i + 1)\n",
    "        plt.imshow(to_rgb(img))\n",
    "\n",
    "i = 0\n",
    "for imgs, _ in val_generator():\n",
    "    if i == 0:\n",
    "        plot_30_imgs(imgs)\n",
    "        break\n",
    "    i += 1"
   ],
   "metadata": {
    "collapsed": false,
    "pycharm": {
     "name": "#%%\n"
    }
   }
  },
  {
   "cell_type": "code",
   "execution_count": 29,
   "outputs": [],
   "source": [
    "\n",
    "train_dataset = tf.data.Dataset.from_generator(\n",
    "    train_generator,\n",
    "    output_types=(tf.dtypes.float64, tf.dtypes.int64),\n",
    "    output_shapes=((timesteps, IMG_SIZE, IMG_SIZE, IMG_CHANNEL), n_classes)\n",
    ")\n",
    "\n",
    "val_dataset = tf.data.Dataset.from_generator(\n",
    "    val_generator,\n",
    "    output_types=(tf.dtypes.float64, tf.dtypes.int64),\n",
    "    output_shapes=((timesteps, IMG_SIZE, IMG_SIZE, IMG_CHANNEL), n_classes)\n",
    ")\n",
    "\n"
   ],
   "metadata": {
    "collapsed": false,
    "pycharm": {
     "name": "#%%\n"
    }
   }
  },
  {
   "cell_type": "code",
   "execution_count": 29,
   "outputs": [],
   "source": [],
   "metadata": {
    "collapsed": false,
    "pycharm": {
     "name": "#%%\n"
    }
   }
  },
  {
   "cell_type": "code",
   "execution_count": 30,
   "outputs": [],
   "source": [
    "from keras.layers import Conv2D, BatchNormalization, MaxPool2D, GlobalMaxPool2D\n",
    "\n",
    "def build_convnet(shape=(IMG_SIZE, IMG_SIZE, IMG_CHANNEL)):\n",
    "    momentum = 0.9\n",
    "    model = keras.Sequential()\n",
    "    model.add(Conv2D(16, (3,3), input_shape=shape, padding='same', activation='relu'))\n",
    "    model.add(Conv2D(16, (3,3), padding='same', activation='relu'))\n",
    "    model.add(BatchNormalization(momentum=momentum))\n",
    "\n",
    "    model.add(MaxPool2D())\n",
    "\n",
    "    model.add(Conv2D(32, (3,3), padding='same', activation='relu'))\n",
    "    model.add(Conv2D(32, (3,3), padding='same', activation='relu'))\n",
    "    model.add(BatchNormalization(momentum=momentum))\n",
    "\n",
    "    # model.add(MaxPool2D())\n",
    "    #\n",
    "    # model.add(Conv2D(256, (3,3), padding='same', activation='relu'))\n",
    "    # model.add(Conv2D(256, (3,3), padding='same', activation='relu'))\n",
    "    # model.add(BatchNormalization(momentum=momentum))\n",
    "\n",
    "    # model.add(MaxPool2D())\n",
    "\n",
    "    # model.add(Conv2D(512, (3,3), padding='same', activation='relu'))\n",
    "    # model.add(Conv2D(512, (3,3), padding='same', activation='relu'))\n",
    "    # model.add(BatchNormalization(momentum=momentum))\n",
    "\n",
    "    # flatten...\n",
    "    model.add(GlobalMaxPool2D())\n",
    "    return model\n",
    "\n"
   ],
   "metadata": {
    "collapsed": false,
    "pycharm": {
     "name": "#%%\n"
    }
   }
  },
  {
   "cell_type": "code",
   "execution_count": 31,
   "outputs": [],
   "source": [
    "from keras.layers import TimeDistributed, GRU, Dense, Dropout, Reshape\n",
    "\n",
    "\n",
    "def action_model(shape=(30, IMG_SIZE, IMG_SIZE, IMG_CHANNEL,), n_classes=n_classes):\n",
    "    convnet = build_convnet(shape[1:])\n",
    "\n",
    "    model = keras.Sequential()\n",
    "\n",
    "    model.add(TimeDistributed(convnet, input_shape=shape))\n",
    "    # here, you can also use GRU or LSTM\n",
    "    model.add(GRU(12))\n",
    "    # model.add(Dense(1024, activation='relu'))\n",
    "    # model.add(Dropout(0.5))\n",
    "    # model.add(Dense(512, activation='relu'))\n",
    "    model.add(Dense(64, activation='relu'))\n",
    "    model.add(Dropout(0.5))\n",
    "    model.add(Dense(32, activation='relu'))\n",
    "    model.add(Dense(n_classes, activation='softmax'))\n",
    "    return model"
   ],
   "metadata": {
    "collapsed": false,
    "pycharm": {
     "name": "#%%\n"
    }
   }
  },
  {
   "cell_type": "code",
   "execution_count": 33,
   "outputs": [
    {
     "name": "stdout",
     "output_type": "stream",
     "text": [
      "Model: \"sequential_5\"\n",
      "_________________________________________________________________\n",
      " Layer (type)                Output Shape              Param #   \n",
      "=================================================================\n",
      " time_distributed_2 (TimeDis  (None, 11, 32)           18144     \n",
      " tributed)                                                       \n",
      "                                                                 \n",
      " gru_2 (GRU)                 (None, 12)                1656      \n",
      "                                                                 \n",
      " dense_6 (Dense)             (None, 64)                832       \n",
      "                                                                 \n",
      " dropout_2 (Dropout)         (None, 64)                0         \n",
      "                                                                 \n",
      " dense_7 (Dense)             (None, 32)                2080      \n",
      "                                                                 \n",
      " dense_8 (Dense)             (None, 5)                 165       \n",
      "                                                                 \n",
      "=================================================================\n",
      "Total params: 22,877\n",
      "Trainable params: 22,781\n",
      "Non-trainable params: 96\n",
      "_________________________________________________________________\n",
      "None\n",
      "Epoch 1/100\n",
      "313/313 [==============================] - 99s 309ms/step - loss: 1.0266 - acc: 0.6096 - val_loss: 0.9512 - val_acc: 0.6351\n",
      "Epoch 2/100\n",
      "313/313 [==============================] - 94s 301ms/step - loss: 0.9781 - acc: 0.6248 - val_loss: 0.9486 - val_acc: 0.6351\n",
      "Epoch 3/100\n",
      "313/313 [==============================] - 95s 303ms/step - loss: 0.9687 - acc: 0.6248 - val_loss: 0.9426 - val_acc: 0.6351\n",
      "Epoch 4/100\n",
      "313/313 [==============================] - 96s 308ms/step - loss: 0.9634 - acc: 0.6247 - val_loss: 0.9396 - val_acc: 0.6351\n",
      "Epoch 5/100\n",
      "313/313 [==============================] - 94s 301ms/step - loss: 0.9588 - acc: 0.6246 - val_loss: 0.9467 - val_acc: 0.6351\n",
      "Epoch 6/100\n",
      "313/313 [==============================] - 95s 302ms/step - loss: 0.9536 - acc: 0.6252 - val_loss: 0.9497 - val_acc: 0.6351\n",
      "Epoch 7/100\n",
      "313/313 [==============================] - 95s 304ms/step - loss: 0.9493 - acc: 0.6247 - val_loss: 0.9275 - val_acc: 0.6351\n",
      "Epoch 8/100\n",
      "313/313 [==============================] - 100s 320ms/step - loss: 0.9400 - acc: 0.6244 - val_loss: 0.9148 - val_acc: 0.6367\n",
      "Epoch 9/100\n",
      "313/313 [==============================] - 109s 347ms/step - loss: 0.9414 - acc: 0.6276 - val_loss: 0.9343 - val_acc: 0.6360\n",
      "Epoch 10/100\n",
      "313/313 [==============================] - 114s 363ms/step - loss: 0.9304 - acc: 0.6287 - val_loss: 0.9163 - val_acc: 0.6367\n",
      "Epoch 11/100\n",
      "313/313 [==============================] - 115s 367ms/step - loss: 0.9246 - acc: 0.6281 - val_loss: 0.9044 - val_acc: 0.6386\n",
      "Epoch 12/100\n",
      "313/313 [==============================] - 113s 362ms/step - loss: 0.9190 - acc: 0.6292 - val_loss: 0.9022 - val_acc: 0.6362\n",
      "Epoch 13/100\n",
      "313/313 [==============================] - 112s 357ms/step - loss: 0.9131 - acc: 0.6329 - val_loss: 0.8974 - val_acc: 0.6385\n",
      "Epoch 14/100\n",
      "313/313 [==============================] - 113s 360ms/step - loss: 0.9095 - acc: 0.6309 - val_loss: 0.8900 - val_acc: 0.6373\n",
      "Epoch 15/100\n",
      "313/313 [==============================] - 112s 357ms/step - loss: 0.8873 - acc: 0.6321 - val_loss: 0.9226 - val_acc: 0.6380\n",
      "Epoch 16/100\n",
      "313/313 [==============================] - 112s 357ms/step - loss: 0.8709 - acc: 0.6322 - val_loss: 0.8550 - val_acc: 0.6428\n",
      "Epoch 17/100\n",
      "313/313 [==============================] - 112s 359ms/step - loss: 0.8580 - acc: 0.6330 - val_loss: 0.8550 - val_acc: 0.6425\n",
      "Epoch 18/100\n",
      "313/313 [==============================] - 110s 353ms/step - loss: 0.8457 - acc: 0.6374 - val_loss: 0.9096 - val_acc: 0.6397\n",
      "Epoch 19/100\n",
      "313/313 [==============================] - 101s 323ms/step - loss: 0.8392 - acc: 0.6365 - val_loss: 0.8518 - val_acc: 0.6370\n",
      "Epoch 20/100\n",
      "313/313 [==============================] - 99s 318ms/step - loss: 0.8309 - acc: 0.6403 - val_loss: 0.8462 - val_acc: 0.6417\n",
      "Epoch 21/100\n",
      "313/313 [==============================] - 101s 324ms/step - loss: 0.8238 - acc: 0.6407 - val_loss: 0.9067 - val_acc: 0.6325\n",
      "Epoch 22/100\n",
      "313/313 [==============================] - 101s 323ms/step - loss: 0.8149 - acc: 0.6432 - val_loss: 1.0044 - val_acc: 0.6385\n",
      "Epoch 23/100\n",
      "313/313 [==============================] - 113s 361ms/step - loss: 0.8090 - acc: 0.6477 - val_loss: 0.9052 - val_acc: 0.6441\n",
      "Epoch 24/100\n",
      "313/313 [==============================] - 100s 320ms/step - loss: 0.8057 - acc: 0.6474 - val_loss: 0.9456 - val_acc: 0.6391\n",
      "Epoch 25/100\n",
      "313/313 [==============================] - 99s 318ms/step - loss: 0.7995 - acc: 0.6471 - val_loss: 0.8119 - val_acc: 0.6446\n",
      "Epoch 26/100\n",
      "313/313 [==============================] - 99s 318ms/step - loss: 0.7947 - acc: 0.6475 - val_loss: 0.8194 - val_acc: 0.6540\n",
      "Epoch 27/100\n",
      "313/313 [==============================] - 100s 319ms/step - loss: 0.7875 - acc: 0.6538 - val_loss: 0.9863 - val_acc: 0.6396\n",
      "Epoch 28/100\n",
      "313/313 [==============================] - 102s 326ms/step - loss: 0.7848 - acc: 0.6568 - val_loss: 1.0259 - val_acc: 0.6368\n",
      "Epoch 29/100\n",
      "313/313 [==============================] - 99s 317ms/step - loss: 0.7823 - acc: 0.6538 - val_loss: 0.8052 - val_acc: 0.6583\n",
      "Epoch 30/100\n",
      "313/313 [==============================] - 100s 320ms/step - loss: 0.7780 - acc: 0.6544 - val_loss: 0.9638 - val_acc: 0.6426\n",
      "Epoch 31/100\n",
      "313/313 [==============================] - 100s 320ms/step - loss: 0.7781 - acc: 0.6587 - val_loss: 1.0443 - val_acc: 0.6378\n",
      "Epoch 32/100\n",
      "313/313 [==============================] - 105s 336ms/step - loss: 0.7743 - acc: 0.6597 - val_loss: 1.0743 - val_acc: 0.6299\n",
      "Epoch 33/100\n",
      "313/313 [==============================] - 106s 337ms/step - loss: 0.7685 - acc: 0.6566 - val_loss: 1.0938 - val_acc: 0.6355\n",
      "Epoch 34/100\n",
      "313/313 [==============================] - 115s 369ms/step - loss: 0.7696 - acc: 0.6584 - val_loss: 0.8671 - val_acc: 0.6529\n",
      "Epoch 35/100\n",
      "313/313 [==============================] - 113s 361ms/step - loss: 0.7637 - acc: 0.6634 - val_loss: 1.0315 - val_acc: 0.6354\n",
      "Epoch 36/100\n",
      "313/313 [==============================] - 105s 335ms/step - loss: 0.7659 - acc: 0.6612 - val_loss: 1.0356 - val_acc: 0.6374\n",
      "Epoch 37/100\n",
      "313/313 [==============================] - 98s 314ms/step - loss: 0.7593 - acc: 0.6635 - val_loss: 1.1429 - val_acc: 0.6316\n",
      "Epoch 38/100\n",
      "313/313 [==============================] - 99s 315ms/step - loss: 0.7566 - acc: 0.6642 - val_loss: 1.0368 - val_acc: 0.6414\n",
      "Epoch 39/100\n",
      "313/313 [==============================] - 99s 316ms/step - loss: 0.7568 - acc: 0.6659 - val_loss: 0.8897 - val_acc: 0.6543\n",
      "Epoch 40/100\n",
      "313/313 [==============================] - 108s 346ms/step - loss: 0.7511 - acc: 0.6708 - val_loss: 1.2006 - val_acc: 0.6274\n",
      "Epoch 41/100\n",
      "313/313 [==============================] - 111s 355ms/step - loss: 0.7483 - acc: 0.6738 - val_loss: 1.0627 - val_acc: 0.6395\n",
      "Epoch 42/100\n",
      "313/313 [==============================] - 112s 357ms/step - loss: 0.7464 - acc: 0.6694 - val_loss: 0.8863 - val_acc: 0.6559\n",
      "Epoch 43/100\n",
      "313/313 [==============================] - 112s 358ms/step - loss: 0.7469 - acc: 0.6693 - val_loss: 1.1930 - val_acc: 0.6304\n",
      "Epoch 44/100\n",
      "313/313 [==============================] - 108s 347ms/step - loss: 0.7419 - acc: 0.6718 - val_loss: 0.8841 - val_acc: 0.6560\n",
      "Epoch 45/100\n",
      "313/313 [==============================] - 99s 316ms/step - loss: 0.7376 - acc: 0.6780 - val_loss: 1.0780 - val_acc: 0.6352\n",
      "Epoch 46/100\n",
      "313/313 [==============================] - 99s 317ms/step - loss: 0.7368 - acc: 0.6757 - val_loss: 1.1778 - val_acc: 0.6279\n",
      "Epoch 47/100\n",
      "313/313 [==============================] - 108s 345ms/step - loss: 0.7412 - acc: 0.6778 - val_loss: 0.7881 - val_acc: 0.6704\n",
      "Epoch 48/100\n",
      "313/313 [==============================] - 113s 361ms/step - loss: 0.7344 - acc: 0.6758 - val_loss: 1.2627 - val_acc: 0.6318\n",
      "Epoch 49/100\n",
      "313/313 [==============================] - 112s 358ms/step - loss: 0.7369 - acc: 0.6775 - val_loss: 1.3348 - val_acc: 0.6330\n",
      "Epoch 50/100\n",
      "313/313 [==============================] - 111s 356ms/step - loss: 0.7312 - acc: 0.6797 - val_loss: 0.9662 - val_acc: 0.6583\n",
      "Epoch 51/100\n",
      "313/313 [==============================] - 111s 356ms/step - loss: 0.7310 - acc: 0.6835 - val_loss: 1.2910 - val_acc: 0.6298\n",
      "Epoch 52/100\n",
      "313/313 [==============================] - 111s 354ms/step - loss: 0.7314 - acc: 0.6833 - val_loss: 1.1536 - val_acc: 0.6359\n",
      "Epoch 53/100\n",
      "313/313 [==============================] - 112s 358ms/step - loss: 0.7215 - acc: 0.6841 - val_loss: 0.9858 - val_acc: 0.6536\n",
      "Epoch 54/100\n",
      "313/313 [==============================] - 112s 357ms/step - loss: 0.7254 - acc: 0.6822 - val_loss: 1.3382 - val_acc: 0.6234\n",
      "Epoch 55/100\n",
      "313/313 [==============================] - 111s 356ms/step - loss: 0.7222 - acc: 0.6874 - val_loss: 1.3398 - val_acc: 0.6180\n",
      "Epoch 56/100\n",
      "313/313 [==============================] - 110s 353ms/step - loss: 0.7232 - acc: 0.6856 - val_loss: 0.9366 - val_acc: 0.6581\n",
      "Epoch 57/100\n",
      "313/313 [==============================] - 109s 349ms/step - loss: 0.7198 - acc: 0.6849 - val_loss: 1.2244 - val_acc: 0.6297\n",
      "Epoch 58/100\n",
      "313/313 [==============================] - 99s 316ms/step - loss: 0.7159 - acc: 0.6886 - val_loss: 0.9414 - val_acc: 0.6612\n",
      "Epoch 59/100\n",
      "313/313 [==============================] - 106s 340ms/step - loss: 0.7197 - acc: 0.6894 - val_loss: 1.0089 - val_acc: 0.6522\n",
      "Epoch 60/100\n",
      "313/313 [==============================] - 101s 322ms/step - loss: 0.7143 - acc: 0.6870 - val_loss: 1.4158 - val_acc: 0.6273\n",
      "Epoch 61/100\n",
      "313/313 [==============================] - 104s 331ms/step - loss: 0.7139 - acc: 0.6894 - val_loss: 1.2286 - val_acc: 0.6371\n",
      "Epoch 62/100\n",
      "313/313 [==============================] - 106s 337ms/step - loss: 0.7091 - acc: 0.6968 - val_loss: 1.3687 - val_acc: 0.6326\n",
      "Epoch 63/100\n",
      "313/313 [==============================] - 98s 312ms/step - loss: 0.7098 - acc: 0.6946 - val_loss: 1.1242 - val_acc: 0.6419\n",
      "Epoch 64/100\n",
      "313/313 [==============================] - 104s 334ms/step - loss: 0.7095 - acc: 0.6887 - val_loss: 0.7551 - val_acc: 0.6826\n",
      "Epoch 65/100\n",
      "313/313 [==============================] - 112s 357ms/step - loss: 0.7104 - acc: 0.6915 - val_loss: 1.2310 - val_acc: 0.6350\n",
      "Epoch 66/100\n",
      "313/313 [==============================] - 112s 357ms/step - loss: 0.7036 - acc: 0.6951 - val_loss: 0.8038 - val_acc: 0.6560\n",
      "Epoch 67/100\n",
      "313/313 [==============================] - 109s 350ms/step - loss: 0.7010 - acc: 0.6967 - val_loss: 1.2219 - val_acc: 0.6413\n",
      "Epoch 68/100\n",
      "313/313 [==============================] - 112s 357ms/step - loss: 0.7011 - acc: 0.7000 - val_loss: 1.2042 - val_acc: 0.6447\n",
      "Epoch 69/100\n",
      "313/313 [==============================] - 113s 363ms/step - loss: 0.6987 - acc: 0.6964 - val_loss: 1.3092 - val_acc: 0.6398\n",
      "Epoch 70/100\n",
      "313/313 [==============================] - 114s 365ms/step - loss: 0.7017 - acc: 0.6970 - val_loss: 0.9918 - val_acc: 0.6587\n",
      "Epoch 71/100\n",
      "313/313 [==============================] - 113s 360ms/step - loss: 0.6977 - acc: 0.6980 - val_loss: 1.2187 - val_acc: 0.6402\n",
      "Epoch 72/100\n",
      "313/313 [==============================] - 114s 366ms/step - loss: 0.7010 - acc: 0.6976 - val_loss: 0.8480 - val_acc: 0.6693\n",
      "Epoch 73/100\n",
      "313/313 [==============================] - 113s 363ms/step - loss: 0.7016 - acc: 0.6975 - val_loss: 1.4141 - val_acc: 0.6325\n",
      "Epoch 74/100\n",
      "313/313 [==============================] - 106s 338ms/step - loss: 0.6941 - acc: 0.7046 - val_loss: 1.2437 - val_acc: 0.6387\n",
      "Epoch 75/100\n",
      "313/313 [==============================] - 106s 338ms/step - loss: 0.6899 - acc: 0.7000 - val_loss: 0.9198 - val_acc: 0.6676\n",
      "Epoch 76/100\n",
      "313/313 [==============================] - 111s 355ms/step - loss: 0.6915 - acc: 0.7073 - val_loss: 0.9252 - val_acc: 0.6198\n",
      "Epoch 77/100\n",
      "313/313 [==============================] - 108s 345ms/step - loss: 0.6870 - acc: 0.7095 - val_loss: 1.1119 - val_acc: 0.6486\n",
      "Epoch 78/100\n",
      "313/313 [==============================] - 105s 337ms/step - loss: 0.6951 - acc: 0.7030 - val_loss: 0.8626 - val_acc: 0.6706\n",
      "Epoch 79/100\n",
      "313/313 [==============================] - 107s 341ms/step - loss: 0.6854 - acc: 0.7041 - val_loss: 1.3166 - val_acc: 0.6420\n",
      "Epoch 80/100\n",
      "313/313 [==============================] - 100s 319ms/step - loss: 0.6819 - acc: 0.7100 - val_loss: 0.7710 - val_acc: 0.6645\n",
      "Epoch 81/100\n",
      "313/313 [==============================] - 99s 317ms/step - loss: 0.6844 - acc: 0.7058 - val_loss: 0.7658 - val_acc: 0.6851\n",
      "Epoch 82/100\n",
      "313/313 [==============================] - 97s 311ms/step - loss: 0.6855 - acc: 0.7049 - val_loss: 1.1523 - val_acc: 0.6483\n",
      "Epoch 83/100\n",
      "313/313 [==============================] - 98s 313ms/step - loss: 0.6863 - acc: 0.7029 - val_loss: 1.1646 - val_acc: 0.6452\n",
      "Epoch 84/100\n",
      "313/313 [==============================] - 96s 307ms/step - loss: 0.6830 - acc: 0.7068 - val_loss: 0.8497 - val_acc: 0.6683\n",
      "Epoch 85/100\n",
      "313/313 [==============================] - 98s 314ms/step - loss: 0.6807 - acc: 0.7092 - val_loss: 1.1563 - val_acc: 0.6440\n",
      "Epoch 86/100\n",
      "313/313 [==============================] - 98s 313ms/step - loss: 0.6768 - acc: 0.7092 - val_loss: 0.8238 - val_acc: 0.6694\n",
      "Epoch 87/100\n",
      "313/313 [==============================] - 102s 327ms/step - loss: 0.6769 - acc: 0.7090 - val_loss: 1.0238 - val_acc: 0.6556\n",
      "Epoch 88/100\n",
      "313/313 [==============================] - 109s 348ms/step - loss: 0.6799 - acc: 0.7069 - val_loss: 1.0426 - val_acc: 0.6456\n",
      "Epoch 89/100\n",
      "313/313 [==============================] - 110s 352ms/step - loss: 0.6788 - acc: 0.7132 - val_loss: 1.2114 - val_acc: 0.6444\n",
      "Epoch 90/100\n",
      "313/313 [==============================] - 109s 349ms/step - loss: 0.6766 - acc: 0.7085 - val_loss: 0.9717 - val_acc: 0.6520\n",
      "Epoch 91/100\n",
      "313/313 [==============================] - 120s 383ms/step - loss: 0.6775 - acc: 0.7110 - val_loss: 1.0197 - val_acc: 0.6516\n",
      "Epoch 92/100\n",
      "313/313 [==============================] - 141s 451ms/step - loss: 0.6693 - acc: 0.7132 - val_loss: 0.9739 - val_acc: 0.6601\n",
      "Epoch 93/100\n",
      "313/313 [==============================] - 147s 471ms/step - loss: 0.6736 - acc: 0.7132 - val_loss: 1.4878 - val_acc: 0.6283\n",
      "Epoch 94/100\n",
      "313/313 [==============================] - 150s 479ms/step - loss: 0.6775 - acc: 0.7108 - val_loss: 1.0602 - val_acc: 0.6494\n",
      "Epoch 95/100\n",
      "313/313 [==============================] - 146s 467ms/step - loss: 0.6697 - acc: 0.7138 - val_loss: 1.0105 - val_acc: 0.6506\n",
      "Epoch 96/100\n",
      "313/313 [==============================] - 152s 485ms/step - loss: 0.6714 - acc: 0.7094 - val_loss: 0.8314 - val_acc: 0.6647\n",
      "Epoch 97/100\n",
      "313/313 [==============================] - 146s 467ms/step - loss: 0.6668 - acc: 0.7117 - val_loss: 1.1921 - val_acc: 0.6419\n",
      "Epoch 98/100\n",
      "313/313 [==============================] - 137s 440ms/step - loss: 0.6702 - acc: 0.7118 - val_loss: 1.1635 - val_acc: 0.6384\n",
      "Epoch 99/100\n",
      "313/313 [==============================] - 143s 458ms/step - loss: 0.6653 - acc: 0.7179 - val_loss: 1.0042 - val_acc: 0.6565\n",
      "Epoch 100/100\n",
      "313/313 [==============================] - 140s 448ms/step - loss: 0.6649 - acc: 0.7158 - val_loss: 1.4069 - val_acc: 0.6296\n"
     ]
    }
   ],
   "source": [
    "from keras.models import load_model\n",
    "\n",
    "\n",
    "model_checkpoint = keras.callbacks.ModelCheckpoint(\n",
    "    './training',\n",
    "    monitor=\"val_loss\",\n",
    "    verbose=0,\n",
    "    mode=\"min\",\n",
    "    save_best_only=True,\n",
    "    save_weights_only=True,\n",
    ")\n",
    "\n",
    "#callbacks = [model_checkpoint]\n",
    "\n",
    "restart = True\n",
    "if restart:\n",
    "    model = action_model(shape=(timesteps, IMG_SIZE, IMG_SIZE, IMG_CHANNEL,))\n",
    "    print(model.summary())\n",
    "    optimizer = keras.optimizers.Adam(learning_rate=0.001)\n",
    "    model.compile(optimizer=optimizer, loss='categorical_crossentropy', metrics=['acc'])\n",
    "\n",
    "\n",
    "    cnn_history = model.fit(\n",
    "            train_dataset.take(10000).batch(32).prefetch(2),\n",
    "            validation_data=val_dataset.batch(32).prefetch(2),\n",
    "            epochs=100,\n",
    "            verbose=1,\n",
    "            #callbacks=callbacks,\n",
    "    )\n",
    "else:\n",
    "    model = load_model('./training/epoch_2.hdf5')\n",
    "\n",
    "    cnn_history = model.fit(\n",
    "            train_dataset.take(10000).batch(32).prefetch(2),\n",
    "            validation_data=val_dataset.batch(32).prefetch(2),\n",
    "            epochs=100,\n",
    "            verbose=1,\n",
    "            callbacks=callbacks,\n",
    "    )\n",
    "\n"
   ],
   "metadata": {
    "collapsed": false,
    "pycharm": {
     "name": "#%%\n"
    }
   }
  },
  {
   "cell_type": "code",
   "execution_count": 1,
   "outputs": [
    {
     "ename": "NameError",
     "evalue": "name 'np' is not defined",
     "output_type": "error",
     "traceback": [
      "\u001B[1;31m---------------------------------------------------------------------------\u001B[0m",
      "\u001B[1;31mNameError\u001B[0m                                 Traceback (most recent call last)",
      "\u001B[1;32m~\\AppData\\Local\\Temp/ipykernel_26452/170641415.py\u001B[0m in \u001B[0;36m<module>\u001B[1;34m\u001B[0m\n\u001B[0;32m      1\u001B[0m \u001B[1;31m#print(cnn_history)\u001B[0m\u001B[1;33m\u001B[0m\u001B[1;33m\u001B[0m\u001B[0m\n\u001B[1;32m----> 2\u001B[1;33m \u001B[0mN\u001B[0m \u001B[1;33m=\u001B[0m \u001B[0mnp\u001B[0m\u001B[1;33m.\u001B[0m\u001B[0marange\u001B[0m\u001B[1;33m(\u001B[0m\u001B[1;36m0\u001B[0m\u001B[1;33m,\u001B[0m \u001B[0mlen\u001B[0m\u001B[1;33m(\u001B[0m\u001B[0mcnn_history\u001B[0m\u001B[1;33m.\u001B[0m\u001B[0mhistory\u001B[0m\u001B[1;33m[\u001B[0m\u001B[1;34m\"loss\"\u001B[0m\u001B[1;33m]\u001B[0m\u001B[1;33m)\u001B[0m\u001B[1;33m)\u001B[0m\u001B[1;33m\u001B[0m\u001B[1;33m\u001B[0m\u001B[0m\n\u001B[0m\u001B[0;32m      3\u001B[0m \u001B[0mplt\u001B[0m\u001B[1;33m.\u001B[0m\u001B[0mfigure\u001B[0m\u001B[1;33m(\u001B[0m\u001B[1;33m)\u001B[0m\u001B[1;33m\u001B[0m\u001B[1;33m\u001B[0m\u001B[0m\n\u001B[0;32m      4\u001B[0m \u001B[0mplt\u001B[0m\u001B[1;33m.\u001B[0m\u001B[0mplot\u001B[0m\u001B[1;33m(\u001B[0m\u001B[0mN\u001B[0m\u001B[1;33m,\u001B[0m \u001B[0mcnn_history\u001B[0m\u001B[1;33m.\u001B[0m\u001B[0mhistory\u001B[0m\u001B[1;33m[\u001B[0m\u001B[1;34m\"loss\"\u001B[0m\u001B[1;33m]\u001B[0m\u001B[1;33m,\u001B[0m \u001B[0mlabel\u001B[0m\u001B[1;33m=\u001B[0m\u001B[1;34m\"train_loss\"\u001B[0m\u001B[1;33m)\u001B[0m\u001B[1;33m\u001B[0m\u001B[1;33m\u001B[0m\u001B[0m\n\u001B[0;32m      5\u001B[0m \u001B[0mplt\u001B[0m\u001B[1;33m.\u001B[0m\u001B[0mplot\u001B[0m\u001B[1;33m(\u001B[0m\u001B[0mN\u001B[0m\u001B[1;33m,\u001B[0m \u001B[0mcnn_history\u001B[0m\u001B[1;33m.\u001B[0m\u001B[0mhistory\u001B[0m\u001B[1;33m[\u001B[0m\u001B[1;34m\"val_loss\"\u001B[0m\u001B[1;33m]\u001B[0m\u001B[1;33m,\u001B[0m \u001B[0mlabel\u001B[0m\u001B[1;33m=\u001B[0m\u001B[1;34m\"val_loss\"\u001B[0m\u001B[1;33m)\u001B[0m\u001B[1;33m\u001B[0m\u001B[1;33m\u001B[0m\u001B[0m\n",
      "\u001B[1;31mNameError\u001B[0m: name 'np' is not defined"
     ]
    }
   ],
   "source": [
    "#print(cnn_history)\n",
    "N = np.arange(0, len(cnn_history.history[\"loss\"]))\n",
    "plt.figure()\n",
    "plt.plot(N, cnn_history.history[\"loss\"], label=\"train_loss\")\n",
    "plt.plot(N, cnn_history.history[\"val_loss\"], label=\"val_loss\")\n",
    "plt.plot(N, cnn_history.history[\"acc\"], label=\"train_acc\")\n",
    "plt.plot(N, cnn_history.history[\"val_acc\"], label=\"val_acc\")\n",
    "plt.title(f\"Training Loss and Accuracy [Epoch {len(cnn_history.history['loss'])}]\")\n",
    "plt.xlabel(\"Epoch\")\n",
    "plt.ylabel(\"Loss/Accuracy\")\n",
    "plt.legend()\n",
    "plt.savefig('training/small_img_classification_1_11.png')\n",
    "\n",
    "model.save('training/models/classification_1-11.hdf5', overwrite=True)\n",
    "model.evaluate(x=val_dataset.batch(32).prefetch(2), verbose=1)\n",
    "\n",
    "\n",
    "# plt.xlabel('Epochs')\n",
    "# plt.ylabel(\"Loss/Accuracy\")\n",
    "# plt.plot(cnn_history.history['loss'], label=\"Training Loss\")\n",
    "# plt.plot(cnn_history.history['val_loss'], label=\"Validation Loss\")\n",
    "# plt.plot(cnn_history.history['acc'], label=\"Training Accuracy\")\n",
    "# plt.plot(cnn_history.history['val_acc'], label=\"Validation Accuracy\")\n",
    "#\n",
    "# plt.legend()\n",
    "#\n",
    "# plt.savefig('classification_model_results.svg', dpi=600)\n",
    "# plt.show()"
   ],
   "metadata": {
    "collapsed": false,
    "pycharm": {
     "name": "#%%\n"
    }
   }
  },
  {
   "cell_type": "code",
   "execution_count": null,
   "outputs": [],
   "source": [
    "# from keras.models import load_model\n",
    "#\n",
    "# model = load_model(f'./../src/grain_classification/training/models/classification_1-{timesteps}.hdf5')\n",
    "# print(model)\n",
    "#model.evaluate(val_dataset.batch(32), verbose=1)"
   ],
   "metadata": {
    "collapsed": false,
    "pycharm": {
     "name": "#%%\n"
    }
   }
  },
  {
   "cell_type": "code",
   "execution_count": null,
   "outputs": [],
   "source": [],
   "metadata": {
    "collapsed": false,
    "pycharm": {
     "name": "#%%\n"
    }
   }
  }
 ],
 "metadata": {
  "kernelspec": {
   "display_name": "Python 3",
   "language": "python",
   "name": "python3"
  },
  "language_info": {
   "codemirror_mode": {
    "name": "ipython",
    "version": 2
   },
   "file_extension": ".py",
   "mimetype": "text/x-python",
   "name": "python",
   "nbconvert_exporter": "python",
   "pygments_lexer": "ipython2",
   "version": "2.7.6"
  }
 },
 "nbformat": 4,
 "nbformat_minor": 0
}