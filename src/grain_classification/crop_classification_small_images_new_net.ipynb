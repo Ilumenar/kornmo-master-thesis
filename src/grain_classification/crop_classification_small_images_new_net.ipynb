{
 "cells": [
  {
   "cell_type": "code",
   "execution_count": 1,
   "metadata": {
    "collapsed": true
   },
   "outputs": [],
   "source": [
    "import geopandas as gpd\n",
    "import matplotlib.pyplot as plt\n",
    "import numpy as np\n",
    "import pandas as pd\n",
    "import h5py\n",
    "import tensorflow as tf\n",
    "import os\n",
    "from tqdm import tqdm\n",
    "from tensorflow import keras\n",
    "\n",
    "from src.utils import to_rgb\n",
    "from kornmo.sentinel.storage import SentinelDataset, SentinelDatasetIterator\n",
    "from kornmo.mask.mask_dataset import MaskDataset, MaskDatasetIterator\n",
    "from kornmo.mask.utils import apply_mask_to_image_series, apply_mask_to_image\n",
    "\n",
    "%load_ext autoreload\n",
    "%autoreload 2\n",
    "\n",
    "data_path = '../../../kornmo-data-files/raw-data/crop-classification-data/'"
   ]
  },
  {
   "cell_type": "code",
   "execution_count": 3,
   "outputs": [
    {
     "name": "stdout",
     "output_type": "stream",
     "text": [
      "Reading data\n",
      "Reading masks\n",
      "Reading satellite images\n",
      "Loaded 86079 masks\n",
      "Loaded 2582370 images\n"
     ]
    }
   ],
   "source": [
    "print(\"Reading data\")\n",
    "data = gpd.read_file(f\"{data_path}/training_data.gpkg\")\n",
    "data['orgnr'] = data['orgnr'].astype(int)\n",
    "data['year'] = data['year'].astype(int)\n",
    "\n",
    "print(\"Reading masks\")\n",
    "masks = MaskDataset(f\"{data_path}/small_masks_train.h5\")\n",
    "\n",
    "print(\"Reading satellite images\")\n",
    "satellite_imgs = SentinelDataset(f\"{data_path}/small_images_train.h5\")\n",
    "\n",
    "print(f\"Loaded {len(masks.labels)} masks\")\n",
    "print(f\"Loaded {len(satellite_imgs.labels) * 30} images\")"
   ],
   "metadata": {
    "collapsed": false,
    "pycharm": {
     "name": "#%%\n"
    }
   }
  },
  {
   "cell_type": "code",
   "execution_count": 4,
   "outputs": [
    {
     "name": "stdout",
     "output_type": "stream",
     "text": [
      "['bygg', 'havre', 'hvete', 'rug', 'rughvete']\n",
      "bygg        76231\n",
      "havre       20512\n",
      "hvete       18102\n",
      "rug           816\n",
      "rughvete      517\n",
      "dtype: int64\n"
     ]
    }
   ],
   "source": [
    "data = data.loc[data['planted'] != 'erter']\n",
    "# data = data.loc[data['planted'] != 'rughvete']\n",
    "data = data.loc[data['planted'] != 'oljefro']\n",
    "# data = data.loc[data['planted'] != 'rug']\n",
    "data.drop(data[data['area'] < 1500].index, inplace = True)\n",
    "\n",
    "labels = list(set(data['planted']))\n",
    "n_classes = len(labels)\n",
    "IMG_SIZE = 16\n",
    "IMG_CHANNEL = 12\n",
    "\n",
    "print(labels)\n",
    "print(pd.Series(list(data['planted'])).value_counts())"
   ],
   "metadata": {
    "collapsed": false,
    "pycharm": {
     "name": "#%%\n"
    }
   }
  },
  {
   "cell_type": "code",
   "execution_count": 5,
   "outputs": [],
   "source": [
    "def add_labels(orgnr, year, data_arg):\n",
    "    orgnr = int(orgnr[:9])\n",
    "    year = int(year)\n",
    "    if orgnr in data['orgnr'].unique() and year in data.loc[data['orgnr'] == orgnr]['year'].unique():\n",
    "        label = data.loc[data['orgnr'] == orgnr].loc[data['year'] == year]['planted'].iloc[0]\n",
    "        index = labels.index(label)\n",
    "        arr = [0 for _ in range(0, len(labels))]\n",
    "        arr[index] = 1\n",
    "        return {'class': arr}\n"
   ],
   "metadata": {
    "collapsed": false,
    "pycharm": {
     "name": "#%%\n"
    }
   }
  },
  {
   "cell_type": "code",
   "execution_count": 6,
   "outputs": [
    {
     "name": "stderr",
     "output_type": "stream",
     "text": [
      "100%|██████████| 68863/68863 [04:34<00:00, 251.11it/s]\n",
      "100%|██████████| 17216/17216 [01:01<00:00, 280.07it/s]\n",
      "100%|██████████| 86079/86079 [07:52<00:00, 182.01it/s]"
     ]
    },
    {
     "name": "stdout",
     "output_type": "stream",
     "text": [
      "train samples: 68569\n",
      "val samples: 17153\n"
     ]
    },
    {
     "name": "stderr",
     "output_type": "stream",
     "text": [
      "\n"
     ]
    }
   ],
   "source": [
    "train, val = satellite_imgs.to_iterator().split(rand_seed='corn')\n",
    "\n",
    "train = train.with_data(add_labels, show_progress=True)\n",
    "val = val.with_data(add_labels, show_progress=True)\n",
    "masks_it = masks.get_iterator()\n",
    "mask_dict = {}\n",
    "\n",
    "for orgnr, year, mask in tqdm(masks_it, total=len(masks_it.labels)):\n",
    "    mask_dict[f'{orgnr}/{year}'] = mask\n",
    "\n",
    "\n",
    "print(f\"train samples: {len(train)}\")\n",
    "print(f\"val samples: {len(val)}\")\n",
    "\n",
    "#7737, 1937"
   ],
   "metadata": {
    "collapsed": false,
    "pycharm": {
     "name": "#%%\n"
    }
   }
  },
  {
   "cell_type": "code",
   "execution_count": 7,
   "outputs": [
    {
     "name": "stdout",
     "output_type": "stream",
     "text": [
      "Augmented samples: 68569\n"
     ]
    }
   ],
   "source": [
    "import tensorflow_addons as tfa\n",
    "from kornmo.sentinel.transform import salt_n_pepper\n",
    "\n",
    "stride = 2\n",
    "def top_left(imgs):\n",
    "    return imgs[...,:-stride, :-stride,:]\n",
    "def top_right(imgs):\n",
    "    return imgs[...,:-stride, stride:,:]\n",
    "def bot_left(imgs):\n",
    "    return imgs[...,stride:, :-stride,:]\n",
    "def bot_right(imgs):\n",
    "    return imgs[...,stride:, stride:,:]\n",
    "def center(imgs):\n",
    "    s = stride//2\n",
    "    return imgs[...,s:-s, s:-s,:]\n",
    "\n",
    "def rotate_random(imgs):\n",
    "    angle = tf.constant(np.pi/8)\n",
    "    return tfa.image.rotate(imgs, angle)\n",
    "\n",
    "def random_flip_left_right(imgs):\n",
    "    return tf.image.random_flip_left_right(imgs)\n",
    "\n",
    "def random_flip_up_down(imgs):\n",
    "    return tf.image.random_flip_up_down(imgs)\n",
    "\n",
    "\n",
    "\n",
    "augmented_dataset = train\\\n",
    "    .transform(salt_n_pepper())\\\n",
    "    .transform(rotate_random)\\\n",
    "    .transform(random_flip_left_right)\\\n",
    "    .transform(random_flip_up_down)\\\n",
    "\n",
    "#valnew = val.transform(center)\n",
    "\n",
    "print(f\"Augmented samples: {len(augmented_dataset)}\")\n"
   ],
   "metadata": {
    "collapsed": false,
    "pycharm": {
     "name": "#%%\n"
    }
   }
  },
  {
   "cell_type": "code",
   "execution_count": 8,
   "outputs": [],
   "source": [
    "\n",
    "def train_generator():\n",
    "    for orgnr, year, imgs, label in augmented_dataset:\n",
    "        #imgs = apply_mask_to_image_series(mask_dict[f'{orgnr}/{year}'], imgs[4:20], image_size=IMG_SIZE)\n",
    "        imgs = imgs[0:16]\n",
    "        yield imgs, label['class']\n",
    "\n",
    "\n",
    "def val_generator():\n",
    "    for orgnr, year, imgs, label in val:\n",
    "        #imgs = apply_mask_to_image_series(mask_dict[f'{orgnr}/{year}'], imgs[4:20], image_size=IMG_SIZE)\n",
    "        imgs = imgs[0:30]\n",
    "        yield imgs, label['class']\n",
    "\n"
   ],
   "metadata": {
    "collapsed": false,
    "pycharm": {
     "name": "#%%\n"
    }
   }
  },
  {
   "cell_type": "code",
   "execution_count": 9,
   "outputs": [
    {
     "data": {
      "text/plain": "<Figure size 720x720 with 30 Axes>",
      "image/png": "[encoded data removed]"
     },
     "metadata": {
      "needs_background": "light"
     },
     "output_type": "display_data"
    }
   ],
   "source": [
    "from src.utils import to_rgb\n",
    "def plot_30_imgs(images):\n",
    "    rows = 5\n",
    "    cols = 6\n",
    "    fig = plt.figure(figsize=(10,10))\n",
    "    for i, img in enumerate(images):\n",
    "        fig.add_subplot(rows, cols, i + 1)\n",
    "        plt.imshow(to_rgb(img))\n",
    "\n",
    "i = 0\n",
    "for imgs, _ in val_generator():\n",
    "    if i == 0:\n",
    "        plot_30_imgs(imgs)\n",
    "        break\n",
    "    i += 1"
   ],
   "metadata": {
    "collapsed": false,
    "pycharm": {
     "name": "#%%\n"
    }
   }
  },
  {
   "cell_type": "code",
   "execution_count": 9,
   "outputs": [],
   "source": [
    "\n",
    "train_dataset = tf.data.Dataset.from_generator(\n",
    "    train_generator,\n",
    "    output_types=(tf.dtypes.float64, tf.dtypes.int64),\n",
    "    output_shapes=((16, IMG_SIZE, IMG_SIZE, IMG_CHANNEL), n_classes)\n",
    ")\n",
    "\n",
    "val_dataset = tf.data.Dataset.from_generator(\n",
    "    val_generator,\n",
    "    output_types=(tf.dtypes.float64, tf.dtypes.int64),\n",
    "    output_shapes=((16, IMG_SIZE, IMG_SIZE, IMG_CHANNEL), n_classes)\n",
    ")\n",
    "\n"
   ],
   "metadata": {
    "collapsed": false,
    "pycharm": {
     "name": "#%%\n"
    }
   }
  },
  {
   "cell_type": "code",
   "execution_count": 10,
   "outputs": [],
   "source": [
    "from keras.layers import Conv2D, BatchNormalization, MaxPool2D, GlobalMaxPool2D\n",
    "\n",
    "def build_convnet(shape=(IMG_SIZE, IMG_SIZE, IMG_CHANNEL)):\n",
    "    momentum = 0.9\n",
    "    model = keras.Sequential()\n",
    "    model.add(Conv2D(16, (3,3), input_shape=shape, padding='same', activation='relu'))\n",
    "    model.add(Conv2D(16, (3,3), padding='same', activation='relu'))\n",
    "    model.add(BatchNormalization(momentum=momentum))\n",
    "\n",
    "    model.add(MaxPool2D())\n",
    "\n",
    "    model.add(Conv2D(32, (3,3), padding='same', activation='relu'))\n",
    "    model.add(Conv2D(32, (3,3), padding='same', activation='relu'))\n",
    "    model.add(BatchNormalization(momentum=momentum))\n",
    "\n",
    "    # model.add(MaxPool2D())\n",
    "    #\n",
    "    # model.add(Conv2D(256, (3,3), padding='same', activation='relu'))\n",
    "    # model.add(Conv2D(256, (3,3), padding='same', activation='relu'))\n",
    "    # model.add(BatchNormalization(momentum=momentum))\n",
    "\n",
    "    # model.add(MaxPool2D())\n",
    "\n",
    "    # model.add(Conv2D(512, (3,3), padding='same', activation='relu'))\n",
    "    # model.add(Conv2D(512, (3,3), padding='same', activation='relu'))\n",
    "    # model.add(BatchNormalization(momentum=momentum))\n",
    "\n",
    "    # flatten...\n",
    "    model.add(GlobalMaxPool2D())\n",
    "    return model\n",
    "\n"
   ],
   "metadata": {
    "collapsed": false,
    "pycharm": {
     "name": "#%%\n"
    }
   }
  },
  {
   "cell_type": "code",
   "execution_count": 11,
   "outputs": [],
   "source": [
    "from keras.layers import TimeDistributed, GRU, Dense, Dropout, Reshape\n",
    "\n",
    "\n",
    "def action_model(shape=(30, IMG_SIZE, IMG_SIZE, IMG_CHANNEL,), n_classes=n_classes):\n",
    "    convnet = build_convnet(shape[1:])\n",
    "\n",
    "    model = keras.Sequential()\n",
    "\n",
    "    model.add(TimeDistributed(convnet, input_shape=shape))\n",
    "    # here, you can also use GRU or LSTM\n",
    "    model.add(GRU(12))\n",
    "    # model.add(Dense(1024, activation='relu'))\n",
    "    # model.add(Dropout(0.5))\n",
    "    # model.add(Dense(512, activation='relu'))\n",
    "    model.add(Dense(64, activation='relu'))\n",
    "    model.add(Dropout(0.5))\n",
    "    model.add(Dense(32, activation='relu'))\n",
    "    model.add(Dense(n_classes, activation='softmax'))\n",
    "    return model"
   ],
   "metadata": {
    "collapsed": false,
    "pycharm": {
     "name": "#%%\n"
    }
   }
  },
  {
   "cell_type": "code",
   "execution_count": null,
   "outputs": [
    {
     "name": "stdout",
     "output_type": "stream",
     "text": [
      "Model: \"sequential_1\"\n",
      "_________________________________________________________________\n",
      " Layer (type)                Output Shape              Param #   \n",
      "=================================================================\n",
      " time_distributed (TimeDistr  (None, 16, 32)           18144     \n",
      " ibuted)                                                         \n",
      "                                                                 \n",
      " gru (GRU)                   (None, 12)                1656      \n",
      "                                                                 \n",
      " dense (Dense)               (None, 64)                832       \n",
      "                                                                 \n",
      " dropout (Dropout)           (None, 64)                0         \n",
      "                                                                 \n",
      " dense_1 (Dense)             (None, 32)                2080      \n",
      "                                                                 \n",
      " dense_2 (Dense)             (None, 5)                 165       \n",
      "                                                                 \n",
      "=================================================================\n",
      "Total params: 22,877\n",
      "Trainable params: 22,781\n",
      "Non-trainable params: 96\n",
      "_________________________________________________________________\n",
      "None\n",
      "Epoch 1/100\n",
      "313/313 [==============================] - 495s 2s/step - loss: 1.0298 - acc: 0.6198 - val_loss: 0.9553 - val_acc: 0.6351\n",
      "Epoch 2/100\n",
      "313/313 [==============================] - 138s 440ms/step - loss: 0.9801 - acc: 0.6248 - val_loss: 0.9618 - val_acc: 0.6351\n",
      "Epoch 3/100\n",
      "313/313 [==============================] - 157s 504ms/step - loss: 0.9765 - acc: 0.6248 - val_loss: 0.9536 - val_acc: 0.6351\n",
      "Epoch 4/100\n",
      "313/313 [==============================] - 141s 452ms/step - loss: 0.9723 - acc: 0.6248 - val_loss: 0.9497 - val_acc: 0.6351\n",
      "Epoch 5/100\n",
      "313/313 [==============================] - 144s 460ms/step - loss: 0.9671 - acc: 0.6248 - val_loss: 0.9420 - val_acc: 0.6351\n",
      "Epoch 6/100\n",
      "313/313 [==============================] - 138s 440ms/step - loss: 0.9656 - acc: 0.6248 - val_loss: 0.9409 - val_acc: 0.6351\n",
      "Epoch 7/100\n",
      "313/313 [==============================] - 146s 466ms/step - loss: 0.9616 - acc: 0.6248 - val_loss: 0.9358 - val_acc: 0.6351\n",
      "Epoch 8/100\n",
      "313/313 [==============================] - 114s 364ms/step - loss: 0.9539 - acc: 0.6249 - val_loss: 0.9452 - val_acc: 0.6351\n",
      "Epoch 9/100\n",
      "313/313 [==============================] - 105s 336ms/step - loss: 0.9435 - acc: 0.6248 - val_loss: 0.9451 - val_acc: 0.6351\n",
      "Epoch 10/100\n",
      "313/313 [==============================] - 114s 365ms/step - loss: 0.9456 - acc: 0.6251 - val_loss: 0.9529 - val_acc: 0.6342\n",
      "Epoch 11/100\n",
      "313/313 [==============================] - 116s 369ms/step - loss: 0.9364 - acc: 0.6245 - val_loss: 0.9238 - val_acc: 0.6348\n",
      "Epoch 12/100\n",
      "313/313 [==============================] - 115s 367ms/step - loss: 0.9350 - acc: 0.6237 - val_loss: 0.9239 - val_acc: 0.6348\n",
      "Epoch 13/100\n",
      "313/313 [==============================] - 104s 331ms/step - loss: 0.9301 - acc: 0.6248 - val_loss: 0.9333 - val_acc: 0.6338\n",
      "Epoch 14/100\n",
      "313/313 [==============================] - 102s 325ms/step - loss: 0.9249 - acc: 0.6253 - val_loss: 0.9279 - val_acc: 0.6345\n",
      "Epoch 15/100\n",
      "313/313 [==============================] - 107s 343ms/step - loss: 0.9230 - acc: 0.6249 - val_loss: 0.9110 - val_acc: 0.6371\n",
      "Epoch 16/100\n",
      "313/313 [==============================] - 105s 335ms/step - loss: 0.9225 - acc: 0.6255 - val_loss: 0.9039 - val_acc: 0.6365\n",
      "Epoch 17/100\n",
      "313/313 [==============================] - 110s 350ms/step - loss: 0.9172 - acc: 0.6273 - val_loss: 0.9003 - val_acc: 0.6353\n",
      "Epoch 18/100\n",
      "313/313 [==============================] - 118s 378ms/step - loss: 0.9087 - acc: 0.6258 - val_loss: 0.9021 - val_acc: 0.6362\n",
      "Epoch 19/100\n",
      "313/313 [==============================] - 120s 383ms/step - loss: 0.9001 - acc: 0.6286 - val_loss: 0.8964 - val_acc: 0.6374\n",
      "Epoch 20/100\n",
      "313/313 [==============================] - 116s 370ms/step - loss: 0.8900 - acc: 0.6273 - val_loss: 0.9040 - val_acc: 0.6383\n",
      "Epoch 21/100\n",
      "313/313 [==============================] - 118s 378ms/step - loss: 0.8851 - acc: 0.6310 - val_loss: 0.9488 - val_acc: 0.6374\n",
      "Epoch 22/100\n",
      "313/313 [==============================] - 123s 394ms/step - loss: 0.8818 - acc: 0.6296 - val_loss: 0.9300 - val_acc: 0.6377\n",
      "Epoch 23/100\n",
      "313/313 [==============================] - 118s 377ms/step - loss: 0.8702 - acc: 0.6317 - val_loss: 0.8952 - val_acc: 0.6381\n",
      "Epoch 24/100\n",
      "313/313 [==============================] - 116s 370ms/step - loss: 0.8644 - acc: 0.6325 - val_loss: 0.9029 - val_acc: 0.6397\n",
      "Epoch 25/100\n",
      "313/313 [==============================] - 117s 374ms/step - loss: 0.8607 - acc: 0.6349 - val_loss: 0.8920 - val_acc: 0.6402\n",
      "Epoch 26/100\n",
      "313/313 [==============================] - 110s 352ms/step - loss: 0.8584 - acc: 0.6334 - val_loss: 0.8866 - val_acc: 0.6412\n",
      "Epoch 27/100\n",
      "313/313 [==============================] - 105s 336ms/step - loss: 0.8531 - acc: 0.6372 - val_loss: 0.9361 - val_acc: 0.6382\n",
      "Epoch 28/100\n",
      "313/313 [==============================] - 111s 354ms/step - loss: 0.8485 - acc: 0.6391 - val_loss: 0.8568 - val_acc: 0.6443\n",
      "Epoch 29/100\n",
      "313/313 [==============================] - 112s 357ms/step - loss: 0.8406 - acc: 0.6408 - val_loss: 0.9214 - val_acc: 0.6385\n",
      "Epoch 30/100\n",
      "313/313 [==============================] - 114s 365ms/step - loss: 0.8394 - acc: 0.6382 - val_loss: 0.8454 - val_acc: 0.6431\n",
      "Epoch 31/100\n",
      "313/313 [==============================] - 119s 380ms/step - loss: 0.8282 - acc: 0.6457 - val_loss: 0.8397 - val_acc: 0.6469\n",
      "Epoch 32/100\n",
      "313/313 [==============================] - 115s 368ms/step - loss: 0.8242 - acc: 0.6484 - val_loss: 0.8416 - val_acc: 0.6471\n",
      "Epoch 33/100\n",
      "313/313 [==============================] - 121s 387ms/step - loss: 0.8181 - acc: 0.6503 - val_loss: 0.8320 - val_acc: 0.6499\n",
      "Epoch 34/100\n",
      "313/313 [==============================] - 118s 377ms/step - loss: 0.8148 - acc: 0.6472 - val_loss: 0.8195 - val_acc: 0.6555\n",
      "Epoch 35/100\n",
      "313/313 [==============================] - 111s 354ms/step - loss: 0.8103 - acc: 0.6485 - val_loss: 0.8190 - val_acc: 0.6536\n",
      "Epoch 36/100\n",
      "313/313 [==============================] - 112s 357ms/step - loss: 0.8066 - acc: 0.6491 - val_loss: 0.8117 - val_acc: 0.6588\n",
      "Epoch 37/100\n",
      "313/313 [==============================] - 115s 367ms/step - loss: 0.8017 - acc: 0.6577 - val_loss: 0.8323 - val_acc: 0.6568\n",
      "Epoch 38/100\n",
      "313/313 [==============================] - 115s 368ms/step - loss: 0.7982 - acc: 0.6575 - val_loss: 0.8185 - val_acc: 0.6604\n",
      "Epoch 39/100\n",
      "313/313 [==============================] - 119s 380ms/step - loss: 0.7920 - acc: 0.6618 - val_loss: 0.8165 - val_acc: 0.6625\n",
      "Epoch 40/100\n",
      "313/313 [==============================] - 128s 409ms/step - loss: 0.7927 - acc: 0.6583 - val_loss: 0.8036 - val_acc: 0.6631\n",
      "Epoch 41/100\n",
      "313/313 [==============================] - 143s 456ms/step - loss: 0.7888 - acc: 0.6630 - val_loss: 0.8070 - val_acc: 0.6619\n",
      "Epoch 42/100\n",
      "313/313 [==============================] - 137s 439ms/step - loss: 0.7833 - acc: 0.6655 - val_loss: 0.8103 - val_acc: 0.6611\n",
      "Epoch 43/100\n",
      "313/313 [==============================] - 123s 392ms/step - loss: 0.7833 - acc: 0.6668 - val_loss: 0.8018 - val_acc: 0.6631\n",
      "Epoch 44/100\n",
      "313/313 [==============================] - 109s 348ms/step - loss: 0.7794 - acc: 0.6666 - val_loss: 0.8001 - val_acc: 0.6621\n",
      "Epoch 45/100\n",
      " 94/313 [========>.....................] - ETA: 1:00 - loss: 0.7627 - acc: 0.6848"
     ]
    },
    {
     "ename": "KeyboardInterrupt",
     "evalue": "",
     "output_type": "error",
     "traceback": [
      "\u001B[1;31m---------------------------------------------------------------------------\u001B[0m",
      "\u001B[1;31mKeyboardInterrupt\u001B[0m                         Traceback (most recent call last)",
      "\u001B[1;32m~\\AppData\\Local\\Temp/ipykernel_12160/3486207240.py\u001B[0m in \u001B[0;36m<module>\u001B[1;34m\u001B[0m\n\u001B[0;32m     18\u001B[0m \u001B[1;33m\u001B[0m\u001B[0m\n\u001B[0;32m     19\u001B[0m \u001B[1;33m\u001B[0m\u001B[0m\n\u001B[1;32m---> 20\u001B[1;33m     cnn_history = model.fit(\n\u001B[0m\u001B[0;32m     21\u001B[0m             \u001B[0mtrain_dataset\u001B[0m\u001B[1;33m.\u001B[0m\u001B[0mtake\u001B[0m\u001B[1;33m(\u001B[0m\u001B[1;36m10000\u001B[0m\u001B[1;33m)\u001B[0m\u001B[1;33m.\u001B[0m\u001B[0mbatch\u001B[0m\u001B[1;33m(\u001B[0m\u001B[1;36m32\u001B[0m\u001B[1;33m)\u001B[0m\u001B[1;33m.\u001B[0m\u001B[0mprefetch\u001B[0m\u001B[1;33m(\u001B[0m\u001B[1;36m2\u001B[0m\u001B[1;33m)\u001B[0m\u001B[1;33m,\u001B[0m\u001B[1;33m\u001B[0m\u001B[1;33m\u001B[0m\u001B[0m\n\u001B[0;32m     22\u001B[0m             \u001B[0mvalidation_data\u001B[0m\u001B[1;33m=\u001B[0m\u001B[0mval_dataset\u001B[0m\u001B[1;33m.\u001B[0m\u001B[0mbatch\u001B[0m\u001B[1;33m(\u001B[0m\u001B[1;36m32\u001B[0m\u001B[1;33m)\u001B[0m\u001B[1;33m.\u001B[0m\u001B[0mprefetch\u001B[0m\u001B[1;33m(\u001B[0m\u001B[1;36m2\u001B[0m\u001B[1;33m)\u001B[0m\u001B[1;33m,\u001B[0m\u001B[1;33m\u001B[0m\u001B[1;33m\u001B[0m\u001B[0m\n",
      "\u001B[1;32mE:\\OneDrive - Universitetet i Agder\\kornmo-master-thesis\\.venv\\lib\\site-packages\\keras\\utils\\traceback_utils.py\u001B[0m in \u001B[0;36merror_handler\u001B[1;34m(*args, **kwargs)\u001B[0m\n\u001B[0;32m     62\u001B[0m     \u001B[0mfiltered_tb\u001B[0m \u001B[1;33m=\u001B[0m \u001B[1;32mNone\u001B[0m\u001B[1;33m\u001B[0m\u001B[1;33m\u001B[0m\u001B[0m\n\u001B[0;32m     63\u001B[0m     \u001B[1;32mtry\u001B[0m\u001B[1;33m:\u001B[0m\u001B[1;33m\u001B[0m\u001B[1;33m\u001B[0m\u001B[0m\n\u001B[1;32m---> 64\u001B[1;33m       \u001B[1;32mreturn\u001B[0m \u001B[0mfn\u001B[0m\u001B[1;33m(\u001B[0m\u001B[1;33m*\u001B[0m\u001B[0margs\u001B[0m\u001B[1;33m,\u001B[0m \u001B[1;33m**\u001B[0m\u001B[0mkwargs\u001B[0m\u001B[1;33m)\u001B[0m\u001B[1;33m\u001B[0m\u001B[1;33m\u001B[0m\u001B[0m\n\u001B[0m\u001B[0;32m     65\u001B[0m     \u001B[1;32mexcept\u001B[0m \u001B[0mException\u001B[0m \u001B[1;32mas\u001B[0m \u001B[0me\u001B[0m\u001B[1;33m:\u001B[0m  \u001B[1;31m# pylint: disable=broad-except\u001B[0m\u001B[1;33m\u001B[0m\u001B[1;33m\u001B[0m\u001B[0m\n\u001B[0;32m     66\u001B[0m       \u001B[0mfiltered_tb\u001B[0m \u001B[1;33m=\u001B[0m \u001B[0m_process_traceback_frames\u001B[0m\u001B[1;33m(\u001B[0m\u001B[0me\u001B[0m\u001B[1;33m.\u001B[0m\u001B[0m__traceback__\u001B[0m\u001B[1;33m)\u001B[0m\u001B[1;33m\u001B[0m\u001B[1;33m\u001B[0m\u001B[0m\n",
      "\u001B[1;32mE:\\OneDrive - Universitetet i Agder\\kornmo-master-thesis\\.venv\\lib\\site-packages\\keras\\engine\\training.py\u001B[0m in \u001B[0;36mfit\u001B[1;34m(self, x, y, batch_size, epochs, verbose, callbacks, validation_split, validation_data, shuffle, class_weight, sample_weight, initial_epoch, steps_per_epoch, validation_steps, validation_batch_size, validation_freq, max_queue_size, workers, use_multiprocessing)\u001B[0m\n\u001B[0;32m   1382\u001B[0m                 _r=1):\n\u001B[0;32m   1383\u001B[0m               \u001B[0mcallbacks\u001B[0m\u001B[1;33m.\u001B[0m\u001B[0mon_train_batch_begin\u001B[0m\u001B[1;33m(\u001B[0m\u001B[0mstep\u001B[0m\u001B[1;33m)\u001B[0m\u001B[1;33m\u001B[0m\u001B[1;33m\u001B[0m\u001B[0m\n\u001B[1;32m-> 1384\u001B[1;33m               \u001B[0mtmp_logs\u001B[0m \u001B[1;33m=\u001B[0m \u001B[0mself\u001B[0m\u001B[1;33m.\u001B[0m\u001B[0mtrain_function\u001B[0m\u001B[1;33m(\u001B[0m\u001B[0miterator\u001B[0m\u001B[1;33m)\u001B[0m\u001B[1;33m\u001B[0m\u001B[1;33m\u001B[0m\u001B[0m\n\u001B[0m\u001B[0;32m   1385\u001B[0m               \u001B[1;32mif\u001B[0m \u001B[0mdata_handler\u001B[0m\u001B[1;33m.\u001B[0m\u001B[0mshould_sync\u001B[0m\u001B[1;33m:\u001B[0m\u001B[1;33m\u001B[0m\u001B[1;33m\u001B[0m\u001B[0m\n\u001B[0;32m   1386\u001B[0m                 \u001B[0mcontext\u001B[0m\u001B[1;33m.\u001B[0m\u001B[0masync_wait\u001B[0m\u001B[1;33m(\u001B[0m\u001B[1;33m)\u001B[0m\u001B[1;33m\u001B[0m\u001B[1;33m\u001B[0m\u001B[0m\n",
      "\u001B[1;32mE:\\OneDrive - Universitetet i Agder\\kornmo-master-thesis\\.venv\\lib\\site-packages\\tensorflow\\python\\util\\traceback_utils.py\u001B[0m in \u001B[0;36merror_handler\u001B[1;34m(*args, **kwargs)\u001B[0m\n\u001B[0;32m    148\u001B[0m     \u001B[0mfiltered_tb\u001B[0m \u001B[1;33m=\u001B[0m \u001B[1;32mNone\u001B[0m\u001B[1;33m\u001B[0m\u001B[1;33m\u001B[0m\u001B[0m\n\u001B[0;32m    149\u001B[0m     \u001B[1;32mtry\u001B[0m\u001B[1;33m:\u001B[0m\u001B[1;33m\u001B[0m\u001B[1;33m\u001B[0m\u001B[0m\n\u001B[1;32m--> 150\u001B[1;33m       \u001B[1;32mreturn\u001B[0m \u001B[0mfn\u001B[0m\u001B[1;33m(\u001B[0m\u001B[1;33m*\u001B[0m\u001B[0margs\u001B[0m\u001B[1;33m,\u001B[0m \u001B[1;33m**\u001B[0m\u001B[0mkwargs\u001B[0m\u001B[1;33m)\u001B[0m\u001B[1;33m\u001B[0m\u001B[1;33m\u001B[0m\u001B[0m\n\u001B[0m\u001B[0;32m    151\u001B[0m     \u001B[1;32mexcept\u001B[0m \u001B[0mException\u001B[0m \u001B[1;32mas\u001B[0m \u001B[0me\u001B[0m\u001B[1;33m:\u001B[0m\u001B[1;33m\u001B[0m\u001B[1;33m\u001B[0m\u001B[0m\n\u001B[0;32m    152\u001B[0m       \u001B[0mfiltered_tb\u001B[0m \u001B[1;33m=\u001B[0m \u001B[0m_process_traceback_frames\u001B[0m\u001B[1;33m(\u001B[0m\u001B[0me\u001B[0m\u001B[1;33m.\u001B[0m\u001B[0m__traceback__\u001B[0m\u001B[1;33m)\u001B[0m\u001B[1;33m\u001B[0m\u001B[1;33m\u001B[0m\u001B[0m\n",
      "\u001B[1;32mE:\\OneDrive - Universitetet i Agder\\kornmo-master-thesis\\.venv\\lib\\site-packages\\tensorflow\\python\\eager\\def_function.py\u001B[0m in \u001B[0;36m__call__\u001B[1;34m(self, *args, **kwds)\u001B[0m\n\u001B[0;32m    913\u001B[0m \u001B[1;33m\u001B[0m\u001B[0m\n\u001B[0;32m    914\u001B[0m       \u001B[1;32mwith\u001B[0m \u001B[0mOptionalXlaContext\u001B[0m\u001B[1;33m(\u001B[0m\u001B[0mself\u001B[0m\u001B[1;33m.\u001B[0m\u001B[0m_jit_compile\u001B[0m\u001B[1;33m)\u001B[0m\u001B[1;33m:\u001B[0m\u001B[1;33m\u001B[0m\u001B[1;33m\u001B[0m\u001B[0m\n\u001B[1;32m--> 915\u001B[1;33m         \u001B[0mresult\u001B[0m \u001B[1;33m=\u001B[0m \u001B[0mself\u001B[0m\u001B[1;33m.\u001B[0m\u001B[0m_call\u001B[0m\u001B[1;33m(\u001B[0m\u001B[1;33m*\u001B[0m\u001B[0margs\u001B[0m\u001B[1;33m,\u001B[0m \u001B[1;33m**\u001B[0m\u001B[0mkwds\u001B[0m\u001B[1;33m)\u001B[0m\u001B[1;33m\u001B[0m\u001B[1;33m\u001B[0m\u001B[0m\n\u001B[0m\u001B[0;32m    916\u001B[0m \u001B[1;33m\u001B[0m\u001B[0m\n\u001B[0;32m    917\u001B[0m       \u001B[0mnew_tracing_count\u001B[0m \u001B[1;33m=\u001B[0m \u001B[0mself\u001B[0m\u001B[1;33m.\u001B[0m\u001B[0mexperimental_get_tracing_count\u001B[0m\u001B[1;33m(\u001B[0m\u001B[1;33m)\u001B[0m\u001B[1;33m\u001B[0m\u001B[1;33m\u001B[0m\u001B[0m\n",
      "\u001B[1;32mE:\\OneDrive - Universitetet i Agder\\kornmo-master-thesis\\.venv\\lib\\site-packages\\tensorflow\\python\\eager\\def_function.py\u001B[0m in \u001B[0;36m_call\u001B[1;34m(self, *args, **kwds)\u001B[0m\n\u001B[0;32m    945\u001B[0m       \u001B[1;31m# In this case we have created variables on the first call, so we run the\u001B[0m\u001B[1;33m\u001B[0m\u001B[1;33m\u001B[0m\u001B[0m\n\u001B[0;32m    946\u001B[0m       \u001B[1;31m# defunned version which is guaranteed to never create variables.\u001B[0m\u001B[1;33m\u001B[0m\u001B[1;33m\u001B[0m\u001B[0m\n\u001B[1;32m--> 947\u001B[1;33m       \u001B[1;32mreturn\u001B[0m \u001B[0mself\u001B[0m\u001B[1;33m.\u001B[0m\u001B[0m_stateless_fn\u001B[0m\u001B[1;33m(\u001B[0m\u001B[1;33m*\u001B[0m\u001B[0margs\u001B[0m\u001B[1;33m,\u001B[0m \u001B[1;33m**\u001B[0m\u001B[0mkwds\u001B[0m\u001B[1;33m)\u001B[0m  \u001B[1;31m# pylint: disable=not-callable\u001B[0m\u001B[1;33m\u001B[0m\u001B[1;33m\u001B[0m\u001B[0m\n\u001B[0m\u001B[0;32m    948\u001B[0m     \u001B[1;32melif\u001B[0m \u001B[0mself\u001B[0m\u001B[1;33m.\u001B[0m\u001B[0m_stateful_fn\u001B[0m \u001B[1;32mis\u001B[0m \u001B[1;32mnot\u001B[0m \u001B[1;32mNone\u001B[0m\u001B[1;33m:\u001B[0m\u001B[1;33m\u001B[0m\u001B[1;33m\u001B[0m\u001B[0m\n\u001B[0;32m    949\u001B[0m       \u001B[1;31m# Release the lock early so that multiple threads can perform the call\u001B[0m\u001B[1;33m\u001B[0m\u001B[1;33m\u001B[0m\u001B[0m\n",
      "\u001B[1;32mE:\\OneDrive - Universitetet i Agder\\kornmo-master-thesis\\.venv\\lib\\site-packages\\tensorflow\\python\\eager\\function.py\u001B[0m in \u001B[0;36m__call__\u001B[1;34m(self, *args, **kwargs)\u001B[0m\n\u001B[0;32m   2954\u001B[0m       (graph_function,\n\u001B[0;32m   2955\u001B[0m        filtered_flat_args) = self._maybe_define_function(args, kwargs)\n\u001B[1;32m-> 2956\u001B[1;33m     return graph_function._call_flat(\n\u001B[0m\u001B[0;32m   2957\u001B[0m         filtered_flat_args, captured_inputs=graph_function.captured_inputs)  # pylint: disable=protected-access\n\u001B[0;32m   2958\u001B[0m \u001B[1;33m\u001B[0m\u001B[0m\n",
      "\u001B[1;32mE:\\OneDrive - Universitetet i Agder\\kornmo-master-thesis\\.venv\\lib\\site-packages\\tensorflow\\python\\eager\\function.py\u001B[0m in \u001B[0;36m_call_flat\u001B[1;34m(self, args, captured_inputs, cancellation_manager)\u001B[0m\n\u001B[0;32m   1851\u001B[0m         and executing_eagerly):\n\u001B[0;32m   1852\u001B[0m       \u001B[1;31m# No tape is watching; skip to running the function.\u001B[0m\u001B[1;33m\u001B[0m\u001B[1;33m\u001B[0m\u001B[0m\n\u001B[1;32m-> 1853\u001B[1;33m       return self._build_call_outputs(self._inference_function.call(\n\u001B[0m\u001B[0;32m   1854\u001B[0m           ctx, args, cancellation_manager=cancellation_manager))\n\u001B[0;32m   1855\u001B[0m     forward_backward = self._select_forward_and_backward_functions(\n",
      "\u001B[1;32mE:\\OneDrive - Universitetet i Agder\\kornmo-master-thesis\\.venv\\lib\\site-packages\\tensorflow\\python\\eager\\function.py\u001B[0m in \u001B[0;36mcall\u001B[1;34m(self, ctx, args, cancellation_manager)\u001B[0m\n\u001B[0;32m    497\u001B[0m       \u001B[1;32mwith\u001B[0m \u001B[0m_InterpolateFunctionError\u001B[0m\u001B[1;33m(\u001B[0m\u001B[0mself\u001B[0m\u001B[1;33m)\u001B[0m\u001B[1;33m:\u001B[0m\u001B[1;33m\u001B[0m\u001B[1;33m\u001B[0m\u001B[0m\n\u001B[0;32m    498\u001B[0m         \u001B[1;32mif\u001B[0m \u001B[0mcancellation_manager\u001B[0m \u001B[1;32mis\u001B[0m \u001B[1;32mNone\u001B[0m\u001B[1;33m:\u001B[0m\u001B[1;33m\u001B[0m\u001B[1;33m\u001B[0m\u001B[0m\n\u001B[1;32m--> 499\u001B[1;33m           outputs = execute.execute(\n\u001B[0m\u001B[0;32m    500\u001B[0m               \u001B[0mstr\u001B[0m\u001B[1;33m(\u001B[0m\u001B[0mself\u001B[0m\u001B[1;33m.\u001B[0m\u001B[0msignature\u001B[0m\u001B[1;33m.\u001B[0m\u001B[0mname\u001B[0m\u001B[1;33m)\u001B[0m\u001B[1;33m,\u001B[0m\u001B[1;33m\u001B[0m\u001B[1;33m\u001B[0m\u001B[0m\n\u001B[0;32m    501\u001B[0m               \u001B[0mnum_outputs\u001B[0m\u001B[1;33m=\u001B[0m\u001B[0mself\u001B[0m\u001B[1;33m.\u001B[0m\u001B[0m_num_outputs\u001B[0m\u001B[1;33m,\u001B[0m\u001B[1;33m\u001B[0m\u001B[1;33m\u001B[0m\u001B[0m\n",
      "\u001B[1;32mE:\\OneDrive - Universitetet i Agder\\kornmo-master-thesis\\.venv\\lib\\site-packages\\tensorflow\\python\\eager\\execute.py\u001B[0m in \u001B[0;36mquick_execute\u001B[1;34m(op_name, num_outputs, inputs, attrs, ctx, name)\u001B[0m\n\u001B[0;32m     52\u001B[0m   \u001B[1;32mtry\u001B[0m\u001B[1;33m:\u001B[0m\u001B[1;33m\u001B[0m\u001B[1;33m\u001B[0m\u001B[0m\n\u001B[0;32m     53\u001B[0m     \u001B[0mctx\u001B[0m\u001B[1;33m.\u001B[0m\u001B[0mensure_initialized\u001B[0m\u001B[1;33m(\u001B[0m\u001B[1;33m)\u001B[0m\u001B[1;33m\u001B[0m\u001B[1;33m\u001B[0m\u001B[0m\n\u001B[1;32m---> 54\u001B[1;33m     tensors = pywrap_tfe.TFE_Py_Execute(ctx._handle, device_name, op_name,\n\u001B[0m\u001B[0;32m     55\u001B[0m                                         inputs, attrs, num_outputs)\n\u001B[0;32m     56\u001B[0m   \u001B[1;32mexcept\u001B[0m \u001B[0mcore\u001B[0m\u001B[1;33m.\u001B[0m\u001B[0m_NotOkStatusException\u001B[0m \u001B[1;32mas\u001B[0m \u001B[0me\u001B[0m\u001B[1;33m:\u001B[0m\u001B[1;33m\u001B[0m\u001B[1;33m\u001B[0m\u001B[0m\n",
      "\u001B[1;31mKeyboardInterrupt\u001B[0m: "
     ]
    }
   ],
   "source": [
    "from keras.models import load_model\n",
    "\n",
    "\n",
    "model_checkpoint = keras.callbacks.ModelCheckpoint(\n",
    "    './training',\n",
    "    monitor=\"val_loss\",\n",
    "    verbose=0,\n",
    "    mode=\"min\",\n",
    "    save_best_only=True,\n",
    "    save_weights_only=True,\n",
    ")\n",
    "\n",
    "callbacks = [model_checkpoint]\n",
    "\n",
    "restart = True\n",
    "if restart:\n",
    "    model = action_model(shape=(16, IMG_SIZE, IMG_SIZE, IMG_CHANNEL,))\n",
    "    print(model.summary())\n",
    "    optimizer = keras.optimizers.Adam(learning_rate=0.001)\n",
    "    # optimizer = keras.optimizers.SGD(lr=0.1, momentum=0.8, decay = 0.01)\n",
    "    model.compile(optimizer=optimizer, loss='categorical_crossentropy', metrics=['acc'])\n",
    "\n",
    "\n",
    "    cnn_history = model.fit(\n",
    "            train_dataset.take(10000).batch(32).prefetch(2),\n",
    "            validation_data=val_dataset.batch(32).prefetch(2),\n",
    "            epochs=100,\n",
    "            verbose=1,\n",
    "            callbacks=callbacks,\n",
    "    )\n",
    "else:\n",
    "    model = load_model('./training/epoch_2.hdf5')\n",
    "\n",
    "    cnn_history = model.fit(\n",
    "            train_dataset.take(10000).batch(32).prefetch(2),\n",
    "            validation_data=val_dataset.batch(32).prefetch(2),\n",
    "            epochs=100,\n",
    "            verbose=1,\n",
    "            callbacks=callbacks,\n",
    "    )\n",
    "\n"
   ],
   "metadata": {
    "collapsed": false,
    "pycharm": {
     "name": "#%%\n",
     "is_executing": true
    }
   }
  },
  {
   "cell_type": "code",
   "execution_count": 13,
   "outputs": [
    {
     "ename": "NameError",
     "evalue": "name 'cnn_history' is not defined",
     "output_type": "error",
     "traceback": [
      "\u001B[1;31m---------------------------------------------------------------------------\u001B[0m",
      "\u001B[1;31mNameError\u001B[0m                                 Traceback (most recent call last)",
      "\u001B[1;32m~\\AppData\\Local\\Temp/ipykernel_12160/2844652369.py\u001B[0m in \u001B[0;36m<module>\u001B[1;34m\u001B[0m\n\u001B[0;32m      1\u001B[0m \u001B[1;31m#print(cnn_history)\u001B[0m\u001B[1;33m\u001B[0m\u001B[1;33m\u001B[0m\u001B[0m\n\u001B[1;32m----> 2\u001B[1;33m \u001B[0mN\u001B[0m \u001B[1;33m=\u001B[0m \u001B[0mnp\u001B[0m\u001B[1;33m.\u001B[0m\u001B[0marange\u001B[0m\u001B[1;33m(\u001B[0m\u001B[1;36m0\u001B[0m\u001B[1;33m,\u001B[0m \u001B[0mlen\u001B[0m\u001B[1;33m(\u001B[0m\u001B[0mcnn_history\u001B[0m\u001B[1;33m.\u001B[0m\u001B[0mhistory\u001B[0m\u001B[1;33m[\u001B[0m\u001B[1;34m\"loss\"\u001B[0m\u001B[1;33m]\u001B[0m\u001B[1;33m)\u001B[0m\u001B[1;33m)\u001B[0m\u001B[1;33m\u001B[0m\u001B[1;33m\u001B[0m\u001B[0m\n\u001B[0m\u001B[0;32m      3\u001B[0m \u001B[0mplt\u001B[0m\u001B[1;33m.\u001B[0m\u001B[0mfigure\u001B[0m\u001B[1;33m(\u001B[0m\u001B[1;33m)\u001B[0m\u001B[1;33m\u001B[0m\u001B[1;33m\u001B[0m\u001B[0m\n\u001B[0;32m      4\u001B[0m \u001B[0mplt\u001B[0m\u001B[1;33m.\u001B[0m\u001B[0mplot\u001B[0m\u001B[1;33m(\u001B[0m\u001B[0mN\u001B[0m\u001B[1;33m,\u001B[0m \u001B[0mcnn_history\u001B[0m\u001B[1;33m.\u001B[0m\u001B[0mhistory\u001B[0m\u001B[1;33m[\u001B[0m\u001B[1;34m\"loss\"\u001B[0m\u001B[1;33m]\u001B[0m\u001B[1;33m,\u001B[0m \u001B[0mlabel\u001B[0m\u001B[1;33m=\u001B[0m\u001B[1;34m\"train_loss\"\u001B[0m\u001B[1;33m)\u001B[0m\u001B[1;33m\u001B[0m\u001B[1;33m\u001B[0m\u001B[0m\n\u001B[0;32m      5\u001B[0m \u001B[0mplt\u001B[0m\u001B[1;33m.\u001B[0m\u001B[0mplot\u001B[0m\u001B[1;33m(\u001B[0m\u001B[0mN\u001B[0m\u001B[1;33m,\u001B[0m \u001B[0mcnn_history\u001B[0m\u001B[1;33m.\u001B[0m\u001B[0mhistory\u001B[0m\u001B[1;33m[\u001B[0m\u001B[1;34m\"val_loss\"\u001B[0m\u001B[1;33m]\u001B[0m\u001B[1;33m,\u001B[0m \u001B[0mlabel\u001B[0m\u001B[1;33m=\u001B[0m\u001B[1;34m\"val_loss\"\u001B[0m\u001B[1;33m)\u001B[0m\u001B[1;33m\u001B[0m\u001B[1;33m\u001B[0m\u001B[0m\n",
      "\u001B[1;31mNameError\u001B[0m: name 'cnn_history' is not defined"
     ]
    }
   ],
   "source": [
    "#print(cnn_history)\n",
    "N = np.arange(0, len(cnn_history.history[\"loss\"]))\n",
    "plt.figure()\n",
    "plt.plot(N, cnn_history.history[\"loss\"], label=\"train_loss\")\n",
    "plt.plot(N, cnn_history.history[\"val_loss\"], label=\"val_loss\")\n",
    "plt.plot(N, cnn_history.history[\"acc\"], label=\"train_acc\")\n",
    "plt.plot(N, cnn_history.history[\"val_acc\"], label=\"val_acc\")\n",
    "plt.title(f\"Training Loss and Accuracy [Epoch {len(cnn_history.history['loss'])}]\")\n",
    "plt.xlabel(\"Epoch\")\n",
    "plt.ylabel(\"Loss/Accuracy\")\n",
    "plt.legend()\n",
    "plt.savefig('training/small_img_classification.png')\n",
    "\n",
    "model.save('training/models/classification_1-16.hdf5', overwrite=True)\n",
    "model.evaluate(x=val_dataset.batch(32).prefetch(2), verbose=1)"
   ],
   "metadata": {
    "collapsed": false,
    "pycharm": {
     "name": "#%%\n"
    }
   }
  },
  {
   "cell_type": "code",
   "execution_count": null,
   "outputs": [],
   "source": [
    "from sklearn.metrics import classification_report\n",
    "\n",
    "cnn_net = load_model('./training/epoch_16.hdf5')\n",
    "res = cnn_net.predict(val_dataset, verbose=1)"
   ],
   "metadata": {
    "collapsed": false,
    "pycharm": {
     "name": "#%%\n"
    }
   }
  },
  {
   "cell_type": "code",
   "execution_count": null,
   "outputs": [],
   "source": [],
   "metadata": {
    "collapsed": false,
    "pycharm": {
     "name": "#%%\n"
    }
   }
  }
 ],
 "metadata": {
  "kernelspec": {
   "display_name": "Python 3",
   "language": "python",
   "name": "python3"
  },
  "language_info": {
   "codemirror_mode": {
    "name": "ipython",
    "version": 2
   },
   "file_extension": ".py",
   "mimetype": "text/x-python",
   "name": "python",
   "nbconvert_exporter": "python",
   "pygments_lexer": "ipython2",
   "version": "2.7.6"
  }
 },
 "nbformat": 4,
 "nbformat_minor": 0
}