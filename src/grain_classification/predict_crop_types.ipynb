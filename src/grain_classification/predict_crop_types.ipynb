{
 "cells": [
  {
   "cell_type": "code",
   "execution_count": null,
   "metadata": {
    "collapsed": true
   },
   "outputs": [],
   "source": [
    "from tqdm import tqdm\n",
    "from keras.models import load_model\n",
    "import pandas as pd\n",
    "import tensorflow as tf\n",
    "from src.satellite_images.storage import SentinelDataset\n",
    "from src.utils import to_rgb\n",
    "\n",
    "PREDICTED_VALUES_PATH = '../../kornmo-data-files/raw-data/crop-classification-data/week_1_16/predicted_values.csv'\n",
    "MODEL_PATH = '../src/grain_classification/training/models/classification_1-16.hdf5'\n",
    "CLASSES = ['bygg', 'rug', 'havre', 'rughvete', 'hvete']\n",
    "END_DAY = 16"
   ]
  },
  {
   "cell_type": "code",
   "execution_count": null,
   "metadata": {
    "collapsed": false,
    "pycharm": {
     "name": "#%%\n"
    }
   },
   "outputs": [],
   "source": [
    "def read_data():\n",
    "    all_fields = SentinelDataset('E:/MasterThesisData/Satellite_Images/small_images_all.h5')\n",
    "    model = load_model(MODEL_PATH)\n",
    "    all_fields_it = all_fields.to_iterator()\n",
    "\n",
    "    return all_fields_it, model"
   ]
  },
  {
   "cell_type": "code",
   "execution_count": null,
   "metadata": {
    "collapsed": false,
    "pycharm": {
     "name": "#%%\n"
    }
   },
   "outputs": [],
   "source": [
    "print(\"Reading data...\")\n",
    "all_fields_it, model = read_data()"
   ]
  },
  {
   "cell_type": "code",
   "execution_count": null,
   "metadata": {
    "collapsed": false,
    "pycharm": {
     "name": "#%%\n"
    }
   },
   "outputs": [],
   "source": [
    "def val_generator():\n",
    "    for orgnr, year, imgs, label in all_fields_it:\n",
    "        imgs = imgs[0:END_DAY]\n",
    "        yield imgs\n",
    "\n",
    "val_dataset = tf.data.Dataset.from_generator(\n",
    "    val_generator,\n",
    "    output_types=tf.dtypes.float64,\n",
    "    output_shapes=(END_DAY, 16, 16, 12)\n",
    ")\n",
    "\n",
    "\n",
    "predicted_values = model.predict(val_dataset.batch(32).prefetch(2), verbose=1)"
   ]
  },
  {
   "cell_type": "code",
   "execution_count": null,
   "metadata": {
    "collapsed": false,
    "pycharm": {
     "name": "#%%\n"
    }
   },
   "outputs": [],
   "source": [
    "import numpy as np\n",
    "\n",
    "guesses = {'havre': 0, 'bygg': 0, 'rug': 0, 'rughvete': 0, 'hvete': 0}\n",
    "for pred in predicted_values:\n",
    "    guesses[CLASSES[np.argmax(pred)]] += 1\n",
    "print(guesses)\n",
    "\n",
    "print(predicted_values.shape)\n",
    "predicted_values_dataset = []\n",
    "for vals, pred_arr in tqdm(zip(all_fields_it, predicted_values), total=len(predicted_values)):\n",
    "    orgnr = int(vals[0][0:9])\n",
    "    field_id = int(vals[0][9:])\n",
    "    year = int(vals[1])\n",
    "    prediction = CLASSES[np.argmax(pred_arr)]\n",
    "\n",
    "    # print(orgnr, field_id, year, prediction)\n",
    "    predicted_values_dataset.append([orgnr, field_id, year, prediction])\n",
    "\n",
    "predicted_values_dataset_df = pd.DataFrame(predicted_values_dataset, columns=['orgnr', 'field_id', 'year', 'crop_type'])\n",
    "predicted_values_dataset_df.to_csv(PREDICTED_VALUES_PATH)\n",
    "predicted_values_dataset_df.head()\n",
    "\n"
   ]
  }
 ],
 "metadata": {
  "kernelspec": {
   "display_name": "Python 3",
   "language": "python",
   "name": "python3"
  },
  "language_info": {
   "codemirror_mode": {
    "name": "ipython",
    "version": 2
   },
   "file_extension": ".py",
   "mimetype": "text/x-python",
   "name": "python",
   "nbconvert_exporter": "python",
   "pygments_lexer": "ipython2",
   "version": "2.7.6"
  }
 },
 "nbformat": 4,
 "nbformat_minor": 0
}