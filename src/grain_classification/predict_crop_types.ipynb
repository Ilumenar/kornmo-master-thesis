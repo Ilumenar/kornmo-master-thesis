{
 "cells": [
  {
   "cell_type": "code",
   "execution_count": 1,
   "metadata": {
    "collapsed": true
   },
   "outputs": [],
   "source": [
    "from tqdm import tqdm\n",
    "from keras.models import load_model\n",
    "import pandas as pd\n",
    "import tensorflow as tf\n",
    "from src.satellite_images.storage import SentinelDataset\n",
    "from src.utils import to_rgb\n",
    "\n",
    "PREDICTED_VALUES_PATH = '../../kornmo-data-files/raw-data/crop-classification-data/week_1_16/predicted_values.csv'\n",
    "MODEL_PATH = '../src/grain_classification/training/models/classification_1-16.hdf5'\n",
    "CLASSES = ['bygg', 'rug', 'havre', 'rughvete', 'hvete']\n",
    "END_DAY = 16"
   ]
  },
  {
   "cell_type": "code",
   "execution_count": 2,
   "outputs": [],
   "source": [
    "def read_data():\n",
    "    all_fields = SentinelDataset('E:/MasterThesisData/Satellite_Images/small_images_all.h5')\n",
    "    model = load_model(MODEL_PATH)\n",
    "    all_fields_it = all_fields.to_iterator()\n",
    "\n",
    "    return all_fields_it, model"
   ],
   "metadata": {
    "collapsed": false,
    "pycharm": {
     "name": "#%%\n"
    }
   }
  },
  {
   "cell_type": "code",
   "execution_count": 3,
   "outputs": [
    {
     "name": "stdout",
     "output_type": "stream",
     "text": [
      "Reading data...\n"
     ]
    }
   ],
   "source": [
    "print(\"Reading data...\")\n",
    "all_fields_it, model = read_data()"
   ],
   "metadata": {
    "collapsed": false,
    "pycharm": {
     "name": "#%%\n"
    }
   }
  },
  {
   "cell_type": "code",
   "execution_count": 4,
   "outputs": [
    {
     "name": "stdout",
     "output_type": "stream",
     "text": [
      "5575/5575 [==============================] - 706s 125ms/step\n"
     ]
    }
   ],
   "source": [
    "def val_generator():\n",
    "    for orgnr, year, imgs, label in all_fields_it:\n",
    "        imgs = imgs[0:END_DAY]\n",
    "        yield imgs\n",
    "\n",
    "val_dataset = tf.data.Dataset.from_generator(\n",
    "    val_generator,\n",
    "    output_types=tf.dtypes.float64,\n",
    "    output_shapes=(END_DAY, 16, 16, 12)\n",
    ")\n",
    "\n",
    "\n",
    "predicted_values = model.predict(val_dataset.batch(32).prefetch(2), verbose=1)"
   ],
   "metadata": {
    "collapsed": false,
    "pycharm": {
     "name": "#%%\n"
    }
   }
  },
  {
   "cell_type": "code",
   "execution_count": 5,
   "outputs": [
    {
     "name": "stdout",
     "output_type": "stream",
     "text": [
      "{'havre': 14531, 'bygg': 147159, 'rug': 0, 'rughvete': 0, 'hvete': 16700}\n",
      "(178390, 5)\n"
     ]
    },
    {
     "name": "stderr",
     "output_type": "stream",
     "text": [
      "100%|██████████| 178390/178390 [00:23<00:00, 7624.51it/s]\n"
     ]
    },
    {
     "data": {
      "text/plain": "       orgnr  field_id  year crop_type\n0  811555762    115601  2018      bygg\n1  811555762    115602  2018      bygg\n2  811555762    115603  2018      bygg\n3  811555762    115604  2018      bygg\n4  811555762    115605  2018      bygg",
      "text/html": "<div>\n<style scoped>\n    .dataframe tbody tr th:only-of-type {\n        vertical-align: middle;\n    }\n\n    .dataframe tbody tr th {\n        vertical-align: top;\n    }\n\n    .dataframe thead th {\n        text-align: right;\n    }\n</style>\n<table border=\"1\" class=\"dataframe\">\n  <thead>\n    <tr style=\"text-align: right;\">\n      <th></th>\n      <th>orgnr</th>\n      <th>field_id</th>\n      <th>year</th>\n      <th>crop_type</th>\n    </tr>\n  </thead>\n  <tbody>\n    <tr>\n      <th>0</th>\n      <td>811555762</td>\n      <td>115601</td>\n      <td>2018</td>\n      <td>bygg</td>\n    </tr>\n    <tr>\n      <th>1</th>\n      <td>811555762</td>\n      <td>115602</td>\n      <td>2018</td>\n      <td>bygg</td>\n    </tr>\n    <tr>\n      <th>2</th>\n      <td>811555762</td>\n      <td>115603</td>\n      <td>2018</td>\n      <td>bygg</td>\n    </tr>\n    <tr>\n      <th>3</th>\n      <td>811555762</td>\n      <td>115604</td>\n      <td>2018</td>\n      <td>bygg</td>\n    </tr>\n    <tr>\n      <th>4</th>\n      <td>811555762</td>\n      <td>115605</td>\n      <td>2018</td>\n      <td>bygg</td>\n    </tr>\n  </tbody>\n</table>\n</div>"
     },
     "execution_count": 5,
     "metadata": {},
     "output_type": "execute_result"
    }
   ],
   "source": [
    "import numpy as np\n",
    "\n",
    "guesses = {'havre': 0, 'bygg': 0, 'rug': 0, 'rughvete': 0, 'hvete': 0}\n",
    "for pred in predicted_values:\n",
    "    guesses[CLASSES[np.argmax(pred)]] += 1\n",
    "print(guesses)\n",
    "\n",
    "print(predicted_values.shape)\n",
    "predicted_values_dataset = []\n",
    "for vals, pred_arr in tqdm(zip(all_fields_it, predicted_values), total=len(predicted_values)):\n",
    "    orgnr = int(vals[0][0:9])\n",
    "    field_id = int(vals[0][9:])\n",
    "    year = int(vals[1])\n",
    "    prediction = CLASSES[np.argmax(pred_arr)]\n",
    "\n",
    "    # print(orgnr, field_id, year, prediction)\n",
    "    predicted_values_dataset.append([orgnr, field_id, year, prediction])\n",
    "\n",
    "predicted_values_dataset_df = pd.DataFrame(predicted_values_dataset, columns=['orgnr', 'field_id', 'year', 'crop_type'])\n",
    "predicted_values_dataset_df.to_csv(PREDICTED_VALUES_PATH)\n",
    "predicted_values_dataset_df.head()\n",
    "\n"
   ],
   "metadata": {
    "collapsed": false,
    "pycharm": {
     "name": "#%%\n"
    }
   }
  }
 ],
 "metadata": {
  "kernelspec": {
   "display_name": "Python 3",
   "language": "python",
   "name": "python3"
  },
  "language_info": {
   "codemirror_mode": {
    "name": "ipython",
    "version": 2
   },
   "file_extension": ".py",
   "mimetype": "text/x-python",
   "name": "python",
   "nbconvert_exporter": "python",
   "pygments_lexer": "ipython2",
   "version": "2.7.6"
  }
 },
 "nbformat": 4,
 "nbformat_minor": 0
}