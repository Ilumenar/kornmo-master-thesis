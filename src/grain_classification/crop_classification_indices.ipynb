{
 "cells": [
  {
   "cell_type": "code",
   "execution_count": 34,
   "metadata": {
    "collapsed": true,
    "pycharm": {
     "name": "#%%\n"
    }
   },
   "outputs": [],
   "source": [
    "import geopandas as gpd\n",
    "import numpy as np\n",
    "import tensorflow as tf\n",
    "import os\n",
    "\n",
    "from src.satellite_images.storage import SentinelDataset\n",
    "from src.mask.mask_dataset import MaskDataset\n",
    "from src.mask.utils import apply_mask_to_image_series\n",
    "from keras.models import load_model\n",
    "from tensorflow import optimizers\n",
    "from src.kornmo.pyimagesearch.callbacks.epochcheckpoint import EpochCheckpoint\n",
    "from src.kornmo.pyimagesearch.callbacks.trainingmonitor import TrainingMonitor\n",
    "from keras import layers, models\n",
    "\n",
    "data_path = '../../../kornmo-data-files/raw-data/crop-classification-data/'"
   ]
  },
  {
   "cell_type": "code",
   "execution_count": 30,
   "outputs": [
    {
     "name": "stdout",
     "output_type": "stream",
     "text": [
      "Reading data\n",
      "Reading masks\n",
      "Done reading satellite images\n"
     ]
    }
   ],
   "source": [
    "print(\"Reading data\")\n",
    "data = gpd.read_file(f\"{data_path}/training_data.gpkg\")\n",
    "data['orgnr'] = data['orgnr'].astype(int)\n",
    "data['year'] = data['year'].astype(int)\n",
    "\n",
    "print(\"Reading masks\")\n",
    "masks = MaskDataset(f\"{data_path}/classification_field_masks.h5\")\n",
    "\n",
    "satellite_imgs = SentinelDataset('E:/MasterThesisData/Satellite_Images/classification_indices.h5')\n",
    "print(\"Done reading satellite images\")\n"
   ],
   "metadata": {
    "collapsed": false,
    "pycharm": {
     "name": "#%%\n"
    }
   }
  },
  {
   "cell_type": "code",
   "execution_count": 42,
   "outputs": [
    {
     "name": "stdout",
     "output_type": "stream",
     "text": [
      "['hvete', 'bygg', 'havre']\n"
     ]
    }
   ],
   "source": [
    "# Fewer classes code:\n",
    "\n",
    "data = data.loc[data['planted'] != 'erter']\n",
    "data = data.loc[data['planted'] != 'rughvete']\n",
    "data = data.loc[data['planted'] != 'oljefro']\n",
    "data = data.loc[data['planted'] != 'rug']\n",
    "\n",
    "\n",
    "labels = list(set(data['planted']))\n",
    "print(labels)\n",
    "\n",
    "def add_labels(orgnr, year, data_arg):\n",
    "    orgnr = int(orgnr[:9])\n",
    "    year = int(year)\n",
    "\n",
    "    if orgnr in data['orgnr'].unique() and year in data.loc[data['orgnr'] == orgnr]['year'].unique():\n",
    "        label = data.loc[data['orgnr'] == orgnr].loc[data['year'] == year]['planted'].iloc[0]\n",
    "        index = labels.index(label)\n",
    "        arr = [0 for _ in range(0, len(labels))]\n",
    "        arr[index] = 1\n",
    "        return {'class': arr}\n",
    "\n",
    "\n"
   ],
   "metadata": {
    "collapsed": false,
    "pycharm": {
     "name": "#%%\n"
    }
   }
  },
  {
   "cell_type": "code",
   "execution_count": 36,
   "outputs": [
    {
     "name": "stdout",
     "output_type": "stream",
     "text": [
      "['hvete', 'rug', 'bygg', 'oljefro', 'erter', 'rughvete', 'havre']\n"
     ]
    }
   ],
   "source": [
    "# All classes code:\n",
    "\"\"\"\n",
    "labels = list(set(data['planted']))\n",
    "print(labels)\n",
    "\n",
    "def add_labels(orgnr, year, data_arg):\n",
    "    label = data.loc[data['orgnr'] == int(orgnr)].loc[data['year'] == int(year)]['planted'].iloc[0]\n",
    "    index = labels.index(label)\n",
    "    arr = [0 for i in range(0, len(labels))]\n",
    "    arr[index] = 1\n",
    "    return {'class': arr}\n",
    "\"\"\"\n"
   ],
   "metadata": {
    "collapsed": false,
    "pycharm": {
     "name": "#%%\n"
    }
   }
  },
  {
   "cell_type": "code",
   "execution_count": 43,
   "outputs": [
    {
     "name": "stdout",
     "output_type": "stream",
     "text": [
      "train samples: 7710\n",
      "val samples: 1933\n"
     ]
    }
   ],
   "source": [
    "train, val = satellite_imgs.to_iterator().split(rand_seed='corn')\n",
    "train = train.with_data(add_labels)\n",
    "val = val.with_data(add_labels)\n",
    "masks_it = masks.get_iterator()\n",
    "mask_dict = {}\n",
    "\n",
    "for orgnr, year, all_masks in masks_it:\n",
    "    merged_mask = np.zeros((100, 100))\n",
    "\n",
    "    for mask in all_masks:\n",
    "        merged_mask = merged_mask + mask\n",
    "\n",
    "    for i in range(100):\n",
    "        for j in range(100):\n",
    "            if merged_mask[i][j] > 1:\n",
    "                merged_mask[i][j] = 1\n",
    "\n",
    "    mask_dict[f'{orgnr}/{year}'] = merged_mask\n",
    "\n",
    "train = train.filter(lambda orgnr, year, _,__: f\"{orgnr}/{year}\" in mask_dict)\n",
    "val = val.filter(lambda orgnr, year, _,__: f\"{orgnr}/{year}\" in mask_dict)\n",
    "\n",
    "print(f\"train samples: {len(train)}\")\n",
    "print(f\"val samples: {len(val)}\")\n"
   ],
   "metadata": {
    "collapsed": false,
    "pycharm": {
     "name": "#%%\n"
    }
   }
  },
  {
   "cell_type": "code",
   "execution_count": 59,
   "outputs": [],
   "source": [
    "#import random\n",
    "\n",
    "def apply_mask(orgnr, year, imgs):\n",
    "    mask = mask_dict[f'{orgnr}/{year}']\n",
    "    return apply_mask_to_image_series(mask, imgs)\n",
    "\n",
    "def apply_output(orgnr, year, img_source, data):\n",
    "    label = data['class']\n",
    "    #num = random.randint(0, 29)\n",
    "    return {\"cnn_input\": img_source[4:20]}, label"
   ],
   "metadata": {
    "collapsed": false,
    "pycharm": {
     "name": "#%%\n"
    }
   }
  },
  {
   "cell_type": "code",
   "execution_count": 60,
   "outputs": [
    {
     "name": "stdout",
     "output_type": "stream",
     "text": [
      "training samples: 7710\n",
      "Validation samples: 1933\n"
     ]
    }
   ],
   "source": [
    "from tensorflow.python.data.experimental import assert_cardinality\n",
    "\n",
    "train_dataset = tf.data.Dataset.from_generator(\n",
    "    train.transform(apply_mask).apply(apply_output).shuffled(),\n",
    "    output_types=({'cnn_input': tf.dtypes.float64}, tf.dtypes.int64)\n",
    ").apply(assert_cardinality(len(train)))\n",
    "\n",
    "val_dataset = tf.data.Dataset.from_generator(\n",
    "    val.transform(apply_mask).apply(apply_output).shuffled(),\n",
    "    output_types=({'cnn_input': tf.dtypes.float64}, tf.dtypes.int64)\n",
    ").apply(assert_cardinality(len(val)))\n",
    "\n",
    "print(f\"training samples: {len(train_dataset)}\")\n",
    "print(f\"Validation samples: {len(val_dataset)}\")"
   ],
   "metadata": {
    "collapsed": false,
    "pycharm": {
     "name": "#%%\n"
    }
   }
  },
  {
   "cell_type": "code",
   "execution_count": 61,
   "outputs": [],
   "source": [
    "\n",
    "def cnn(input_dim, output_dim):\n",
    "    input_layer = layers.Input(shape=input_dim)\n",
    "    y = layers.Conv2D(16, (3, 3), activation=tf.nn.relu, padding='same')(input_layer)\n",
    "    y = layers.MaxPool2D((2, 2))(y)\n",
    "    y = layers.Conv2D(32, (3, 3), activation=tf.nn.relu, padding='same')(y)\n",
    "    y = layers.MaxPool2D((2, 2))(y)\n",
    "    y = layers.Conv2D(64, (3, 3), activation=tf.nn.relu, padding='same')(y)\n",
    "    y = layers.MaxPool2D((2, 2))(y)\n",
    "    y = layers.Flatten()(y)\n",
    "    y = layers.Dense(output_dim, activation=tf.nn.relu)(y)\n",
    "    return models.Model(inputs=[input_layer], outputs=[y], name=\"SingleImageCNN\")"
   ],
   "metadata": {
    "collapsed": false,
    "pycharm": {
     "name": "#%%\n"
    }
   }
  },
  {
   "cell_type": "code",
   "execution_count": 1,
   "outputs": [
    {
     "ename": "NameError",
     "evalue": "name 'os' is not defined",
     "output_type": "error",
     "traceback": [
      "\u001B[1;31m---------------------------------------------------------------------------\u001B[0m",
      "\u001B[1;31mNameError\u001B[0m                                 Traceback (most recent call last)",
      "Input \u001B[1;32mIn [1]\u001B[0m, in \u001B[0;36m<cell line: 5>\u001B[1;34m()\u001B[0m\n\u001B[0;32m      2\u001B[0m num_images \u001B[38;5;241m=\u001B[39m \u001B[38;5;241m16\u001B[39m\n\u001B[0;32m      3\u001B[0m num_crop_Types \u001B[38;5;241m=\u001B[39m \u001B[38;5;241m3\u001B[39m\n\u001B[1;32m----> 5\u001B[0m plotPath \u001B[38;5;241m=\u001B[39m \u001B[43mos\u001B[49m\u001B[38;5;241m.\u001B[39mpath\u001B[38;5;241m.\u001B[39msep\u001B[38;5;241m.\u001B[39mjoin([runtime_name, \u001B[38;5;124m\"\u001B[39m\u001B[38;5;124mhybrid_more_features.png\u001B[39m\u001B[38;5;124m\"\u001B[39m])\n\u001B[0;32m      6\u001B[0m jsonPath \u001B[38;5;241m=\u001B[39m os\u001B[38;5;241m.\u001B[39mpath\u001B[38;5;241m.\u001B[39msep\u001B[38;5;241m.\u001B[39mjoin([runtime_name, \u001B[38;5;124m\"\u001B[39m\u001B[38;5;124mhybrid_more_features.json\u001B[39m\u001B[38;5;124m\"\u001B[39m])\n\u001B[0;32m      7\u001B[0m callbacks \u001B[38;5;241m=\u001B[39m [\n\u001B[0;32m      8\u001B[0m \tEpochCheckpoint(\u001B[38;5;124mf\u001B[39m\u001B[38;5;124m'\u001B[39m\u001B[38;5;124m./\u001B[39m\u001B[38;5;132;01m{\u001B[39;00mruntime_name\u001B[38;5;132;01m}\u001B[39;00m\u001B[38;5;124m'\u001B[39m, every\u001B[38;5;241m=\u001B[39m\u001B[38;5;241m1\u001B[39m, startAt\u001B[38;5;241m=\u001B[39m\u001B[38;5;241m0\u001B[39m),\n\u001B[0;32m      9\u001B[0m \tTrainingMonitor(plotPath, jsonPath\u001B[38;5;241m=\u001B[39mjsonPath, startAt\u001B[38;5;241m=\u001B[39m\u001B[38;5;241m0\u001B[39m)]\n",
      "\u001B[1;31mNameError\u001B[0m: name 'os' is not defined"
     ]
    }
   ],
   "source": [
    "\n",
    "runtime_name = \"per-farm-big-indices-few-classes\"\n",
    "num_images = 16\n",
    "num_crop_Types = 3\n",
    "\n",
    "plotPath = os.path.sep.join([runtime_name, \"hybrid_more_features.png\"])\n",
    "jsonPath = os.path.sep.join([runtime_name, \"hybrid_more_features.json\"])\n",
    "callbacks = [\n",
    "\tEpochCheckpoint(f'./{runtime_name}', every=1, startAt=0),\n",
    "\tTrainingMonitor(plotPath, jsonPath=jsonPath, startAt=0)]\n",
    "\n",
    "restart = True\n",
    "if restart:\n",
    "    cnn_net = cnn((100, 100, 10), 64)\n",
    "    input_cnn = layers.Input(shape=(num_images, 100, 100, 10), name=\"cnn_input\")\n",
    "\n",
    "    cnn = layers.TimeDistributed(cnn_net)(input_cnn)\n",
    "    cnn = layers.GRU(128, return_sequences=False)(cnn)\n",
    "    cnn = layers.Flatten()(cnn)\n",
    "    cnn = layers.Dense(128)(cnn)\n",
    "    cnn = layers.Dense(num_crop_Types, activation='softmax')(cnn)\n",
    "\n",
    "    cnn = models.Model(inputs=input_cnn, outputs=cnn, name=\"CNN\")\n",
    "\n",
    "    cnn.compile(\n",
    "        optimizer=optimizers.Adam(),\n",
    "        loss=tf.keras.losses.CategoricalCrossentropy(),\n",
    "        metrics=['categorical_accuracy']\n",
    "    )\n",
    "    # callback = tf.keras.callbacks.EarlyStopping(monitor='val_loss', patience=15, restore_best_weights=True)\n",
    "\n",
    "\n",
    "    cnn_history = cnn.fit(\n",
    "            train_dataset.take(10000).batch(32).prefetch(2),\n",
    "            validation_data=val_dataset.batch(32).prefetch(2),\n",
    "            epochs=10,\n",
    "            verbose=1,\n",
    "            callbacks=callbacks\n",
    "    )\n",
    "else:\n",
    "    cnn_net = load_model(f'./{runtime_name}/epoch_2.hdf5')\n",
    "\n",
    "    cnn_history = cnn_net.fit(\n",
    "        train_dataset.take(10000).batch(32).prefetch(2),\n",
    "        validation_data=val_dataset.batch(32).prefetch(2),\n",
    "        epochs=10,\n",
    "        verbose=1,\n",
    "        callbacks=callbacks\n",
    "    )"
   ],
   "metadata": {
    "collapsed": false,
    "pycharm": {
     "name": "#%%\n"
    }
   }
  },
  {
   "cell_type": "code",
   "execution_count": null,
   "outputs": [],
   "source": [],
   "metadata": {
    "collapsed": false,
    "pycharm": {
     "name": "#%%\n"
    }
   }
  }
 ],
 "metadata": {
  "kernelspec": {
   "display_name": "Python 3",
   "language": "python",
   "name": "python3"
  },
  "language_info": {
   "codemirror_mode": {
    "name": "ipython",
    "version": 2
   },
   "file_extension": ".py",
   "mimetype": "text/x-python",
   "name": "python",
   "nbconvert_exporter": "python",
   "pygments_lexer": "ipython2",
   "version": "2.7.6"
  }
 },
 "nbformat": 4,
 "nbformat_minor": 0
}