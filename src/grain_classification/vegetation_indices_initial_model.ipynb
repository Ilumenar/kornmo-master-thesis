{
 "cells": [
  {
   "cell_type": "code",
   "execution_count": 34,
   "metadata": {
    "collapsed": true,
    "pycharm": {
     "name": "#%%\n"
    }
   },
   "outputs": [],
   "source": [
    "import geopandas as gpd\n",
    "import numpy as np\n",
    "import tensorflow as tf\n",
    "import os\n",
    "\n",
    "from kornmo.sentinel.storage import SentinelDataset\n",
    "from kornmo.mask.mask_dataset import MaskDataset\n",
    "from kornmo.mask.utils import apply_mask_to_image_series\n",
    "from keras.models import load_model\n",
    "from tensorflow import optimizers\n",
    "from keras import layers, models\n",
    "\n",
    "data_path = 'data'"
   ]
  },
  {
   "cell_type": "code",
   "execution_count": 30,
   "outputs": [
    {
     "name": "stdout",
     "output_type": "stream",
     "text": [
      "Reading data\n",
      "Reading masks\n",
      "Done reading satellite images\n"
     ]
    }
   ],
   "source": [
    "print(\"Reading data\")\n",
    "data = gpd.read_file(f\"{data_path}/training_data.gpkg\")\n",
    "data['orgnr'] = data['orgnr'].astype(int)\n",
    "data['year'] = data['year'].astype(int)\n",
    "\n",
    "print(\"Reading masks\")\n",
    "masks = MaskDataset(f\"{data_path}/mask/field_based_vegetation_indices_masks_16x16.h5\")\n",
    "\n",
    "satellite_imgs = SentinelDataset(f'{data_path}/sentinelhub/field_based_images/field_based_vegetation_indices_16x16.h5')\n",
    "print(\"Done reading satellite images\")\n"
   ],
   "metadata": {
    "collapsed": false,
    "pycharm": {
     "name": "#%%\n"
    }
   }
  },
  {
   "cell_type": "code",
   "execution_count": 42,
   "outputs": [
    {
     "name": "stdout",
     "output_type": "stream",
     "text": [
      "['hvete', 'bygg', 'havre']\n"
     ]
    }
   ],
   "source": [
    "# Fewer classes code:\n",
    "\n",
    "data = data.loc[data['planted'] != 'erter']\n",
    "data = data.loc[data['planted'] != 'rughvete']\n",
    "data = data.loc[data['planted'] != 'oljefro']\n",
    "data = data.loc[data['planted'] != 'rug']\n",
    "\n",
    "\n",
    "labels = list(set(data['planted']))\n",
    "print(labels)\n",
    "\n",
    "def add_labels(orgnr, year, data_arg):\n",
    "    orgnr = int(orgnr[:9])\n",
    "    year = int(year)\n",
    "\n",
    "    if orgnr in data['orgnr'].unique() and year in data.loc[data['orgnr'] == orgnr]['year'].unique():\n",
    "        label = data.loc[data['orgnr'] == orgnr].loc[data['year'] == year]['planted'].iloc[0]\n",
    "        index = labels.index(label)\n",
    "        arr = [0 for _ in range(0, len(labels))]\n",
    "        arr[index] = 1\n",
    "        return {'class': arr}\n",
    "\n",
    "\n"
   ],
   "metadata": {
    "collapsed": false,
    "pycharm": {
     "name": "#%%\n"
    }
   }
  },
  {
   "cell_type": "code",
   "execution_count": 36,
   "outputs": [
    {
     "name": "stdout",
     "output_type": "stream",
     "text": [
      "['hvete', 'rug', 'bygg', 'oljefro', 'erter', 'rughvete', 'havre']\n"
     ]
    }
   ],
   "source": [
    "# All classes code:\n",
    "\"\"\"\n",
    "labels = list(set(data['planted']))\n",
    "print(labels)\n",
    "\n",
    "def add_labels(orgnr, year, data_arg):\n",
    "    label = data.loc[data['orgnr'] == int(orgnr)].loc[data['year'] == int(year)]['planted'].iloc[0]\n",
    "    index = labels.index(label)\n",
    "    arr = [0 for i in range(0, len(labels))]\n",
    "    arr[index] = 1\n",
    "    return {'class': arr}\n",
    "\"\"\"\n"
   ],
   "metadata": {
    "collapsed": false,
    "pycharm": {
     "name": "#%%\n"
    }
   }
  },
  {
   "cell_type": "code",
   "execution_count": 43,
   "outputs": [
    {
     "name": "stdout",
     "output_type": "stream",
     "text": [
      "train samples: 7710\n",
      "val samples: 1933\n"
     ]
    }
   ],
   "source": [
    "train, val = satellite_imgs.to_iterator().split(rand_seed='corn')\n",
    "train = train.with_data(add_labels)\n",
    "val = val.with_data(add_labels)\n",
    "masks_it = masks.get_iterator()\n",
    "mask_dict = {}\n",
    "\n",
    "for orgnr, year, all_masks in masks_it:\n",
    "    merged_mask = np.zeros((100, 100))\n",
    "\n",
    "    for mask in all_masks:\n",
    "        merged_mask = merged_mask + mask\n",
    "\n",
    "    for i in range(100):\n",
    "        for j in range(100):\n",
    "            if merged_mask[i][j] > 1:\n",
    "                merged_mask[i][j] = 1\n",
    "\n",
    "    mask_dict[f'{orgnr}/{year}'] = merged_mask\n",
    "\n",
    "train = train.filter(lambda orgnr, year, _,__: f\"{orgnr}/{year}\" in mask_dict)\n",
    "val = val.filter(lambda orgnr, year, _,__: f\"{orgnr}/{year}\" in mask_dict)\n",
    "\n",
    "print(f\"train samples: {len(train)}\")\n",
    "print(f\"val samples: {len(val)}\")\n"
   ],
   "metadata": {
    "collapsed": false,
    "pycharm": {
     "name": "#%%\n"
    }
   }
  },
  {
   "cell_type": "code",
   "execution_count": 59,
   "outputs": [],
   "source": [
    "#import random\n",
    "\n",
    "def apply_mask(orgnr, year, imgs):\n",
    "    mask = mask_dict[f'{orgnr}/{year}']\n",
    "    return apply_mask_to_image_series(mask, imgs)\n",
    "\n",
    "def apply_output(orgnr, year, img_source, data):\n",
    "    label = data['class']\n",
    "    #num = random.randint(0, 29)\n",
    "    return {\"cnn_input\": img_source[4:20]}, label"
   ],
   "metadata": {
    "collapsed": false,
    "pycharm": {
     "name": "#%%\n"
    }
   }
  },
  {
   "cell_type": "code",
   "execution_count": 60,
   "outputs": [
    {
     "name": "stdout",
     "output_type": "stream",
     "text": [
      "training samples: 7710\n",
      "Validation samples: 1933\n"
     ]
    }
   ],
   "source": [
    "from tensorflow.python.data.experimental import assert_cardinality\n",
    "\n",
    "train_dataset = tf.data.Dataset.from_generator(\n",
    "    train.transform(apply_mask).apply(apply_output).shuffled(),\n",
    "    output_types=({'cnn_input': tf.dtypes.float64}, tf.dtypes.int64)\n",
    ").apply(assert_cardinality(len(train)))\n",
    "\n",
    "val_dataset = tf.data.Dataset.from_generator(\n",
    "    val.transform(apply_mask).apply(apply_output).shuffled(),\n",
    "    output_types=({'cnn_input': tf.dtypes.float64}, tf.dtypes.int64)\n",
    ").apply(assert_cardinality(len(val)))\n",
    "\n",
    "print(f\"training samples: {len(train_dataset)}\")\n",
    "print(f\"Validation samples: {len(val_dataset)}\")"
   ],
   "metadata": {
    "collapsed": false,
    "pycharm": {
     "name": "#%%\n"
    }
   }
  },
  {
   "cell_type": "code",
   "execution_count": 61,
   "outputs": [],
   "source": [
    "\n",
    "def cnn(input_dim, output_dim):\n",
    "    input_layer = layers.Input(shape=input_dim)\n",
    "    y = layers.Conv2D(16, (3, 3), activation=tf.nn.relu, padding='same')(input_layer)\n",
    "    y = layers.MaxPool2D((2, 2))(y)\n",
    "    y = layers.Conv2D(32, (3, 3), activation=tf.nn.relu, padding='same')(y)\n",
    "    y = layers.MaxPool2D((2, 2))(y)\n",
    "    y = layers.Conv2D(64, (3, 3), activation=tf.nn.relu, padding='same')(y)\n",
    "    y = layers.MaxPool2D((2, 2))(y)\n",
    "    y = layers.Flatten()(y)\n",
    "    y = layers.Dense(output_dim, activation=tf.nn.relu)(y)\n",
    "    return models.Model(inputs=[input_layer], outputs=[y], name=\"SingleImageCNN\")"
   ],
   "metadata": {
    "collapsed": false,
    "pycharm": {
     "name": "#%%\n"
    }
   }
  },
  {
   "cell_type": "code",
   "execution_count": null,
   "outputs": [],
   "source": [
    "from tensorflow import keras\n",
    "\n",
    "runtime_name = \"per-field-big-indices-few-classes\"\n",
    "num_images = 16\n",
    "num_crop_Types = 3\n",
    "\n",
    "model_checkpoint = keras.callbacks.ModelCheckpoint(\n",
    "    './training',\n",
    "    monitor=\"val_loss\",\n",
    "    verbose=0,\n",
    "    mode=\"min\",\n",
    "    save_best_only=True,\n",
    "    save_weights_only=True,\n",
    ")\n",
    "\n",
    "callbacks = [model_checkpoint]\n",
    "\n",
    "restart = True\n",
    "if restart:\n",
    "    cnn_net = cnn((100, 100, 10), 64)\n",
    "    input_cnn = layers.Input(shape=(num_images, 100, 100, 10), name=\"cnn_input\")\n",
    "\n",
    "    cnn = layers.TimeDistributed(cnn_net)(input_cnn)\n",
    "    cnn = layers.GRU(128, return_sequences=False)(cnn)\n",
    "    cnn = layers.Flatten()(cnn)\n",
    "    cnn = layers.Dense(128)(cnn)\n",
    "    cnn = layers.Dense(num_crop_Types, activation='softmax')(cnn)\n",
    "\n",
    "    cnn = models.Model(inputs=input_cnn, outputs=cnn, name=\"CNN\")\n",
    "\n",
    "    cnn.compile(\n",
    "        optimizer=optimizers.Adam(),\n",
    "        loss=tf.keras.losses.CategoricalCrossentropy(),\n",
    "        metrics=['categorical_accuracy']\n",
    "    )\n",
    "\n",
    "\n",
    "    cnn_history = cnn.fit(\n",
    "            train_dataset.take(10000).batch(32).prefetch(2),\n",
    "            validation_data=val_dataset.batch(32).prefetch(2),\n",
    "            epochs=10,\n",
    "            verbose=1,\n",
    "            callbacks=callbacks\n",
    "    )\n",
    "else:\n",
    "    cnn_net = load_model(f'./results/{runtime_name}/epoch_2.hdf5')\n",
    "\n",
    "    cnn_history = cnn_net.fit(\n",
    "        train_dataset.take(10000).batch(32).prefetch(2),\n",
    "        validation_data=val_dataset.batch(32).prefetch(2),\n",
    "        epochs=10,\n",
    "        verbose=1,\n",
    "        callbacks=callbacks\n",
    "    )"
   ],
   "metadata": {
    "collapsed": false,
    "pycharm": {
     "name": "#%%\n",
     "is_executing": true
    }
   }
  },
  {
   "cell_type": "code",
   "execution_count": null,
   "outputs": [],
   "source": [],
   "metadata": {
    "collapsed": false,
    "pycharm": {
     "name": "#%%\n"
    }
   }
  }
 ],
 "metadata": {
  "kernelspec": {
   "display_name": "Python 3",
   "language": "python",
   "name": "python3"
  },
  "language_info": {
   "codemirror_mode": {
    "name": "ipython",
    "version": 2
   },
   "file_extension": ".py",
   "mimetype": "text/x-python",
   "name": "python",
   "nbconvert_exporter": "python",
   "pygments_lexer": "ipython2",
   "version": "2.7.6"
  }
 },
 "nbformat": 4,
 "nbformat_minor": 0
}