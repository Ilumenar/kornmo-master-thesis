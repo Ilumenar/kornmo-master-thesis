{
 "cells": [
  {
   "cell_type": "code",
   "execution_count": null,
   "metadata": {
    "collapsed": true,
    "pycharm": {
     "name": "#%%\n"
    }
   },
   "outputs": [],
   "source": [
    "import numpy as np\n",
    "import pandas as pd\n",
    "import statistics\n",
    "import requests\n",
    "from tqdm import tqdm\n",
    "from src.utils import get_disp_eiendommer, convert_crs"
   ]
  },
  {
   "cell_type": "code",
   "execution_count": null,
   "metadata": {
    "collapsed": false,
    "pycharm": {
     "name": "#%%\n"
    }
   },
   "outputs": [],
   "source": [
    "all_farmers = pd.read_csv(\"../../kornmo-data-files/raw-data/farm-information/farmers_with_address_and_coordinates.csv\", usecols=['orgnr', 'longitude', 'latitude', 'elevation'])\n",
    "print(all_farmers.columns)\n",
    "\n",
    "soil_quality = pd.read_csv(\"../../kornmo-data-files/raw-data/soil-data/jordsmonn.csv\", usecols=['id', 'JORDKVALIT', 'JORDKVALITET'])\n",
    "print(soil_quality.columns)\n",
    "\n",
    "farmers_fields = pd.read_csv(\"../../kornmo-data-files/raw-data/fields_per_farm.csv\", usecols=['field_id', 'municipal_nr', 'orgnr'])\n",
    "print(farmers_fields.columns)"
   ]
  },
  {
   "cell_type": "code",
   "execution_count": null,
   "metadata": {
    "collapsed": false,
    "pycharm": {
     "name": "#%%\n"
    }
   },
   "outputs": [],
   "source": [
    "\n",
    "number_of_farmers = len(all_farmers)\n",
    "farmers_missing_fields = 0\n",
    "\n",
    "p_bar = tqdm(total=number_of_farmers, iterable=all_farmers.iterrows())\n",
    "for farm_index, farmer in p_bar:\n",
    "\n",
    "    # Get all field IDs for one farmer\n",
    "    field_ids = farmers_fields['field_id'].loc[farmers_fields['orgnr'] == farmer['orgnr']].tolist()\n",
    "    farmers_soil_quality = np.zeros(len(field_ids))\n",
    "\n",
    "\n",
    "    # If farmer has some field IDs connected to it:\n",
    "    if len(field_ids) != 0:\n",
    "\n",
    "        # Get all soil quality for that farmer's field IDs\n",
    "        for i in range(len(field_ids)):\n",
    "            farmers_soil_quality[i] = int(soil_quality['JORDKVALITET'].loc[soil_quality['id'] == field_ids[i]])\n",
    "\n",
    "        farmers_soil_quality = farmers_soil_quality.tolist()\n",
    "\n",
    "        # If we found a soil quality for each of the farmers fields:\n",
    "        if int(farmers_soil_quality.count(0)) == 0:\n",
    "            all_farmers.loc[farm_index, 'mean_soil_quality'] = statistics.mean(farmers_soil_quality)\n",
    "            all_farmers.loc[farm_index, 'soil_quality_1'] = int(farmers_soil_quality.count(1))\n",
    "            all_farmers.loc[farm_index, 'soil_quality_2'] = int(farmers_soil_quality.count(2))\n",
    "            all_farmers.loc[farm_index, 'soil_quality_3'] = int(farmers_soil_quality.count(3))\n",
    "\n",
    "        else:\n",
    "            print(f\"Farmer {farmer} is missing {int(farmers_soil_quality.count(0))} soil qualities in jordsmonn.csv\")\n",
    "\n",
    "    else:\n",
    "        farmers_missing_fields = farmers_missing_fields + 1\n",
    "\n",
    "    p_bar.set_description(f\"Done with {farm_index} of {number_of_farmers}\")\n",
    "\n",
    "\n",
    "print(f\"There are {farmers_missing_fields} farmers without a field in fields_per_farm.csv\")\n",
    "\n",
    "if all_farmers.isna().sum().sum() != 0:\n",
    "    print(f\"There are {all_farmers.isna().sum().sum()} NaN values in the dataset\")\n",
    "    print(all_farmers.isna().sum())\n",
    "\n",
    "# all_farmers.to_csv(\"../../kornmo-data-files/raw-data/farm-information/all-farmers-with-soil_quality.csv\")\n"
   ]
  }
 ],
 "metadata": {
  "kernelspec": {
   "display_name": "Python 3",
   "language": "python",
   "name": "python3"
  },
  "language_info": {
   "codemirror_mode": {
    "name": "ipython",
    "version": 2
   },
   "file_extension": ".py",
   "mimetype": "text/x-python",
   "name": "python",
   "nbconvert_exporter": "python",
   "pygments_lexer": "ipython2",
   "version": "2.7.6"
  }
 },
 "nbformat": 4,
 "nbformat_minor": 0
}