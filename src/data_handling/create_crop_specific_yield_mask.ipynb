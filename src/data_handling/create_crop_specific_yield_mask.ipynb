{
 "cells": [
  {
   "cell_type": "code",
   "execution_count": null,
   "metadata": {
    "collapsed": true,
    "pycharm": {
     "name": "#%%\n"
    }
   },
   "outputs": [],
   "source": [
    "\n",
    "import h5py\n",
    "from tqdm import tqdm\n",
    "import os\n",
    "from src.data_handling import create_mask_dataset as mask_code\n",
    "import pandas as pd\n",
    "import geopandas as gpd\n",
    "\n",
    "\n",
    "runtime_name = \"week_1_16\"\n",
    "data_path = \"../../kornmo-data-files/raw-data/crop-classification-data\"\n",
    "crop_types = ['hvete', 'bygg', 'havre', 'rug_og_rughvete']\n",
    "\n",
    "\n",
    "masks_path = f\"{data_path}/{runtime_name}/{runtime_name}_masks.h5\"\n",
    "mask_code.create_mask_file(masks_path)\n",
    "\n",
    "all_fields = gpd.read_file(f\"{data_path}/all_data.gpkg\")\n",
    "all_predicted_labels = pd.read_csv(f\"{data_path}/{runtime_name}/predicted_values.csv\")\n",
    "all_bounding_boxes = gpd.read_file('../../kornmo-data-files/raw-data/farm-information/farm-properties/bounding-boxes-previous-students/disponerte_eiendommer_bboxes.shp')\n",
    "\n"
   ]
  },
  {
   "cell_type": "code",
   "execution_count": null,
   "metadata": {
    "collapsed": false,
    "pycharm": {
     "name": "#%%\n"
    }
   },
   "outputs": [],
   "source": [
    "\n",
    "def create_crop_specific_mask(orgnum, year, crop_type):\n",
    "\n",
    "    if crop_type == \"rug_og_rughvete\":\n",
    "        fields = all_predicted_labels[(all_predicted_labels['orgnr'] == int(orgnum)) & (all_predicted_labels['year'] == int(year)) & ((all_predicted_labels['crop_type'] == \"rug\") | (all_predicted_labels['crop_type'] == \"rughvete\"))]\n",
    "\n",
    "    else:\n",
    "        fields = all_predicted_labels[(all_predicted_labels['orgnr'] == int(orgnum)) & (all_predicted_labels['year'] == int(year)) & (all_predicted_labels['crop_type'] == crop_type)]\n",
    "\n",
    "    field_ids = fields[\"field_id\"].tolist()\n",
    "\n",
    "\n",
    "    if len(field_ids) > 0:\n",
    "\n",
    "        all_property = all_bounding_boxes[all_bounding_boxes['orgnr'] == int(orgnum)]\n",
    "\n",
    "        if len(all_property) >= 1:\n",
    "            property = all_property[all_property['year'] == int(year)]\n",
    "\n",
    "            if len(property) != 1:\n",
    "                property = all_property.head(1)\n",
    "\n",
    "\n",
    "            property_polygon = mask_code.convert_crs(property['geometry'])[0]\n",
    "            bbox = mask_code.boundingBox(property_polygon.centroid.y, property_polygon.centroid.x, 1)\n",
    "            bbox = mask_code.box(bbox[0], bbox[1], bbox[2], bbox[3])\n",
    "\n",
    "\n",
    "            field_geometries = []\n",
    "            total_area = 0\n",
    "            for i in range(len(field_ids)):\n",
    "                row = all_fields.loc[field_ids[i]]\n",
    "                total_area = total_area + row['area']\n",
    "                field_geometries.append(row['geometry'])\n",
    "\n",
    "\n",
    "            mask = mask_code.generate_mask_image_from_polygons(bbox, field_geometries)\n",
    "\n",
    "\n",
    "            return mask, total_area\n",
    "\n",
    "        else:\n",
    "            print(f\"Found satellite images for {orgnum}, but no property\")\n",
    "\n",
    "\n",
    "    return -1, -1\n",
    "\n"
   ]
  },
  {
   "cell_type": "code",
   "execution_count": null,
   "metadata": {
    "collapsed": false,
    "pycharm": {
     "name": "#%%\n"
    }
   },
   "outputs": [],
   "source": [
    "\n",
    "satellite_image_location = \"E:/MasterThesisData/Satellite_Images/\"\n",
    "field_areas = pd.DataFrame(columns=['orgnr', 'year', 'crop_type', 'area'])\n",
    "counter = 0\n",
    "\n",
    "\n",
    "for filename in ['sentinel_100x100_0.h5', 'sentinel_100x100_1.h5']:\n",
    "    with h5py.File(os.path.join(satellite_image_location, filename), \"r\") as file:\n",
    "\n",
    "        images = file['images']\n",
    "        for _, orgnum in enumerate(tqdm(images.keys(), total=len(images))):\n",
    "            for year in images[orgnum]:\n",
    "                    for crop_type in crop_types:\n",
    "\n",
    "                        new_crop_mask, area = create_crop_specific_mask(orgnum, year, crop_type)\n",
    "\n",
    "                        if area != -1:\n",
    "                            mask_code.insert_mask(masks_path, f\"{int(orgnum)}/{int(year)}/{crop_type}\", new_crop_mask)\n",
    "\n",
    "                            data = {'orgnr': int(orgnum), 'year': int(year), 'crop_type': crop_type, 'area':area}\n",
    "                            row = pd.Series(data=data, index=['orgnr', 'year', 'crop_type', 'area'])\n",
    "                            field_areas = pd.concat([field_areas, row.to_frame().T])\n",
    "\n",
    "                        else:\n",
    "                            counter = counter + 1\n",
    "\n",
    "    file.close()\n",
    "\n",
    "field_areas.to_csv(f\"{data_path}/{runtime_name}/field_areas.csv\")\n",
    "\n",
    "print(\"Done\")\n",
    "print(f\"Skipped {counter} sets of [farm, year, type]\")\n",
    "\n"
   ]
  },
  {
   "cell_type": "code",
   "execution_count": null,
   "metadata": {
    "collapsed": false,
    "pycharm": {
     "name": "#%%\n"
    }
   },
   "outputs": [],
   "source": []
  }
 ],
 "metadata": {
  "kernelspec": {
   "display_name": "Python 3",
   "language": "python",
   "name": "python3"
  },
  "language_info": {
   "codemirror_mode": {
    "name": "ipython",
    "version": 2
   },
   "file_extension": ".py",
   "mimetype": "text/x-python",
   "name": "python",
   "nbconvert_exporter": "python",
   "pygments_lexer": "ipython2",
   "version": "2.7.6"
  }
 },
 "nbformat": 4,
 "nbformat_minor": 0
}