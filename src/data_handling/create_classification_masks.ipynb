{
 "cells": [
  {
   "cell_type": "code",
   "execution_count": 43,
   "metadata": {
    "collapsed": true,
    "pycharm": {
     "name": "#%%\n"
    }
   },
   "outputs": [
    {
     "name": "stderr",
     "output_type": "stream",
     "text": [
      "100%|██████████| 7502/7502 [28:08<00:00,  4.44it/s]  \n"
     ]
    }
   ],
   "source": [
    "\n",
    "import numpy as np\n",
    "from src.data_handling.create_mask_dataset import *\n",
    "from src.satellite_images.satellite_images import get_images_by_orgnr\n",
    "\n",
    "\n",
    "\n",
    "classification_fields = gpd.read_file('../../kornmo-data-files/raw-data/crop-classification-data/training_data.gpkg')\n",
    "classification_fields.drop(classification_fields[classification_fields['area'] < 1500].index, inplace = True)\n",
    "\n",
    "masks_path = \"../../kornmo-data-files/raw-data/crop-classification-data/classification_field_masks.h5\"\n",
    "create_mask_file(masks_path)\n",
    "\n",
    "all_bounding_boxes = gpd.read_file('../../kornmo-data-files/raw-data/farm-information/farm-properties/bounding-boxes-previous-students/disponerte_eiendommer_bboxes.shp')\n",
    "\n",
    "all_orgnr = classification_fields['orgnr'].drop_duplicates().reset_index(drop=True)\n",
    "\n",
    "p_bar = tqdm(total=len(all_orgnr), iterable=all_orgnr.iteritems())\n",
    "for _, orgnr in p_bar:\n",
    "    farmers_fields = classification_fields[classification_fields['orgnr'] == orgnr]\n",
    "\n",
    "    all_years = []\n",
    "    for temp_year in farmers_fields['year'].value_counts().iteritems():\n",
    "        all_years.append(temp_year[0])\n",
    "\n",
    "    for year in all_years:\n",
    "        yearly_fields = farmers_fields[farmers_fields['year'] == year].reset_index(drop=True)\n",
    "        field_masks = np.zeros((len(yearly_fields), 100, 100))\n",
    "\n",
    "        bounding_box = all_bounding_boxes[all_bounding_boxes['orgnr'] == int(orgnr)]\n",
    "\n",
    "        if len(bounding_box) >= 1:\n",
    "            one_bounding_box = bounding_box[bounding_box['year'] == int(year)]\n",
    "\n",
    "            if len(one_bounding_box) != 1:\n",
    "                one_bounding_box = bounding_box.head(1)\n",
    "\n",
    "            bounding_box_polygon = convert_crs(one_bounding_box['geometry'])[0]\n",
    "            bbox = boundingBox(bounding_box_polygon.centroid.y, bounding_box_polygon.centroid.x, 1)\n",
    "            bbox = box(bbox[0], bbox[1], bbox[2], bbox[3])\n",
    "\n",
    "            for index, field in yearly_fields.iterrows():\n",
    "                field_polygon = convert_crs([field['geometry']])[0]\n",
    "                field_masks[index] = generate_mask_image(bbox, field_polygon)\n",
    "\n",
    "            insert_mask(masks_path, f\"{int(orgnr)}/{int(year)}\", field_masks)\n",
    "\n",
    "        else:\n",
    "            images = get_images_by_orgnr(str(int(orgnr)))\n",
    "\n",
    "            if len(images.keys()) != 0:\n",
    "                print(f\"Found satellite images for {orgnr}, but no bounding boxes\")\n",
    "                print(images.keys())\n",
    "                print(f\"{len(yearly_fields)} fields are dropped\")\n",
    "\n"
   ]
  },
  {
   "cell_type": "code",
   "execution_count": null,
   "outputs": [],
   "source": [],
   "metadata": {
    "collapsed": false,
    "pycharm": {
     "name": "#%%\n"
    }
   }
  }
 ],
 "metadata": {
  "kernelspec": {
   "display_name": "Python 3",
   "language": "python",
   "name": "python3"
  },
  "language_info": {
   "codemirror_mode": {
    "name": "ipython",
    "version": 2
   },
   "file_extension": ".py",
   "mimetype": "text/x-python",
   "name": "python",
   "nbconvert_exporter": "python",
   "pygments_lexer": "ipython2",
   "version": "2.7.6"
  }
 },
 "nbformat": 4,
 "nbformat_minor": 0
}