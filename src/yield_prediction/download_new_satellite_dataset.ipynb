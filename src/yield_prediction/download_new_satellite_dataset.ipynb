{
 "cells": [
  {
   "cell_type": "code",
   "execution_count": null,
   "metadata": {
    "collapsed": true
   },
   "outputs": [],
   "source": [
    "import os\n",
    "import sys\n",
    "\n",
    "#Auto update imports when python files in src is updated\n",
    "%load_ext autoreload\n",
    "%autoreload 2\n",
    "import sys\n",
    "\n",
    "from src.utils import get_disp_eiendommer, convert_crs, boundingBox, to_rgb\n",
    "from kornmo.sentinel.sentinel_helpers import download_timeseries_from_bbox\n",
    "from kornmo.sentinel.sentinel_evalscripts import natural_color, all_bands\n",
    "from kornmo.sentinel.storage import SentinelDataset\n",
    "import pandas as pd\n",
    "import matplotlib.pyplot as plt\n",
    "from tqdm import tqdm\n",
    "import numpy as np\n",
    "\n",
    "\n",
    "data_location = \"../../../kornmo-data-files/raw-data\""
   ]
  },
  {
   "cell_type": "code",
   "execution_count": null,
   "metadata": {
    "collapsed": false,
    "pycharm": {
     "name": "#%%\n"
    }
   },
   "outputs": [],
   "source": [
    "coordinates = pd.read_csv(os.path.join(data_location, 'farm-information/old farm location information/centroid_coordinates_new.csv'))\n",
    "dataset = pd.read_csv(os.path.join(data_location, '../dataset_filtered-and-normalized.csv'))\n",
    "disp_properties = get_disp_eiendommer()\n",
    "\n",
    "disp_properties.head()"
   ]
  },
  {
   "cell_type": "code",
   "execution_count": null,
   "metadata": {
    "collapsed": false,
    "pycharm": {
     "name": "#%%\n"
    }
   },
   "outputs": [],
   "source": [
    "print(len(list(set(disp_properties['orgnr'].tolist()))))\n",
    "print(len(list(disp_properties['orgnr'])))\n",
    "row = disp_properties.loc[disp_properties['orgnr'] == str(orgnrs[i])].sort_values(by=['year']).iloc[0]\n"
   ]
  },
  {
   "cell_type": "code",
   "execution_count": null,
   "metadata": {
    "collapsed": false,
    "pycharm": {
     "name": "#%%\n"
    }
   },
   "outputs": [],
   "source": [
    "def append_orgnr(orgnr):\n",
    "    file = open('download_progress.txt', 'a')\n",
    "    file.write(f\"{str(orgnr)},\")\n",
    "    file.close()\n",
    "\n",
    "def get_done_orgnrs():\n",
    "    file = open('download_progress.txt', 'r')\n",
    "    nrs = file.read().split(',')[:-1]\n",
    "    file.close()\n",
    "    return nrs"
   ]
  },
  {
   "cell_type": "code",
   "execution_count": null,
   "metadata": {
    "collapsed": false,
    "pycharm": {
     "name": "#%%\n"
    }
   },
   "outputs": [],
   "source": [
    "years = [2020]\n",
    "sd = SentinelDataset('E:/MasterThesisData/Satellite_Images/sentinel_100x100_new_data.h5', create_if_missing=True)\n",
    "orgnrs = [str(orgnr) for orgnr in list(set(dataset['orgnr'].tolist()))]\n",
    "disp_orgnrs = list(set(disp_properties['orgnr'].tolist()))\n",
    "\n",
    "for i in tqdm(range(0, len(orgnrs)), desc=f'Prosessing images...'):\n",
    "    done_orgnrs = get_done_orgnrs()\n",
    "    #print(len(done_orgnrs))\n",
    "    if (orgnrs[i] in disp_orgnrs) and (orgnrs[i] not in done_orgnrs):\n",
    "        row = disp_properties.loc[disp_properties['orgnr'] == orgnrs[i]].sort_values(by=['year']).iloc[0]\n",
    "        point = convert_crs([row['geometry'].centroid])[0]\n",
    "        bbox = boundingBox(point.y, point.x, 1)\n",
    "        for year in years:\n",
    "            imgs, _ = download_timeseries_from_bbox(bbox, (year, 3, 1), (year, 10, 1), 30, evalscript=all_bands)\n",
    "            sd.store_images(imgs, row['orgnr'], year)\n",
    "        append_orgnr(orgnrs[i])\n",
    "\n",
    "    else:\n",
    "        #print(f\"Skipping {orgnrs[i]}\")\n",
    "        ...\n"
   ]
  },
  {
   "cell_type": "code",
   "execution_count": null,
   "metadata": {
    "collapsed": false,
    "pycharm": {
     "name": "#%%\n"
    }
   },
   "outputs": [],
   "source": []
  },
  {
   "cell_type": "code",
   "execution_count": null,
   "metadata": {
    "collapsed": false,
    "pycharm": {
     "name": "#%%\n"
    }
   },
   "outputs": [],
   "source": []
  }
 ],
 "metadata": {
  "kernelspec": {
   "display_name": "Python 3",
   "language": "python",
   "name": "python3"
  },
  "language_info": {
   "codemirror_mode": {
    "name": "ipython",
    "version": 2
   },
   "file_extension": ".py",
   "mimetype": "text/x-python",
   "name": "python",
   "nbconvert_exporter": "python",
   "pygments_lexer": "ipython2",
   "version": "2.7.6"
  }
 },
 "nbformat": 4,
 "nbformat_minor": 0
}