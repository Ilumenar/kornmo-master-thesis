{
 "cells": [
  {
   "cell_type": "code",
   "execution_count": 1,
   "metadata": {},
   "outputs": [],
   "source": [
    "import pandas as pd\n",
    "import sys\n",
    "import numpy as np\n",
    "\n",
    "from kornmo import KornmoDataset\n",
    "from geodata import get_farmer_elevation\n",
    "import kornmo_utils as ku\n",
    "from frostdataset import FrostDataset\n",
    "\n",
    "%load_ext autoreload\n",
    "%autoreload 2\n",
    "\n",
    "TIMESTEPS = 12"
   ]
  },
  {
   "cell_type": "code",
   "execution_count": 2,
   "outputs": [],
   "source": [
    "def filter_by_years(years, data):\n",
    "    return data[data['year'].isin(years)]\n",
    "\n",
    "\n",
    "def get_interpolated_data(years, weather_feature):\n",
    "    data = pd.DataFrame()\n",
    "\n",
    "    print(f\"Loading {weather_feature} data...\")\n",
    "    for year in years:\n",
    "        tmp_df = pd.read_csv(f'../../kornmo-data-files/raw-data/weather-data/nn_interpolated/{weather_feature}/{weather_feature}_interpolated_{year}-03-01_to_{year}-10-01.csv')\n",
    "        tmp_df.insert(0, 'year', year)\n",
    "        data = pd.concat([data, tmp_df])\n",
    "\n",
    "    # Drop columns containing 'Unnamed'\n",
    "    data.drop(columns=[col for col in data.columns if 'Unnamed' in col], inplace=True)\n",
    "\n",
    "    return_data = ku.normalize(data.filter(regex='day_.*'))\n",
    "    return_data = return_data.rename(columns=lambda x: f\"{weather_feature + x[4:]}\")\n",
    "    columns_to_add = ['orgnr', 'year', 'longitude', 'latitude', 'elevation']\n",
    "    for i, col in enumerate(columns_to_add):\n",
    "        return_data.insert(i, col, data[col])\n",
    "\n",
    "    print(f\"Number of loaded entries: {return_data.shape[0]}\")\n",
    "    return return_data\n",
    "\n",
    "def get_proximity_data(years, weather_feature):\n",
    "    data = pd.DataFrame()\n",
    "    print(f\"Loading {weather_feature} data...\")\n",
    "    for year in years:\n",
    "        tmp_df = pd.read_csv(f'../../kornmo-data-files/raw-data/weather-data/by_proximity/{weather_feature}/{weather_feature}_by_proximity_{year}-03-01_to_{year}-10-01.csv')\n",
    "        tmp_df.drop(columns=['ws_id'], inplace=True)\n",
    "        tmp_df.insert(0, 'year', year)\n",
    "        data = pd.concat([data, tmp_df])\n",
    "\n",
    "    return_data = ku.normalize(data.filter(regex='day_.*'))\n",
    "    return_data = return_data.rename(columns=lambda x: f\"{weather_feature + x[4:]}\")\n",
    "\n",
    "    columns_to_add = ['orgnr', 'year']\n",
    "    for i, col in enumerate(columns_to_add):\n",
    "        return_data.insert(i, col, data[col])\n",
    "\n",
    "\n",
    "    print(f\"Number of loaded entries: {return_data.shape[0]}\")\n",
    "    return return_data\n",
    "\n",
    "def get_soilquality_data():\n",
    "    data = pd.read_csv(f'../../kornmo-data-files/raw-data/farm-information/farmers-with-coordinates-and-soil_quality.csv')\n",
    "    data.drop(columns=['Unnamed: 0', 'latitude', 'longitude', 'elevation'], inplace=True)\n",
    "    return_data = ku.normalize(data.drop(columns=['orgnr']))\n",
    "    return_data.insert(0, 'orgnr', data['orgnr'])\n",
    "    return return_data\n",
    "\n",
    "\n",
    "def get_area_and_croptype():\n",
    "    data = pd.read_csv('../../kornmo-data-files/raw-data/crop-classification-data/week_1_11/field_areas.csv')\n",
    "    data.drop(columns=['Unnamed: 0'], inplace=True)\n",
    "    data.drop(data[data['area'] < 1500].index, inplace = True)\n",
    "    data[\"area\"] = ku.normalize(data[\"area\"])\n",
    "    return data"
   ],
   "metadata": {
    "collapsed": false,
    "pycharm": {
     "name": "#%%\n"
    }
   }
  },
  {
   "cell_type": "markdown",
   "metadata": {},
   "source": [
    "## Load deliveries, weather, and historical data"
   ]
  },
  {
   "cell_type": "code",
   "execution_count": 3,
   "metadata": {
    "collapsed": false,
    "jupyter": {
     "outputs_hidden": false
    },
    "pycharm": {
     "name": "#%%\n"
    }
   },
   "outputs": [
    {
     "name": "stdout",
     "output_type": "stream",
     "text": [
      "Loading deliveries...\n",
      "Number of deliveries loaded: 88624\n"
     ]
    },
    {
     "data": {
      "text/plain": "                year      orgnr  kommunenr  gaardsnummer  bruksnummer  \\\nkey                                                                     \n811555762/2017  2017  811555762       1653            24            2   \n811580082/2017  2017  811580082       1124            25            5   \n811675792/2017  2017  811675792        709          2023           12   \n811675792/2017  2017  811675792        709          2023           12   \n811935662/2017  2017  811935662        125           207            1   \n...              ...        ...        ...           ...          ...   \n999659209/2019  2019  999659209        811            31           64   \n999662730/2019  2019  999662730        715           247            1   \n999662730/2019  2019  999662730        715           247            1   \n999665462/2019  2019  999665462        229            69            1   \n999666248/2019  2019  999666248        226            52           10   \n\n                festenummer  fulldyrket  overflatedyrket  tilskudd_dyr  \\\nkey                                                                      \n811555762/2017            0    0.007241              0.0      0.000000   \n811580082/2017            0    0.110575              0.0      0.335581   \n811675792/2017            0    0.014180              0.0      0.000000   \n811675792/2017            0    0.014180              0.0      0.000000   \n811935662/2017            0    0.014331              0.0      0.000000   \n...                     ...         ...              ...           ...   \n999659209/2019            0    0.013728              0.0      0.000000   \n999662730/2019            0    0.043898              0.0      0.000000   \n999662730/2019            0    0.043898              0.0      0.000000   \n999665462/2019            0    0.022628              0.0      0.046744   \n999666248/2019            0    0.022477              0.0      0.000000   \n\n                levert     areal  bygg  havre  hvete  rug_og_rughvete  \\\nkey                                                                     \n811555762/2017   17067  0.017475   1.0    0.0    0.0              0.0   \n811580082/2017   81204  0.064477   1.0    0.0    0.0              0.0   \n811675792/2017   10902  0.020789   1.0    0.0    0.0              0.0   \n811675792/2017    2335  0.004218   0.0    0.0    1.0              0.0   \n811935662/2017   33166  0.031636   0.0    0.0    1.0              0.0   \n...                ...       ...   ...    ...    ...              ...   \n999659209/2019   13426  0.018078   1.0    0.0    0.0              0.0   \n999662730/2019   86888  0.053028   0.0    1.0    0.0              0.0   \n999662730/2019   44841  0.035854   0.0    0.0    1.0              0.0   \n999665462/2019   21835  0.015667   0.0    1.0    0.0              0.0   \n999666248/2019   95683  0.047906   1.0    0.0    0.0              0.0   \n\n                     lat  elevation     yield  \nkey                                            \n811555762/2017  0.959116   0.051198  0.289271  \n811580082/2017  0.891830   0.024510  0.377693  \n811675792/2017  0.896483   0.014706  0.155743  \n811675792/2017  0.896483   0.014706  0.155667  \n811935662/2017  0.907412   0.073529  0.312887  \n...                  ...        ...       ...  \n999659209/2019  0.898225   0.068627  0.220098  \n999662730/2019  0.902149   0.093137  0.490893  \n999662730/2019  0.902149   0.093137  0.373675  \n999665462/2019  0.905165   0.142157  0.411981  \n999666248/2019  0.909951   0.132353  0.598019  \n\n[45314 rows x 18 columns]",
      "text/html": "<div>\n<style scoped>\n    .dataframe tbody tr th:only-of-type {\n        vertical-align: middle;\n    }\n\n    .dataframe tbody tr th {\n        vertical-align: top;\n    }\n\n    .dataframe thead th {\n        text-align: right;\n    }\n</style>\n<table border=\"1\" class=\"dataframe\">\n  <thead>\n    <tr style=\"text-align: right;\">\n      <th></th>\n      <th>year</th>\n      <th>orgnr</th>\n      <th>kommunenr</th>\n      <th>gaardsnummer</th>\n      <th>bruksnummer</th>\n      <th>festenummer</th>\n      <th>fulldyrket</th>\n      <th>overflatedyrket</th>\n      <th>tilskudd_dyr</th>\n      <th>levert</th>\n      <th>areal</th>\n      <th>bygg</th>\n      <th>havre</th>\n      <th>hvete</th>\n      <th>rug_og_rughvete</th>\n      <th>lat</th>\n      <th>elevation</th>\n      <th>yield</th>\n    </tr>\n    <tr>\n      <th>key</th>\n      <th></th>\n      <th></th>\n      <th></th>\n      <th></th>\n      <th></th>\n      <th></th>\n      <th></th>\n      <th></th>\n      <th></th>\n      <th></th>\n      <th></th>\n      <th></th>\n      <th></th>\n      <th></th>\n      <th></th>\n      <th></th>\n      <th></th>\n      <th></th>\n    </tr>\n  </thead>\n  <tbody>\n    <tr>\n      <th>811555762/2017</th>\n      <td>2017</td>\n      <td>811555762</td>\n      <td>1653</td>\n      <td>24</td>\n      <td>2</td>\n      <td>0</td>\n      <td>0.007241</td>\n      <td>0.0</td>\n      <td>0.000000</td>\n      <td>17067</td>\n      <td>0.017475</td>\n      <td>1.0</td>\n      <td>0.0</td>\n      <td>0.0</td>\n      <td>0.0</td>\n      <td>0.959116</td>\n      <td>0.051198</td>\n      <td>0.289271</td>\n    </tr>\n    <tr>\n      <th>811580082/2017</th>\n      <td>2017</td>\n      <td>811580082</td>\n      <td>1124</td>\n      <td>25</td>\n      <td>5</td>\n      <td>0</td>\n      <td>0.110575</td>\n      <td>0.0</td>\n      <td>0.335581</td>\n      <td>81204</td>\n      <td>0.064477</td>\n      <td>1.0</td>\n      <td>0.0</td>\n      <td>0.0</td>\n      <td>0.0</td>\n      <td>0.891830</td>\n      <td>0.024510</td>\n      <td>0.377693</td>\n    </tr>\n    <tr>\n      <th>811675792/2017</th>\n      <td>2017</td>\n      <td>811675792</td>\n      <td>709</td>\n      <td>2023</td>\n      <td>12</td>\n      <td>0</td>\n      <td>0.014180</td>\n      <td>0.0</td>\n      <td>0.000000</td>\n      <td>10902</td>\n      <td>0.020789</td>\n      <td>1.0</td>\n      <td>0.0</td>\n      <td>0.0</td>\n      <td>0.0</td>\n      <td>0.896483</td>\n      <td>0.014706</td>\n      <td>0.155743</td>\n    </tr>\n    <tr>\n      <th>811675792/2017</th>\n      <td>2017</td>\n      <td>811675792</td>\n      <td>709</td>\n      <td>2023</td>\n      <td>12</td>\n      <td>0</td>\n      <td>0.014180</td>\n      <td>0.0</td>\n      <td>0.000000</td>\n      <td>2335</td>\n      <td>0.004218</td>\n      <td>0.0</td>\n      <td>0.0</td>\n      <td>1.0</td>\n      <td>0.0</td>\n      <td>0.896483</td>\n      <td>0.014706</td>\n      <td>0.155667</td>\n    </tr>\n    <tr>\n      <th>811935662/2017</th>\n      <td>2017</td>\n      <td>811935662</td>\n      <td>125</td>\n      <td>207</td>\n      <td>1</td>\n      <td>0</td>\n      <td>0.014331</td>\n      <td>0.0</td>\n      <td>0.000000</td>\n      <td>33166</td>\n      <td>0.031636</td>\n      <td>0.0</td>\n      <td>0.0</td>\n      <td>1.0</td>\n      <td>0.0</td>\n      <td>0.907412</td>\n      <td>0.073529</td>\n      <td>0.312887</td>\n    </tr>\n    <tr>\n      <th>...</th>\n      <td>...</td>\n      <td>...</td>\n      <td>...</td>\n      <td>...</td>\n      <td>...</td>\n      <td>...</td>\n      <td>...</td>\n      <td>...</td>\n      <td>...</td>\n      <td>...</td>\n      <td>...</td>\n      <td>...</td>\n      <td>...</td>\n      <td>...</td>\n      <td>...</td>\n      <td>...</td>\n      <td>...</td>\n      <td>...</td>\n    </tr>\n    <tr>\n      <th>999659209/2019</th>\n      <td>2019</td>\n      <td>999659209</td>\n      <td>811</td>\n      <td>31</td>\n      <td>64</td>\n      <td>0</td>\n      <td>0.013728</td>\n      <td>0.0</td>\n      <td>0.000000</td>\n      <td>13426</td>\n      <td>0.018078</td>\n      <td>1.0</td>\n      <td>0.0</td>\n      <td>0.0</td>\n      <td>0.0</td>\n      <td>0.898225</td>\n      <td>0.068627</td>\n      <td>0.220098</td>\n    </tr>\n    <tr>\n      <th>999662730/2019</th>\n      <td>2019</td>\n      <td>999662730</td>\n      <td>715</td>\n      <td>247</td>\n      <td>1</td>\n      <td>0</td>\n      <td>0.043898</td>\n      <td>0.0</td>\n      <td>0.000000</td>\n      <td>86888</td>\n      <td>0.053028</td>\n      <td>0.0</td>\n      <td>1.0</td>\n      <td>0.0</td>\n      <td>0.0</td>\n      <td>0.902149</td>\n      <td>0.093137</td>\n      <td>0.490893</td>\n    </tr>\n    <tr>\n      <th>999662730/2019</th>\n      <td>2019</td>\n      <td>999662730</td>\n      <td>715</td>\n      <td>247</td>\n      <td>1</td>\n      <td>0</td>\n      <td>0.043898</td>\n      <td>0.0</td>\n      <td>0.000000</td>\n      <td>44841</td>\n      <td>0.035854</td>\n      <td>0.0</td>\n      <td>0.0</td>\n      <td>1.0</td>\n      <td>0.0</td>\n      <td>0.902149</td>\n      <td>0.093137</td>\n      <td>0.373675</td>\n    </tr>\n    <tr>\n      <th>999665462/2019</th>\n      <td>2019</td>\n      <td>999665462</td>\n      <td>229</td>\n      <td>69</td>\n      <td>1</td>\n      <td>0</td>\n      <td>0.022628</td>\n      <td>0.0</td>\n      <td>0.046744</td>\n      <td>21835</td>\n      <td>0.015667</td>\n      <td>0.0</td>\n      <td>1.0</td>\n      <td>0.0</td>\n      <td>0.0</td>\n      <td>0.905165</td>\n      <td>0.142157</td>\n      <td>0.411981</td>\n    </tr>\n    <tr>\n      <th>999666248/2019</th>\n      <td>2019</td>\n      <td>999666248</td>\n      <td>226</td>\n      <td>52</td>\n      <td>10</td>\n      <td>0</td>\n      <td>0.022477</td>\n      <td>0.0</td>\n      <td>0.000000</td>\n      <td>95683</td>\n      <td>0.047906</td>\n      <td>1.0</td>\n      <td>0.0</td>\n      <td>0.0</td>\n      <td>0.0</td>\n      <td>0.909951</td>\n      <td>0.132353</td>\n      <td>0.598019</td>\n    </tr>\n  </tbody>\n</table>\n<p>45314 rows × 18 columns</p>\n</div>"
     },
     "execution_count": 3,
     "metadata": {},
     "output_type": "execute_result"
    }
   ],
   "source": [
    "years = [2017, 2018, 2019]\n",
    "\n",
    "frost = FrostDataset()\n",
    "kornmo = KornmoDataset()\n",
    "deliveries = kornmo.get_deliveries().pipe(ku.split_farmers_on_type)\n",
    "\n",
    "elevation_data = get_farmer_elevation()\n",
    "deliveries = deliveries.merge(elevation_data, on=['orgnr'], how='left').fillna(0)\n",
    "\n",
    "deliveries[\"yield\"] = ku.normalize(deliveries[\"levert\"]/deliveries[\"areal\"], 0, 1000)\n",
    "deliveries[\"areal\"] = ku.normalize(deliveries[\"areal\"])\n",
    "deliveries['fulldyrket'] = ku.normalize(deliveries['fulldyrket'])\n",
    "deliveries['overflatedyrket'] = ku.normalize(deliveries['overflatedyrket'])\n",
    "deliveries['tilskudd_dyr'] = ku.normalize(deliveries['tilskudd_dyr'])\n",
    "deliveries['lat'] = ku.normalize(deliveries['lat'])\n",
    "deliveries['elevation'] = ku.normalize(deliveries['elevation'])\n",
    "\n",
    "deliveries[\"key\"] = deliveries.orgnr.astype(str) + \"/\" + deliveries.year.astype(str)\n",
    "deliveries = deliveries.set_index(\"key\")\n",
    "deliveries = filter_by_years(years, deliveries)\n",
    "\n",
    "deliveries\n",
    "# test = deliveries.loc[\"869093262/2017\"]\n",
    "# test.loc[test['bygg'] == 2.0]"
   ]
  },
  {
   "cell_type": "code",
   "execution_count": 4,
   "metadata": {},
   "outputs": [
    {
     "name": "stdout",
     "output_type": "stream",
     "text": [
      "Loading historical grants data...\n",
      "Historical data loaded for years 2013 to 2020.\n"
     ]
    },
    {
     "data": {
      "text/plain": "                bygg_sum_0  hvete_sum_0  havre_sum_0  rug_og_rughvete_sum_0  \\\nkey                                                                           \n811555762/2017      1.3687       0.0000       0.0000                    0.0   \n811580082/2017      2.9200       0.0000       0.0000                    0.0   \n811675792/2017      0.0000       0.0000       0.0000                    0.0   \n811935662/2017      0.0000       0.0000       0.0000                    0.0   \n812075322/2017      1.7688       0.4413       0.0000                    0.0   \n...                    ...          ...          ...                    ...   \n999640001/2019      0.0000      21.5508       4.7821                    0.0   \n999659209/2019      0.0000       2.2603       0.0000                    0.0   \n999662730/2019      0.0000       5.1119       9.7433                    0.0   \n999665462/2019      0.0000       0.0000       0.0000                    0.0   \n999666248/2019      9.5523       0.0000       0.0000                    0.0   \n\n                bygg_sum_1  hvete_sum_1  havre_sum_1  rug_og_rughvete_sum_1  \\\nkey                                                                           \n811555762/2017      2.2050       0.0000       0.0000                    0.0   \n811580082/2017      4.7596       0.0000       0.0000                    0.0   \n811675792/2017      0.0000       2.8870       0.6015                    0.0   \n811935662/2017      0.0000       0.0000       0.0000                    0.0   \n812075322/2017      3.3676       0.0000       0.0000                    0.0   \n...                    ...          ...          ...                    ...   \n999640001/2019     14.6406       0.0000       4.8990                    0.0   \n999659209/2019      1.8102       0.0000       0.0000                    0.0   \n999662730/2019      0.0000       2.9122      10.4515                    0.0   \n999665462/2019      0.0000       0.0000       0.0000                    0.0   \n999666248/2019      0.0000       0.0000       9.8484                    0.0   \n\n                bygg_sum_2  hvete_sum_2  havre_sum_2  rug_og_rughvete_sum_2  \\\nkey                                                                           \n811555762/2017      2.0620       0.0000       0.0000                    0.0   \n811580082/2017      6.4999       0.0000       0.0000                    0.0   \n811675792/2017      0.0000       1.4844       0.2770                    0.0   \n811935662/2017      0.0000       0.0000       0.0000                    0.0   \n812075322/2017      1.7060       1.4768       0.0000                    0.0   \n...                    ...          ...          ...                    ...   \n999640001/2019      9.4914      33.1335       5.0059                    0.0   \n999659209/2019      0.0000       1.1576       0.0000                    0.0   \n999662730/2019      0.0000       4.7917       8.2873                    0.0   \n999665462/2019      0.0000       0.0000       2.1122                    0.0   \n999666248/2019      0.0000       0.0000       8.5110                    0.0   \n\n                bygg_sum_3  hvete_sum_3  havre_sum_3  rug_og_rughvete_sum_3  \nkey                                                                          \n811555762/2017      2.2445       0.0000       0.0000                    0.0  \n811580082/2017     11.7227       0.0000       0.0000                    0.0  \n811675792/2017      0.0000       2.2717       0.4869                    0.0  \n811935662/2017      1.0643       2.5620       0.0000                    0.0  \n812075322/2017      2.2838       1.0750       0.0000                    0.0  \n...                    ...          ...          ...                    ...  \n999640001/2019      8.4269       6.3109       0.0000                    0.0  \n999659209/2019      0.0000       0.0000       1.5396                    0.0  \n999662730/2019      0.0000       1.8919       5.8078                    0.0  \n999665462/2019      0.0000       0.0000       0.6108                    0.0  \n999666248/2019      3.8498       0.0000       0.0000                    0.0  \n\n[28837 rows x 16 columns]",
      "text/html": "<div>\n<style scoped>\n    .dataframe tbody tr th:only-of-type {\n        vertical-align: middle;\n    }\n\n    .dataframe tbody tr th {\n        vertical-align: top;\n    }\n\n    .dataframe thead th {\n        text-align: right;\n    }\n</style>\n<table border=\"1\" class=\"dataframe\">\n  <thead>\n    <tr style=\"text-align: right;\">\n      <th></th>\n      <th>bygg_sum_0</th>\n      <th>hvete_sum_0</th>\n      <th>havre_sum_0</th>\n      <th>rug_og_rughvete_sum_0</th>\n      <th>bygg_sum_1</th>\n      <th>hvete_sum_1</th>\n      <th>havre_sum_1</th>\n      <th>rug_og_rughvete_sum_1</th>\n      <th>bygg_sum_2</th>\n      <th>hvete_sum_2</th>\n      <th>havre_sum_2</th>\n      <th>rug_og_rughvete_sum_2</th>\n      <th>bygg_sum_3</th>\n      <th>hvete_sum_3</th>\n      <th>havre_sum_3</th>\n      <th>rug_og_rughvete_sum_3</th>\n    </tr>\n    <tr>\n      <th>key</th>\n      <th></th>\n      <th></th>\n      <th></th>\n      <th></th>\n      <th></th>\n      <th></th>\n      <th></th>\n      <th></th>\n      <th></th>\n      <th></th>\n      <th></th>\n      <th></th>\n      <th></th>\n      <th></th>\n      <th></th>\n      <th></th>\n    </tr>\n  </thead>\n  <tbody>\n    <tr>\n      <th>811555762/2017</th>\n      <td>1.3687</td>\n      <td>0.0000</td>\n      <td>0.0000</td>\n      <td>0.0</td>\n      <td>2.2050</td>\n      <td>0.0000</td>\n      <td>0.0000</td>\n      <td>0.0</td>\n      <td>2.0620</td>\n      <td>0.0000</td>\n      <td>0.0000</td>\n      <td>0.0</td>\n      <td>2.2445</td>\n      <td>0.0000</td>\n      <td>0.0000</td>\n      <td>0.0</td>\n    </tr>\n    <tr>\n      <th>811580082/2017</th>\n      <td>2.9200</td>\n      <td>0.0000</td>\n      <td>0.0000</td>\n      <td>0.0</td>\n      <td>4.7596</td>\n      <td>0.0000</td>\n      <td>0.0000</td>\n      <td>0.0</td>\n      <td>6.4999</td>\n      <td>0.0000</td>\n      <td>0.0000</td>\n      <td>0.0</td>\n      <td>11.7227</td>\n      <td>0.0000</td>\n      <td>0.0000</td>\n      <td>0.0</td>\n    </tr>\n    <tr>\n      <th>811675792/2017</th>\n      <td>0.0000</td>\n      <td>0.0000</td>\n      <td>0.0000</td>\n      <td>0.0</td>\n      <td>0.0000</td>\n      <td>2.8870</td>\n      <td>0.6015</td>\n      <td>0.0</td>\n      <td>0.0000</td>\n      <td>1.4844</td>\n      <td>0.2770</td>\n      <td>0.0</td>\n      <td>0.0000</td>\n      <td>2.2717</td>\n      <td>0.4869</td>\n      <td>0.0</td>\n    </tr>\n    <tr>\n      <th>811935662/2017</th>\n      <td>0.0000</td>\n      <td>0.0000</td>\n      <td>0.0000</td>\n      <td>0.0</td>\n      <td>0.0000</td>\n      <td>0.0000</td>\n      <td>0.0000</td>\n      <td>0.0</td>\n      <td>0.0000</td>\n      <td>0.0000</td>\n      <td>0.0000</td>\n      <td>0.0</td>\n      <td>1.0643</td>\n      <td>2.5620</td>\n      <td>0.0000</td>\n      <td>0.0</td>\n    </tr>\n    <tr>\n      <th>812075322/2017</th>\n      <td>1.7688</td>\n      <td>0.4413</td>\n      <td>0.0000</td>\n      <td>0.0</td>\n      <td>3.3676</td>\n      <td>0.0000</td>\n      <td>0.0000</td>\n      <td>0.0</td>\n      <td>1.7060</td>\n      <td>1.4768</td>\n      <td>0.0000</td>\n      <td>0.0</td>\n      <td>2.2838</td>\n      <td>1.0750</td>\n      <td>0.0000</td>\n      <td>0.0</td>\n    </tr>\n    <tr>\n      <th>...</th>\n      <td>...</td>\n      <td>...</td>\n      <td>...</td>\n      <td>...</td>\n      <td>...</td>\n      <td>...</td>\n      <td>...</td>\n      <td>...</td>\n      <td>...</td>\n      <td>...</td>\n      <td>...</td>\n      <td>...</td>\n      <td>...</td>\n      <td>...</td>\n      <td>...</td>\n      <td>...</td>\n    </tr>\n    <tr>\n      <th>999640001/2019</th>\n      <td>0.0000</td>\n      <td>21.5508</td>\n      <td>4.7821</td>\n      <td>0.0</td>\n      <td>14.6406</td>\n      <td>0.0000</td>\n      <td>4.8990</td>\n      <td>0.0</td>\n      <td>9.4914</td>\n      <td>33.1335</td>\n      <td>5.0059</td>\n      <td>0.0</td>\n      <td>8.4269</td>\n      <td>6.3109</td>\n      <td>0.0000</td>\n      <td>0.0</td>\n    </tr>\n    <tr>\n      <th>999659209/2019</th>\n      <td>0.0000</td>\n      <td>2.2603</td>\n      <td>0.0000</td>\n      <td>0.0</td>\n      <td>1.8102</td>\n      <td>0.0000</td>\n      <td>0.0000</td>\n      <td>0.0</td>\n      <td>0.0000</td>\n      <td>1.1576</td>\n      <td>0.0000</td>\n      <td>0.0</td>\n      <td>0.0000</td>\n      <td>0.0000</td>\n      <td>1.5396</td>\n      <td>0.0</td>\n    </tr>\n    <tr>\n      <th>999662730/2019</th>\n      <td>0.0000</td>\n      <td>5.1119</td>\n      <td>9.7433</td>\n      <td>0.0</td>\n      <td>0.0000</td>\n      <td>2.9122</td>\n      <td>10.4515</td>\n      <td>0.0</td>\n      <td>0.0000</td>\n      <td>4.7917</td>\n      <td>8.2873</td>\n      <td>0.0</td>\n      <td>0.0000</td>\n      <td>1.8919</td>\n      <td>5.8078</td>\n      <td>0.0</td>\n    </tr>\n    <tr>\n      <th>999665462/2019</th>\n      <td>0.0000</td>\n      <td>0.0000</td>\n      <td>0.0000</td>\n      <td>0.0</td>\n      <td>0.0000</td>\n      <td>0.0000</td>\n      <td>0.0000</td>\n      <td>0.0</td>\n      <td>0.0000</td>\n      <td>0.0000</td>\n      <td>2.1122</td>\n      <td>0.0</td>\n      <td>0.0000</td>\n      <td>0.0000</td>\n      <td>0.6108</td>\n      <td>0.0</td>\n    </tr>\n    <tr>\n      <th>999666248/2019</th>\n      <td>9.5523</td>\n      <td>0.0000</td>\n      <td>0.0000</td>\n      <td>0.0</td>\n      <td>0.0000</td>\n      <td>0.0000</td>\n      <td>9.8484</td>\n      <td>0.0</td>\n      <td>0.0000</td>\n      <td>0.0000</td>\n      <td>8.5110</td>\n      <td>0.0</td>\n      <td>3.8498</td>\n      <td>0.0000</td>\n      <td>0.0000</td>\n      <td>0.0</td>\n    </tr>\n  </tbody>\n</table>\n<p>28837 rows × 16 columns</p>\n</div>"
     },
     "execution_count": 4,
     "metadata": {},
     "output_type": "execute_result"
    }
   ],
   "source": [
    "historical = ku.get_historical_production(kornmo, [2017, 2018, 2019], 4)\n",
    "historical = deliveries.merge(historical, how='left').fillna(0)\n",
    "historical[\"key\"] = historical.orgnr.astype(str) + \"/\" + historical.year.astype(str)\n",
    "historical = historical.drop(columns=deliveries.columns)\n",
    "historical = historical.drop_duplicates(subset='key')\n",
    "historical = historical.set_index(\"key\")\n",
    "historical"
   ]
  },
  {
   "cell_type": "code",
   "execution_count": 5,
   "metadata": {
    "collapsed": false,
    "jupyter": {
     "outputs_hidden": false
    },
    "pycharm": {
     "name": "#%%\n"
    }
   },
   "outputs": [
    {
     "name": "stdout",
     "output_type": "stream",
     "text": [
      "Loading sunlight data...\n",
      "Number of loaded entries: 30462\n",
      "Loading daydegree5 data...\n",
      "Number of loaded entries: 30462\n",
      "Loading ground data...\n",
      "Number of loaded entries: 30462\n",
      "Loading weather data...\n",
      "Weather data entries loaded: 33003\n",
      "Merged 859 features of temp and precip data, 219 features of sunlight data, 216 features of daydegree data, 216 features of ground data to a total of 1504 features\n"
     ]
    },
    {
     "data": {
      "text/plain": "                growth_start_day  min_temp0  min_temp1  min_temp2  min_temp3  \\\nkey                                                                            \n811555762/2017          0.061905   0.491667   0.411667   0.421667   0.496667   \n811580082/2017          0.038095   0.505000   0.521667   0.560000   0.543333   \n811675792/2017          0.114286   0.485000   0.435000   0.503333   0.500000   \n811935662/2017          0.114286   0.491667   0.465000   0.473333   0.466667   \n812075322/2017          0.114286   0.458333   0.400000   0.440000   0.458333   \n...                          ...        ...        ...        ...        ...   \n997229789/2019          0.219048   0.456667   0.445000   0.423333   0.341667   \n997237269/2019          0.233333   0.418333   0.371667   0.486667   0.481667   \n997365747/2019          0.219048   0.405000   0.401667   0.388333   0.216667   \n997690877/2019          0.219048   0.488333   0.485000   0.433333   0.328333   \n998726581/2019          0.114286   0.451667   0.435000   0.575000   0.528333   \n\n                min_temp4  min_temp5  min_temp6  min_temp7  min_temp8  ...  \\\nkey                                                                    ...   \n811555762/2017   0.486667   0.448333   0.391667   0.361667   0.406667  ...   \n811580082/2017   0.526667   0.473333   0.413333   0.446667   0.560000  ...   \n811675792/2017   0.450000   0.430000   0.390000   0.300000   0.490000  ...   \n811935662/2017   0.438333   0.406667   0.370000   0.411667   0.488333  ...   \n812075322/2017   0.430000   0.410000   0.398333   0.300000   0.440000  ...   \n...                   ...        ...        ...        ...        ...  ...   \n997229789/2019   0.291667   0.281667   0.326667   0.396667   0.386667  ...   \n997237269/2019   0.415000   0.421667   0.453333   0.358333   0.320000  ...   \n997365747/2019   0.181667   0.143333   0.296667   0.383333   0.270000  ...   \n997690877/2019   0.250000   0.210000   0.313333   0.396667   0.268333  ...   \n998726581/2019   0.505000   0.506667   0.538333   0.508333   0.503333  ...   \n\n                ground204  ground205  ground206  ground207  ground208  \\\nkey                                                                     \n811555762/2017   0.000000       0.00      0.000   0.000000   0.000000   \n811580082/2017   0.285714       0.00      0.125   0.111111   0.000000   \n811675792/2017   0.142857       0.25      0.125   0.111111   0.142857   \n811935662/2017   0.142857       0.00      0.125   0.111111   0.285714   \n812075322/2017   0.285714       0.50      0.125   0.222222   0.285714   \n...                   ...        ...        ...        ...        ...   \n997229789/2019        NaN        NaN        NaN        NaN        NaN   \n997237269/2019        NaN        NaN        NaN        NaN        NaN   \n997365747/2019   0.285714       0.50      0.125   0.111111   0.142857   \n997690877/2019   0.285714       0.50      0.250   0.111111   0.142857   \n998726581/2019   0.142857       0.25      0.125   0.111111   0.142857   \n\n                ground209  ground210  ground211  ground212  ground213  \nkey                                                                    \n811555762/2017   0.000000   0.000000   0.000000   0.000000   0.000000  \n811580082/2017   0.000000   0.000000   0.111111   0.000000   0.222222  \n811675792/2017   0.142857   0.285714   0.111111   0.000000   0.111111  \n811935662/2017   0.142857   0.142857   0.111111   0.000000   0.000000  \n812075322/2017   0.285714   0.285714   0.222222   0.000000   0.222222  \n...                   ...        ...        ...        ...        ...  \n997229789/2019        NaN        NaN        NaN        NaN        NaN  \n997237269/2019        NaN        NaN        NaN        NaN        NaN  \n997365747/2019   0.142857   0.142857   0.111111   0.111111   0.111111  \n997690877/2019   0.142857   0.142857   0.111111   0.111111   0.222222  \n998726581/2019   0.142857   0.285714   0.333333   0.333333   0.000000  \n\n[30873 rows x 1502 columns]",
      "text/html": "<div>\n<style scoped>\n    .dataframe tbody tr th:only-of-type {\n        vertical-align: middle;\n    }\n\n    .dataframe tbody tr th {\n        vertical-align: top;\n    }\n\n    .dataframe thead th {\n        text-align: right;\n    }\n</style>\n<table border=\"1\" class=\"dataframe\">\n  <thead>\n    <tr style=\"text-align: right;\">\n      <th></th>\n      <th>growth_start_day</th>\n      <th>min_temp0</th>\n      <th>min_temp1</th>\n      <th>min_temp2</th>\n      <th>min_temp3</th>\n      <th>min_temp4</th>\n      <th>min_temp5</th>\n      <th>min_temp6</th>\n      <th>min_temp7</th>\n      <th>min_temp8</th>\n      <th>...</th>\n      <th>ground204</th>\n      <th>ground205</th>\n      <th>ground206</th>\n      <th>ground207</th>\n      <th>ground208</th>\n      <th>ground209</th>\n      <th>ground210</th>\n      <th>ground211</th>\n      <th>ground212</th>\n      <th>ground213</th>\n    </tr>\n    <tr>\n      <th>key</th>\n      <th></th>\n      <th></th>\n      <th></th>\n      <th></th>\n      <th></th>\n      <th></th>\n      <th></th>\n      <th></th>\n      <th></th>\n      <th></th>\n      <th></th>\n      <th></th>\n      <th></th>\n      <th></th>\n      <th></th>\n      <th></th>\n      <th></th>\n      <th></th>\n      <th></th>\n      <th></th>\n      <th></th>\n    </tr>\n  </thead>\n  <tbody>\n    <tr>\n      <th>811555762/2017</th>\n      <td>0.061905</td>\n      <td>0.491667</td>\n      <td>0.411667</td>\n      <td>0.421667</td>\n      <td>0.496667</td>\n      <td>0.486667</td>\n      <td>0.448333</td>\n      <td>0.391667</td>\n      <td>0.361667</td>\n      <td>0.406667</td>\n      <td>...</td>\n      <td>0.000000</td>\n      <td>0.00</td>\n      <td>0.000</td>\n      <td>0.000000</td>\n      <td>0.000000</td>\n      <td>0.000000</td>\n      <td>0.000000</td>\n      <td>0.000000</td>\n      <td>0.000000</td>\n      <td>0.000000</td>\n    </tr>\n    <tr>\n      <th>811580082/2017</th>\n      <td>0.038095</td>\n      <td>0.505000</td>\n      <td>0.521667</td>\n      <td>0.560000</td>\n      <td>0.543333</td>\n      <td>0.526667</td>\n      <td>0.473333</td>\n      <td>0.413333</td>\n      <td>0.446667</td>\n      <td>0.560000</td>\n      <td>...</td>\n      <td>0.285714</td>\n      <td>0.00</td>\n      <td>0.125</td>\n      <td>0.111111</td>\n      <td>0.000000</td>\n      <td>0.000000</td>\n      <td>0.000000</td>\n      <td>0.111111</td>\n      <td>0.000000</td>\n      <td>0.222222</td>\n    </tr>\n    <tr>\n      <th>811675792/2017</th>\n      <td>0.114286</td>\n      <td>0.485000</td>\n      <td>0.435000</td>\n      <td>0.503333</td>\n      <td>0.500000</td>\n      <td>0.450000</td>\n      <td>0.430000</td>\n      <td>0.390000</td>\n      <td>0.300000</td>\n      <td>0.490000</td>\n      <td>...</td>\n      <td>0.142857</td>\n      <td>0.25</td>\n      <td>0.125</td>\n      <td>0.111111</td>\n      <td>0.142857</td>\n      <td>0.142857</td>\n      <td>0.285714</td>\n      <td>0.111111</td>\n      <td>0.000000</td>\n      <td>0.111111</td>\n    </tr>\n    <tr>\n      <th>811935662/2017</th>\n      <td>0.114286</td>\n      <td>0.491667</td>\n      <td>0.465000</td>\n      <td>0.473333</td>\n      <td>0.466667</td>\n      <td>0.438333</td>\n      <td>0.406667</td>\n      <td>0.370000</td>\n      <td>0.411667</td>\n      <td>0.488333</td>\n      <td>...</td>\n      <td>0.142857</td>\n      <td>0.00</td>\n      <td>0.125</td>\n      <td>0.111111</td>\n      <td>0.285714</td>\n      <td>0.142857</td>\n      <td>0.142857</td>\n      <td>0.111111</td>\n      <td>0.000000</td>\n      <td>0.000000</td>\n    </tr>\n    <tr>\n      <th>812075322/2017</th>\n      <td>0.114286</td>\n      <td>0.458333</td>\n      <td>0.400000</td>\n      <td>0.440000</td>\n      <td>0.458333</td>\n      <td>0.430000</td>\n      <td>0.410000</td>\n      <td>0.398333</td>\n      <td>0.300000</td>\n      <td>0.440000</td>\n      <td>...</td>\n      <td>0.285714</td>\n      <td>0.50</td>\n      <td>0.125</td>\n      <td>0.222222</td>\n      <td>0.285714</td>\n      <td>0.285714</td>\n      <td>0.285714</td>\n      <td>0.222222</td>\n      <td>0.000000</td>\n      <td>0.222222</td>\n    </tr>\n    <tr>\n      <th>...</th>\n      <td>...</td>\n      <td>...</td>\n      <td>...</td>\n      <td>...</td>\n      <td>...</td>\n      <td>...</td>\n      <td>...</td>\n      <td>...</td>\n      <td>...</td>\n      <td>...</td>\n      <td>...</td>\n      <td>...</td>\n      <td>...</td>\n      <td>...</td>\n      <td>...</td>\n      <td>...</td>\n      <td>...</td>\n      <td>...</td>\n      <td>...</td>\n      <td>...</td>\n      <td>...</td>\n    </tr>\n    <tr>\n      <th>997229789/2019</th>\n      <td>0.219048</td>\n      <td>0.456667</td>\n      <td>0.445000</td>\n      <td>0.423333</td>\n      <td>0.341667</td>\n      <td>0.291667</td>\n      <td>0.281667</td>\n      <td>0.326667</td>\n      <td>0.396667</td>\n      <td>0.386667</td>\n      <td>...</td>\n      <td>NaN</td>\n      <td>NaN</td>\n      <td>NaN</td>\n      <td>NaN</td>\n      <td>NaN</td>\n      <td>NaN</td>\n      <td>NaN</td>\n      <td>NaN</td>\n      <td>NaN</td>\n      <td>NaN</td>\n    </tr>\n    <tr>\n      <th>997237269/2019</th>\n      <td>0.233333</td>\n      <td>0.418333</td>\n      <td>0.371667</td>\n      <td>0.486667</td>\n      <td>0.481667</td>\n      <td>0.415000</td>\n      <td>0.421667</td>\n      <td>0.453333</td>\n      <td>0.358333</td>\n      <td>0.320000</td>\n      <td>...</td>\n      <td>NaN</td>\n      <td>NaN</td>\n      <td>NaN</td>\n      <td>NaN</td>\n      <td>NaN</td>\n      <td>NaN</td>\n      <td>NaN</td>\n      <td>NaN</td>\n      <td>NaN</td>\n      <td>NaN</td>\n    </tr>\n    <tr>\n      <th>997365747/2019</th>\n      <td>0.219048</td>\n      <td>0.405000</td>\n      <td>0.401667</td>\n      <td>0.388333</td>\n      <td>0.216667</td>\n      <td>0.181667</td>\n      <td>0.143333</td>\n      <td>0.296667</td>\n      <td>0.383333</td>\n      <td>0.270000</td>\n      <td>...</td>\n      <td>0.285714</td>\n      <td>0.50</td>\n      <td>0.125</td>\n      <td>0.111111</td>\n      <td>0.142857</td>\n      <td>0.142857</td>\n      <td>0.142857</td>\n      <td>0.111111</td>\n      <td>0.111111</td>\n      <td>0.111111</td>\n    </tr>\n    <tr>\n      <th>997690877/2019</th>\n      <td>0.219048</td>\n      <td>0.488333</td>\n      <td>0.485000</td>\n      <td>0.433333</td>\n      <td>0.328333</td>\n      <td>0.250000</td>\n      <td>0.210000</td>\n      <td>0.313333</td>\n      <td>0.396667</td>\n      <td>0.268333</td>\n      <td>...</td>\n      <td>0.285714</td>\n      <td>0.50</td>\n      <td>0.250</td>\n      <td>0.111111</td>\n      <td>0.142857</td>\n      <td>0.142857</td>\n      <td>0.142857</td>\n      <td>0.111111</td>\n      <td>0.111111</td>\n      <td>0.222222</td>\n    </tr>\n    <tr>\n      <th>998726581/2019</th>\n      <td>0.114286</td>\n      <td>0.451667</td>\n      <td>0.435000</td>\n      <td>0.575000</td>\n      <td>0.528333</td>\n      <td>0.505000</td>\n      <td>0.506667</td>\n      <td>0.538333</td>\n      <td>0.508333</td>\n      <td>0.503333</td>\n      <td>...</td>\n      <td>0.142857</td>\n      <td>0.25</td>\n      <td>0.125</td>\n      <td>0.111111</td>\n      <td>0.142857</td>\n      <td>0.142857</td>\n      <td>0.285714</td>\n      <td>0.333333</td>\n      <td>0.333333</td>\n      <td>0.000000</td>\n    </tr>\n  </tbody>\n</table>\n<p>30873 rows × 1502 columns</p>\n</div>"
     },
     "execution_count": 5,
     "metadata": {},
     "output_type": "execute_result"
    }
   ],
   "source": [
    "sunlight_data = get_interpolated_data(years, 'sunlight')\n",
    "daydegree5_data = get_interpolated_data(years, 'daydegree5').drop(columns=['longitude', 'latitude', 'elevation'])\n",
    "ground_data = get_proximity_data(years, 'ground')\n",
    "\n",
    "temp_and_precip_data = frost.get_as_aggregated(1).dropna().astype(float)\n",
    "weather_data = temp_and_precip_data.merge(sunlight_data, how='left', on=['orgnr', 'year'])\n",
    "weather_data = weather_data.merge(daydegree5_data, how='left', on=['orgnr', 'year'])\n",
    "weather_data = weather_data.merge(ground_data, how='left', on=['orgnr', 'year'])\n",
    "\n",
    "print(f\"Merged {temp_and_precip_data.shape[1]} features of temp and precip data, {sunlight_data.shape[1]} features of sunlight data, {daydegree5_data.shape[1]} features of daydegree data, {ground_data.shape[1]} features of ground data to a total of {weather_data.shape[1]} features\")\n",
    "\n",
    "#weather_data = frost.get_as_aggregated(1).dropna().astype(float)\n",
    "\n",
    "weather_data[\"key\"] = weather_data.orgnr.astype(int).astype(str) + \"/\" + weather_data.year.astype(int).astype(str)\n",
    "weather_data = filter_by_years(years, weather_data)\n",
    "weather_data.drop(columns=[\"year\", \"orgnr\"], inplace=True)\n",
    "weather_data = weather_data.drop_duplicates(subset=[\"key\"])\n",
    "weather_data = weather_data.set_index(\"key\")\n",
    "\n",
    "weather_data\n"
   ]
  },
  {
   "cell_type": "code",
   "execution_count": 6,
   "outputs": [
    {
     "data": {
      "text/plain": "           mean_soil_quality  soil_quality_1  soil_quality_2  soil_quality_3\nkey                                                                         \n969102404           0.096330        0.065414        0.012448        0.021277\n983375782           0.416667        0.005567        0.026279        0.010638\n969924358           0.239130        0.020181        0.016598        0.017730\n869249572           0.127451        0.027836        0.012448        0.007092\n887932522           0.239130        0.011134        0.004149        0.014184\n...                      ...             ...             ...             ...\n869672092           0.369048        0.027836        0.035961        0.063830\n995492008           0.194030        0.032707        0.019364        0.021277\n914335027           0.152174        0.011830        0.006916        0.003546\n997795016           0.149351        0.037578        0.031812        0.000000\n968956779           0.238095        0.010438        0.002766        0.014184\n\n[9286 rows x 4 columns]",
      "text/html": "<div>\n<style scoped>\n    .dataframe tbody tr th:only-of-type {\n        vertical-align: middle;\n    }\n\n    .dataframe tbody tr th {\n        vertical-align: top;\n    }\n\n    .dataframe thead th {\n        text-align: right;\n    }\n</style>\n<table border=\"1\" class=\"dataframe\">\n  <thead>\n    <tr style=\"text-align: right;\">\n      <th></th>\n      <th>mean_soil_quality</th>\n      <th>soil_quality_1</th>\n      <th>soil_quality_2</th>\n      <th>soil_quality_3</th>\n    </tr>\n    <tr>\n      <th>key</th>\n      <th></th>\n      <th></th>\n      <th></th>\n      <th></th>\n    </tr>\n  </thead>\n  <tbody>\n    <tr>\n      <th>969102404</th>\n      <td>0.096330</td>\n      <td>0.065414</td>\n      <td>0.012448</td>\n      <td>0.021277</td>\n    </tr>\n    <tr>\n      <th>983375782</th>\n      <td>0.416667</td>\n      <td>0.005567</td>\n      <td>0.026279</td>\n      <td>0.010638</td>\n    </tr>\n    <tr>\n      <th>969924358</th>\n      <td>0.239130</td>\n      <td>0.020181</td>\n      <td>0.016598</td>\n      <td>0.017730</td>\n    </tr>\n    <tr>\n      <th>869249572</th>\n      <td>0.127451</td>\n      <td>0.027836</td>\n      <td>0.012448</td>\n      <td>0.007092</td>\n    </tr>\n    <tr>\n      <th>887932522</th>\n      <td>0.239130</td>\n      <td>0.011134</td>\n      <td>0.004149</td>\n      <td>0.014184</td>\n    </tr>\n    <tr>\n      <th>...</th>\n      <td>...</td>\n      <td>...</td>\n      <td>...</td>\n      <td>...</td>\n    </tr>\n    <tr>\n      <th>869672092</th>\n      <td>0.369048</td>\n      <td>0.027836</td>\n      <td>0.035961</td>\n      <td>0.063830</td>\n    </tr>\n    <tr>\n      <th>995492008</th>\n      <td>0.194030</td>\n      <td>0.032707</td>\n      <td>0.019364</td>\n      <td>0.021277</td>\n    </tr>\n    <tr>\n      <th>914335027</th>\n      <td>0.152174</td>\n      <td>0.011830</td>\n      <td>0.006916</td>\n      <td>0.003546</td>\n    </tr>\n    <tr>\n      <th>997795016</th>\n      <td>0.149351</td>\n      <td>0.037578</td>\n      <td>0.031812</td>\n      <td>0.000000</td>\n    </tr>\n    <tr>\n      <th>968956779</th>\n      <td>0.238095</td>\n      <td>0.010438</td>\n      <td>0.002766</td>\n      <td>0.014184</td>\n    </tr>\n  </tbody>\n</table>\n<p>9286 rows × 4 columns</p>\n</div>"
     },
     "execution_count": 6,
     "metadata": {},
     "output_type": "execute_result"
    }
   ],
   "source": [
    "soilquality_data = get_soilquality_data()\n",
    "soilquality_data[\"key\"] = soilquality_data.orgnr.astype(int).astype(str)\n",
    "soilquality_data.drop(columns=[\"orgnr\"], inplace=True)\n",
    "soilquality_data = soilquality_data.drop_duplicates(subset=[\"key\"])\n",
    "soilquality_data = soilquality_data.set_index(\"key\")\n",
    "soilquality_data.dropna(inplace=True)\n",
    "soilquality_data"
   ],
   "metadata": {
    "collapsed": false,
    "pycharm": {
     "name": "#%%\n"
    }
   }
  },
  {
   "cell_type": "code",
   "execution_count": 7,
   "outputs": [
    {
     "name": "stdout",
     "output_type": "stream",
     "text": [
      "6872\n"
     ]
    },
    {
     "data": {
      "text/plain": "               crop_type      area\nkey                               \n811675792/2017     hvete  0.015621\n812075322/2017      bygg  0.021547\n812075322/2018      bygg  0.021547\n812075322/2019     havre  0.021547\n812686992/2017     hvete  0.059923\n...                  ...       ...\n999666248/2017     havre  0.024795\n999666248/2018      bygg  0.015315\n999666248/2018     havre  0.009247\n999666248/2019     hvete  0.009247\n999666248/2019      bygg  0.015315\n\n[23551 rows x 2 columns]",
      "text/html": "<div>\n<style scoped>\n    .dataframe tbody tr th:only-of-type {\n        vertical-align: middle;\n    }\n\n    .dataframe tbody tr th {\n        vertical-align: top;\n    }\n\n    .dataframe thead th {\n        text-align: right;\n    }\n</style>\n<table border=\"1\" class=\"dataframe\">\n  <thead>\n    <tr style=\"text-align: right;\">\n      <th></th>\n      <th>crop_type</th>\n      <th>area</th>\n    </tr>\n    <tr>\n      <th>key</th>\n      <th></th>\n      <th></th>\n    </tr>\n  </thead>\n  <tbody>\n    <tr>\n      <th>811675792/2017</th>\n      <td>hvete</td>\n      <td>0.015621</td>\n    </tr>\n    <tr>\n      <th>812075322/2017</th>\n      <td>bygg</td>\n      <td>0.021547</td>\n    </tr>\n    <tr>\n      <th>812075322/2018</th>\n      <td>bygg</td>\n      <td>0.021547</td>\n    </tr>\n    <tr>\n      <th>812075322/2019</th>\n      <td>havre</td>\n      <td>0.021547</td>\n    </tr>\n    <tr>\n      <th>812686992/2017</th>\n      <td>hvete</td>\n      <td>0.059923</td>\n    </tr>\n    <tr>\n      <th>...</th>\n      <td>...</td>\n      <td>...</td>\n    </tr>\n    <tr>\n      <th>999666248/2017</th>\n      <td>havre</td>\n      <td>0.024795</td>\n    </tr>\n    <tr>\n      <th>999666248/2018</th>\n      <td>bygg</td>\n      <td>0.015315</td>\n    </tr>\n    <tr>\n      <th>999666248/2018</th>\n      <td>havre</td>\n      <td>0.009247</td>\n    </tr>\n    <tr>\n      <th>999666248/2019</th>\n      <td>hvete</td>\n      <td>0.009247</td>\n    </tr>\n    <tr>\n      <th>999666248/2019</th>\n      <td>bygg</td>\n      <td>0.015315</td>\n    </tr>\n  </tbody>\n</table>\n<p>23551 rows × 2 columns</p>\n</div>"
     },
     "execution_count": 7,
     "metadata": {},
     "output_type": "execute_result"
    }
   ],
   "source": [
    "area_data = get_area_and_croptype()\n",
    "area_data[\"key\"] = area_data.orgnr.astype(int).astype(str) + \"/\" + area_data.year.astype(int).astype(str)\n",
    "print(len(set(area_data['orgnr'])))\n",
    "area_data.drop(columns=[\"year\", \"orgnr\"], inplace=True)\n",
    "#area_data = area_data.drop_duplicates(subset=[\"key\"])\n",
    "area_data = area_data.set_index(\"key\")\n",
    "area_data"
   ],
   "metadata": {
    "collapsed": false,
    "pycharm": {
     "name": "#%%\n"
    }
   }
  },
  {
   "cell_type": "code",
   "execution_count": 8,
   "outputs": [
    {
     "data": {
      "text/plain": "total_rain0     0.48\ntotal_rain1     0.60\ntotal_rain2     0.40\ntotal_rain3    -0.00\ntotal_rain4    -0.00\n                ... \ntotal_rain79   -0.00\ntotal_rain80    0.11\ntotal_rain81   -0.00\ntotal_rain82   -0.00\ntotal_rain83    0.30\nName: 997690877/2019, Length: 84, dtype: float64"
     },
     "execution_count": 8,
     "metadata": {},
     "output_type": "execute_result"
    }
   ],
   "source": [
    "weather_data.loc[\"997690877/2019\"].filter(regex='total_rain(([1-7]?[0-9])|(8[0-3]))$')"
   ],
   "metadata": {
    "collapsed": false,
    "pycharm": {
     "name": "#%%\n"
    }
   }
  },
  {
   "cell_type": "markdown",
   "metadata": {},
   "source": [
    "## Split training and validation data, and add data to the image iterators"
   ]
  },
  {
   "cell_type": "code",
   "execution_count": 8,
   "outputs": [],
   "source": [],
   "metadata": {
    "collapsed": false,
    "pycharm": {
     "name": "#%%\n"
    }
   }
  },
  {
   "cell_type": "code",
   "execution_count": 9,
   "outputs": [
    {
     "name": "stderr",
     "output_type": "stream",
     "text": [
      "100%|██████████| 13597/13597 [00:06<00:00, 2244.35it/s]\n",
      "100%|██████████| 13582/13582 [01:09<00:00, 194.71it/s]\n",
      "100%|██████████| 12876/12876 [00:29<00:00, 431.47it/s]\n",
      "100%|██████████| 12120/12120 [00:02<00:00, 5391.64it/s]\n",
      "100%|██████████| 3400/3400 [00:01<00:00, 2411.62it/s]\n",
      "100%|██████████| 3395/3395 [00:17<00:00, 195.05it/s]\n",
      "100%|██████████| 3182/3182 [00:07<00:00, 431.15it/s]\n",
      "100%|██████████| 3030/3030 [00:00<00:00, 5482.49it/s]\n"
     ]
    }
   ],
   "source": [
    "import sys\n",
    "from sentinel.storage import SentinelDataset\n",
    "sat_img_path = 'E:/MasterThesisData/Satellite_Images'\n",
    "sd = SentinelDataset(\"E:/MasterThesisData/Satellite_Images/combined_uncompressed.h5\")\n",
    "train, val = sd.to_iterator().split(rand_seed='abc')\n",
    "\n",
    "\n",
    "def add_historical(orgnr, year, data):\n",
    "    if f\"{orgnr}/{year}\" in historical.index.values:\n",
    "        h_data = historical.loc[f\"{orgnr}/{year}\"]\n",
    "        return {'historical': h_data.values }\n",
    "    else:\n",
    "        return []\n",
    "\n",
    "\n",
    "def add_soilquality(orgnr, year, data):\n",
    "    if str(orgnr) in soilquality_data.index.values:\n",
    "        soil_data = soilquality_data.loc[orgnr]\n",
    "        return {'soil_data': soil_data.values}\n",
    "    else:\n",
    "        return []\n",
    "\n",
    "\n",
    "def add_weather(orgnr, year, data):\n",
    "    if f\"{orgnr}/{year}\" not in weather_data.index:\n",
    "        return []\n",
    "\n",
    "    wd = weather_data.loc[f\"{orgnr}/{year}\"]\n",
    "\n",
    "    min_temps = wd.filter(regex='min_temp(([1-7]?[0-9])|(8[0-3]))$').values\n",
    "    mean_temps = wd.filter(regex='mean_temp(([1-7]?[0-9])|(8[0-3]))$').values\n",
    "    max_temps = wd.filter(regex='max_temp(([1-7]?[0-9])|(8[0-3]))$').values\n",
    "    total_rain = wd.filter(regex='total_rain(([1-7]?[0-9])|(8[0-3]))$').values\n",
    "\n",
    "    sunlight = wd.filter(regex='sunlight(([1-7]?[0-9])|(8[0-3]))$').values\n",
    "    daydegree5 = wd.filter(regex='daydegree5(([1-7]?[0-9])|(8[0-3]))$').values\n",
    "    ground = wd.filter(regex='ground(([1-7]?[0-9])|(8[0-3]))$').values\n",
    "\n",
    "    assert len(min_temps) == len(mean_temps) == len(max_temps) == len(total_rain) == len(sunlight) == len(daydegree5) == len(ground) == TIMESTEPS*7\n",
    "    wd = np.concatenate((min_temps, mean_temps, max_temps, total_rain, sunlight, daydegree5, ground), axis=0)\n",
    "\n",
    "    return { 'weather': wd }\n",
    "\n",
    "def add_grain_types(orgnr, year, data):\n",
    "    samples = deliveries.loc[[f\"{orgnr}/{year}\"]]\n",
    "    if f\"{orgnr}/{year}\" in area_data.index.values:\n",
    "        farm_area = area_data.loc[[f\"{orgnr}/{year}\"]]\n",
    "        all_data = []\n",
    "\n",
    "        for i, row in farm_area.iterrows():\n",
    "            sample = {}\n",
    "            if row['crop_type'] == 'bygg': sample[\"type\"] = (1,0,0)\n",
    "            elif row['crop_type'] == 'havre': sample[\"type\"] = (0,1,0)\n",
    "            elif row['crop_type'] == 'hvete': sample[\"type\"] = (0,0,1)\n",
    "\n",
    "            sample['area'] = row['area']\n",
    "\n",
    "            if isinstance(samples, pd.DataFrame):\n",
    "\n",
    "                del_sample = samples.loc[samples[row['crop_type']] == 1.0]\n",
    "                if len(del_sample.index) > 0:\n",
    "                    sample[\"lat\"] = del_sample[\"lat\"].values[0]\n",
    "                    sample[\"elevation\"] = del_sample[\"elevation\"].values[0]\n",
    "                    sample[\"yield\"] = del_sample[\"yield\"].values[0]\n",
    "                    all_data.append(sample)\n",
    "\n",
    "            else:\n",
    "                del_sample = samples\n",
    "                sample[\"lat\"] = del_sample[\"lat\"]\n",
    "                sample[\"elevation\"] = del_sample[\"elevation\"]\n",
    "                sample[\"yield\"] = del_sample[\"yield\"]\n",
    "                all_data.append(sample)\n",
    "\n",
    "\n",
    "        return all_data\n",
    "    else:\n",
    "        return []\n",
    "\n",
    "\n",
    "# crop_type        bygg\n",
    "# area         0.072578\n",
    "\n",
    "train = train.with_data(add_historical, True)\\\n",
    "             .with_data(add_weather, True)\\\n",
    "             .with_data(add_grain_types, True)\\\n",
    "             .with_data(add_soilquality, True)\n",
    "\n",
    "val = val.with_data(add_historical, True)\\\n",
    "         .with_data(add_weather, True)\\\n",
    "         .with_data(add_grain_types, True)\\\n",
    "         .with_data(add_soilquality, True)"
   ],
   "metadata": {
    "collapsed": false,
    "pycharm": {
     "name": "#%%\n"
    }
   }
  },
  {
   "cell_type": "code",
   "execution_count": 10,
   "outputs": [
    {
     "name": "stdout",
     "output_type": "stream",
     "text": [
      "12085\n",
      "('980491641', '2018', <sentinel.storage.SentinelImageSeriesSource object at 0x000001EFD7ECC1C0>, {'historical': array([10.2727, 14.2386,  5.0245, 12.7975, 19.0491, 22.8257,  0.    ,\n",
      "       13.6096, 13.054 , 14.2208,  0.    , 12.7855, 18.0631, 16.8538,\n",
      "        0.    , 13.9449]), 'weather': array([ 0.12166667,  0.145     ,  0.315     ,  0.355     ,  0.37166667,\n",
      "        0.38      ,  0.43333333,  0.445     ,  0.36166667,  0.34333333,\n",
      "        0.37166667,  0.44      ,  0.41      ,  0.28166667,  0.36666667,\n",
      "        0.28      ,  0.21333333,  0.22333333,  0.35833333,  0.45166667,\n",
      "        0.46      ,  0.43833333,  0.47166667,  0.50666667,  0.465     ,\n",
      "        0.37666667,  0.30666667,  0.26166667,  0.255     ,  0.26666667,\n",
      "        0.29      ,  0.29      ,  0.29333333,  0.305     ,  0.48166667,\n",
      "        0.50666667,  0.48333333,  0.46666667,  0.46333333,  0.51      ,\n",
      "        0.48666667,  0.44333333,  0.405     ,  0.42333333,  0.48666667,\n",
      "        0.49166667,  0.55333333,  0.55666667,  0.55833333,  0.535     ,\n",
      "        0.55833333,  0.52666667,  0.52      ,  0.56333333,  0.53333333,\n",
      "        0.535     ,  0.51333333,  0.54166667,  0.51166667,  0.49333333,\n",
      "        0.55166667,  0.54666667,  0.56833333,  0.55166667,  0.535     ,\n",
      "        0.59333333,  0.64666667,  0.62166667,  0.65333333,  0.64166667,\n",
      "        0.715     ,  0.66166667,  0.63166667,  0.66      ,  0.7       ,\n",
      "        0.66666667,  0.65833333,  0.62333333,  0.6       ,  0.60666667,\n",
      "        0.63333333,  0.645     ,  0.66166667,  0.67666667,  0.20166667,\n",
      "        0.24166667,  0.36      ,  0.385     ,  0.40666667,  0.41333333,\n",
      "        0.45666667,  0.465     ,  0.435     ,  0.38666667,  0.415     ,\n",
      "        0.475     ,  0.48666667,  0.39833333,  0.41333333,  0.36      ,\n",
      "        0.29833333,  0.33666667,  0.47666667,  0.50833333,  0.51666667,\n",
      "        0.51166667,  0.50833333,  0.56333333,  0.56      ,  0.47833333,\n",
      "        0.39333333,  0.38      ,  0.37333333,  0.385     ,  0.39833333,\n",
      "        0.41166667,  0.42166667,  0.42166667,  0.52666667,  0.53      ,\n",
      "        0.54166667,  0.52666667,  0.51      ,  0.52666667,  0.55      ,\n",
      "        0.525     ,  0.53      ,  0.54833333,  0.58833333,  0.605     ,\n",
      "        0.60166667,  0.595     ,  0.63833333,  0.64      ,  0.61166667,\n",
      "        0.65      ,  0.635     ,  0.60166667,  0.61833333,  0.60833333,\n",
      "        0.62      ,  0.60166667,  0.57333333,  0.60333333,  0.62833333,\n",
      "        0.57666667,  0.61666667,  0.61833333,  0.63166667,  0.715     ,\n",
      "        0.74      ,  0.745     ,  0.76166667,  0.785     ,  0.8       ,\n",
      "        0.695     ,  0.69666667,  0.78166667,  0.81666667,  0.81166667,\n",
      "        0.76666667,  0.69333333,  0.71333333,  0.75666667,  0.76833333,\n",
      "        0.78166667,  0.78333333,  0.79      ,  0.30333333,  0.34333333,\n",
      "        0.40666667,  0.43166667,  0.43833333,  0.44166667,  0.475     ,\n",
      "        0.485     ,  0.47666667,  0.46333333,  0.44666667,  0.50666667,\n",
      "        0.53      ,  0.495     ,  0.48      ,  0.43666667,  0.39166667,\n",
      "        0.42666667,  0.57166667,  0.57666667,  0.58      ,  0.61333333,\n",
      "        0.53666667,  0.62666667,  0.655     ,  0.55      ,  0.49666667,\n",
      "        0.50833333,  0.49666667,  0.51      ,  0.525     ,  0.51833333,\n",
      "        0.53666667,  0.51      ,  0.56833333,  0.55      ,  0.61      ,\n",
      "        0.58666667,  0.54666667,  0.54833333,  0.62333333,  0.63166667,\n",
      "        0.65      ,  0.67333333,  0.70666667,  0.73833333,  0.665     ,\n",
      "        0.67166667,  0.745     ,  0.76      ,  0.69333333,  0.74      ,\n",
      "        0.73      ,  0.61666667,  0.68833333,  0.68666667,  0.71333333,\n",
      "        0.66833333,  0.65      ,  0.7       ,  0.695     ,  0.61833333,\n",
      "        0.685     ,  0.69333333,  0.725     ,  0.84666667,  0.83      ,\n",
      "        0.83833333,  0.865     ,  0.89166667,  0.89166667,  0.73833333,\n",
      "        0.78      ,  0.87833333,  0.92166667,  0.93833333,  0.93333333,\n",
      "        0.78333333,  0.81833333,  0.87      ,  0.88333333,  0.88166667,\n",
      "        0.89666667,  0.905     , -0.        , -0.        , -0.        ,\n",
      "       -0.        ,  0.03      ,  0.14      ,  0.06      ,  0.05      ,\n",
      "        0.09      , -0.        , -0.        ,  0.7       ,  0.18      ,\n",
      "        0.02      , -0.        ,  0.02      , -0.        , -0.        ,\n",
      "       -0.        , -0.        , -0.        , -0.        , -0.        ,\n",
      "       -0.        , -0.        ,  0.03      , -0.        , -0.        ,\n",
      "       -0.        , -0.        , -0.        , -0.        , -0.        ,\n",
      "       -0.        ,  0.24      ,  0.26      ,  0.89      , -0.        ,\n",
      "       -0.        ,  1.23      ,  0.46      , -0.        , -0.        ,\n",
      "       -0.        , -0.        , -0.        , -0.        , -0.        ,\n",
      "        0.24      , -0.        , -0.        , -0.        , -0.        ,\n",
      "       -0.        ,  0.28      , -0.        , -0.        , -0.        ,\n",
      "       -0.        , -0.        , -0.        ,  0.05      ,  0.1       ,\n",
      "       -0.        ,  0.15      , -0.        , -0.        , -0.        ,\n",
      "       -0.        , -0.        , -0.        ,  1.4       ,  0.13      ,\n",
      "       -0.        , -0.        , -0.        , -0.        ,  0.05      ,\n",
      "        0.02      , -0.        , -0.        ,  0.        , -0.        ,\n",
      "       -0.        ,  0.78947368,  0.875     ,  0.58333333,  0.82352941,\n",
      "        0.88888889,  0.77272727,  0.6       ,  0.58333333,  0.82352941,\n",
      "        0.55555556,  0.59090909,  0.85      ,  0.8       ,  0.76470588,\n",
      "        0.875     ,  0.84210526,  0.83333333,  0.5       ,  0.72727273,\n",
      "        0.76923077,  0.61904762,  0.86956522,  0.59090909,  0.89473684,\n",
      "        0.55555556,  0.71428571,  0.625     ,  0.76923077,  0.72727273,\n",
      "        0.875     ,  0.86956522,  0.78947368,  0.75      ,  0.66666667,\n",
      "        0.6875    ,  0.57142857,  0.75      ,  0.58333333,  0.58333333,\n",
      "        0.56521739,  0.57142857,  0.625     ,  0.66666667,  0.72727273,\n",
      "        0.66666667,  0.85714286,  0.63157895,  0.66666667,  0.625     ,\n",
      "        0.55555556,  0.75      ,  0.71428571,  0.66666667,  0.59090909,\n",
      "        0.61538462,  0.7826087 ,  0.77777778,  0.80952381,  0.66666667,\n",
      "        0.66666667,  0.6       ,  0.56521739,  0.63636364,  0.63636364,\n",
      "        0.7       ,  0.73333333,  0.77777778,  0.55555556,  0.66666667,\n",
      "        0.88888889,  0.90909091,  0.8125    ,  0.66666667,  0.75      ,\n",
      "        0.80952381,  0.6       ,  0.875     ,  0.55555556,  0.81818182,\n",
      "        0.54545455,  0.7       ,  0.6       ,  0.77272727,  0.54545455,\n",
      "        0.00526316,  0.09090909,  0.00518135,  0.00540541,  0.03676471,\n",
      "        0.02512563,  0.09090909,  0.01754386,  0.00985222,  0.02898551,\n",
      "        0.0257732 ,  0.01104972,  0.00540541,  0.00518135,  0.02597403,\n",
      "        0.02040816,  0.04123711,  0.0201005 ,  0.03144654,  0.0257732 ,\n",
      "        0.02717391,  0.00526316,  0.00526316,  0.0212766 ,  0.18644068,\n",
      "        0.01522843,  0.01851852,  0.00518135,  0.00985222,  0.00645161,\n",
      "        0.02189781,  0.005     ,  0.00740741,  0.00529101,  0.00591716,\n",
      "        0.        , -0.        ,  0.36746988,  0.00793651,  0.00540541,\n",
      "        0.01176471,  0.00613497,  0.00574713,  0.01197605,  0.01851852,\n",
      "        0.03954802,  0.00485437,  0.01408451,  0.08383234,  0.05752212,\n",
      "        0.01421801,  0.10945274,  0.06435644,  0.00537634,  0.00985222,\n",
      "        0.        ,  0.01935484,  0.01098901,  0.00966184,  0.01015228,\n",
      "        0.07555556,  0.00543478,  0.02380952,  0.02439024,  0.04225352,\n",
      "        0.02347418,  0.2139738 ,  0.3081761 ,  0.76623377,  0.38888889,\n",
      "        0.28455285,  0.21105528,  0.16814159,  0.31282051,  0.29083665,\n",
      "        0.41871921,  0.19230769,  0.1826484 ,  0.24      ,  0.0195122 ,\n",
      "        0.28571429,  0.40196078,  0.26446281,  0.47959184,  1.        ,\n",
      "        1.        ,  1.        ,  1.        ,  1.        ,  1.        ,\n",
      "        1.        ,  1.        ,  1.        ,  1.        ,  1.        ,\n",
      "        1.        ,  1.        ,  1.        ,  1.        ,  1.        ,\n",
      "        1.        ,  1.        ,  1.        ,  1.        ,  1.        ,\n",
      "        1.        ,  1.        ,  1.        ,  1.        ,  1.        ,\n",
      "        1.        ,  1.        ,  1.        ,  1.        ,  1.        ,\n",
      "        1.        ,  1.        ,  1.        ,  1.        ,  1.        ,\n",
      "        1.        ,  1.        ,  1.        ,  1.        ,  1.        ,\n",
      "        1.        ,  1.        ,  1.        ,  1.        ,  1.        ,\n",
      "        1.        ,  1.        ,  1.        ,  1.        ,  1.        ,\n",
      "        1.        ,  1.        ,  0.88888889,  1.        ,  0.77777778,\n",
      "        0.77777778,  0.77777778,  0.77777778,  0.77777778,  0.77777778,\n",
      "        0.88888889,  0.11111111,  0.11111111,  0.44444444,  0.11111111,\n",
      "        0.11111111,  0.11111111,  0.        ,  0.        ,  0.        ,\n",
      "        0.11111111,  0.11111111,  0.11111111,  0.        ,  0.        ,\n",
      "        0.        ,  0.        ,  0.        ,  0.        ,  0.        ,\n",
      "        0.        ,  0.        ,  0.        ]), 'type': (1, 0, 0), 'area': 0.07257819604726973, 'lat': 0.9220779411764707, 'elevation': 0.1715686274509804, 'yield': 0.2864, 'soil_data': array([0.01612903, 0.02087683, 0.00138313, 0.        ])})\n"
     ]
    }
   ],
   "source": [
    "print(len(train))\n",
    "for test_data in train:\n",
    "    print(test_data)\n",
    "    break\n",
    "\n"
   ],
   "metadata": {
    "collapsed": false,
    "pycharm": {
     "name": "#%%\n"
    }
   }
  },
  {
   "cell_type": "code",
   "execution_count": 11,
   "metadata": {},
   "outputs": [
    {
     "name": "stderr",
     "output_type": "stream",
     "text": [
      "100%|██████████| 25280/25280 [02:32<00:00, 165.27it/s]\n"
     ]
    },
    {
     "name": "stdout",
     "output_type": "stream",
     "text": [
      "train samples: 12085\n",
      "val samples: 3014\n"
     ]
    }
   ],
   "source": [
    "from tqdm import tqdm\n",
    "from mask.mask_dataset_classification import MaskDatasetClassification\n",
    "from mask.utils import add_mask_as_channel, apply_mask_to_image_series\n",
    "\n",
    "mask_dataset_path = \"../../kornmo-data-files/raw-data/crop-classification-data/week_1_11/week_1_11_masks.h5\"\n",
    "\n",
    "\n",
    "mask_dataset = MaskDatasetClassification(mask_dataset_path)\n",
    "mask_iterator = mask_dataset.get_iterator()\n",
    "mask_dict = {}\n",
    "\n",
    "classes = ['bygg', 'havre', 'hvete']\n",
    "\n",
    "for orgnr, year, crop_type, mask in tqdm(mask_iterator, total=mask_iterator.n):\n",
    "    mask_dict[f'{orgnr}/{year}/{crop_type}'] = mask\n",
    "\n",
    "def apply_mask(orgnr, year, imgs, data):\n",
    "    crop_type = classes[data['type'].index(1)]\n",
    "\n",
    "    mask = mask_dict[f\"{orgnr}/{year}/{crop_type}\"]\n",
    "    return apply_mask_to_image_series(mask, imgs)\n",
    "\n",
    "train = train.filter(lambda orgnr, year, _,data: f\"{orgnr}/{year}/{classes[data['type'].index(1)]}\" in mask_dict)\n",
    "val = val.filter(lambda orgnr, year, _,data: f\"{orgnr}/{year}/{classes[data['type'].index(1)]}\" in mask_dict)\n",
    "\n",
    "print(f\"train samples: {len(train)}\")\n",
    "print(f\"val samples: {len(val)}\")"
   ]
  },
  {
   "cell_type": "code",
   "execution_count": 12,
   "metadata": {
    "tags": []
   },
   "outputs": [
    {
     "name": "stdout",
     "output_type": "stream",
     "text": [
      "Training samples: 12085\n",
      "Augmented samples: 60425\n",
      "Validation samples: 3014\n"
     ]
    }
   ],
   "source": [
    "import tensorflow as tf\n",
    "import tensorflow_addons as tfa\n",
    "import numpy as np\n",
    "from tensorflow.data.experimental import assert_cardinality\n",
    "from sentinel.transform import salt_n_pepper, rotate180, rotate90\n",
    "import matplotlib.pyplot as plt\n",
    "from src.utils import to_rgb\n",
    "\n",
    "timesteps = 12\n",
    "\n",
    "stride = 10\n",
    "def top_left(imgs):\n",
    "    return imgs[...,:-stride, :-stride,:]\n",
    "def top_right(imgs):\n",
    "    return imgs[...,:-stride, stride:,:]\n",
    "def bot_left(imgs):\n",
    "    return imgs[...,stride:, :-stride,:]\n",
    "def bot_right(imgs):\n",
    "    return imgs[...,stride:, stride:,:]\n",
    "def center(imgs):\n",
    "    s = stride//2\n",
    "    return imgs[...,s:-s, s:-s,:]\n",
    "\n",
    "def rotate_random(imgs):\n",
    "    #angle = np.random.rand(timesteps) * 6.28\n",
    "    angle = tf.constant(np.pi/8)\n",
    "    return tfa.image.rotate(imgs, angle)\n",
    "\n",
    "augmented_dataset = train\\\n",
    "    .transform(apply_mask)\\\n",
    "    .augment([center, top_left, top_right, bot_left, bot_right], keep_original=False)\\\n",
    "    .transform(salt_n_pepper())\\\n",
    "    .transform(rotate_random)\n",
    "\n",
    "\n",
    "def apply_output(orgnr, year, img_source, data):\n",
    "    features = data[\"area\"], *data[\"type\"], *data[\"soil_data\"]\n",
    "    output = data[\"yield\"]\n",
    "    weather = data[\"weather\"]\n",
    "    return {\"cnn_input\": img_source[0:timesteps], \"feature_input\": features, \"weather_input\": weather}, output\n",
    "\n",
    "\n",
    "train_dataset = tf.data.Dataset.from_generator(\n",
    "    augmented_dataset.apply(apply_output).shuffled(),\n",
    "    output_types=({\"cnn_input\": tf.dtypes.float64, \"feature_input\": tf.dtypes.float64, \"weather_input\": tf.dtypes.float64}, tf.dtypes.float64),\n",
    ").apply(assert_cardinality(len(augmented_dataset)))\n",
    "\n",
    "\n",
    "val_dataset = tf.data.Dataset.from_generator(\n",
    "    val.transform(apply_mask).transform(center).apply(apply_output),\n",
    "    output_types=({\"cnn_input\": tf.dtypes.float64, \"feature_input\": tf.dtypes.float64, \"weather_input\": tf.dtypes.float64}, tf.dtypes.float64),\n",
    ").apply(assert_cardinality(len(val)))\n",
    "\n",
    "print(f\"Training samples: {len(train)}\")\n",
    "print(f\"Augmented samples: {len(train_dataset)}\")\n",
    "print(f\"Validation samples: {len(val_dataset)}\")"
   ]
  },
  {
   "cell_type": "code",
   "execution_count": 14,
   "metadata": {},
   "outputs": [
    {
     "name": "stdout",
     "output_type": "stream",
     "text": [
      "Epoch 1/20\n",
      "313/313 [==============================] - 773s 2s/step - loss: 0.1118 - val_loss: 0.0980\n",
      "Epoch 2/20\n",
      "313/313 [==============================] - 795s 3s/step - loss: 0.1019 - val_loss: 0.0963\n",
      "Epoch 3/20\n",
      "313/313 [==============================] - 735s 2s/step - loss: 0.1004 - val_loss: 0.0969\n",
      "Epoch 4/20\n",
      "313/313 [==============================] - 780s 2s/step - loss: 0.1000 - val_loss: 0.0972\n",
      "Epoch 5/20\n",
      "313/313 [==============================] - 782s 3s/step - loss: 0.1002 - val_loss: 0.0976\n",
      "Epoch 6/20\n",
      "313/313 [==============================] - 764s 2s/step - loss: 0.0989 - val_loss: 0.0950\n",
      "Epoch 7/20\n",
      "313/313 [==============================] - 665s 2s/step - loss: 0.0997 - val_loss: 0.0996\n",
      "Epoch 8/20\n",
      "313/313 [==============================] - 648s 2s/step - loss: 0.0978 - val_loss: 0.0943\n",
      "Epoch 9/20\n",
      "313/313 [==============================] - 666s 2s/step - loss: 0.0967 - val_loss: 0.0973\n",
      "Epoch 10/20\n",
      "313/313 [==============================] - 710s 2s/step - loss: 0.0969 - val_loss: 0.0940\n",
      "Epoch 11/20\n",
      "313/313 [==============================] - 716s 2s/step - loss: 0.0969 - val_loss: 0.0945\n",
      "Epoch 12/20\n",
      "313/313 [==============================] - 716s 2s/step - loss: 0.0973 - val_loss: 0.0944\n",
      "Epoch 13/20\n",
      "313/313 [==============================] - 714s 2s/step - loss: 0.0957 - val_loss: 0.0946\n",
      "Epoch 14/20\n",
      "313/313 [==============================] - 758s 2s/step - loss: 0.0942 - val_loss: 0.0923\n",
      "Epoch 15/20\n",
      "313/313 [==============================] - 794s 3s/step - loss: 0.0945 - val_loss: 0.0978\n",
      "Epoch 16/20\n",
      "313/313 [==============================] - 785s 3s/step - loss: 0.0934 - val_loss: 0.0929\n",
      "Epoch 17/20\n",
      "313/313 [==============================] - 736s 2s/step - loss: 0.0932 - val_loss: 0.0926\n",
      "Epoch 18/20\n",
      "313/313 [==============================] - 775s 2s/step - loss: 0.0940 - val_loss: 0.0982\n",
      "Epoch 19/20\n",
      "313/313 [==============================] - 774s 2s/step - loss: 0.0937 - val_loss: 0.0930\n",
      "Epoch 20/20\n",
      "313/313 [==============================] - 796s 3s/step - loss: 0.0914 - val_loss: 0.0935\n"
     ]
    }
   ],
   "source": [
    "from tensorflow.keras import layers, models, optimizers\n",
    "from tensorflow.keras.models import Sequential, load_model\n",
    "from tensorflow import keras\n",
    "\n",
    "\n",
    "def CNN(input_dim, output_dim):\n",
    "    input_layer = layers.Input(shape=input_dim)\n",
    "    y = layers.Conv2D(16, (3, 3), activation=tf.nn.relu, padding='same')(input_layer)\n",
    "    y = layers.MaxPool2D((2, 2))(y)\n",
    "    y = layers.Conv2D(32, (3, 3), activation=tf.nn.relu, padding='same')(y)\n",
    "    y = layers.MaxPool2D((2, 2))(y)\n",
    "    y = layers.Conv2D(64, (3, 3), activation=tf.nn.relu, padding='same')(y)\n",
    "    y = layers.MaxPool2D((2, 2))(y)\n",
    "    y = layers.Flatten()(y)\n",
    "    y = layers.Dense(output_dim, activation=tf.nn.relu)(y)\n",
    "\n",
    "    return models.Model(inputs=[input_layer], outputs=[y], name=\"SingleImageCNN\")\n",
    "\n",
    "scnn = CNN((90, 90, 12), 64)\n",
    "# scnn.summary(line_length=130)\n",
    "\n",
    "input_weather = layers.Input(shape=timesteps*7*7, name=\"weather_input\")\n",
    "t_wm = layers.Reshape((7, timesteps*7))(input_weather)\n",
    "t_wm = layers.Permute((2, 1))(t_wm)\n",
    "t_wm = layers.Conv1D(64, 7, 7, activation=tf.nn.relu)(t_wm)\n",
    "\n",
    "input_cnn = layers.Input(shape=(timesteps, 90, 90, 12), name=\"cnn_input\")\n",
    "\n",
    "feature_input = layers.Input(shape=(9,), name=\"feature_input\")\n",
    "feature_repeated = layers.RepeatVector(timesteps)(feature_input)\n",
    "\n",
    "cnn = layers.TimeDistributed(scnn)(input_cnn)\n",
    "cnn = layers.Concatenate(axis=2)([cnn, feature_repeated, t_wm])\n",
    "cnn = layers.GRU(128)(cnn)\n",
    "cnn = layers.Flatten()(cnn)\n",
    "cnn = layers.Dense(128, activation=tf.nn.relu)(cnn)\n",
    "cnn = layers.Dense(1)(cnn)\n",
    "\n",
    "cnn = models.Model(inputs=[input_weather, input_cnn, feature_input], outputs=cnn, name=\"CNN\")\n",
    "# cnn.summary(line_length=130)\n",
    "\n",
    "cnn.compile(optimizer=optimizers.Adam(), loss='mean_absolute_error')\n",
    "\n",
    "model_checkpoint = keras.callbacks.ModelCheckpoint(\n",
    "    './training/1_11.h5',\n",
    "    monitor=\"val_loss\",\n",
    "    verbose=0,\n",
    "    mode=\"min\",\n",
    "    save_best_only=True,\n",
    "    save_weights_only=True,\n",
    ")\n",
    "\n",
    "callbacks = [tf.keras.callbacks.EarlyStopping(monitor='val_loss', patience=15, restore_best_weights=True), model_checkpoint]\n",
    "\n",
    "cnn_history = cnn.fit(\n",
    "    train_dataset.take(10000).batch(32).prefetch(2),\n",
    "    validation_data=val_dataset.batch(32).prefetch(2),\n",
    "    epochs=20,\n",
    "    verbose=1,\n",
    "    callbacks=callbacks\n",
    ")\n",
    "\n",
    "# model = load_model('./training/epoch_100.hdf5')\n",
    "#\n",
    "# cnn_history = model.fit(\n",
    "#         train_dataset.take(10000).batch(32).prefetch(2),\n",
    "#         validation_data=val_dataset.batch(32).prefetch(2),\n",
    "#         epochs=100,\n",
    "#         verbose=1,\n",
    "#         callbacks=callbacks\n",
    "# )"
   ]
  },
  {
   "cell_type": "code",
   "execution_count": 25,
   "outputs": [
    {
     "data": {
      "text/plain": "<Figure size 432x288 with 1 Axes>",
      "image/png": "[encoded data removed]"
     },
     "metadata": {},
     "output_type": "display_data"
    }
   ],
   "source": [
    "plt.xlabel('Epochs')\n",
    "plt.ylabel(\"Loss/Accuracy\")\n",
    "plt.plot(cnn_history.history['loss'], label=\"Training Loss\")\n",
    "plt.plot(cnn_history.history['val_loss'], label=\"Validation Loss\")\n",
    "\n",
    "\n",
    "plt.legend()\n",
    "\n",
    "plt.savefig('early_yield_0_11.svg', dpi=600)\n",
    "plt.show()"
   ],
   "metadata": {
    "collapsed": false,
    "pycharm": {
     "name": "#%%\n"
    }
   }
  },
  {
   "cell_type": "code",
   "execution_count": 15,
   "metadata": {},
   "outputs": [],
   "source": [
    "predictions = cnn.predict(val_dataset.batch(32).prefetch(2))\n",
    "predictions = np.array(predictions).flatten()\n",
    "facts = val.apply(lambda orgnr, year, img, data: data[\"yield\"]).as_array()"
   ]
  },
  {
   "cell_type": "code",
   "execution_count": 16,
   "metadata": {},
   "outputs": [
    {
     "name": "stdout",
     "output_type": "stream",
     "text": [
      "Denormalized MAE: 93.4524453226749\n"
     ]
    }
   ],
   "source": [
    "def denormalize(df, lower: float, upper: float):\n",
    "    return df * (upper - lower) + lower\n",
    "\n",
    "absolute_error = np.abs(predictions - facts)\n",
    "\n",
    "print(f\"Denormalized MAE: {denormalize(absolute_error.mean(), 0, 1000)}\")"
   ]
  },
  {
   "cell_type": "code",
   "execution_count": null,
   "metadata": {},
   "outputs": [],
   "source": []
  },
  {
   "cell_type": "code",
   "execution_count": 19,
   "metadata": {},
   "outputs": [
    {
     "data": {
      "text/plain": "0.09345244532267491"
     },
     "execution_count": 19,
     "metadata": {},
     "output_type": "execute_result"
    }
   ],
   "source": [
    "mse = np.mean(np.abs(facts - predictions))\n",
    "mse"
   ]
  },
  {
   "cell_type": "code",
   "execution_count": 20,
   "metadata": {},
   "outputs": [
    {
     "data": {
      "text/plain": "<matplotlib.legend.Legend at 0x1f2f9fcf100>"
     },
     "execution_count": 20,
     "metadata": {},
     "output_type": "execute_result"
    },
    {
     "data": {
      "text/plain": "<Figure size 432x288 with 1 Axes>",
      "image/png": "[encoded data removed]"
     },
     "metadata": {
      "needs_background": "light"
     },
     "output_type": "display_data"
    }
   ],
   "source": [
    "import matplotlib.pyplot as plt\n",
    "\n",
    "df = pd.DataFrame(columns=[\"Prediction\", \"Fact\"])\n",
    "df.Fact = facts\n",
    "df.Prediction = predictions\n",
    "\n",
    "df = df.sort_values(by=\"Fact\", ignore_index=True)\n",
    "\n",
    "plt.plot(df[\"Prediction\"].to_list(), 'o', markersize=1, label=\"Prediction\")\n",
    "plt.plot(df[\"Fact\"].to_list(), label=\"Fact\")\n",
    "plt.ylabel('Yield')\n",
    "plt.xlabel('Farmer index')\n",
    "plt.title(f\"Prediction vs fact, mse={mse}\")\n",
    "plt.legend()"
   ]
  },
  {
   "cell_type": "code",
   "execution_count": 21,
   "metadata": {},
   "outputs": [
    {
     "data": {
      "text/plain": "<Figure size 432x432 with 1 Axes>",
      "image/png": "[encoded data removed]"
     },
     "metadata": {},
     "output_type": "display_data"
    }
   ],
   "source": [
    "import seaborn as sns\n",
    "\n",
    "import numpy as np\n",
    "import matplotlib.pyplot as plt\n",
    "\n",
    "dist = df[\"Fact\"]\n",
    "\n",
    "a = df[\"Prediction\"]\n",
    "b = df[\"Fact\"] # np.random.normal(dist.mean(), dist.std(), 1000000)\n",
    "\n",
    "sns.set_style('whitegrid')\n",
    "sns.set_context(\"paper\")\n",
    "\n",
    "plt.figure(figsize=(6,6))\n",
    "plt.title(\"Prediction quantiles against dataset quantiles\", fontdict={'fontsize': 14})\n",
    "\n",
    "percentiles = np.linspace(0,100,50)\n",
    "qn_a = np.percentile(a, percentiles)\n",
    "qn_b = np.percentile(b, percentiles)\n",
    "\n",
    "plt.plot(qn_b, qn_a, ls=\"\", marker=\"o\")\n",
    "\n",
    "x = np.linspace(np.min((qn_a.min(),qn_b.min())), np.max((qn_a.max(),qn_b.max())))\n",
    "plt.plot(x,x, color=\"k\", ls=\"--\")\n",
    "\n",
    "ax = plt.gca()\n",
    "ax.set_ylabel(\"Prediction quantiles\")\n",
    "ax.set_xlabel(\"Real distribution\")\n",
    "plt.savefig(\"logs/hybrid_end2end_mask_applied_0_11_qqplot.svg\")\n",
    "plt.show()"
   ]
  },
  {
   "cell_type": "code",
   "execution_count": 22,
   "metadata": {},
   "outputs": [
    {
     "data": {
      "text/plain": "0.39800104307022055"
     },
     "execution_count": 22,
     "metadata": {},
     "output_type": "execute_result"
    }
   ],
   "source": [
    "from sklearn.metrics import r2_score\n",
    "r2_score(facts, predictions)"
   ]
  }
 ],
 "metadata": {
  "kernelspec": {
   "name": "python3",
   "language": "python",
   "display_name": "Python 3 (ipykernel)"
  },
  "language_info": {
   "codemirror_mode": {
    "name": "ipython",
    "version": 3
   },
   "file_extension": ".py",
   "mimetype": "text/x-python",
   "name": "python",
   "nbconvert_exporter": "python",
   "pygments_lexer": "ipython3",
   "version": "3.8.1"
  },
  "toc-showcode": false,
  "toc-showtags": false
 },
 "nbformat": 4,
 "nbformat_minor": 4
}