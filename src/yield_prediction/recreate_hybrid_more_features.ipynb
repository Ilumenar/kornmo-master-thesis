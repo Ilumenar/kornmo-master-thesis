{
 "cells": [
  {
   "cell_type": "code",
   "execution_count": 2,
   "metadata": {
    "collapsed": true,
    "pycharm": {
     "name": "#%%\n"
    }
   },
   "outputs": [
    {
     "name": "stdout",
     "output_type": "stream",
     "text": [
      "The autoreload extension is already loaded. To reload it, use:\n",
      "  %reload_ext autoreload\n"
     ]
    }
   ],
   "source": [
    "import pandas as pd\n",
    "import numpy as np\n",
    "import sys\n",
    "\n",
    "from kornmo import KornmoDataset\n",
    "from geodata import get_farmer_elevation\n",
    "from kornmo import kornmo_utils as ku\n",
    "from frostdataset import FrostDataset\n",
    "\n",
    "%load_ext autoreload\n",
    "%autoreload 2\n",
    "\n",
    "\n"
   ]
  },
  {
   "cell_type": "code",
   "execution_count": 3,
   "outputs": [],
   "source": [
    "def filter_by_years(years, data):\n",
    "    return data[data['year'].isin(years)]\n",
    "\n",
    "def get_interpolated_data(years, weather_feature):\n",
    "    data = pd.DataFrame()\n",
    "\n",
    "    print(f\"Loading {weather_feature} data...\")\n",
    "    for year in years:\n",
    "        tmp_df = pd.read_csv(f'data/frost/nn_interpolated/{weather_feature}/{weather_feature}_interpolated_{year}-03-01_to_{year}-10-01.csv')\n",
    "        tmp_df.insert(0, 'year', year)\n",
    "        data = pd.concat([data, tmp_df])\n",
    "\n",
    "    # Drop columns containing 'Unnamed'\n",
    "    data.drop(columns=[col for col in data.columns if 'Unnamed' in col], inplace=True)\n",
    "\n",
    "    return_data = ku.normalize(data.filter(regex='day_.*'))\n",
    "    columns_to_add = ['orgnr', 'year', 'longitude', 'latitude', 'elevation']\n",
    "    for i, col in enumerate(columns_to_add):\n",
    "        return_data.insert(i, col, data[col])\n",
    "\n",
    "    print(f\"Number of loaded entries: {return_data.shape[0]}\")\n",
    "    return return_data\n",
    "\n",
    "def get_proximity_data(years, weather_feature):\n",
    "    data = pd.DataFrame()\n",
    "    print(f\"Loading {weather_feature} data...\")\n",
    "    for year in years:\n",
    "        tmp_df = pd.read_csv(f'data/frost/by_proximity/{weather_feature}/{weather_feature}_by_proximity_{year}-03-01_to_{year}-10-01.csv')\n",
    "        tmp_df.drop(columns=['ws_id'], inplace=True)\n",
    "        tmp_df.insert(0, 'year', year)\n",
    "        data = pd.concat([data, tmp_df])\n",
    "\n",
    "    return_data = ku.normalize(data.filter(regex='day_.*'))\n",
    "    columns_to_add = ['orgnr', 'year']\n",
    "    for i, col in enumerate(columns_to_add):\n",
    "        return_data.insert(i, col, data[col])\n",
    "\n",
    "\n",
    "    print(f\"Number of loaded entries: {return_data.shape[0]}\")\n",
    "    return return_data"
   ],
   "metadata": {
    "collapsed": false,
    "pycharm": {
     "name": "#%%\n"
    }
   }
  },
  {
   "cell_type": "code",
   "execution_count": 4,
   "outputs": [
    {
     "name": "stdout",
     "output_type": "stream",
     "text": [
      "Loading deliveries...\n",
      "Number of deliveries loaded: 78290\n"
     ]
    },
    {
     "data": {
      "text/plain": "                year      orgnr  kommunenr  gaardsnummer  bruksnummer  \\\nkey                                                                     \n811555762/2017  2017  811555762       1653            24            2   \n811580082/2017  2017  811580082       1124            25            5   \n811675792/2017  2017  811675792        709          2023           12   \n811675792/2017  2017  811675792        709          2023           12   \n811935662/2017  2017  811935662        125           207            1   \n...              ...        ...        ...           ...          ...   \n999659209/2019  2019  999659209        811            31           64   \n999662730/2019  2019  999662730        715           247            1   \n999662730/2019  2019  999662730        715           247            1   \n999665462/2019  2019  999665462        229            69            1   \n999666248/2019  2019  999666248        226            52           10   \n\n                festenummer  fulldyrket  overflatedyrket  tilskudd_dyr  \\\nkey                                                                      \n811555762/2017            0    0.007674              0.0      0.000000   \n811580082/2017            0    0.117186              0.0      0.344044   \n811675792/2017            0    0.015028              0.0      0.000000   \n811675792/2017            0    0.015028              0.0      0.000000   \n811935662/2017            0    0.015188              0.0      0.000000   \n...                     ...         ...              ...           ...   \n999659209/2019            0    0.014548              0.0      0.000000   \n999662730/2019            0    0.046523              0.0      0.000000   \n999662730/2019            0    0.046523              0.0      0.000000   \n999665462/2019            0    0.023981              0.0      0.047922   \n999666248/2019            0    0.023821              0.0      0.000000   \n\n                levert     areal  bygg  havre  hvete  rug_og_rughvete  \\\nkey                                                                     \n811555762/2017   17067  0.017179   1.0    0.0    0.0              0.0   \n811580082/2017   81204  0.064195   1.0    0.0    0.0              0.0   \n811675792/2017   10902  0.020494   1.0    0.0    0.0              0.0   \n811675792/2017    2335  0.003918   0.0    0.0    1.0              0.0   \n811935662/2017   33166  0.031344   0.0    0.0    1.0              0.0   \n...                ...       ...   ...    ...    ...              ...   \n999659209/2019   13426  0.017782   1.0    0.0    0.0              0.0   \n999662730/2019   86888  0.052743   0.0    1.0    0.0              0.0   \n999662730/2019   44841  0.035564   0.0    0.0    1.0              0.0   \n999665462/2019   21835  0.015371   0.0    1.0    0.0              0.0   \n999666248/2019   95683  0.047619   1.0    0.0    0.0              0.0   \n\n                     lat  elevation     yield  \nkey                                            \n811555762/2017  0.959116   0.051198  0.289271  \n811580082/2017  0.891830   0.024510  0.377693  \n811675792/2017  0.896483   0.014706  0.155743  \n811675792/2017  0.896483   0.014706  0.155667  \n811935662/2017  0.907412   0.073529  0.312887  \n...                  ...        ...       ...  \n999659209/2019  0.898225   0.068627  0.220098  \n999662730/2019  0.902149   0.093137  0.490893  \n999662730/2019  0.902149   0.093137  0.373675  \n999665462/2019  0.905165   0.142157  0.411981  \n999666248/2019  0.909951   0.132353  0.598019  \n\n[45327 rows x 18 columns]",
      "text/html": "<div>\n<style scoped>\n    .dataframe tbody tr th:only-of-type {\n        vertical-align: middle;\n    }\n\n    .dataframe tbody tr th {\n        vertical-align: top;\n    }\n\n    .dataframe thead th {\n        text-align: right;\n    }\n</style>\n<table border=\"1\" class=\"dataframe\">\n  <thead>\n    <tr style=\"text-align: right;\">\n      <th></th>\n      <th>year</th>\n      <th>orgnr</th>\n      <th>kommunenr</th>\n      <th>gaardsnummer</th>\n      <th>bruksnummer</th>\n      <th>festenummer</th>\n      <th>fulldyrket</th>\n      <th>overflatedyrket</th>\n      <th>tilskudd_dyr</th>\n      <th>levert</th>\n      <th>areal</th>\n      <th>bygg</th>\n      <th>havre</th>\n      <th>hvete</th>\n      <th>rug_og_rughvete</th>\n      <th>lat</th>\n      <th>elevation</th>\n      <th>yield</th>\n    </tr>\n    <tr>\n      <th>key</th>\n      <th></th>\n      <th></th>\n      <th></th>\n      <th></th>\n      <th></th>\n      <th></th>\n      <th></th>\n      <th></th>\n      <th></th>\n      <th></th>\n      <th></th>\n      <th></th>\n      <th></th>\n      <th></th>\n      <th></th>\n      <th></th>\n      <th></th>\n      <th></th>\n    </tr>\n  </thead>\n  <tbody>\n    <tr>\n      <th>811555762/2017</th>\n      <td>2017</td>\n      <td>811555762</td>\n      <td>1653</td>\n      <td>24</td>\n      <td>2</td>\n      <td>0</td>\n      <td>0.007674</td>\n      <td>0.0</td>\n      <td>0.000000</td>\n      <td>17067</td>\n      <td>0.017179</td>\n      <td>1.0</td>\n      <td>0.0</td>\n      <td>0.0</td>\n      <td>0.0</td>\n      <td>0.959116</td>\n      <td>0.051198</td>\n      <td>0.289271</td>\n    </tr>\n    <tr>\n      <th>811580082/2017</th>\n      <td>2017</td>\n      <td>811580082</td>\n      <td>1124</td>\n      <td>25</td>\n      <td>5</td>\n      <td>0</td>\n      <td>0.117186</td>\n      <td>0.0</td>\n      <td>0.344044</td>\n      <td>81204</td>\n      <td>0.064195</td>\n      <td>1.0</td>\n      <td>0.0</td>\n      <td>0.0</td>\n      <td>0.0</td>\n      <td>0.891830</td>\n      <td>0.024510</td>\n      <td>0.377693</td>\n    </tr>\n    <tr>\n      <th>811675792/2017</th>\n      <td>2017</td>\n      <td>811675792</td>\n      <td>709</td>\n      <td>2023</td>\n      <td>12</td>\n      <td>0</td>\n      <td>0.015028</td>\n      <td>0.0</td>\n      <td>0.000000</td>\n      <td>10902</td>\n      <td>0.020494</td>\n      <td>1.0</td>\n      <td>0.0</td>\n      <td>0.0</td>\n      <td>0.0</td>\n      <td>0.896483</td>\n      <td>0.014706</td>\n      <td>0.155743</td>\n    </tr>\n    <tr>\n      <th>811675792/2017</th>\n      <td>2017</td>\n      <td>811675792</td>\n      <td>709</td>\n      <td>2023</td>\n      <td>12</td>\n      <td>0</td>\n      <td>0.015028</td>\n      <td>0.0</td>\n      <td>0.000000</td>\n      <td>2335</td>\n      <td>0.003918</td>\n      <td>0.0</td>\n      <td>0.0</td>\n      <td>1.0</td>\n      <td>0.0</td>\n      <td>0.896483</td>\n      <td>0.014706</td>\n      <td>0.155667</td>\n    </tr>\n    <tr>\n      <th>811935662/2017</th>\n      <td>2017</td>\n      <td>811935662</td>\n      <td>125</td>\n      <td>207</td>\n      <td>1</td>\n      <td>0</td>\n      <td>0.015188</td>\n      <td>0.0</td>\n      <td>0.000000</td>\n      <td>33166</td>\n      <td>0.031344</td>\n      <td>0.0</td>\n      <td>0.0</td>\n      <td>1.0</td>\n      <td>0.0</td>\n      <td>0.907412</td>\n      <td>0.073529</td>\n      <td>0.312887</td>\n    </tr>\n    <tr>\n      <th>...</th>\n      <td>...</td>\n      <td>...</td>\n      <td>...</td>\n      <td>...</td>\n      <td>...</td>\n      <td>...</td>\n      <td>...</td>\n      <td>...</td>\n      <td>...</td>\n      <td>...</td>\n      <td>...</td>\n      <td>...</td>\n      <td>...</td>\n      <td>...</td>\n      <td>...</td>\n      <td>...</td>\n      <td>...</td>\n      <td>...</td>\n    </tr>\n    <tr>\n      <th>999659209/2019</th>\n      <td>2019</td>\n      <td>999659209</td>\n      <td>811</td>\n      <td>31</td>\n      <td>64</td>\n      <td>0</td>\n      <td>0.014548</td>\n      <td>0.0</td>\n      <td>0.000000</td>\n      <td>13426</td>\n      <td>0.017782</td>\n      <td>1.0</td>\n      <td>0.0</td>\n      <td>0.0</td>\n      <td>0.0</td>\n      <td>0.898225</td>\n      <td>0.068627</td>\n      <td>0.220098</td>\n    </tr>\n    <tr>\n      <th>999662730/2019</th>\n      <td>2019</td>\n      <td>999662730</td>\n      <td>715</td>\n      <td>247</td>\n      <td>1</td>\n      <td>0</td>\n      <td>0.046523</td>\n      <td>0.0</td>\n      <td>0.000000</td>\n      <td>86888</td>\n      <td>0.052743</td>\n      <td>0.0</td>\n      <td>1.0</td>\n      <td>0.0</td>\n      <td>0.0</td>\n      <td>0.902149</td>\n      <td>0.093137</td>\n      <td>0.490893</td>\n    </tr>\n    <tr>\n      <th>999662730/2019</th>\n      <td>2019</td>\n      <td>999662730</td>\n      <td>715</td>\n      <td>247</td>\n      <td>1</td>\n      <td>0</td>\n      <td>0.046523</td>\n      <td>0.0</td>\n      <td>0.000000</td>\n      <td>44841</td>\n      <td>0.035564</td>\n      <td>0.0</td>\n      <td>0.0</td>\n      <td>1.0</td>\n      <td>0.0</td>\n      <td>0.902149</td>\n      <td>0.093137</td>\n      <td>0.373675</td>\n    </tr>\n    <tr>\n      <th>999665462/2019</th>\n      <td>2019</td>\n      <td>999665462</td>\n      <td>229</td>\n      <td>69</td>\n      <td>1</td>\n      <td>0</td>\n      <td>0.023981</td>\n      <td>0.0</td>\n      <td>0.047922</td>\n      <td>21835</td>\n      <td>0.015371</td>\n      <td>0.0</td>\n      <td>1.0</td>\n      <td>0.0</td>\n      <td>0.0</td>\n      <td>0.905165</td>\n      <td>0.142157</td>\n      <td>0.411981</td>\n    </tr>\n    <tr>\n      <th>999666248/2019</th>\n      <td>2019</td>\n      <td>999666248</td>\n      <td>226</td>\n      <td>52</td>\n      <td>10</td>\n      <td>0</td>\n      <td>0.023821</td>\n      <td>0.0</td>\n      <td>0.000000</td>\n      <td>95683</td>\n      <td>0.047619</td>\n      <td>1.0</td>\n      <td>0.0</td>\n      <td>0.0</td>\n      <td>0.0</td>\n      <td>0.909951</td>\n      <td>0.132353</td>\n      <td>0.598019</td>\n    </tr>\n  </tbody>\n</table>\n<p>45327 rows × 18 columns</p>\n</div>"
     },
     "execution_count": 4,
     "metadata": {},
     "output_type": "execute_result"
    }
   ],
   "source": [
    "years = [2017, 2018, 2019]\n",
    "frost = FrostDataset()\n",
    "kornmo = KornmoDataset()\n",
    "deliveries = kornmo.get_deliveries().pipe(ku.split_farmers_on_type)\n",
    "\n",
    "elevation_data = get_farmer_elevation()\n",
    "deliveries = deliveries.merge(elevation_data, on=['orgnr'], how='left').fillna(0)\n",
    "\n",
    "deliveries[\"yield\"] = ku.normalize(deliveries[\"levert\"]/deliveries[\"areal\"], 0, 1000)\n",
    "deliveries[\"areal\"] = ku.normalize(deliveries[\"areal\"])\n",
    "deliveries['fulldyrket'] = ku.normalize(deliveries['fulldyrket'])\n",
    "deliveries['overflatedyrket'] = ku.normalize(deliveries['overflatedyrket'])\n",
    "deliveries['tilskudd_dyr'] = ku.normalize(deliveries['tilskudd_dyr'])\n",
    "deliveries['lat'] = ku.normalize(deliveries['lat'])\n",
    "deliveries['elevation'] = ku.normalize(deliveries['elevation'])\n",
    "\n",
    "deliveries[\"key\"] = deliveries.orgnr.astype(str) + \"/\" + deliveries.year.astype(str)\n",
    "deliveries = deliveries.set_index(\"key\")\n",
    "deliveries = filter_by_years(years, deliveries)\n",
    "\n",
    "deliveries"
   ],
   "metadata": {
    "collapsed": false,
    "pycharm": {
     "name": "#%%\n"
    }
   }
  },
  {
   "cell_type": "code",
   "execution_count": 5,
   "outputs": [
    {
     "name": "stdout",
     "output_type": "stream",
     "text": [
      "Loading historical grants data...\n",
      "Historical data loaded for years 2013 to 2019.\n"
     ]
    },
    {
     "name": "stderr",
     "output_type": "stream",
     "text": [
      "D:\\OneDrive - Universitetet i Agder\\Master Thesis\\kornmo-master-thesis\\kornmo\\kornmo_utils.py:129: FutureWarning: The frame.append method is deprecated and will be removed from pandas in a future version. Use pandas.concat instead.\n",
      "  data = data.append(history_data, ignore_index=True)\n",
      "D:\\OneDrive - Universitetet i Agder\\Master Thesis\\kornmo-master-thesis\\kornmo\\kornmo_utils.py:129: FutureWarning: The frame.append method is deprecated and will be removed from pandas in a future version. Use pandas.concat instead.\n",
      "  data = data.append(history_data, ignore_index=True)\n",
      "D:\\OneDrive - Universitetet i Agder\\Master Thesis\\kornmo-master-thesis\\kornmo\\kornmo_utils.py:129: FutureWarning: The frame.append method is deprecated and will be removed from pandas in a future version. Use pandas.concat instead.\n",
      "  data = data.append(history_data, ignore_index=True)\n"
     ]
    },
    {
     "data": {
      "text/plain": "                bygg_sum_0  hvete_sum_0  havre_sum_0  rug_og_rughvete_sum_0  \\\nkey                                                                           \n811555762/2017      1.3687       0.0000       0.0000                    0.0   \n811580082/2017      2.9200       0.0000       0.0000                    0.0   \n811675792/2017      0.0000       0.0000       0.0000                    0.0   \n811935662/2017      0.0000       0.0000       0.0000                    0.0   \n812075322/2017      1.7688       0.4413       0.0000                    0.0   \n...                    ...          ...          ...                    ...   \n999640001/2019      0.0000      21.5508       4.7821                    0.0   \n999659209/2019      0.0000       2.2603       0.0000                    0.0   \n999662730/2019      0.0000       5.1119       9.7433                    0.0   \n999665462/2019      0.0000       0.0000       0.0000                    0.0   \n999666248/2019      9.5523       0.0000       0.0000                    0.0   \n\n                bygg_sum_1  hvete_sum_1  havre_sum_1  rug_og_rughvete_sum_1  \\\nkey                                                                           \n811555762/2017      2.2050       0.0000       0.0000                    0.0   \n811580082/2017      4.7596       0.0000       0.0000                    0.0   \n811675792/2017      0.0000       2.8870       0.6015                    0.0   \n811935662/2017      0.0000       0.0000       0.0000                    0.0   \n812075322/2017      3.3676       0.0000       0.0000                    0.0   \n...                    ...          ...          ...                    ...   \n999640001/2019     14.6406       0.0000       4.8990                    0.0   \n999659209/2019      1.8102       0.0000       0.0000                    0.0   \n999662730/2019      0.0000       2.9122      10.4515                    0.0   \n999665462/2019      0.0000       0.0000       0.0000                    0.0   \n999666248/2019      0.0000       0.0000       9.8484                    0.0   \n\n                bygg_sum_2  hvete_sum_2  havre_sum_2  rug_og_rughvete_sum_2  \\\nkey                                                                           \n811555762/2017      2.0620       0.0000       0.0000                    0.0   \n811580082/2017      6.4999       0.0000       0.0000                    0.0   \n811675792/2017      0.0000       1.4844       0.2770                    0.0   \n811935662/2017      0.0000       0.0000       0.0000                    0.0   \n812075322/2017      1.7060       1.4768       0.0000                    0.0   \n...                    ...          ...          ...                    ...   \n999640001/2019      9.4914      33.1335       5.0059                    0.0   \n999659209/2019      0.0000       1.1576       0.0000                    0.0   \n999662730/2019      0.0000       4.7917       8.2873                    0.0   \n999665462/2019      0.0000       0.0000       2.1122                    0.0   \n999666248/2019      0.0000       0.0000       8.5110                    0.0   \n\n                bygg_sum_3  hvete_sum_3  havre_sum_3  rug_og_rughvete_sum_3  \nkey                                                                          \n811555762/2017      2.2445       0.0000       0.0000                    0.0  \n811580082/2017     11.7227       0.0000       0.0000                    0.0  \n811675792/2017      0.0000       2.2717       0.4869                    0.0  \n811935662/2017      1.0643       2.5620       0.0000                    0.0  \n812075322/2017      2.2838       1.0750       0.0000                    0.0  \n...                    ...          ...          ...                    ...  \n999640001/2019      8.4269       6.3109       0.0000                    0.0  \n999659209/2019      0.0000       0.0000       1.5396                    0.0  \n999662730/2019      0.0000       1.8919       5.8078                    0.0  \n999665462/2019      0.0000       0.0000       0.6108                    0.0  \n999666248/2019      3.8498       0.0000       0.0000                    0.0  \n\n[28863 rows x 16 columns]",
      "text/html": "<div>\n<style scoped>\n    .dataframe tbody tr th:only-of-type {\n        vertical-align: middle;\n    }\n\n    .dataframe tbody tr th {\n        vertical-align: top;\n    }\n\n    .dataframe thead th {\n        text-align: right;\n    }\n</style>\n<table border=\"1\" class=\"dataframe\">\n  <thead>\n    <tr style=\"text-align: right;\">\n      <th></th>\n      <th>bygg_sum_0</th>\n      <th>hvete_sum_0</th>\n      <th>havre_sum_0</th>\n      <th>rug_og_rughvete_sum_0</th>\n      <th>bygg_sum_1</th>\n      <th>hvete_sum_1</th>\n      <th>havre_sum_1</th>\n      <th>rug_og_rughvete_sum_1</th>\n      <th>bygg_sum_2</th>\n      <th>hvete_sum_2</th>\n      <th>havre_sum_2</th>\n      <th>rug_og_rughvete_sum_2</th>\n      <th>bygg_sum_3</th>\n      <th>hvete_sum_3</th>\n      <th>havre_sum_3</th>\n      <th>rug_og_rughvete_sum_3</th>\n    </tr>\n    <tr>\n      <th>key</th>\n      <th></th>\n      <th></th>\n      <th></th>\n      <th></th>\n      <th></th>\n      <th></th>\n      <th></th>\n      <th></th>\n      <th></th>\n      <th></th>\n      <th></th>\n      <th></th>\n      <th></th>\n      <th></th>\n      <th></th>\n      <th></th>\n    </tr>\n  </thead>\n  <tbody>\n    <tr>\n      <th>811555762/2017</th>\n      <td>1.3687</td>\n      <td>0.0000</td>\n      <td>0.0000</td>\n      <td>0.0</td>\n      <td>2.2050</td>\n      <td>0.0000</td>\n      <td>0.0000</td>\n      <td>0.0</td>\n      <td>2.0620</td>\n      <td>0.0000</td>\n      <td>0.0000</td>\n      <td>0.0</td>\n      <td>2.2445</td>\n      <td>0.0000</td>\n      <td>0.0000</td>\n      <td>0.0</td>\n    </tr>\n    <tr>\n      <th>811580082/2017</th>\n      <td>2.9200</td>\n      <td>0.0000</td>\n      <td>0.0000</td>\n      <td>0.0</td>\n      <td>4.7596</td>\n      <td>0.0000</td>\n      <td>0.0000</td>\n      <td>0.0</td>\n      <td>6.4999</td>\n      <td>0.0000</td>\n      <td>0.0000</td>\n      <td>0.0</td>\n      <td>11.7227</td>\n      <td>0.0000</td>\n      <td>0.0000</td>\n      <td>0.0</td>\n    </tr>\n    <tr>\n      <th>811675792/2017</th>\n      <td>0.0000</td>\n      <td>0.0000</td>\n      <td>0.0000</td>\n      <td>0.0</td>\n      <td>0.0000</td>\n      <td>2.8870</td>\n      <td>0.6015</td>\n      <td>0.0</td>\n      <td>0.0000</td>\n      <td>1.4844</td>\n      <td>0.2770</td>\n      <td>0.0</td>\n      <td>0.0000</td>\n      <td>2.2717</td>\n      <td>0.4869</td>\n      <td>0.0</td>\n    </tr>\n    <tr>\n      <th>811935662/2017</th>\n      <td>0.0000</td>\n      <td>0.0000</td>\n      <td>0.0000</td>\n      <td>0.0</td>\n      <td>0.0000</td>\n      <td>0.0000</td>\n      <td>0.0000</td>\n      <td>0.0</td>\n      <td>0.0000</td>\n      <td>0.0000</td>\n      <td>0.0000</td>\n      <td>0.0</td>\n      <td>1.0643</td>\n      <td>2.5620</td>\n      <td>0.0000</td>\n      <td>0.0</td>\n    </tr>\n    <tr>\n      <th>812075322/2017</th>\n      <td>1.7688</td>\n      <td>0.4413</td>\n      <td>0.0000</td>\n      <td>0.0</td>\n      <td>3.3676</td>\n      <td>0.0000</td>\n      <td>0.0000</td>\n      <td>0.0</td>\n      <td>1.7060</td>\n      <td>1.4768</td>\n      <td>0.0000</td>\n      <td>0.0</td>\n      <td>2.2838</td>\n      <td>1.0750</td>\n      <td>0.0000</td>\n      <td>0.0</td>\n    </tr>\n    <tr>\n      <th>...</th>\n      <td>...</td>\n      <td>...</td>\n      <td>...</td>\n      <td>...</td>\n      <td>...</td>\n      <td>...</td>\n      <td>...</td>\n      <td>...</td>\n      <td>...</td>\n      <td>...</td>\n      <td>...</td>\n      <td>...</td>\n      <td>...</td>\n      <td>...</td>\n      <td>...</td>\n      <td>...</td>\n    </tr>\n    <tr>\n      <th>999640001/2019</th>\n      <td>0.0000</td>\n      <td>21.5508</td>\n      <td>4.7821</td>\n      <td>0.0</td>\n      <td>14.6406</td>\n      <td>0.0000</td>\n      <td>4.8990</td>\n      <td>0.0</td>\n      <td>9.4914</td>\n      <td>33.1335</td>\n      <td>5.0059</td>\n      <td>0.0</td>\n      <td>8.4269</td>\n      <td>6.3109</td>\n      <td>0.0000</td>\n      <td>0.0</td>\n    </tr>\n    <tr>\n      <th>999659209/2019</th>\n      <td>0.0000</td>\n      <td>2.2603</td>\n      <td>0.0000</td>\n      <td>0.0</td>\n      <td>1.8102</td>\n      <td>0.0000</td>\n      <td>0.0000</td>\n      <td>0.0</td>\n      <td>0.0000</td>\n      <td>1.1576</td>\n      <td>0.0000</td>\n      <td>0.0</td>\n      <td>0.0000</td>\n      <td>0.0000</td>\n      <td>1.5396</td>\n      <td>0.0</td>\n    </tr>\n    <tr>\n      <th>999662730/2019</th>\n      <td>0.0000</td>\n      <td>5.1119</td>\n      <td>9.7433</td>\n      <td>0.0</td>\n      <td>0.0000</td>\n      <td>2.9122</td>\n      <td>10.4515</td>\n      <td>0.0</td>\n      <td>0.0000</td>\n      <td>4.7917</td>\n      <td>8.2873</td>\n      <td>0.0</td>\n      <td>0.0000</td>\n      <td>1.8919</td>\n      <td>5.8078</td>\n      <td>0.0</td>\n    </tr>\n    <tr>\n      <th>999665462/2019</th>\n      <td>0.0000</td>\n      <td>0.0000</td>\n      <td>0.0000</td>\n      <td>0.0</td>\n      <td>0.0000</td>\n      <td>0.0000</td>\n      <td>0.0000</td>\n      <td>0.0</td>\n      <td>0.0000</td>\n      <td>0.0000</td>\n      <td>2.1122</td>\n      <td>0.0</td>\n      <td>0.0000</td>\n      <td>0.0000</td>\n      <td>0.6108</td>\n      <td>0.0</td>\n    </tr>\n    <tr>\n      <th>999666248/2019</th>\n      <td>9.5523</td>\n      <td>0.0000</td>\n      <td>0.0000</td>\n      <td>0.0</td>\n      <td>0.0000</td>\n      <td>0.0000</td>\n      <td>9.8484</td>\n      <td>0.0</td>\n      <td>0.0000</td>\n      <td>0.0000</td>\n      <td>8.5110</td>\n      <td>0.0</td>\n      <td>3.8498</td>\n      <td>0.0000</td>\n      <td>0.0000</td>\n      <td>0.0</td>\n    </tr>\n  </tbody>\n</table>\n<p>28863 rows × 16 columns</p>\n</div>"
     },
     "execution_count": 5,
     "metadata": {},
     "output_type": "execute_result"
    }
   ],
   "source": [
    "historical = ku.get_historical_production(kornmo, deliveries.year.unique(), 4)\n",
    "historical = deliveries.merge(historical, how='left').fillna(0)\n",
    "historical[\"key\"] = historical.orgnr.astype(str) + \"/\" + historical.year.astype(str)\n",
    "historical = historical.drop(columns=deliveries.columns)\n",
    "historical = historical.drop_duplicates(subset='key')\n",
    "historical = historical.set_index(\"key\")\n",
    "#historical = filter_by_years(years, historical)\n",
    "\n",
    "historical"
   ],
   "metadata": {
    "collapsed": false,
    "pycharm": {
     "name": "#%%\n"
    }
   }
  },
  {
   "cell_type": "code",
   "execution_count": 6,
   "outputs": [
    {
     "name": "stdout",
     "output_type": "stream",
     "text": [
      "Loading sunlight data...\n",
      "Number of loaded entries: 30462\n",
      "Loading daydegree5 data...\n",
      "Number of loaded entries: 30462\n",
      "Loading ground data...\n",
      "Number of loaded entries: 30462\n",
      "Loading weather data...\n"
     ]
    },
    {
     "name": "stderr",
     "output_type": "stream",
     "text": [
      "D:\\OneDrive - Universitetet i Agder\\Master Thesis\\kornmo-master-thesis\\kornmo\\frostdataset.py:107: FutureWarning: The frame.append method is deprecated and will be removed from pandas in a future version. Use pandas.concat instead.\n",
      "  weather_data = weather_data.append(weather, ignore_index=True)\n",
      "D:\\OneDrive - Universitetet i Agder\\Master Thesis\\kornmo-master-thesis\\kornmo\\frostdataset.py:107: FutureWarning: The frame.append method is deprecated and will be removed from pandas in a future version. Use pandas.concat instead.\n",
      "  weather_data = weather_data.append(weather, ignore_index=True)\n",
      "D:\\OneDrive - Universitetet i Agder\\Master Thesis\\kornmo-master-thesis\\kornmo\\frostdataset.py:107: FutureWarning: The frame.append method is deprecated and will be removed from pandas in a future version. Use pandas.concat instead.\n",
      "  weather_data = weather_data.append(weather, ignore_index=True)\n"
     ]
    },
    {
     "name": "stdout",
     "output_type": "stream",
     "text": [
      "Weather data entries loaded: 33003\n",
      "Merged 859 features of temp and precip data, 219 features of sunlight data, 216 features of daydegree data, 216 features of ground data to a total of 1504 features\n"
     ]
    },
    {
     "data": {
      "text/plain": "                growth_start_day  min_temp0  min_temp1  min_temp2  min_temp3  \\\nkey                                                                            \n811555762/2017          0.061905   0.491667   0.411667   0.421667   0.496667   \n811580082/2017          0.038095   0.505000   0.521667   0.560000   0.543333   \n811675792/2017          0.114286   0.485000   0.435000   0.503333   0.500000   \n811935662/2017          0.114286   0.491667   0.465000   0.473333   0.466667   \n812075322/2017          0.114286   0.458333   0.400000   0.440000   0.458333   \n...                          ...        ...        ...        ...        ...   \n997229789/2019          0.219048   0.456667   0.445000   0.423333   0.341667   \n997237269/2019          0.233333   0.418333   0.371667   0.486667   0.481667   \n997365747/2019          0.219048   0.405000   0.401667   0.388333   0.216667   \n997690877/2019          0.219048   0.488333   0.485000   0.433333   0.328333   \n998726581/2019          0.114286   0.451667   0.435000   0.575000   0.528333   \n\n                min_temp4  min_temp5  min_temp6  min_temp7  min_temp8  ...  \\\nkey                                                                    ...   \n811555762/2017   0.486667   0.448333   0.391667   0.361667   0.406667  ...   \n811580082/2017   0.526667   0.473333   0.413333   0.446667   0.560000  ...   \n811675792/2017   0.450000   0.430000   0.390000   0.300000   0.490000  ...   \n811935662/2017   0.438333   0.406667   0.370000   0.411667   0.488333  ...   \n812075322/2017   0.430000   0.410000   0.398333   0.300000   0.440000  ...   \n...                   ...        ...        ...        ...        ...  ...   \n997229789/2019   0.291667   0.281667   0.326667   0.396667   0.386667  ...   \n997237269/2019   0.415000   0.421667   0.453333   0.358333   0.320000  ...   \n997365747/2019   0.181667   0.143333   0.296667   0.383333   0.270000  ...   \n997690877/2019   0.250000   0.210000   0.313333   0.396667   0.268333  ...   \n998726581/2019   0.505000   0.506667   0.538333   0.508333   0.503333  ...   \n\n                 day_204  day_205  day_206   day_207   day_208   day_209  \\\nkey                                                                        \n811555762/2017  0.000000     0.00    0.000  0.000000  0.000000  0.000000   \n811580082/2017  0.285714     0.00    0.125  0.111111  0.000000  0.000000   \n811675792/2017  0.142857     0.25    0.125  0.111111  0.142857  0.142857   \n811935662/2017  0.142857     0.00    0.125  0.111111  0.285714  0.142857   \n812075322/2017  0.285714     0.50    0.125  0.222222  0.285714  0.285714   \n...                  ...      ...      ...       ...       ...       ...   \n997229789/2019       NaN      NaN      NaN       NaN       NaN       NaN   \n997237269/2019       NaN      NaN      NaN       NaN       NaN       NaN   \n997365747/2019  0.285714     0.50    0.125  0.111111  0.142857  0.142857   \n997690877/2019  0.285714     0.50    0.250  0.111111  0.142857  0.142857   \n998726581/2019  0.142857     0.25    0.125  0.111111  0.142857  0.142857   \n\n                 day_210   day_211   day_212   day_213  \nkey                                                     \n811555762/2017  0.000000  0.000000  0.000000  0.000000  \n811580082/2017  0.000000  0.111111  0.000000  0.222222  \n811675792/2017  0.285714  0.111111  0.000000  0.111111  \n811935662/2017  0.142857  0.111111  0.000000  0.000000  \n812075322/2017  0.285714  0.222222  0.000000  0.222222  \n...                  ...       ...       ...       ...  \n997229789/2019       NaN       NaN       NaN       NaN  \n997237269/2019       NaN       NaN       NaN       NaN  \n997365747/2019  0.142857  0.111111  0.111111  0.111111  \n997690877/2019  0.142857  0.111111  0.111111  0.222222  \n998726581/2019  0.285714  0.333333  0.333333  0.000000  \n\n[30873 rows x 1502 columns]",
      "text/html": "<div>\n<style scoped>\n    .dataframe tbody tr th:only-of-type {\n        vertical-align: middle;\n    }\n\n    .dataframe tbody tr th {\n        vertical-align: top;\n    }\n\n    .dataframe thead th {\n        text-align: right;\n    }\n</style>\n<table border=\"1\" class=\"dataframe\">\n  <thead>\n    <tr style=\"text-align: right;\">\n      <th></th>\n      <th>growth_start_day</th>\n      <th>min_temp0</th>\n      <th>min_temp1</th>\n      <th>min_temp2</th>\n      <th>min_temp3</th>\n      <th>min_temp4</th>\n      <th>min_temp5</th>\n      <th>min_temp6</th>\n      <th>min_temp7</th>\n      <th>min_temp8</th>\n      <th>...</th>\n      <th>day_204</th>\n      <th>day_205</th>\n      <th>day_206</th>\n      <th>day_207</th>\n      <th>day_208</th>\n      <th>day_209</th>\n      <th>day_210</th>\n      <th>day_211</th>\n      <th>day_212</th>\n      <th>day_213</th>\n    </tr>\n    <tr>\n      <th>key</th>\n      <th></th>\n      <th></th>\n      <th></th>\n      <th></th>\n      <th></th>\n      <th></th>\n      <th></th>\n      <th></th>\n      <th></th>\n      <th></th>\n      <th></th>\n      <th></th>\n      <th></th>\n      <th></th>\n      <th></th>\n      <th></th>\n      <th></th>\n      <th></th>\n      <th></th>\n      <th></th>\n      <th></th>\n    </tr>\n  </thead>\n  <tbody>\n    <tr>\n      <th>811555762/2017</th>\n      <td>0.061905</td>\n      <td>0.491667</td>\n      <td>0.411667</td>\n      <td>0.421667</td>\n      <td>0.496667</td>\n      <td>0.486667</td>\n      <td>0.448333</td>\n      <td>0.391667</td>\n      <td>0.361667</td>\n      <td>0.406667</td>\n      <td>...</td>\n      <td>0.000000</td>\n      <td>0.00</td>\n      <td>0.000</td>\n      <td>0.000000</td>\n      <td>0.000000</td>\n      <td>0.000000</td>\n      <td>0.000000</td>\n      <td>0.000000</td>\n      <td>0.000000</td>\n      <td>0.000000</td>\n    </tr>\n    <tr>\n      <th>811580082/2017</th>\n      <td>0.038095</td>\n      <td>0.505000</td>\n      <td>0.521667</td>\n      <td>0.560000</td>\n      <td>0.543333</td>\n      <td>0.526667</td>\n      <td>0.473333</td>\n      <td>0.413333</td>\n      <td>0.446667</td>\n      <td>0.560000</td>\n      <td>...</td>\n      <td>0.285714</td>\n      <td>0.00</td>\n      <td>0.125</td>\n      <td>0.111111</td>\n      <td>0.000000</td>\n      <td>0.000000</td>\n      <td>0.000000</td>\n      <td>0.111111</td>\n      <td>0.000000</td>\n      <td>0.222222</td>\n    </tr>\n    <tr>\n      <th>811675792/2017</th>\n      <td>0.114286</td>\n      <td>0.485000</td>\n      <td>0.435000</td>\n      <td>0.503333</td>\n      <td>0.500000</td>\n      <td>0.450000</td>\n      <td>0.430000</td>\n      <td>0.390000</td>\n      <td>0.300000</td>\n      <td>0.490000</td>\n      <td>...</td>\n      <td>0.142857</td>\n      <td>0.25</td>\n      <td>0.125</td>\n      <td>0.111111</td>\n      <td>0.142857</td>\n      <td>0.142857</td>\n      <td>0.285714</td>\n      <td>0.111111</td>\n      <td>0.000000</td>\n      <td>0.111111</td>\n    </tr>\n    <tr>\n      <th>811935662/2017</th>\n      <td>0.114286</td>\n      <td>0.491667</td>\n      <td>0.465000</td>\n      <td>0.473333</td>\n      <td>0.466667</td>\n      <td>0.438333</td>\n      <td>0.406667</td>\n      <td>0.370000</td>\n      <td>0.411667</td>\n      <td>0.488333</td>\n      <td>...</td>\n      <td>0.142857</td>\n      <td>0.00</td>\n      <td>0.125</td>\n      <td>0.111111</td>\n      <td>0.285714</td>\n      <td>0.142857</td>\n      <td>0.142857</td>\n      <td>0.111111</td>\n      <td>0.000000</td>\n      <td>0.000000</td>\n    </tr>\n    <tr>\n      <th>812075322/2017</th>\n      <td>0.114286</td>\n      <td>0.458333</td>\n      <td>0.400000</td>\n      <td>0.440000</td>\n      <td>0.458333</td>\n      <td>0.430000</td>\n      <td>0.410000</td>\n      <td>0.398333</td>\n      <td>0.300000</td>\n      <td>0.440000</td>\n      <td>...</td>\n      <td>0.285714</td>\n      <td>0.50</td>\n      <td>0.125</td>\n      <td>0.222222</td>\n      <td>0.285714</td>\n      <td>0.285714</td>\n      <td>0.285714</td>\n      <td>0.222222</td>\n      <td>0.000000</td>\n      <td>0.222222</td>\n    </tr>\n    <tr>\n      <th>...</th>\n      <td>...</td>\n      <td>...</td>\n      <td>...</td>\n      <td>...</td>\n      <td>...</td>\n      <td>...</td>\n      <td>...</td>\n      <td>...</td>\n      <td>...</td>\n      <td>...</td>\n      <td>...</td>\n      <td>...</td>\n      <td>...</td>\n      <td>...</td>\n      <td>...</td>\n      <td>...</td>\n      <td>...</td>\n      <td>...</td>\n      <td>...</td>\n      <td>...</td>\n      <td>...</td>\n    </tr>\n    <tr>\n      <th>997229789/2019</th>\n      <td>0.219048</td>\n      <td>0.456667</td>\n      <td>0.445000</td>\n      <td>0.423333</td>\n      <td>0.341667</td>\n      <td>0.291667</td>\n      <td>0.281667</td>\n      <td>0.326667</td>\n      <td>0.396667</td>\n      <td>0.386667</td>\n      <td>...</td>\n      <td>NaN</td>\n      <td>NaN</td>\n      <td>NaN</td>\n      <td>NaN</td>\n      <td>NaN</td>\n      <td>NaN</td>\n      <td>NaN</td>\n      <td>NaN</td>\n      <td>NaN</td>\n      <td>NaN</td>\n    </tr>\n    <tr>\n      <th>997237269/2019</th>\n      <td>0.233333</td>\n      <td>0.418333</td>\n      <td>0.371667</td>\n      <td>0.486667</td>\n      <td>0.481667</td>\n      <td>0.415000</td>\n      <td>0.421667</td>\n      <td>0.453333</td>\n      <td>0.358333</td>\n      <td>0.320000</td>\n      <td>...</td>\n      <td>NaN</td>\n      <td>NaN</td>\n      <td>NaN</td>\n      <td>NaN</td>\n      <td>NaN</td>\n      <td>NaN</td>\n      <td>NaN</td>\n      <td>NaN</td>\n      <td>NaN</td>\n      <td>NaN</td>\n    </tr>\n    <tr>\n      <th>997365747/2019</th>\n      <td>0.219048</td>\n      <td>0.405000</td>\n      <td>0.401667</td>\n      <td>0.388333</td>\n      <td>0.216667</td>\n      <td>0.181667</td>\n      <td>0.143333</td>\n      <td>0.296667</td>\n      <td>0.383333</td>\n      <td>0.270000</td>\n      <td>...</td>\n      <td>0.285714</td>\n      <td>0.50</td>\n      <td>0.125</td>\n      <td>0.111111</td>\n      <td>0.142857</td>\n      <td>0.142857</td>\n      <td>0.142857</td>\n      <td>0.111111</td>\n      <td>0.111111</td>\n      <td>0.111111</td>\n    </tr>\n    <tr>\n      <th>997690877/2019</th>\n      <td>0.219048</td>\n      <td>0.488333</td>\n      <td>0.485000</td>\n      <td>0.433333</td>\n      <td>0.328333</td>\n      <td>0.250000</td>\n      <td>0.210000</td>\n      <td>0.313333</td>\n      <td>0.396667</td>\n      <td>0.268333</td>\n      <td>...</td>\n      <td>0.285714</td>\n      <td>0.50</td>\n      <td>0.250</td>\n      <td>0.111111</td>\n      <td>0.142857</td>\n      <td>0.142857</td>\n      <td>0.142857</td>\n      <td>0.111111</td>\n      <td>0.111111</td>\n      <td>0.222222</td>\n    </tr>\n    <tr>\n      <th>998726581/2019</th>\n      <td>0.114286</td>\n      <td>0.451667</td>\n      <td>0.435000</td>\n      <td>0.575000</td>\n      <td>0.528333</td>\n      <td>0.505000</td>\n      <td>0.506667</td>\n      <td>0.538333</td>\n      <td>0.508333</td>\n      <td>0.503333</td>\n      <td>...</td>\n      <td>0.142857</td>\n      <td>0.25</td>\n      <td>0.125</td>\n      <td>0.111111</td>\n      <td>0.142857</td>\n      <td>0.142857</td>\n      <td>0.285714</td>\n      <td>0.333333</td>\n      <td>0.333333</td>\n      <td>0.000000</td>\n    </tr>\n  </tbody>\n</table>\n<p>30873 rows × 1502 columns</p>\n</div>"
     },
     "execution_count": 6,
     "metadata": {},
     "output_type": "execute_result"
    }
   ],
   "source": [
    "sunlight_data = get_interpolated_data(years, 'sunlight')\n",
    "daydegree5_data = get_interpolated_data(years, 'daydegree5').drop(columns=['longitude', 'latitude', 'elevation'])\n",
    "ground_data = get_proximity_data(years, 'ground')\n",
    "temp_and_precip_data = frost.get_as_aggregated(1).dropna().astype(float)\n",
    "weather_data = temp_and_precip_data.merge(sunlight_data, how='left', on=['orgnr', 'year'])\n",
    "weather_data = weather_data.merge(daydegree5_data, how='left', on=['orgnr', 'year'])\n",
    "weather_data = weather_data.merge(ground_data, how='left', on=['orgnr', 'year'])\n",
    "\n",
    "print(f\"Merged {temp_and_precip_data.shape[1]} features of temp and precip data, {sunlight_data.shape[1]} features of sunlight data, {daydegree5_data.shape[1]} features of daydegree data, {ground_data.shape[1]} features of ground data to a total of {weather_data.shape[1]} features\")\n",
    "\n",
    "#weather_data = frost.get_as_aggregated(1).dropna().astype(float)\n",
    "\n",
    "weather_data[\"key\"] = weather_data.orgnr.astype(int).astype(str) + \"/\" + weather_data.year.astype(int).astype(str)\n",
    "weather_data.drop(columns=[\"year\", \"orgnr\"], inplace=True)\n",
    "weather_data = weather_data.drop_duplicates(subset=[\"key\"])\n",
    "weather_data = weather_data.set_index(\"key\")\n",
    "weather_data"
   ],
   "metadata": {
    "collapsed": false,
    "pycharm": {
     "name": "#%%\n"
    }
   }
  },
  {
   "cell_type": "code",
   "execution_count": 7,
   "outputs": [],
   "source": [
    "#Combine dataset\n",
    "\n",
    "# sat_img_path = 'C:/'\n",
    "# from sentinel.storage import SentinelDataset\n",
    "# print(\"Reading sentinel_100x100_0.h5\")\n",
    "# ds0 = SentinelDataset(f\"{sat_img_path}/sentinel_100x100_0.h5\")\n",
    "# print(\"Reading sentinel_100x100_1.h5\")\n",
    "# ds1 = SentinelDataset(f\"{sat_img_path}/sentinel_100x100_1.h5\")\n",
    "# print(\"Combining both\")\n",
    "# SentinelDataset.combine_datasets([ds0, ds1], \"E:/combined_compressed.h5\", compression=4)"
   ],
   "metadata": {
    "collapsed": false,
    "pycharm": {
     "name": "#%%\n"
    }
   }
  },
  {
   "cell_type": "code",
   "execution_count": 7,
   "outputs": [],
   "source": [],
   "metadata": {
    "collapsed": false,
    "pycharm": {
     "name": "#%%\n"
    }
   }
  },
  {
   "cell_type": "code",
   "execution_count": null,
   "outputs": [],
   "source": [
    "from kornmo.sentinel.storage import SentinelDataset\n",
    "sat_img_path = 'E:/MasterThesisData/Satellite_Images'\n",
    "sd = SentinelDataset(f\"{sat_img_path}/sentinel_images_combined_uncompressed_100x100.h5\")\n",
    "train, val = sd.to_iterator().split(rand_seed='abc')\n",
    "\n",
    "def add_historical(orgnr, year, data):\n",
    "    if f\"{orgnr}/{year}\" in historical.index.values:\n",
    "        h_data = historical.loc[f\"{orgnr}/{year}\"]\n",
    "        return {'historical': h_data.values }\n",
    "    else:\n",
    "        return []\n",
    "def add_weather(orgnr, year, data):\n",
    "    if f\"{orgnr}/{year}\" not in weather_data.index:\n",
    "        return []\n",
    "    wd = weather_data.loc[f\"{orgnr}/{year}\"]\n",
    "    # min_temps = [value for key, value in wd.items() if key.startswith(\"min_temp\")]\n",
    "    # mean_temps = [value for key, value in wd.items() if key.startswith(\"mean_temp\")]\n",
    "    # max_temps = [value for key, value in wd.items() if key.startswith(\"max_temp\")]\n",
    "    # total_rain = [value for key, value in wd.items() if key.startswith(\"total_rain\")]\n",
    "    # stacked = np.stack((min_temps, mean_temps, max_temps, total_rain), axis=1)\n",
    "\n",
    "    return { 'weather': wd.values }\n",
    "\n",
    "def add_grain_types(orgnr, year, data):\n",
    "    samples = deliveries.loc[[f\"{orgnr}/{year}\"]]\n",
    "\n",
    "    all_grains = []\n",
    "    for _, row in samples.iterrows():\n",
    "        sample = {}\n",
    "        if row.bygg: sample[\"type\"] = (1,0,0,0)\n",
    "        elif row.havre: sample[\"type\"] = (0,1,0,0)\n",
    "        elif row.rug_og_rughvete: sample[\"type\"] = (0,0,1,0)\n",
    "        elif row.hvete: sample[\"type\"] = (0,0,0,1)\n",
    "\n",
    "        sample[\"areal\"] = row[\"areal\"]\n",
    "        sample[\"lat\"] = row[\"lat\"]\n",
    "        sample[\"elevation\"] = row[\"elevation\"]\n",
    "        sample[\"yield\"] = row[\"yield\"]\n",
    "        sample['fulldyrket'] = row['fulldyrket']\n",
    "        sample['overflatedyrket'] = row['overflatedyrket']\n",
    "        sample['tilskudd_dyr'] = row['tilskudd_dyr']\n",
    "        all_grains.append(sample)\n",
    "\n",
    "    return all_grains\n",
    "\n",
    "train = train.with_data(add_historical, True)\\\n",
    "             .with_data(add_weather, True)\\\n",
    "             .with_data(add_grain_types, True)\n",
    "\n",
    "val = val.with_data(add_historical, True)\\\n",
    "         .with_data(add_weather, True)\\\n",
    "         .with_data(add_grain_types, True)\n",
    "\n",
    "#13597\n",
    "#13582\n",
    "#12876\n",
    "#3400\n",
    "#3395\n",
    "#3182"
   ],
   "metadata": {
    "collapsed": false,
    "pycharm": {
     "name": "#%%\n",
     "is_executing": true
    }
   }
  },
  {
   "cell_type": "code",
   "execution_count": 9,
   "outputs": [
    {
     "name": "stdout",
     "output_type": "stream",
     "text": [
      "<KeysViewHDF5 ['2017', '2018', '2019']>\n"
     ]
    }
   ],
   "source": [
    "import h5py\n",
    "with h5py.File('data/masks/nibio_disposed_properties_masks.h5', \"r+\") as out_file:\n",
    "    print(out_file['masks']['811555762'].keys())"
   ],
   "metadata": {
    "collapsed": false,
    "pycharm": {
     "name": "#%%\n"
    }
   }
  },
  {
   "cell_type": "code",
   "execution_count": 10,
   "outputs": [
    {
     "name": "stdout",
     "output_type": "stream",
     "text": [
      "train samples: 19004\n",
      "val samples: 4710\n"
     ]
    }
   ],
   "source": [
    "from kornmo.mask.mask_dataset import MaskDataset\n",
    "from kornmo.mask.utils import add_mask_as_channel, apply_mask_to_image_series\n",
    "\n",
    "mask_dataset_path = \"Edata/masks/nibio_disposed_properties_masks.h5\"\n",
    "mask_dataset = MaskDataset(mask_dataset_path)\n",
    "#print(mask_dataset.labels)\n",
    "\n",
    "mask_iterator = mask_dataset.get_iterator()\n",
    "mask_dict = {}\n",
    "for orgnr, year, mask in mask_iterator:\n",
    "    mask_dict[f'{orgnr}/{year}'] = mask\n",
    "\n",
    "def apply_mask(orgnr, year, imgs):\n",
    "    mask = mask_dict[f'{orgnr}/{year}']\n",
    "    return apply_mask_to_image_series(mask, imgs)\n",
    "\n",
    "train = train.filter(lambda orgnr, year, _,__: f\"{orgnr}/{year}\" in mask_dict)\n",
    "val = val.filter(lambda orgnr, year, _,__: f\"{orgnr}/{year}\" in mask_dict)\n",
    "\n",
    "print(f\"train samples: {len(train)}\")\n",
    "print(f\"val samples: {len(val)}\")\n",
    "#19003\n",
    "#4706"
   ],
   "metadata": {
    "collapsed": false,
    "pycharm": {
     "name": "#%%\n"
    }
   }
  },
  {
   "cell_type": "code",
   "execution_count": 11,
   "outputs": [
    {
     "name": "stdout",
     "output_type": "stream",
     "text": [
      "Augmented samples: 95020\n",
      "Validation samples: 4710\n"
     ]
    }
   ],
   "source": [
    "import tensorflow as tf\n",
    "import tensorflow_addons as tfa\n",
    "import numpy as np\n",
    "# from tensorflow.data.experimental import assert_cardinality\n",
    "from kornmo.sentinel.transform import salt_n_pepper, rotate180, rotate90\n",
    "\n",
    "stride = 10\n",
    "def top_left(imgs):\n",
    "    return imgs[...,:-stride, :-stride,:]\n",
    "def top_right(imgs):\n",
    "    return imgs[...,:-stride, stride:,:]\n",
    "def bot_left(imgs):\n",
    "    return imgs[...,stride:, :-stride,:]\n",
    "def bot_right(imgs):\n",
    "    return imgs[...,stride:, stride:,:]\n",
    "def center(imgs):\n",
    "    s = stride//2\n",
    "    return imgs[...,s:-s, s:-s,:]\n",
    "\n",
    "def rotate_random(imgs):\n",
    "    angle = np.random.rand(30) * 6.28\n",
    "    return tfa.image.rotate(imgs, angle)\n",
    "\n",
    "augmented_dataset = train\\\n",
    "    .transform(apply_mask)\\\n",
    "    .transform(salt_n_pepper())\\\n",
    "    .augment([center, top_left, top_right, bot_left, bot_right], keep_original=False)\\\n",
    "    .transform(rotate_random)\n",
    "\n",
    "def apply_output(orgnr, year, img_source, data):\n",
    "    features = data[\"areal\"], *data[\"type\"]\n",
    "    output = data[\"yield\"]\n",
    "    weather = data[\"weather\"][1:]\n",
    "    return {\"cnn_input\": img_source[0:30], \"feature_input\": features, \"weather_input\": weather}, output\n",
    "\n",
    "train_dataset = tf.data.Dataset.from_generator(\n",
    "    augmented_dataset.apply(apply_output).shuffled(),\n",
    "    output_types=({\"cnn_input\": tf.dtypes.float64, \"feature_input\": tf.dtypes.float64, \"weather_input\": tf.dtypes.float64}, tf.dtypes.float64),\n",
    ").apply(tf.data.experimental.assert_cardinality(len(augmented_dataset)))\n",
    "\n",
    "val_dataset = tf.data.Dataset.from_generator(\n",
    "    val.transform(apply_mask).transform(center).apply(apply_output),\n",
    "    output_types=({\"cnn_input\": tf.dtypes.float64, \"feature_input\": tf.dtypes.float64, \"weather_input\": tf.dtypes.float64}, tf.dtypes.float64),\n",
    ").apply(tf.data.experimental.assert_cardinality(len(val)))\n",
    "\n",
    "print(f\"Augmented samples: {len(train_dataset)}\")\n",
    "print(f\"Validation samples: {len(val_dataset)}\")\n",
    "#95015\n",
    "#4706"
   ],
   "metadata": {
    "collapsed": false,
    "pycharm": {
     "name": "#%%\n"
    }
   }
  },
  {
   "cell_type": "code",
   "execution_count": 15,
   "outputs": [
    {
     "name": "stdout",
     "output_type": "stream",
     "text": [
      "Epoch 1/70\n",
      "313/313 [==============================] - 4988s 16s/step - loss: 0.1307 - val_loss: 0.1065\n",
      "Epoch 2/70\n",
      "313/313 [==============================] - 4615s 15s/step - loss: 0.1107 - val_loss: 0.1136\n",
      "Epoch 3/70\n",
      "313/313 [==============================] - 4458s 14s/step - loss: 0.1042 - val_loss: 0.1152\n",
      "Epoch 4/70\n",
      "313/313 [==============================] - 4592s 15s/step - loss: 0.1025 - val_loss: 0.1045\n",
      "Epoch 5/70\n",
      "313/313 [==============================] - 4665s 15s/step - loss: 0.1040 - val_loss: 0.0989\n",
      "Epoch 6/70\n",
      "313/313 [==============================] - 4644s 15s/step - loss: 0.0989 - val_loss: 0.1015\n",
      "Epoch 7/70\n",
      "313/313 [==============================] - 4659s 15s/step - loss: 0.0985 - val_loss: 0.1005\n",
      "Epoch 8/70\n",
      "313/313 [==============================] - 4476s 14s/step - loss: 0.0961 - val_loss: 0.0937\n",
      "Epoch 9/70\n",
      "313/313 [==============================] - 4030s 13s/step - loss: 0.0958 - val_loss: 0.0952\n",
      "Epoch 10/70\n",
      "313/313 [==============================] - 4014s 13s/step - loss: 0.0960 - val_loss: 0.0932\n",
      "Epoch 11/70\n",
      "313/313 [==============================] - 4014s 13s/step - loss: 0.0935 - val_loss: 0.0915\n",
      "Epoch 12/70\n",
      "313/313 [==============================] - 4015s 13s/step - loss: 0.0911 - val_loss: 0.0892\n",
      "Epoch 13/70\n",
      "313/313 [==============================] - 4012s 13s/step - loss: 0.0898 - val_loss: 0.0920\n",
      "Epoch 14/70\n",
      "313/313 [==============================] - 4075s 13s/step - loss: 0.0898 - val_loss: 0.0875\n",
      "Epoch 15/70\n",
      "313/313 [==============================] - 4565s 15s/step - loss: 0.0897 - val_loss: 0.1002\n",
      "Epoch 16/70\n",
      "313/313 [==============================] - 4347s 14s/step - loss: 0.0873 - val_loss: 0.0868\n",
      "Epoch 17/70\n",
      "313/313 [==============================] - 4290s 14s/step - loss: 0.0877 - val_loss: 0.0903\n",
      "Epoch 18/70\n",
      "313/313 [==============================] - 4542s 15s/step - loss: 0.0868 - val_loss: 0.0850\n",
      "Epoch 19/70\n",
      "313/313 [==============================] - 4192s 13s/step - loss: 0.0855 - val_loss: 0.0863\n",
      "Epoch 20/70\n",
      "313/313 [==============================] - 4288s 14s/step - loss: 0.0842 - val_loss: 0.0854\n",
      "Epoch 21/70\n",
      "313/313 [==============================] - 4388s 14s/step - loss: 0.0844 - val_loss: 0.0832\n",
      "Epoch 22/70\n",
      "313/313 [==============================] - 4522s 14s/step - loss: 0.0844 - val_loss: 0.0843\n",
      "Epoch 23/70\n",
      "313/313 [==============================] - 4515s 14s/step - loss: 0.0845 - val_loss: 0.0821\n",
      "Epoch 24/70\n",
      "313/313 [==============================] - 4523s 14s/step - loss: 0.0823 - val_loss: 0.0803\n",
      "Epoch 25/70\n",
      "313/313 [==============================] - 4607s 15s/step - loss: 0.0825 - val_loss: 0.0910\n",
      "Epoch 26/70\n",
      "313/313 [==============================] - 4914s 16s/step - loss: 0.0823 - val_loss: 0.0829\n",
      "Epoch 27/70\n",
      "313/313 [==============================] - 4625s 15s/step - loss: 0.0809 - val_loss: 0.0861\n",
      "Epoch 28/70\n",
      "313/313 [==============================] - 4559s 15s/step - loss: 0.0806 - val_loss: 0.0826\n",
      "Epoch 29/70\n",
      "313/313 [==============================] - 4008s 13s/step - loss: 0.0802 - val_loss: 0.0796\n",
      "Epoch 30/70\n",
      "313/313 [==============================] - 4018s 13s/step - loss: 0.0801 - val_loss: 0.0803\n",
      "Epoch 31/70\n",
      "313/313 [==============================] - 4018s 13s/step - loss: 0.0793 - val_loss: 0.0788\n",
      "Epoch 32/70\n",
      "313/313 [==============================] - 4008s 13s/step - loss: 0.0796 - val_loss: 0.0807\n",
      "Epoch 33/70\n",
      "313/313 [==============================] - 4019s 13s/step - loss: 0.0794 - val_loss: 0.0792\n",
      "Epoch 34/70\n",
      "313/313 [==============================] - 4015s 13s/step - loss: 0.0788 - val_loss: 0.0812\n",
      "Epoch 35/70\n",
      "313/313 [==============================] - 4023s 13s/step - loss: 0.0796 - val_loss: 0.0797\n",
      "Epoch 36/70\n",
      "313/313 [==============================] - 4017s 13s/step - loss: 0.0789 - val_loss: 0.0811\n",
      "Epoch 37/70\n",
      "313/313 [==============================] - 4319s 14s/step - loss: 0.0781 - val_loss: 0.0827\n",
      "Epoch 38/70\n",
      "313/313 [==============================] - 4533s 14s/step - loss: 0.0780 - val_loss: 0.0787\n",
      "Epoch 39/70\n",
      "313/313 [==============================] - 4242s 14s/step - loss: 0.0775 - val_loss: 0.0791\n",
      "Epoch 40/70\n",
      "313/313 [==============================] - 4329s 14s/step - loss: 0.0794 - val_loss: 0.0791\n",
      "Epoch 41/70\n",
      "313/313 [==============================] - 4390s 14s/step - loss: 0.0759 - val_loss: 0.0814\n",
      "Epoch 42/70\n",
      "313/313 [==============================] - 4656s 15s/step - loss: 0.0778 - val_loss: 0.0809\n",
      "Epoch 43/70\n",
      "313/313 [==============================] - 4679s 15s/step - loss: 0.0778 - val_loss: 0.0791\n",
      "Epoch 44/70\n",
      "313/313 [==============================] - 4536s 14s/step - loss: 0.0771 - val_loss: 0.0790\n",
      "Epoch 45/70\n",
      "313/313 [==============================] - 4491s 14s/step - loss: 0.0765 - val_loss: 0.0891\n",
      "Epoch 46/70\n",
      "313/313 [==============================] - 4357s 14s/step - loss: 0.0771 - val_loss: 0.0791\n",
      "Epoch 47/70\n",
      "313/313 [==============================] - 4451s 14s/step - loss: 0.0762 - val_loss: 0.0847\n",
      "Epoch 48/70\n",
      "313/313 [==============================] - 4580s 15s/step - loss: 0.0763 - val_loss: 0.0805\n",
      "Epoch 49/70\n",
      "313/313 [==============================] - 4163s 13s/step - loss: 0.0757 - val_loss: 0.0776\n",
      "Epoch 50/70\n",
      "313/313 [==============================] - 4083s 13s/step - loss: 0.0759 - val_loss: 0.0790\n",
      "Epoch 51/70\n",
      "313/313 [==============================] - 4081s 13s/step - loss: 0.0746 - val_loss: 0.0803\n",
      "Epoch 52/70\n",
      "313/313 [==============================] - 4101s 13s/step - loss: 0.0758 - val_loss: 0.0783\n",
      "Epoch 53/70\n",
      "313/313 [==============================] - 4083s 13s/step - loss: 0.0747 - val_loss: 0.0789\n",
      "Epoch 54/70\n",
      "313/313 [==============================] - 4075s 13s/step - loss: 0.0746 - val_loss: 0.0780\n",
      "Epoch 55/70\n",
      "313/313 [==============================] - 4079s 13s/step - loss: 0.0743 - val_loss: 0.0856\n",
      "Epoch 56/70\n",
      "313/313 [==============================] - 4140s 13s/step - loss: 0.0754 - val_loss: 0.0782\n",
      "Epoch 57/70\n",
      "313/313 [==============================] - 4342s 14s/step - loss: 0.0732 - val_loss: 0.0826\n",
      "Epoch 58/70\n",
      "313/313 [==============================] - 4217s 13s/step - loss: 0.0745 - val_loss: 0.0776\n",
      "Epoch 59/70\n",
      "313/313 [==============================] - 4473s 14s/step - loss: 0.0739 - val_loss: 0.0823\n",
      "Epoch 60/70\n",
      "313/313 [==============================] - 4423s 14s/step - loss: 0.0729 - val_loss: 0.0810\n",
      "Epoch 61/70\n",
      "313/313 [==============================] - 4443s 14s/step - loss: 0.0723 - val_loss: 0.0783\n",
      "Epoch 62/70\n",
      "313/313 [==============================] - 4485s 14s/step - loss: 0.0738 - val_loss: 0.0777\n",
      "Epoch 63/70\n",
      "313/313 [==============================] - 4305s 14s/step - loss: 0.0729 - val_loss: 0.0797\n",
      "Epoch 64/70\n",
      "313/313 [==============================] - 4353s 14s/step - loss: 0.0736 - val_loss: 0.0815\n",
      "Epoch 65/70\n",
      "313/313 [==============================] - 4495s 14s/step - loss: 0.0719 - val_loss: 0.0766\n",
      "Epoch 66/70\n",
      "313/313 [==============================] - 4527s 14s/step - loss: 0.0724 - val_loss: 0.0783\n",
      "Epoch 67/70\n",
      "313/313 [==============================] - 4409s 14s/step - loss: 0.0718 - val_loss: 0.0777\n",
      "Epoch 68/70\n",
      "313/313 [==============================] - 4022s 13s/step - loss: 0.0718 - val_loss: 0.0795\n",
      "Epoch 69/70\n",
      "313/313 [==============================] - 4017s 13s/step - loss: 0.0716 - val_loss: 0.0775\n",
      "Epoch 70/70\n",
      "313/313 [==============================] - 4017s 13s/step - loss: 0.0707 - val_loss: 0.0790\n"
     ]
    }
   ],
   "source": [
    "from keras import layers, models\n",
    "from keras.models import Sequential, load_model\n",
    "from tensorflow import keras\n",
    "\n",
    "\n",
    "\n",
    "def CNN(input_dim, output_dim):\n",
    "    input_layer = layers.Input(shape=input_dim)\n",
    "    y = layers.Conv2D(16, (3, 3), activation=tf.nn.relu, padding='same')(input_layer)\n",
    "    y = layers.MaxPool2D((2, 2))(y)\n",
    "    y = layers.Conv2D(32, (3, 3), activation=tf.nn.relu, padding='same')(y)\n",
    "    y = layers.MaxPool2D((2, 2))(y)\n",
    "    y = layers.Conv2D(64, (3, 3), activation=tf.nn.relu, padding='same')(y)\n",
    "    y = layers.MaxPool2D((2, 2))(y)\n",
    "    y = layers.Flatten()(y)\n",
    "    y = layers.Dense(output_dim, activation=tf.nn.relu)(y)\n",
    "\n",
    "    return models.Model(inputs=[input_layer], outputs=[y], name=\"SingleImageCNN\")\n",
    "\n",
    "model_checkpoint = keras.callbacks.ModelCheckpoint(\n",
    "    './training',\n",
    "    monitor=\"val_loss\",\n",
    "    verbose=0,\n",
    "    mode=\"min\",\n",
    "    save_best_only=True,\n",
    "    save_weights_only=True,\n",
    ")\n",
    "callback = tf.keras.callbacks.EarlyStopping(monitor='val_loss', patience=15, restore_best_weights=True)\n",
    "\n",
    "callbacks = [callback, model_checkpoint]\n",
    "\n",
    "restart = True\n",
    "if restart:\n",
    "\n",
    "    scnn = CNN((90, 90, 12), 64)\n",
    "    #scnn.summary(line_length=130)\n",
    "    input_weather = layers.Input(shape=1501, name=\"weather_input\") #shape = 856 / 1501\n",
    "    t_wm = layers.Reshape((19, 79))(input_weather) # (4, 214) / (19, 79)\n",
    "    t_wm = layers.Permute((2, 1))(t_wm)\n",
    "    t_wm = layers.Conv1D(64, 50, activation=tf.nn.relu)(t_wm) # (64, 7, 7) / (64, 50)\n",
    "\n",
    "    input_cnn = layers.Input(shape=(30, 90, 90, 12), name=\"cnn_input\")\n",
    "\n",
    "    feature_input = layers.Input(shape=(5,), name=\"feature_input\")\n",
    "    feature_repeated = layers.RepeatVector(30)(feature_input)\n",
    "\n",
    "    cnn = layers.TimeDistributed(scnn)(input_cnn)\n",
    "    cnn = layers.Concatenate(axis=2)([cnn, feature_repeated, t_wm])\n",
    "    cnn = layers.GRU(128, return_sequences=False)(cnn)\n",
    "    cnn = layers.Flatten()(cnn)\n",
    "    cnn = layers.Dense(128, activation=tf.nn.relu)(cnn)\n",
    "    cnn = layers.Dense(1)(cnn)\n",
    "\n",
    "    cnn = models.Model(inputs=[input_weather, input_cnn, feature_input], outputs=cnn, name=\"CNN\")\n",
    "    #cnn.summary(line_length=130)\n",
    "\n",
    "    cnn.compile(optimizer=tf.keras.optimizers.Adam(), loss='mean_absolute_error')\n",
    "\n",
    "    cnn_history = cnn.fit(\n",
    "        train_dataset.take(10000).batch(32).prefetch(2),\n",
    "        validation_data=val_dataset.batch(32).prefetch(2),\n",
    "        epochs=70,\n",
    "        verbose=1,\n",
    "        callbacks=callbacks\n",
    "    )\n",
    "\n",
    "else:\n",
    "    cnn = load_model('./training/epoch_2.hdf5')\n",
    "    # update the learning rate\n",
    "    cnn_history = cnn.fit(\n",
    "        train_dataset.take(10000).batch(32).prefetch(2),\n",
    "        validation_data=val_dataset.batch(32).prefetch(2),\n",
    "        epochs=10,\n",
    "        verbose=1,\n",
    "        callbacks=callbacks\n",
    "    )"
   ],
   "metadata": {
    "collapsed": false,
    "pycharm": {
     "name": "#%%\n"
    }
   }
  },
  {
   "cell_type": "code",
   "execution_count": 28,
   "outputs": [
    {
     "name": "stdout",
     "output_type": "stream",
     "text": [
      "Denormalized MAE: 78.96059544402297\n"
     ]
    },
    {
     "data": {
      "text/plain": "'\\n# loss = []\\n# val_loss = []\\n\\n\\nsns.set_style(\\'whitegrid\\')\\nsns.set_context(\"paper\")\\n\\nplt.xlabel(\\'Epoch\\')\\nplt.ylabel(\"Loss\")\\nplt.plot(loss, label=\"loss\")\\nplt.plot(val_loss, label=\"val_loss\")\\nplt.legend()\\nplt.title(\"Mean absolute error loss\")\\nplt.savefig(f\\'E:/MasterThesisData/models/hybrid_more_features.png\\', dpi=600)\\nplt.grid()\\n'"
     },
     "execution_count": 28,
     "metadata": {},
     "output_type": "execute_result"
    },
    {
     "data": {
      "text/plain": "<Figure size 432x288 with 1 Axes>",
      "image/png": "[encoded data removed]"
     },
     "metadata": {},
     "output_type": "display_data"
    }
   ],
   "source": [
    "import seaborn as sns\n",
    "import matplotlib.pyplot as plt\n",
    "\n",
    "\n",
    "def denormalize(df, lower: float, upper: float):\n",
    "    \"\"\"\n",
    "    Denormalizes DataFrame\n",
    "    :param df: The DataFrame where all columns will be denormalized.\n",
    "    :param lower: The denormalized value of 0\n",
    "    :param upper: The denormalized value of 1\n",
    "    :return: The denormalized DataFrame\n",
    "    \"\"\"\n",
    "\n",
    "    return df * (upper - lower) + lower\n",
    "\n",
    "\n",
    "def plot_history(history, save_file: str=None):\n",
    "    sns.set_style('whitegrid')\n",
    "    sns.set_context(\"paper\")\n",
    "\n",
    "    plt.xlabel('Epoch')\n",
    "    plt.ylabel(\"Loss\")\n",
    "    plt.plot(history.history['loss'], label=\"loss\")\n",
    "    plt.plot(history.history['val_loss'], label=\"val_loss\")\n",
    "    plt.legend()\n",
    "    plt.title(\"Mean absolute error loss\")\n",
    "    if save_file is not None:\n",
    "        plt.savefig(save_file, dpi=600)\n",
    "    plt.grid()\n",
    "\n",
    "\n",
    "plot_history(cnn_history, save_file=\"E:/MasterThesisData/models/hybrid_more_features_history.png\")\n",
    "\n",
    "\n",
    "predictions = cnn.predict(val_dataset.batch(32).prefetch(2))\n",
    "predictions = np.array(predictions).flatten()\n",
    "facts = val.apply(lambda orgnr, year, img, data: data[\"yield\"]).as_array()\n",
    "absolute_error = np.abs(predictions - facts)\n",
    "print(f\"Denormalized MAE: {denormalize(absolute_error.mean(), 0, 1000)}\")\n",
    "\n",
    "\n"
   ],
   "metadata": {
    "collapsed": false,
    "pycharm": {
     "name": "#%%\n"
    }
   }
  }
 ],
 "metadata": {
  "kernelspec": {
   "display_name": "Python 3",
   "language": "python",
   "name": "python3"
  },
  "language_info": {
   "codemirror_mode": {
    "name": "ipython",
    "version": 2
   },
   "file_extension": ".py",
   "mimetype": "text/x-python",
   "name": "python",
   "nbconvert_exporter": "python",
   "pygments_lexer": "ipython2",
   "version": "2.7.6"
  }
 },
 "nbformat": 4,
 "nbformat_minor": 0
}