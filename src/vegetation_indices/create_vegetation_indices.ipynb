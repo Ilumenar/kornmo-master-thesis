{
 "cells": [
  {
   "cell_type": "code",
   "execution_count": 2,
   "outputs": [],
   "source": [
    "import numpy\n",
    "import h5py\n",
    "import numpy as np\n",
    "from tqdm import tqdm\n",
    "from src.satellite_images.storage import SentinelDataset"
   ],
   "metadata": {
    "collapsed": false,
    "pycharm": {
     "name": "#%%\n"
    }
   }
  },
  {
   "cell_type": "code",
   "execution_count": 1,
   "metadata": {
    "collapsed": true,
    "pycharm": {
     "name": "#%%\n"
    }
   },
   "outputs": [],
   "source": [
    "\n",
    "def normalize_2d_img(img, new_max):\n",
    "    min = np.min(img)\n",
    "    max = np.max(img)\n",
    "    new_img = []\n",
    "    for i, row in enumerate(img):\n",
    "        new_row = []\n",
    "        for j, pixel in enumerate(row):\n",
    "            new_pixel = (pixel - min) / (max - min) * new_max\n",
    "            new_row.append(new_pixel)\n",
    "        new_img.append(new_row)\n",
    "    return np.array(new_img)\n",
    "\n",
    "\n",
    "# Extracts the specified channel from the 12-band satellite images and normalizes the values.\n",
    "def extract_channel(image, channel, normalize=True):\n",
    "    shape = image.shape\n",
    "    newImg = []\n",
    "    for row in range(0, shape[0]):\n",
    "        newRow = []\n",
    "        for col in range(0, shape[1]):\n",
    "            newRow.append(image[row][col][channel])\n",
    "        newImg.append(newRow)\n",
    "\n",
    "    if normalize:\n",
    "        return normalize_2d_img(newImg, 1)\n",
    "    else:\n",
    "        return newImg\n",
    "\n",
    "\n",
    "# Allow division by zero\n",
    "numpy.seterr(divide='ignore', invalid='ignore')\n",
    "\n",
    "\n",
    "def create_new_image(image):\n",
    "    all_indices = np.zeros((100, 100, 10))\n",
    "\n",
    "    band2 = extract_channel(image, 1)       # Blue channel\n",
    "    band3 = extract_channel(image, 2)       # Green channel\n",
    "    band4 = extract_channel(image, 3)       # Red channel\n",
    "    band5 = extract_channel(image, 4)       # Red-Edge channel\n",
    "    band7 = extract_channel(image, 6)       # VNIR channel\n",
    "    band8 = extract_channel(image, 7)       # Main VNIR channel\n",
    "    band8a = extract_channel(image, 8)      # VNIR channel\n",
    "    band11 = extract_channel(image, 10)     # SWIR channel\n",
    "\n",
    "    # Calculating NDVI: (band8 - band4) / (band8 + band4)\n",
    "    NDVI = (band8 - band4) / (band8 + band4)\n",
    "\n",
    "    # Calculating NDRE: (band7 - band5) / (band7 + band5)\n",
    "    NDRE = (band7 - band5) / (band7 + band5)\n",
    "\n",
    "    # Calculating EVI: 2.5 * ((band8 - band4) / ((band8 + 6*band4 - 7.5*band2) + 1))\n",
    "    EVI = 2.5 * ((band8 - band4) / ((band8 + 6*band4 - 7.5*band2) + 1))\n",
    "\n",
    "    # Calculating SIPI3: (band8 − band2) / (band8 − band4)\n",
    "    SIPI3 = (band8 - band2) / (band8 - band4)\n",
    "\n",
    "    # Calculating PVR: (band3 − band4) / (band3 + band4)\n",
    "    PVR = (band3 - band4) / (band3 + band4)\n",
    "\n",
    "    # Calculating GARI: (Band8 − (Band3 − (Band2 − Band4))) / (Band8 − (Band3 + (Band2 − Band4)))\n",
    "    GARI = (band8 - (band3 - (band2 - band4))) / (band8 - (band3 + (band2 - band4)))\n",
    "\n",
    "    # Calculating GRNDVI: (Band8 − (Band3 + Band5)) / (Band8 + (Band3 + Band5))\n",
    "    GRNDVI = band8 - (band3 + band5) / (band8 + (band3 + band5))\n",
    "\n",
    "    # Calculating SIWSI: (Band8a − Band11) / (Band8a + Band11)\n",
    "    SIWSI = (band8a - band11) / (band8a + band11)\n",
    "\n",
    "    # Calculating LSWI: (nir - swir) / (nir + swir)\n",
    "    LSWI = (band8 - band11) / (band8 + band11)\n",
    "\n",
    "    # Calculating NDSVI: (band11 - band4) / (band11 + band4)\n",
    "    NDSVI = (band11 - band4) / (band11 + band4)\n",
    "\n",
    "    for i in range(100):\n",
    "        for j in range(100):\n",
    "            all_indices[i][j][0] = NDVI[i][j]\n",
    "            all_indices[i][j][1] = NDRE[i][j]\n",
    "            all_indices[i][j][2] = EVI[i][j]\n",
    "            all_indices[i][j][3] = SIPI3[i][j]\n",
    "            all_indices[i][j][4] = PVR[i][j]\n",
    "            all_indices[i][j][5] = GARI[i][j]\n",
    "            all_indices[i][j][6] = GRNDVI[i][j]\n",
    "            all_indices[i][j][7] = SIWSI[i][j]\n",
    "            all_indices[i][j][8] = LSWI[i][j]\n",
    "            all_indices[i][j][9] = NDSVI[i][j]\n",
    "\n",
    "    return all_indices\n",
    "\n",
    "\n",
    "\n",
    "def get_missing_index(image):\n",
    "    band2 = extract_channel(image, 1)       # Blue channel\n",
    "    band3 = extract_channel(image, 2)       # Green channel\n",
    "    band4 = extract_channel(image, 3)       # Red channel\n",
    "    band8 = extract_channel(image, 7)       # Main VNIR channel\n",
    "\n",
    "    # Calculating GARI: (Band8 − (Band3 − (Band2 − Band4))) / (Band8 − (Band3 + (Band2 − Band4)))\n",
    "    GARI = (band8 - (band3 - (band2 - band4))) / (band8 - (band3 + (band2 - band4)))\n",
    "\n",
    "    return GARI\n",
    "\n",
    "\n"
   ]
  },
  {
   "cell_type": "code",
   "execution_count": null,
   "outputs": [],
   "source": [
    "\n",
    "indices_dataset = SentinelDataset('E:/MasterThesisData/Satellite_Images/classification_indices.h5', create_if_missing=True)\n",
    "\n",
    "with h5py.File('E:/MasterThesisData/Satellite_Images/satellite_images_train.h5', \"r+\") as f:\n",
    "\n",
    "    images = f['images']\n",
    "    for _, orgnum in enumerate(tqdm(images.keys(), total=len(images))):\n",
    "        for year in images[orgnum]:\n",
    "            new_farm_images = []\n",
    "\n",
    "            # Check if images exists\n",
    "            if not indices_dataset.contains(orgnum, year):\n",
    "                for image in images[orgnum][year][()]:\n",
    "                    indices_image = create_new_image(image)\n",
    "                    new_farm_images.append(indices_image)\n",
    "\n",
    "                indices_dataset.store_images(new_farm_images, orgnum, year)\n"
   ],
   "metadata": {
    "collapsed": false,
    "pycharm": {
     "name": "#%%\n"
    }
   }
  },
  {
   "cell_type": "code",
   "execution_count": 2,
   "outputs": [
    {
     "name": "stderr",
     "output_type": "stream",
     "text": [
      "100%|██████████| 5114/5114 [1:26:23<00:00,  1.01s/it]\n"
     ]
    }
   ],
   "source": [
    "\n",
    "# Added missing GARI indices\n",
    "\n",
    "new_indices_dataset = SentinelDataset('E:/MasterThesisData/Satellite_Images/classification_indices_fixed3.h5', create_if_missing=True)\n",
    "old_indices_dataset = SentinelDataset('E:/MasterThesisData/Satellite_Images/classification_indices.h5', create_if_missing=False)\n",
    "\n",
    "with h5py.File('E:/MasterThesisData/Satellite_Images/satellite_images_train.h5', \"r+\") as f:\n",
    "\n",
    "    images = f['images']\n",
    "    for _, orgnum in enumerate(tqdm(images.keys(), total=len(images))):\n",
    "        for year in images[orgnum]:\n",
    "            vegetation_indices = old_indices_dataset.get_images(orgnr=orgnum, year=year)\n",
    "\n",
    "            # Check if images exists\n",
    "            if not new_indices_dataset.contains(orgnum, year):\n",
    "                counter = 0\n",
    "                for image in images[orgnum][year][()]:\n",
    "                    gari = get_missing_index(image)\n",
    "\n",
    "                    for i in range(100):\n",
    "                        for j in range(100):\n",
    "                            vegetation_indices[counter][i][j][5] = gari[i][j]\n",
    "\n",
    "                    counter = counter + 1\n",
    "\n",
    "                new_indices_dataset.store_images(vegetation_indices, orgnum, year)"
   ],
   "metadata": {
    "collapsed": false,
    "pycharm": {
     "name": "#%%\n"
    }
   }
  },
  {
   "cell_type": "code",
   "execution_count": 8,
   "outputs": [],
   "source": [
    "\n",
    "\n",
    "new_indices_dataset = SentinelDataset('E:/MasterThesisData/Satellite_Images/classification_indices.h5', create_if_missing=False)\n",
    "old_indices_dataset = SentinelDataset('E:/MasterThesisData/Satellite_Images/classification_indices_fixed3.h5', create_if_missing=False)\n"
   ],
   "metadata": {
    "collapsed": false,
    "pycharm": {
     "name": "#%%\n"
    }
   }
  },
  {
   "cell_type": "code",
   "execution_count": 9,
   "outputs": [
    {
     "name": "stdout",
     "output_type": "stream",
     "text": [
      "9805\n",
      "9805\n",
      "5114\n"
     ]
    },
    {
     "name": "stderr",
     "output_type": "stream",
     "text": [
      "100%|██████████| 5114/5114 [43:28<00:00,  1.96it/s] \n"
     ]
    }
   ],
   "source": [
    "# Validating new dateset\n",
    "\n",
    "print(old_indices_dataset.__len__())\n",
    "print(new_indices_dataset.__len__())\n",
    "\n",
    "\n",
    "with h5py.File('E:/MasterThesisData/Satellite_Images/classification_indices.h5', \"r+\") as file:\n",
    "\n",
    "    old_images = file['images']\n",
    "    print(len(old_images))\n",
    "    for _, org in enumerate(tqdm(old_images.keys(), total=len(old_images))):\n",
    "        for year in old_images[org]:\n",
    "            if old_indices_dataset.contains(org, year):\n",
    "                if not new_indices_dataset.contains(org, year):\n",
    "                    print(f\"Found org and year in old dataset that are not in the new. {org}, {year}\")\n",
    "                else:\n",
    "                    old_indices = old_indices_dataset.get_images(orgnr=org, year=year)\n",
    "                    new_indices = old_indices_dataset.get_images(orgnr=org, year=year)\n",
    "\n",
    "                    if old_indices.shape != new_indices.shape:\n",
    "                        print(f\"Found org and year with different shapes. {org}, {year}, {old_indices.shape}, {new_indices.shape}\")\n",
    "            else:\n",
    "                print(f\"Could not find {org} {year} in old dataset!\")\n",
    "\n"
   ],
   "metadata": {
    "collapsed": false,
    "pycharm": {
     "name": "#%%\n"
    }
   }
  },
  {
   "cell_type": "code",
   "execution_count": null,
   "outputs": [],
   "source": [],
   "metadata": {
    "collapsed": false,
    "pycharm": {
     "name": "#%%\n"
    }
   }
  }
 ],
 "metadata": {
  "kernelspec": {
   "display_name": "Python 3",
   "language": "python",
   "name": "python3"
  },
  "language_info": {
   "codemirror_mode": {
    "name": "ipython",
    "version": 2
   },
   "file_extension": ".py",
   "mimetype": "text/x-python",
   "name": "python",
   "nbconvert_exporter": "python",
   "pygments_lexer": "ipython2",
   "version": "2.7.6"
  }
 },
 "nbformat": 4,
 "nbformat_minor": 0
}