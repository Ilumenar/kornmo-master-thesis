{
 "cells": [
  {
   "cell_type": "code",
   "execution_count": null,
   "metadata": {
    "collapsed": false,
    "pycharm": {
     "name": "#%%\n"
    }
   },
   "outputs": [],
   "source": [
    "\n",
    "import numpy as np\n",
    "import pandas as pd\n",
    "import matplotlib.pyplot as plt\n",
    "\n",
    "\n",
    "plt.style.use(\"default\")\n"
   ]
  },
  {
   "cell_type": "code",
   "execution_count": null,
   "metadata": {
    "collapsed": false,
    "pycharm": {
     "name": "#%%\n"
    }
   },
   "outputs": [],
   "source": [
    "\n",
    "average_indices_planted = pd.read_csv(\"../../kornmo-data-files/raw-data/crop-classification-data/average_vegetation_indices_planted_fixed.csv\")\n",
    "average_indices_planted.drop(\"Unnamed: 0\", inplace=True, axis=1)\n",
    "\n",
    "vegetation_indices = [\"NDVI\", \"NDRE\", \"EVI\", \"SIPI3\", \"PVR\", \"GARI\", \"GRNDVI\", \"SIWSI\", \"LSWI\", \"NDSVI\"]\n",
    "\n",
    "crop_types = average_indices_planted['planted'].unique()\n",
    "\n",
    "columns = [\"index\", \"planted\"]\n",
    "for day in range(1, 31):\n",
    "    columns.append(f\"day_{day}\")\n",
    "\n",
    "final_dataset = pd.DataFrame(columns=columns)\n",
    "\n",
    "\n",
    "for crop_type in crop_types:\n",
    "    average_indices_for_crop = average_indices_planted[(average_indices_planted['planted'] == crop_type)]\n",
    "    print(f\"{crop_type}: {len(average_indices_for_crop)}\")\n",
    "\n",
    "    for vegetation_index in vegetation_indices:\n",
    "        default_data = {'index': str(vegetation_index), 'planted': str(crop_type)}\n",
    "        row = pd.Series(data=default_data, index=['index', 'planted'])\n",
    "\n",
    "        for day in range(1, 31):\n",
    "            temp_values = average_indices_for_crop[f\"{vegetation_index}_{day}\"].tolist()\n",
    "            all_average_index = []\n",
    "\n",
    "            for value in temp_values:\n",
    "                if 0 <= value <= 1:\n",
    "                    all_average_index.append(value)\n",
    "\n",
    "            single_average_index = sum(all_average_index) / len(all_average_index)\n",
    "\n",
    "            if single_average_index < 0 or single_average_index > 1:\n",
    "                print(f\"Min: {min(all_average_index)}, Max: {max(all_average_index)}, Average: {single_average_index}\")\n",
    "\n",
    "            row[f\"day_{day}\"] = single_average_index\n",
    "\n",
    "        final_dataset = pd.concat([final_dataset, row.to_frame().T])\n",
    "\n",
    "\n"
   ]
  },
  {
   "cell_type": "code",
   "execution_count": null,
   "metadata": {
    "collapsed": false,
    "pycharm": {
     "name": "#%%\n"
    }
   },
   "outputs": [],
   "source": [
    "\n",
    "new_crop_types = ['Barley', 'Wheat', 'Oat', 'Rye', 'Rye Wheat', 'Oilseeds', 'Peas']\n",
    "crop_types = ['bygg', 'hvete', 'havre', 'rug', 'rughvete']\n",
    "# vegetation_indices = [\"NDVI\", \"NDRE\", \"EVI\", \"SIPI3\", \"PVR\", \"GARI\", \"GRNDVI\", \"SIWSI\", \"LSWI\", \"NDSVI\"]\n",
    "vegetation_indices = [\"NDRE\", \"GRNDVI\", \"SIWSI\", \"LSWI\"]\n",
    "\n",
    "        # 10 = 19       15 = 24\n",
    "y= []   #9, 17\n",
    "for i in range(18, 26):\n",
    "    y.append(i)\n",
    "\n",
    "for vegetation_index in vegetation_indices:\n",
    "\n",
    "    counting = 0\n",
    "    for crop_type in crop_types:\n",
    "\n",
    "        x = final_dataset[(final_dataset['index'] == vegetation_index) & (final_dataset['planted'] == crop_type)].values.flatten().tolist()\n",
    "                    # 10, 18\n",
    "        plt.plot(y, x[10:18], label=new_crop_types[counting])\n",
    "        counting = counting + 1\n",
    "\n",
    "\n",
    "    plt.rcParams[\"figure.figsize\"] = (10, 5)\n",
    "    plt.xlabel('Week')\n",
    "    plt.ylabel(f'{x[0]} values')\n",
    "    plt.title(f'Average {x[0]} Vegetation Index')\n",
    "    plt.rcParams.update({'axes.facecolor':'azure'})\n",
    "\n",
    "\n",
    "    # Change how many lines to show\n",
    "    plt.xticks(np.arange(19, 25, 1))\n",
    "    plt.grid()\n",
    "    plt.legend()\n",
    "    plt.show()\n"
   ]
  }
 ],
 "metadata": {
  "kernelspec": {
   "display_name": "Python 3",
   "language": "python",
   "name": "python3"
  },
  "language_info": {
   "codemirror_mode": {
    "name": "ipython",
    "version": 2
   },
   "file_extension": ".py",
   "mimetype": "text/x-python",
   "name": "python",
   "nbconvert_exporter": "python",
   "pygments_lexer": "ipython2",
   "version": "2.7.6"
  }
 },
 "nbformat": 4,
 "nbformat_minor": 0
}
